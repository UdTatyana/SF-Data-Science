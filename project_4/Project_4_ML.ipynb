{
 "cells": [
  {
   "cell_type": "markdown",
   "id": "c353de9a",
   "metadata": {},
   "source": [
    "# Проект: классификация"
   ]
  },
  {
   "cell_type": "code",
   "execution_count": 1,
   "id": "4a6e54dc",
   "metadata": {},
   "outputs": [],
   "source": [
    "import pandas as pd\n",
    "import numpy as np\n",
    "import matplotlib.pyplot as plt\n",
    "import seaborn as sns\n",
    "from  sklearn.ensemble import IsolationForest\n",
    "import warnings\n",
    "warnings.filterwarnings('ignore')\n",
    "from sklearn.preprocessing  import LabelEncoder\n",
    "from sklearn import linear_model \n",
    "from sklearn import tree \n",
    "from sklearn import ensemble \n",
    "from sklearn import metrics \n",
    "from sklearn import preprocessing \n",
    "from sklearn.model_selection import train_test_split \n",
    "from sklearn.feature_selection import SelectKBest, f_classif"
   ]
  },
  {
   "cell_type": "markdown",
   "id": "71559b60",
   "metadata": {},
   "source": [
    "## Часть 1. Знакомство с данными, обработка пропусков и выбросов"
   ]
  },
  {
   "cell_type": "code",
   "execution_count": 2,
   "id": "20730cd7",
   "metadata": {},
   "outputs": [
    {
     "data": {
      "text/html": [
       "<div>\n",
       "<style scoped>\n",
       "    .dataframe tbody tr th:only-of-type {\n",
       "        vertical-align: middle;\n",
       "    }\n",
       "\n",
       "    .dataframe tbody tr th {\n",
       "        vertical-align: top;\n",
       "    }\n",
       "\n",
       "    .dataframe thead th {\n",
       "        text-align: right;\n",
       "    }\n",
       "</style>\n",
       "<table border=\"1\" class=\"dataframe\">\n",
       "  <thead>\n",
       "    <tr style=\"text-align: right;\">\n",
       "      <th></th>\n",
       "      <th>age</th>\n",
       "      <th>job</th>\n",
       "      <th>marital</th>\n",
       "      <th>education</th>\n",
       "      <th>default</th>\n",
       "      <th>balance</th>\n",
       "      <th>housing</th>\n",
       "      <th>loan</th>\n",
       "      <th>contact</th>\n",
       "      <th>day</th>\n",
       "      <th>month</th>\n",
       "      <th>duration</th>\n",
       "      <th>campaign</th>\n",
       "      <th>pdays</th>\n",
       "      <th>previous</th>\n",
       "      <th>poutcome</th>\n",
       "      <th>deposit</th>\n",
       "    </tr>\n",
       "  </thead>\n",
       "  <tbody>\n",
       "    <tr>\n",
       "      <th>0</th>\n",
       "      <td>59</td>\n",
       "      <td>admin.</td>\n",
       "      <td>married</td>\n",
       "      <td>secondary</td>\n",
       "      <td>no</td>\n",
       "      <td>2 343,00 $</td>\n",
       "      <td>yes</td>\n",
       "      <td>no</td>\n",
       "      <td>unknown</td>\n",
       "      <td>5</td>\n",
       "      <td>may</td>\n",
       "      <td>1042</td>\n",
       "      <td>1</td>\n",
       "      <td>-1</td>\n",
       "      <td>0</td>\n",
       "      <td>unknown</td>\n",
       "      <td>yes</td>\n",
       "    </tr>\n",
       "    <tr>\n",
       "      <th>1</th>\n",
       "      <td>56</td>\n",
       "      <td>admin.</td>\n",
       "      <td>married</td>\n",
       "      <td>secondary</td>\n",
       "      <td>no</td>\n",
       "      <td>45,00 $</td>\n",
       "      <td>no</td>\n",
       "      <td>no</td>\n",
       "      <td>unknown</td>\n",
       "      <td>5</td>\n",
       "      <td>may</td>\n",
       "      <td>1467</td>\n",
       "      <td>1</td>\n",
       "      <td>-1</td>\n",
       "      <td>0</td>\n",
       "      <td>unknown</td>\n",
       "      <td>yes</td>\n",
       "    </tr>\n",
       "    <tr>\n",
       "      <th>2</th>\n",
       "      <td>41</td>\n",
       "      <td>technician</td>\n",
       "      <td>married</td>\n",
       "      <td>secondary</td>\n",
       "      <td>no</td>\n",
       "      <td>1 270,00 $</td>\n",
       "      <td>yes</td>\n",
       "      <td>no</td>\n",
       "      <td>unknown</td>\n",
       "      <td>5</td>\n",
       "      <td>may</td>\n",
       "      <td>1389</td>\n",
       "      <td>1</td>\n",
       "      <td>-1</td>\n",
       "      <td>0</td>\n",
       "      <td>unknown</td>\n",
       "      <td>yes</td>\n",
       "    </tr>\n",
       "    <tr>\n",
       "      <th>3</th>\n",
       "      <td>55</td>\n",
       "      <td>services</td>\n",
       "      <td>married</td>\n",
       "      <td>secondary</td>\n",
       "      <td>no</td>\n",
       "      <td>2 476,00 $</td>\n",
       "      <td>yes</td>\n",
       "      <td>no</td>\n",
       "      <td>unknown</td>\n",
       "      <td>5</td>\n",
       "      <td>may</td>\n",
       "      <td>579</td>\n",
       "      <td>1</td>\n",
       "      <td>-1</td>\n",
       "      <td>0</td>\n",
       "      <td>unknown</td>\n",
       "      <td>yes</td>\n",
       "    </tr>\n",
       "    <tr>\n",
       "      <th>4</th>\n",
       "      <td>54</td>\n",
       "      <td>admin.</td>\n",
       "      <td>married</td>\n",
       "      <td>tertiary</td>\n",
       "      <td>no</td>\n",
       "      <td>184,00 $</td>\n",
       "      <td>no</td>\n",
       "      <td>no</td>\n",
       "      <td>unknown</td>\n",
       "      <td>5</td>\n",
       "      <td>may</td>\n",
       "      <td>673</td>\n",
       "      <td>2</td>\n",
       "      <td>-1</td>\n",
       "      <td>0</td>\n",
       "      <td>unknown</td>\n",
       "      <td>yes</td>\n",
       "    </tr>\n",
       "  </tbody>\n",
       "</table>\n",
       "</div>"
      ],
      "text/plain": [
       "   age         job  marital  education default       balance housing loan  \\\n",
       "0   59      admin.  married  secondary      no   2 343,00 $      yes   no   \n",
       "1   56      admin.  married  secondary      no      45,00 $       no   no   \n",
       "2   41  technician  married  secondary      no   1 270,00 $      yes   no   \n",
       "3   55    services  married  secondary      no   2 476,00 $      yes   no   \n",
       "4   54      admin.  married   tertiary      no     184,00 $       no   no   \n",
       "\n",
       "   contact  day month  duration  campaign  pdays  previous poutcome deposit  \n",
       "0  unknown    5   may      1042         1     -1         0  unknown     yes  \n",
       "1  unknown    5   may      1467         1     -1         0  unknown     yes  \n",
       "2  unknown    5   may      1389         1     -1         0  unknown     yes  \n",
       "3  unknown    5   may       579         1     -1         0  unknown     yes  \n",
       "4  unknown    5   may       673         2     -1         0  unknown     yes  "
      ]
     },
     "execution_count": 2,
     "metadata": {},
     "output_type": "execute_result"
    }
   ],
   "source": [
    "df = pd.read_csv('bank_fin.csv', sep = ';')\n",
    "df.head()"
   ]
  },
  {
   "cell_type": "markdown",
   "metadata": {},
   "source": [
    "Посмотрим на данные повнимательнее "
   ]
  },
  {
   "cell_type": "code",
   "execution_count": 3,
   "metadata": {},
   "outputs": [
    {
     "name": "stdout",
     "output_type": "stream",
     "text": [
      "<class 'pandas.core.frame.DataFrame'>\n",
      "RangeIndex: 11162 entries, 0 to 11161\n",
      "Data columns (total 17 columns):\n",
      " #   Column     Non-Null Count  Dtype \n",
      "---  ------     --------------  ----- \n",
      " 0   age        11162 non-null  int64 \n",
      " 1   job        11162 non-null  object\n",
      " 2   marital    11162 non-null  object\n",
      " 3   education  11162 non-null  object\n",
      " 4   default    11162 non-null  object\n",
      " 5   balance    11137 non-null  object\n",
      " 6   housing    11162 non-null  object\n",
      " 7   loan       11162 non-null  object\n",
      " 8   contact    11162 non-null  object\n",
      " 9   day        11162 non-null  int64 \n",
      " 10  month      11162 non-null  object\n",
      " 11  duration   11162 non-null  int64 \n",
      " 12  campaign   11162 non-null  int64 \n",
      " 13  pdays      11162 non-null  int64 \n",
      " 14  previous   11162 non-null  int64 \n",
      " 15  poutcome   11162 non-null  object\n",
      " 16  deposit    11162 non-null  object\n",
      "dtypes: int64(6), object(11)\n",
      "memory usage: 1.4+ MB\n"
     ]
    }
   ],
   "source": [
    "df.info()"
   ]
  },
  {
   "cell_type": "markdown",
   "metadata": {},
   "source": [
    "Исследуем данные на предмет пропусков: где есть пропущенные значения, сколько их"
   ]
  },
  {
   "cell_type": "code",
   "execution_count": 4,
   "id": "ba11dc67",
   "metadata": {},
   "outputs": [
    {
     "name": "stdout",
     "output_type": "stream",
     "text": [
      "age           0\n",
      "job           0\n",
      "marital       0\n",
      "education     0\n",
      "default       0\n",
      "balance      25\n",
      "housing       0\n",
      "loan          0\n",
      "contact       0\n",
      "day           0\n",
      "month         0\n",
      "duration      0\n",
      "campaign      0\n",
      "pdays         0\n",
      "previous      0\n",
      "poutcome      0\n",
      "deposit       0\n",
      "dtype: int64\n"
     ]
    }
   ],
   "source": [
    "print(df.isnull().sum())"
   ]
  },
  {
   "cell_type": "markdown",
   "metadata": {},
   "source": [
    "Пропущенные (неизвестные) значения могут присутствовать неявным образом. Часто это не является проблемой, но это необходимо выявить. В наших данных именно такая ситуация (в признаке со сферой занятости). Выявим, каким именно словом закодированы пропущенные (неизвестные) значения."
   ]
  },
  {
   "cell_type": "code",
   "execution_count": 5,
   "id": "98ea29d4",
   "metadata": {},
   "outputs": [
    {
     "data": {
      "text/plain": [
       "0        admin.\n",
       "2154     admin.\n",
       "8198     admin.\n",
       "2155     admin.\n",
       "8202     admin.\n",
       "         ...   \n",
       "5805    unknown\n",
       "5834    unknown\n",
       "6338    unknown\n",
       "4515    unknown\n",
       "6985    unknown\n",
       "Name: job, Length: 11162, dtype: object"
      ]
     },
     "execution_count": 5,
     "metadata": {},
     "output_type": "execute_result"
    }
   ],
   "source": [
    "df['job'].sort_values()"
   ]
  },
  {
   "cell_type": "markdown",
   "metadata": {},
   "source": [
    "В значениях признака \"balance\" так же присутствуют скрытые пропуски - значение NaN. Заменим их на медианные.\n",
    "Кроме того, в значениях содержится запятая и знак доллара, поэтому не считывается как число. Преобразуем в тип float."
   ]
  },
  {
   "cell_type": "code",
   "execution_count": 6,
   "metadata": {},
   "outputs": [],
   "source": [
    "def balance_to_float(row): # функция, убирающая лишние знаки и пробелы\n",
    "    row = str(row)\n",
    "    if row != 'unknown':\n",
    "        row = row.replace(',00', '')\n",
    "        row = row.replace('$', '')\n",
    "        row = row.replace(' ', '')\n",
    "        return float(row) # и возвращающая число\n",
    "    else:\n",
    "        return np.nan\n",
    "    \n",
    "df['balance'] = df['balance'].apply(balance_to_float) # применим функцию"
   ]
  },
  {
   "cell_type": "code",
   "execution_count": 7,
   "metadata": {},
   "outputs": [
    {
     "data": {
      "text/plain": [
       "1529.129"
      ]
     },
     "execution_count": 7,
     "metadata": {},
     "output_type": "execute_result"
    }
   ],
   "source": [
    "# КОНТРОЛЬНАЯ ТОЧКА  1529.129\n",
    "\n",
    "df['balance'].mean().round(3)"
   ]
  },
  {
   "cell_type": "code",
   "execution_count": 8,
   "metadata": {},
   "outputs": [],
   "source": [
    "# заменим нулевые значения на медианные\n",
    "df['balance'] = df['balance'].fillna(value=df['balance'].median())"
   ]
  },
  {
   "cell_type": "code",
   "execution_count": 9,
   "metadata": {},
   "outputs": [
    {
     "data": {
      "text/plain": [
       " 0.0       774\n",
       " 1.0        39\n",
       " 2.0        34\n",
       " 3.0        34\n",
       " 550.0      31\n",
       "          ... \n",
       " 1641.0      1\n",
       " 5517.0      1\n",
       " 8332.0      1\n",
       " 4859.0      1\n",
       "-134.0       1\n",
       "Name: balance, Length: 3802, dtype: int64"
      ]
     },
     "execution_count": 9,
     "metadata": {},
     "output_type": "execute_result"
    }
   ],
   "source": [
    "df['balance'].value_counts()"
   ]
  },
  {
   "cell_type": "code",
   "execution_count": 10,
   "metadata": {},
   "outputs": [
    {
     "data": {
      "text/plain": [
       "1526.936"
      ]
     },
     "execution_count": 10,
     "metadata": {},
     "output_type": "execute_result"
    }
   ],
   "source": [
    "# КОНТРОЛЬНАЯ ТОЧКА  1526.936\n",
    "\n",
    "df['balance'].mean().round(3)"
   ]
  },
  {
   "cell_type": "markdown",
   "metadata": {},
   "source": [
    "Заменим неизвестные значения в признаках job и education на модальные"
   ]
  },
  {
   "cell_type": "code",
   "execution_count": 11,
   "id": "0fa070a6",
   "metadata": {},
   "outputs": [],
   "source": [
    "job_mode = df['job'].mode()[0]\n",
    "education_mode = df['education'].mode()[0]\n",
    "\n",
    "df['job'] = df['job'].apply(lambda x: job_mode if x == 'unknown' else x)\n",
    "df['education'] = df['education'].apply(lambda x: education_mode if x == 'unknown' else x)"
   ]
  },
  {
   "cell_type": "code",
   "execution_count": 12,
   "metadata": {},
   "outputs": [
    {
     "data": {
      "text/plain": [
       "1598.883"
      ]
     },
     "execution_count": 12,
     "metadata": {},
     "output_type": "execute_result"
    }
   ],
   "source": [
    "# КОНТРОЛЬНАЯ ТОЧКА  1598.883\n",
    "\n",
    "df_new = df[(df['job']=='management')&(df['education']=='secondary')]\n",
    "df_new['balance'].mean().round(3)"
   ]
  },
  {
   "cell_type": "markdown",
   "id": "02af77c6",
   "metadata": {},
   "source": [
    "Поработаем с выбросами в признаке balance.\n",
    "\n",
    "Cуществуют более продвинутые методы поиска аномальных значений, но для обработки одного числового признака достаточно хорошо подходит метод Тьюки (размах возьмем 1.5)."
   ]
  },
  {
   "cell_type": "code",
   "execution_count": 13,
   "metadata": {},
   "outputs": [],
   "source": [
    "q1 = df.balance.quantile(0.25) # 25й персентиль\n",
    "q3 = df.balance.quantile(0.75) # 75й персентиль\n",
    "iqr = q3 - q1 # межкватильный размах\n",
    "low = q1 - (iqr * 1.5) # нижняя граница\n",
    "up = q3 + (iqr * 1.5) # верхняя граница\n",
    "# отбросим значения, которые лежат за границами\n",
    "df = df[(df['balance'] >= low) & (df['balance'] <= up)] "
   ]
  },
  {
   "cell_type": "code",
   "execution_count": 14,
   "metadata": {},
   "outputs": [
    {
     "data": {
      "text/plain": [
       "(10105, 17)"
      ]
     },
     "execution_count": 14,
     "metadata": {},
     "output_type": "execute_result"
    }
   ],
   "source": [
    "# КОНТРОЛЬНАЯ ТОЧКА 10105\n",
    "\n",
    "df.shape"
   ]
  },
  {
   "cell_type": "markdown",
   "id": "5d22b8cd",
   "metadata": {},
   "source": [
    "## Часть 2:  Разведывательный анализ"
   ]
  },
  {
   "cell_type": "markdown",
   "id": "21e1f083",
   "metadata": {},
   "source": [
    "### Изучим соотношение классов в целевой переменной"
   ]
  },
  {
   "cell_type": "code",
   "execution_count": 15,
   "metadata": {},
   "outputs": [
    {
     "data": {
      "image/png": "[encoded data removed]",
      "text/plain": [
       "<Figure size 216x288 with 1 Axes>"
      ]
     },
     "metadata": {
      "needs_background": "light"
     },
     "output_type": "display_data"
    }
   ],
   "source": [
    "fig = plt.figure(figsize=(3, 4))\n",
    "axes = fig.add_axes([0, 0, 1, 1])\n",
    "axes.hist(x=df['deposit'])\n",
    "axes.set_title('Соотношение количества открывших и не открывших депозит клиентов')\n",
    "axes.set_ylabel('Количество клиентов')\n",
    "plt.show()"
   ]
  },
  {
   "cell_type": "markdown",
   "metadata": {},
   "source": [
    "Соотношение клиетов, открывших депозит и не открывших достаточно сбалансировано.\n",
    "Посмотрим точное количество пользователей, открывших депозит."
   ]
  },
  {
   "cell_type": "code",
   "execution_count": 16,
   "metadata": {},
   "outputs": [
    {
     "data": {
      "text/plain": [
       "no     5424\n",
       "yes    4681\n",
       "Name: deposit, dtype: int64"
      ]
     },
     "execution_count": 16,
     "metadata": {},
     "output_type": "execute_result"
    }
   ],
   "source": [
    "df['deposit'].value_counts()"
   ]
  },
  {
   "cell_type": "markdown",
   "id": "aebf316c",
   "metadata": {},
   "source": [
    "Депозит открыли 4681 человек."
   ]
  },
  {
   "cell_type": "markdown",
   "id": "426b1d40",
   "metadata": {},
   "source": [
    "### Посмотрим на описательные статистики.\n",
    "\n",
    "#### Начнем с количественных переменных."
   ]
  },
  {
   "cell_type": "code",
   "execution_count": 17,
   "id": "603cdb3c",
   "metadata": {},
   "outputs": [
    {
     "data": {
      "text/html": [
       "<div>\n",
       "<style scoped>\n",
       "    .dataframe tbody tr th:only-of-type {\n",
       "        vertical-align: middle;\n",
       "    }\n",
       "\n",
       "    .dataframe tbody tr th {\n",
       "        vertical-align: top;\n",
       "    }\n",
       "\n",
       "    .dataframe thead th {\n",
       "        text-align: right;\n",
       "    }\n",
       "</style>\n",
       "<table border=\"1\" class=\"dataframe\">\n",
       "  <thead>\n",
       "    <tr style=\"text-align: right;\">\n",
       "      <th></th>\n",
       "      <th>age</th>\n",
       "      <th>balance</th>\n",
       "      <th>day</th>\n",
       "      <th>duration</th>\n",
       "      <th>campaign</th>\n",
       "      <th>pdays</th>\n",
       "      <th>previous</th>\n",
       "    </tr>\n",
       "  </thead>\n",
       "  <tbody>\n",
       "    <tr>\n",
       "      <th>count</th>\n",
       "      <td>10105.000000</td>\n",
       "      <td>10105.000000</td>\n",
       "      <td>10105.000000</td>\n",
       "      <td>10105.000000</td>\n",
       "      <td>10105.000000</td>\n",
       "      <td>10105.000000</td>\n",
       "      <td>10105.000000</td>\n",
       "    </tr>\n",
       "    <tr>\n",
       "      <th>mean</th>\n",
       "      <td>40.895497</td>\n",
       "      <td>807.653538</td>\n",
       "      <td>15.590302</td>\n",
       "      <td>368.742603</td>\n",
       "      <td>2.517170</td>\n",
       "      <td>51.319644</td>\n",
       "      <td>0.816230</td>\n",
       "    </tr>\n",
       "    <tr>\n",
       "      <th>std</th>\n",
       "      <td>11.734931</td>\n",
       "      <td>994.151966</td>\n",
       "      <td>8.441510</td>\n",
       "      <td>346.651524</td>\n",
       "      <td>2.707159</td>\n",
       "      <td>109.644179</td>\n",
       "      <td>2.243795</td>\n",
       "    </tr>\n",
       "    <tr>\n",
       "      <th>min</th>\n",
       "      <td>18.000000</td>\n",
       "      <td>-2049.000000</td>\n",
       "      <td>1.000000</td>\n",
       "      <td>2.000000</td>\n",
       "      <td>1.000000</td>\n",
       "      <td>-1.000000</td>\n",
       "      <td>0.000000</td>\n",
       "    </tr>\n",
       "    <tr>\n",
       "      <th>25%</th>\n",
       "      <td>32.000000</td>\n",
       "      <td>95.000000</td>\n",
       "      <td>8.000000</td>\n",
       "      <td>137.000000</td>\n",
       "      <td>1.000000</td>\n",
       "      <td>-1.000000</td>\n",
       "      <td>0.000000</td>\n",
       "    </tr>\n",
       "    <tr>\n",
       "      <th>50%</th>\n",
       "      <td>38.000000</td>\n",
       "      <td>445.000000</td>\n",
       "      <td>15.000000</td>\n",
       "      <td>252.000000</td>\n",
       "      <td>2.000000</td>\n",
       "      <td>-1.000000</td>\n",
       "      <td>0.000000</td>\n",
       "    </tr>\n",
       "    <tr>\n",
       "      <th>75%</th>\n",
       "      <td>48.000000</td>\n",
       "      <td>1227.000000</td>\n",
       "      <td>22.000000</td>\n",
       "      <td>490.000000</td>\n",
       "      <td>3.000000</td>\n",
       "      <td>2.000000</td>\n",
       "      <td>1.000000</td>\n",
       "    </tr>\n",
       "    <tr>\n",
       "      <th>max</th>\n",
       "      <td>95.000000</td>\n",
       "      <td>4063.000000</td>\n",
       "      <td>31.000000</td>\n",
       "      <td>3881.000000</td>\n",
       "      <td>43.000000</td>\n",
       "      <td>854.000000</td>\n",
       "      <td>58.000000</td>\n",
       "    </tr>\n",
       "  </tbody>\n",
       "</table>\n",
       "</div>"
      ],
      "text/plain": [
       "                age       balance           day      duration      campaign  \\\n",
       "count  10105.000000  10105.000000  10105.000000  10105.000000  10105.000000   \n",
       "mean      40.895497    807.653538     15.590302    368.742603      2.517170   \n",
       "std       11.734931    994.151966      8.441510    346.651524      2.707159   \n",
       "min       18.000000  -2049.000000      1.000000      2.000000      1.000000   \n",
       "25%       32.000000     95.000000      8.000000    137.000000      1.000000   \n",
       "50%       38.000000    445.000000     15.000000    252.000000      2.000000   \n",
       "75%       48.000000   1227.000000     22.000000    490.000000      3.000000   \n",
       "max       95.000000   4063.000000     31.000000   3881.000000     43.000000   \n",
       "\n",
       "              pdays      previous  \n",
       "count  10105.000000  10105.000000  \n",
       "mean      51.319644      0.816230  \n",
       "std      109.644179      2.243795  \n",
       "min       -1.000000      0.000000  \n",
       "25%       -1.000000      0.000000  \n",
       "50%       -1.000000      0.000000  \n",
       "75%        2.000000      1.000000  \n",
       "max      854.000000     58.000000  "
      ]
     },
     "execution_count": 17,
     "metadata": {},
     "output_type": "execute_result"
    }
   ],
   "source": [
    "df.describe()"
   ]
  },
  {
   "cell_type": "markdown",
   "id": "14aa8139",
   "metadata": {},
   "source": [
    "Визуализируем распределение количественных переменных"
   ]
  },
  {
   "cell_type": "code",
   "execution_count": 68,
   "id": "93dd7102",
   "metadata": {},
   "outputs": [
    {
     "data": {
      "image/png": "[encoded data removed]",
      "text/plain": [
       "<Figure size 1080x1080 with 8 Axes>"
      ]
     },
     "metadata": {
      "needs_background": "light"
     },
     "output_type": "display_data"
    }
   ],
   "source": [
    "fig, axes = plt.subplots(nrows=4, ncols=2,figsize=(15,15))\n",
    "\n",
    "axes[0,0].hist(x=df['age'])\n",
    "axes[0,0].set_title('Распределение по возрасту')\n",
    "axes[0,0].grid()\n",
    "\n",
    "axes[0,1].hist(x=df['balance'])\n",
    "axes[0,1].set_title('Распределение баланса')\n",
    "axes[0,1].grid()\n",
    "\n",
    "axes[1,0].hist(x=df['day'])\n",
    "axes[1,0].set_title('Распределение по дню последнего контакта')\n",
    "axes[1,0].grid()\n",
    "\n",
    "axes[1,1].hist(x=df['duration'])\n",
    "axes[1,1].set_title('Распределение по продолжительноти контакта в секундах')\n",
    "axes[1,1].grid()\n",
    "\n",
    "axes[2,0].hist(x=df['campaign'])\n",
    "axes[2,0].set_title('Контакты в течение текущей кампании')\n",
    "axes[2,0].grid()\n",
    "\n",
    "axes[2,1].hist(x=df['pdays'])\n",
    "axes[2,1].set_title('Пропущенные дни с последней кампании до контакта в текущей')\n",
    "axes[2,1].grid()\n",
    "\n",
    "axes[3,0].hist(x=df['previous'])\n",
    "axes[3,0].set_title('Распределение по количеству контактов до текущей кампании')\n",
    "axes[3,0].grid()"
   ]
  },
  {
   "cell_type": "markdown",
   "id": "b2f4e27e",
   "metadata": {},
   "source": [
    "###### Первые выводы по количественным переменным:\n",
    "\n",
    "Возраст клиентов банка от 18 до 95, средний возраст - 41 год. Основная возрастная группа, как видно на графике, 25-40 лет.\n",
    "\n",
    "Баланс на счетах от -2000 до 4000 (примерно), однако значения меньше -1000 единичны, их можно будет отнести к выбросам. Основные значения - чуть меньше 0 и до 1000.\n",
    "\n",
    "Насчет дня последнего контакта сложно что-то сказать, вряд ли этот признак играет большую роль.\n",
    "\n",
    "Количество контактов в течение предыдущей маркетинговой компании - не больше 5, интервал связи с клиентами по новой компании - около 70 дней, в рамках новой компании проходит не больше 5 контактов, продолжительность разговора в среднем около 6 минут."
   ]
  },
  {
   "cell_type": "markdown",
   "id": "821dc39e",
   "metadata": {},
   "source": [
    "#### Категориальные переменные."
   ]
  },
  {
   "cell_type": "code",
   "execution_count": 19,
   "id": "bf45afc9",
   "metadata": {},
   "outputs": [
    {
     "data": {
      "text/html": [
       "<div>\n",
       "<style scoped>\n",
       "    .dataframe tbody tr th:only-of-type {\n",
       "        vertical-align: middle;\n",
       "    }\n",
       "\n",
       "    .dataframe tbody tr th {\n",
       "        vertical-align: top;\n",
       "    }\n",
       "\n",
       "    .dataframe thead th {\n",
       "        text-align: right;\n",
       "    }\n",
       "</style>\n",
       "<table border=\"1\" class=\"dataframe\">\n",
       "  <thead>\n",
       "    <tr style=\"text-align: right;\">\n",
       "      <th></th>\n",
       "      <th>job</th>\n",
       "      <th>marital</th>\n",
       "      <th>education</th>\n",
       "      <th>default</th>\n",
       "      <th>housing</th>\n",
       "      <th>loan</th>\n",
       "      <th>contact</th>\n",
       "      <th>month</th>\n",
       "      <th>poutcome</th>\n",
       "      <th>deposit</th>\n",
       "    </tr>\n",
       "  </thead>\n",
       "  <tbody>\n",
       "    <tr>\n",
       "      <th>count</th>\n",
       "      <td>10105</td>\n",
       "      <td>10105</td>\n",
       "      <td>10105</td>\n",
       "      <td>10105</td>\n",
       "      <td>10105</td>\n",
       "      <td>10105</td>\n",
       "      <td>10105</td>\n",
       "      <td>10105</td>\n",
       "      <td>10105</td>\n",
       "      <td>10105</td>\n",
       "    </tr>\n",
       "    <tr>\n",
       "      <th>unique</th>\n",
       "      <td>11</td>\n",
       "      <td>3</td>\n",
       "      <td>3</td>\n",
       "      <td>2</td>\n",
       "      <td>2</td>\n",
       "      <td>2</td>\n",
       "      <td>3</td>\n",
       "      <td>12</td>\n",
       "      <td>4</td>\n",
       "      <td>2</td>\n",
       "    </tr>\n",
       "    <tr>\n",
       "      <th>top</th>\n",
       "      <td>management</td>\n",
       "      <td>married</td>\n",
       "      <td>secondary</td>\n",
       "      <td>no</td>\n",
       "      <td>no</td>\n",
       "      <td>no</td>\n",
       "      <td>cellular</td>\n",
       "      <td>may</td>\n",
       "      <td>unknown</td>\n",
       "      <td>no</td>\n",
       "    </tr>\n",
       "    <tr>\n",
       "      <th>freq</th>\n",
       "      <td>2315</td>\n",
       "      <td>5715</td>\n",
       "      <td>5517</td>\n",
       "      <td>9939</td>\n",
       "      <td>5243</td>\n",
       "      <td>8712</td>\n",
       "      <td>7283</td>\n",
       "      <td>2617</td>\n",
       "      <td>7570</td>\n",
       "      <td>5424</td>\n",
       "    </tr>\n",
       "  </tbody>\n",
       "</table>\n",
       "</div>"
      ],
      "text/plain": [
       "               job  marital  education default housing   loan   contact  \\\n",
       "count        10105    10105      10105   10105   10105  10105     10105   \n",
       "unique          11        3          3       2       2      2         3   \n",
       "top     management  married  secondary      no      no     no  cellular   \n",
       "freq          2315     5715       5517    9939    5243   8712      7283   \n",
       "\n",
       "        month poutcome deposit  \n",
       "count   10105    10105   10105  \n",
       "unique     12        4       2  \n",
       "top       may  unknown      no  \n",
       "freq     2617     7570    5424  "
      ]
     },
     "execution_count": 19,
     "metadata": {},
     "output_type": "execute_result"
    }
   ],
   "source": [
    "df.describe(include=['object'])"
   ]
  },
  {
   "cell_type": "code",
   "execution_count": 91,
   "id": "f71aaff8",
   "metadata": {},
   "outputs": [
    {
     "data": {
      "text/plain": [
       "Text(0.5, 1.0, 'Результат прошлой маркетинговой кампании')"
      ]
     },
     "execution_count": 91,
     "metadata": {},
     "output_type": "execute_result"
    },
    {
     "data": {
      "image/png": "[encoded data removed]",
      "text/plain": [
       "<Figure size 1080x1800 with 10 Axes>"
      ]
     },
     "metadata": {
      "needs_background": "light"
     },
     "output_type": "display_data"
    }
   ],
   "source": [
    "fig, axes = plt.subplots(nrows=5, ncols=2,figsize=(15,25))\n",
    "\n",
    "# круговая диаграмма для профессий\n",
    "job_top = df['job'].value_counts()\n",
    "axes[0,0].pie(\n",
    "    job_top,\n",
    "    labels=job_top.index, # названия секторов - индексы\n",
    "    autopct='%.2f%%', # подписи - округление до 2 знаков + '%'\n",
    ")\n",
    "axes[0,0].set_title('Распределение по профессиям') # название графика \n",
    "\n",
    "marital = df['marital'].value_counts()\n",
    "axes[0,1].pie(\n",
    "    marital,\n",
    "    labels=marital.index,\n",
    "    autopct='%.2f%%',\n",
    ")\n",
    "axes[0,1].set_title('Распределение по семейному положению')\n",
    "\n",
    "education = df['education'].value_counts()\n",
    "axes[1,0].pie(\n",
    "    education,\n",
    "    labels=education.index,\n",
    "    autopct='%.2f%%',\n",
    ")\n",
    "axes[1,0].set_title('Распределение по образованию')\n",
    "\n",
    "default = df['default'].value_counts()\n",
    "axes[1,1].pie(\n",
    "    default,\n",
    "    labels=default.index,\n",
    "    autopct='%.2f%%',\n",
    ")\n",
    "axes[1,1].set_title('Распределение по наличию просроченного кредита')\n",
    "\n",
    "housing = df['housing'].value_counts()\n",
    "axes[2,0].pie(\n",
    "    housing,\n",
    "    labels=housing.index,\n",
    "    autopct='%.2f%%',\n",
    ")\n",
    "axes[2,0].set_title('Распределение по наличию кредита на жильё')\n",
    "\n",
    "loan = df['loan'].value_counts()\n",
    "axes[2,1].pie(\n",
    "    loan,\n",
    "    labels=loan.index,\n",
    "    autopct='%.2f%%',\n",
    ")\n",
    "axes[2,1].set_title('Наличие кредита на личные нужды')\n",
    "\n",
    "contact = df['contact'].value_counts()\n",
    "axes[3,0].pie(\n",
    "    contact,\n",
    "    labels=contact.index,\n",
    "    autopct='%.2f%%',\n",
    ")\n",
    "axes[3,0].set_title('Распределение по типу контакта')\n",
    "\n",
    "month = df['month'].value_counts()\n",
    "axes[3,1].pie(\n",
    "    month,\n",
    "    labels=month.index,\n",
    "    autopct='%.2f%%',\n",
    ")\n",
    "axes[3,1].set_title('Месяц, в котором был последний контакт')\n",
    "\n",
    "poutcome = df['poutcome'].value_counts()\n",
    "axes[4,0].pie(\n",
    "    poutcome,\n",
    "    labels=poutcome.index,\n",
    "    autopct='%.2f%%',\n",
    ")\n",
    "axes[4,0].set_title('Результат прошлой маркетинговой кампании')"
   ]
  },
  {
   "cell_type": "markdown",
   "id": "ca6b259e",
   "metadata": {},
   "source": [
    "###### Первые выводы по категориальным переменным:\n",
    "\n",
    "Самая распространённая профессия среди клиентов банка - менеджер, немного отстают рабочие и технические специалисты.\n",
    "\n",
    "Чуть больше половины клиентов состоят в браке, треть одиноки, и лишь небольшая часть в разводе.\n",
    "\n",
    "Половина клиентов имеент среднее образование, чуть меньше - профессиональное, и небольшая часть - начальное.\n",
    "\n",
    "Подавляющее количество клиентов не имеет просроченного кредита. Половина клиентов имеют кредит на жильё, и большинство - кредит на личные нужды.\n",
    "\n",
    "Четверть всех контактов с клиентами состоялась в мае, почти всегда по мобильному телефону.\n",
    "\n",
    "Большинство данных о результатах предыдущей маркетинговой компании неизвестно, однако количество положительных и отрицательных результатов из тех, что известны, примерно равно."
   ]
  },
  {
   "cell_type": "markdown",
   "id": "e0218465",
   "metadata": {},
   "source": [
    "Узнаем, есть ли разница в результатах текущей маркетинговой кампании и предыдущей. Возможно, люди, которые уже однажды согласились на предложение банка, более склонны принять его вновь. А возможно, ситуация ровно обратная. Посмотрим, для какого статуса предыдущей маркетинговой кампании успех в текущей превалирует над количеством неудач."
   ]
  },
  {
   "cell_type": "code",
   "execution_count": 93,
   "id": "f7841b1f",
   "metadata": {},
   "outputs": [
    {
     "data": {
      "text/plain": [
       "unknown    3008\n",
       "success     861\n",
       "failure     547\n",
       "other       265\n",
       "Name: poutcome, dtype: int64"
      ]
     },
     "execution_count": 93,
     "metadata": {},
     "output_type": "execute_result"
    }
   ],
   "source": [
    "df[df['deposit'] == 'yes']['poutcome'].value_counts()"
   ]
  },
  {
   "cell_type": "markdown",
   "id": "cd2a9612",
   "metadata": {},
   "source": [
    "Видим, что, если не брать в расчет неуточненные данные, то клиенты, принявшие предложение банка в прошлой кампании, в большинстве своем приняли положительное предложение и в этой кампании."
   ]
  },
  {
   "cell_type": "markdown",
   "id": "765f283a",
   "metadata": {},
   "source": [
    "Посмотрим, в каком месяце самый большой процент неудач при взаимодействии в текущей маркетинговой кампании."
   ]
  },
  {
   "cell_type": "code",
   "execution_count": 96,
   "id": "e8102590",
   "metadata": {},
   "outputs": [
    {
     "data": {
      "text/plain": [
       "may    1776\n",
       "jul     836\n",
       "aug     775\n",
       "jun     606\n",
       "nov     456\n",
       "feb     323\n",
       "apr     317\n",
       "jan     194\n",
       "oct      62\n",
       "sep      46\n",
       "mar      24\n",
       "dec       9\n",
       "Name: month, dtype: int64"
      ]
     },
     "execution_count": 96,
     "metadata": {},
     "output_type": "execute_result"
    }
   ],
   "source": [
    "df[df['deposit'] == 'no']['month'].value_counts()"
   ]
  },
  {
   "cell_type": "markdown",
   "id": "b0e2d40d",
   "metadata": {},
   "source": [
    "Возможно, предполагалось, что в преддверии летних отпусков клиенты охотнее примут предложение банка, однако это оказалось не так."
   ]
  },
  {
   "cell_type": "markdown",
   "id": "5f20762f",
   "metadata": {},
   "source": [
    "### Задание 8"
   ]
  },
  {
   "cell_type": "code",
   "execution_count": 22,
   "id": "95d56f1b",
   "metadata": {},
   "outputs": [],
   "source": [
    "# создайте возрастные группы и определите, в каких группах более склонны открывать депозит, чем отказываться от предложения"
   ]
  },
  {
   "cell_type": "markdown",
   "id": "0841c685",
   "metadata": {},
   "source": [
    "### Задания 9 и 10"
   ]
  },
  {
   "cell_type": "code",
   "execution_count": 23,
   "id": "0d84a9e1",
   "metadata": {},
   "outputs": [],
   "source": [
    "# постройте визуализации для открывших и неоткрывших депозит в зависимости от семейного статуса"
   ]
  },
  {
   "cell_type": "code",
   "execution_count": 24,
   "id": "16333967",
   "metadata": {},
   "outputs": [],
   "source": [
    "# постройте визуализации для открывших и неоткрывших депозит в зависимости от образования"
   ]
  },
  {
   "cell_type": "code",
   "execution_count": 25,
   "id": "738224f8",
   "metadata": {},
   "outputs": [],
   "source": [
    "# постройте визуализации для открывших и неоткрывших депозит в зависимости от вида профессиональной занятости"
   ]
  },
  {
   "cell_type": "markdown",
   "id": "a521e204",
   "metadata": {},
   "source": [
    "### Задание 11"
   ]
  },
  {
   "cell_type": "code",
   "execution_count": 26,
   "id": "35ab0413",
   "metadata": {},
   "outputs": [],
   "source": [
    "# постройте сводную таблицу, чтобы определить люди с каким образованием и семейным статусом наиболее многочисленны\n",
    "#(если рассматривать тех, кто открыл депозит)"
   ]
  },
  {
   "cell_type": "markdown",
   "id": "dfd805c0",
   "metadata": {},
   "source": [
    "## Часть 3: преобразование данных"
   ]
  },
  {
   "cell_type": "markdown",
   "id": "e44e715b",
   "metadata": {},
   "source": [
    "### Задание 1"
   ]
  },
  {
   "cell_type": "code",
   "execution_count": 27,
   "id": "1e815773",
   "metadata": {},
   "outputs": [],
   "source": [
    "# преобразуйте уровни образования"
   ]
  },
  {
   "cell_type": "markdown",
   "id": "8c93e73d",
   "metadata": {},
   "source": [
    "### Задания 2 и 3"
   ]
  },
  {
   "cell_type": "code",
   "execution_count": 28,
   "id": "626a5762",
   "metadata": {},
   "outputs": [],
   "source": [
    "# преобразуйте бинарные переменные в представление из нулей и единиц"
   ]
  },
  {
   "cell_type": "markdown",
   "id": "c40dc02a",
   "metadata": {},
   "source": [
    "### Задание 4"
   ]
  },
  {
   "cell_type": "code",
   "execution_count": 29,
   "id": "b996883f",
   "metadata": {},
   "outputs": [],
   "source": [
    "# создайте дамми-переменные"
   ]
  },
  {
   "cell_type": "markdown",
   "id": "9a23e318",
   "metadata": {},
   "source": [
    "### Задания 5 и 6"
   ]
  },
  {
   "cell_type": "code",
   "execution_count": 30,
   "id": "1c884c1a",
   "metadata": {},
   "outputs": [],
   "source": [
    "# постройте корреляционную матрицу и оцените данные на предмет наличия мультиколлинеарности"
   ]
  },
  {
   "cell_type": "markdown",
   "id": "b5b4c1a5",
   "metadata": {},
   "source": [
    "### Задания 7 и 8"
   ]
  },
  {
   "cell_type": "code",
   "execution_count": 31,
   "id": "79f3e432",
   "metadata": {},
   "outputs": [],
   "source": [
    "X = df.drop(['deposit'], axis=1)\n",
    "y = df['deposit']\n",
    " \n",
    "X_train, X_test, y_train, y_test = train_test_split(X, y, stratify=y, random_state = 42, test_size = 0.33)"
   ]
  },
  {
   "cell_type": "code",
   "execution_count": 32,
   "id": "e3a097a4",
   "metadata": {},
   "outputs": [],
   "source": [
    "# рассчитайте необходимые показатели"
   ]
  },
  {
   "cell_type": "markdown",
   "id": "2e381a4f",
   "metadata": {},
   "source": [
    "### Задание 9"
   ]
  },
  {
   "cell_type": "code",
   "execution_count": 33,
   "id": "0f6e03e0",
   "metadata": {},
   "outputs": [],
   "source": [
    "# с помощью SelectKBest отберите 15 наиболее подходящих признаков"
   ]
  },
  {
   "cell_type": "markdown",
   "id": "60132ef3",
   "metadata": {},
   "source": [
    "### Задание 10"
   ]
  },
  {
   "cell_type": "code",
   "execution_count": 34,
   "id": "e91b06f3",
   "metadata": {},
   "outputs": [],
   "source": [
    "# нормализуйте данные с помощью minmaxsxaler"
   ]
  },
  {
   "cell_type": "markdown",
   "id": "0894c632",
   "metadata": {},
   "source": [
    "# Часть 4: Решение задачи классификации: логистическая регрессия и решающие деревья"
   ]
  },
  {
   "cell_type": "markdown",
   "id": "41b8ff06",
   "metadata": {},
   "source": [
    "### Задание 1"
   ]
  },
  {
   "cell_type": "code",
   "execution_count": 35,
   "id": "8acc0166",
   "metadata": {},
   "outputs": [],
   "source": [
    "# обучите логистическую регрессию и рассчитайте метрики качества"
   ]
  },
  {
   "cell_type": "markdown",
   "id": "29b7e0ba",
   "metadata": {},
   "source": [
    "### Задания 2,3,4"
   ]
  },
  {
   "cell_type": "code",
   "execution_count": 36,
   "id": "c91a588b",
   "metadata": {},
   "outputs": [],
   "source": [
    "# обучите решающие деревья, настройте максимальную глубину"
   ]
  },
  {
   "cell_type": "markdown",
   "id": "fe823c18",
   "metadata": {},
   "source": [
    "### Задание 5"
   ]
  },
  {
   "cell_type": "code",
   "execution_count": 37,
   "id": "63574943",
   "metadata": {},
   "outputs": [],
   "source": [
    "# подберите оптимальные параметры с помощью gridsearch"
   ]
  },
  {
   "cell_type": "markdown",
   "id": "ed0fc831",
   "metadata": {},
   "source": [
    "# Часть 5: Решение задачи классификации: ансамбли моделей и построение прогноза"
   ]
  },
  {
   "cell_type": "markdown",
   "id": "f9e36ff2",
   "metadata": {},
   "source": [
    "### Задание 1"
   ]
  },
  {
   "cell_type": "code",
   "execution_count": 38,
   "id": "e708e3fe",
   "metadata": {},
   "outputs": [],
   "source": [
    "# обучите на ваших данных случайный лес"
   ]
  },
  {
   "cell_type": "markdown",
   "id": "71d7b13d",
   "metadata": {},
   "source": [
    "### Задания 2 и 3"
   ]
  },
  {
   "cell_type": "code",
   "execution_count": 39,
   "id": "99f12dfe",
   "metadata": {},
   "outputs": [],
   "source": [
    "# используйте для классификации градиентный бустинг и сравните качество со случайным лесом"
   ]
  },
  {
   "cell_type": "markdown",
   "id": "b08718ae",
   "metadata": {},
   "source": [
    "### Задание 4"
   ]
  },
  {
   "cell_type": "code",
   "execution_count": 40,
   "id": "0bd42fb0",
   "metadata": {},
   "outputs": [],
   "source": [
    "# объедините уже известные вам алгоритмы с помощью стекинга "
   ]
  },
  {
   "cell_type": "markdown",
   "id": "6247a5fb",
   "metadata": {},
   "source": [
    "### Задание 5"
   ]
  },
  {
   "cell_type": "code",
   "execution_count": 41,
   "id": "35de769c",
   "metadata": {},
   "outputs": [],
   "source": [
    "# оцените, какие признаки демонстрируют наибольшую  важность в модели градиентного бустинга"
   ]
  },
  {
   "cell_type": "markdown",
   "id": "96974dda",
   "metadata": {},
   "source": [
    "### Задания 6,7,8"
   ]
  },
  {
   "cell_type": "code",
   "execution_count": 42,
   "id": "c48e29e9",
   "metadata": {},
   "outputs": [],
   "source": [
    "# реализуйте оптимизацию гиперпараметров с помощью Optuna"
   ]
  }
 ],
 "metadata": {
  "kernelspec": {
   "display_name": "Python 3 (ipykernel)",
   "language": "python",
   "name": "python3"
  },
  "language_info": {
   "codemirror_mode": {
    "name": "ipython",
    "version": 3
   },
   "file_extension": ".py",
   "mimetype": "text/x-python",
   "name": "python",
   "nbconvert_exporter": "python",
   "pygments_lexer": "ipython3",
   "version": "3.9.13"
  }
 },
 "nbformat": 4,
 "nbformat_minor": 5
}
