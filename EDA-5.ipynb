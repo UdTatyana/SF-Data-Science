{
  "nbformat": 4,
  "nbformat_minor": 0,
  "metadata": {
    "colab": {
      "provenance": [],
      "authorship_tag": "ABX9TyPX/xDIcJpe5hpbddepGrlb",
      "include_colab_link": true
    },
    "kernelspec": {
      "name": "python3",
      "display_name": "Python 3"
    },
    "language_info": {
      "name": "python"
    }
  },
  "cells": [
    {
      "cell_type": "markdown",
      "metadata": {
        "id": "view-in-github",
        "colab_type": "text"
      },
      "source": [
        "<a href=\"https://colab.research.google.com/github/UdTatyana/SF-Data-Science/blob/main/EDA-5.ipynb\" target=\"_parent\"><img src=\"https://colab.research.google.com/assets/colab-badge.svg\" alt=\"Open In Colab\"/></a>"
      ]
    },
    {
      "cell_type": "markdown",
      "source": [
        "https://colab.research.google.com/drive/15LoDNrI2lvAbbK7GRX1kP4Ied0EjTVM4#scrollTo=O21G4abe9nIt\n",
        "\n",
        "# A/B - тестирование"
      ],
      "metadata": {
        "id": "O21G4abe9nIt"
      }
    },
    {
      "cell_type": "code",
      "execution_count": null,
      "metadata": {
        "id": "Td2_xMEiwAqC"
      },
      "outputs": [],
      "source": [
        "import pandas as pd\n",
        "import matplotlib.pyplot as plt\n",
        "import seaborn as sns"
      ]
    },
    {
      "cell_type": "code",
      "source": [
        "ab_data = pd.read_csv('/usr/ab_data.csv') \n",
        "ab_data.head()"
      ],
      "metadata": {
        "colab": {
          "base_uri": "https://localhost:8080/",
          "height": 206
        },
        "id": "b3UsUjQRwb55",
        "outputId": "456a2b73-4a2e-4455-8a30-83ebb81bb3f2"
      },
      "execution_count": null,
      "outputs": [
        {
          "output_type": "execute_result",
          "data": {
            "text/plain": [
              "   user_id   timestamp group  converted\n",
              "0   851104  2017-01-21     A          0\n",
              "1   804228  2017-01-12     A          0\n",
              "2   661590  2017-01-11     B          0\n",
              "3   853541  2017-01-08     B          0\n",
              "4   864975  2017-01-21     A          1"
            ],
            "text/html": [
              "\n",
              "  <div id=\"df-dd4588ab-ac6d-4074-a646-dd4358a6d267\">\n",
              "    <div class=\"colab-df-container\">\n",
              "      <div>\n",
              "<style scoped>\n",
              "    .dataframe tbody tr th:only-of-type {\n",
              "        vertical-align: middle;\n",
              "    }\n",
              "\n",
              "    .dataframe tbody tr th {\n",
              "        vertical-align: top;\n",
              "    }\n",
              "\n",
              "    .dataframe thead th {\n",
              "        text-align: right;\n",
              "    }\n",
              "</style>\n",
              "<table border=\"1\" class=\"dataframe\">\n",
              "  <thead>\n",
              "    <tr style=\"text-align: right;\">\n",
              "      <th></th>\n",
              "      <th>user_id</th>\n",
              "      <th>timestamp</th>\n",
              "      <th>group</th>\n",
              "      <th>converted</th>\n",
              "    </tr>\n",
              "  </thead>\n",
              "  <tbody>\n",
              "    <tr>\n",
              "      <th>0</th>\n",
              "      <td>851104</td>\n",
              "      <td>2017-01-21</td>\n",
              "      <td>A</td>\n",
              "      <td>0</td>\n",
              "    </tr>\n",
              "    <tr>\n",
              "      <th>1</th>\n",
              "      <td>804228</td>\n",
              "      <td>2017-01-12</td>\n",
              "      <td>A</td>\n",
              "      <td>0</td>\n",
              "    </tr>\n",
              "    <tr>\n",
              "      <th>2</th>\n",
              "      <td>661590</td>\n",
              "      <td>2017-01-11</td>\n",
              "      <td>B</td>\n",
              "      <td>0</td>\n",
              "    </tr>\n",
              "    <tr>\n",
              "      <th>3</th>\n",
              "      <td>853541</td>\n",
              "      <td>2017-01-08</td>\n",
              "      <td>B</td>\n",
              "      <td>0</td>\n",
              "    </tr>\n",
              "    <tr>\n",
              "      <th>4</th>\n",
              "      <td>864975</td>\n",
              "      <td>2017-01-21</td>\n",
              "      <td>A</td>\n",
              "      <td>1</td>\n",
              "    </tr>\n",
              "  </tbody>\n",
              "</table>\n",
              "</div>\n",
              "      <button class=\"colab-df-convert\" onclick=\"convertToInteractive('df-dd4588ab-ac6d-4074-a646-dd4358a6d267')\"\n",
              "              title=\"Convert this dataframe to an interactive table.\"\n",
              "              style=\"display:none;\">\n",
              "        \n",
              "  <svg xmlns=\"http://www.w3.org/2000/svg\" height=\"24px\"viewBox=\"0 0 24 24\"\n",
              "       width=\"24px\">\n",
              "    <path d=\"M0 0h24v24H0V0z\" fill=\"none\"/>\n",
              "    <path d=\"M18.56 5.44l.94 2.06.94-2.06 2.06-.94-2.06-.94-.94-2.06-.94 2.06-2.06.94zm-11 1L8.5 8.5l.94-2.06 2.06-.94-2.06-.94L8.5 2.5l-.94 2.06-2.06.94zm10 10l.94 2.06.94-2.06 2.06-.94-2.06-.94-.94-2.06-.94 2.06-2.06.94z\"/><path d=\"M17.41 7.96l-1.37-1.37c-.4-.4-.92-.59-1.43-.59-.52 0-1.04.2-1.43.59L10.3 9.45l-7.72 7.72c-.78.78-.78 2.05 0 2.83L4 21.41c.39.39.9.59 1.41.59.51 0 1.02-.2 1.41-.59l7.78-7.78 2.81-2.81c.8-.78.8-2.07 0-2.86zM5.41 20L4 18.59l7.72-7.72 1.47 1.35L5.41 20z\"/>\n",
              "  </svg>\n",
              "      </button>\n",
              "      \n",
              "  <style>\n",
              "    .colab-df-container {\n",
              "      display:flex;\n",
              "      flex-wrap:wrap;\n",
              "      gap: 12px;\n",
              "    }\n",
              "\n",
              "    .colab-df-convert {\n",
              "      background-color: #E8F0FE;\n",
              "      border: none;\n",
              "      border-radius: 50%;\n",
              "      cursor: pointer;\n",
              "      display: none;\n",
              "      fill: #1967D2;\n",
              "      height: 32px;\n",
              "      padding: 0 0 0 0;\n",
              "      width: 32px;\n",
              "    }\n",
              "\n",
              "    .colab-df-convert:hover {\n",
              "      background-color: #E2EBFA;\n",
              "      box-shadow: 0px 1px 2px rgba(60, 64, 67, 0.3), 0px 1px 3px 1px rgba(60, 64, 67, 0.15);\n",
              "      fill: #174EA6;\n",
              "    }\n",
              "\n",
              "    [theme=dark] .colab-df-convert {\n",
              "      background-color: #3B4455;\n",
              "      fill: #D2E3FC;\n",
              "    }\n",
              "\n",
              "    [theme=dark] .colab-df-convert:hover {\n",
              "      background-color: #434B5C;\n",
              "      box-shadow: 0px 1px 3px 1px rgba(0, 0, 0, 0.15);\n",
              "      filter: drop-shadow(0px 1px 2px rgba(0, 0, 0, 0.3));\n",
              "      fill: #FFFFFF;\n",
              "    }\n",
              "  </style>\n",
              "\n",
              "      <script>\n",
              "        const buttonEl =\n",
              "          document.querySelector('#df-dd4588ab-ac6d-4074-a646-dd4358a6d267 button.colab-df-convert');\n",
              "        buttonEl.style.display =\n",
              "          google.colab.kernel.accessAllowed ? 'block' : 'none';\n",
              "\n",
              "        async function convertToInteractive(key) {\n",
              "          const element = document.querySelector('#df-dd4588ab-ac6d-4074-a646-dd4358a6d267');\n",
              "          const dataTable =\n",
              "            await google.colab.kernel.invokeFunction('convertToInteractive',\n",
              "                                                     [key], {});\n",
              "          if (!dataTable) return;\n",
              "\n",
              "          const docLinkHtml = 'Like what you see? Visit the ' +\n",
              "            '<a target=\"_blank\" href=https://colab.research.google.com/notebooks/data_table.ipynb>data table notebook</a>'\n",
              "            + ' to learn more about interactive tables.';\n",
              "          element.innerHTML = '';\n",
              "          dataTable['output_type'] = 'display_data';\n",
              "          await google.colab.output.renderOutput(dataTable, element);\n",
              "          const docLink = document.createElement('div');\n",
              "          docLink.innerHTML = docLinkHtml;\n",
              "          element.appendChild(docLink);\n",
              "        }\n",
              "      </script>\n",
              "    </div>\n",
              "  </div>\n",
              "  "
            ]
          },
          "metadata": {},
          "execution_count": 6
        }
      ]
    },
    {
      "cell_type": "markdown",
      "source": [
        "Итак, мы получили таблицу со следующими полями: user_id идентификатор пользователя, зашедшего на сайт timestamp дата события group группа теста (контрольная или тестовая) converted совершил пользователь целевое действие (нажатие кнопки «добавить в корзину» на сопутствующем товаре) или нет. 1 — да, 0 — нет."
      ],
      "metadata": {
        "id": "STepRhkbyYKD"
      }
    },
    {
      "cell_type": "code",
      "source": [
        "ab_data.info() # посмотрим тип данных и содержание столбцов"
      ],
      "metadata": {
        "colab": {
          "base_uri": "https://localhost:8080/"
        },
        "id": "gnwp1TeBybzE",
        "outputId": "d30badfc-5e7d-46f3-e791-c5e41aeee4cf"
      },
      "execution_count": null,
      "outputs": [
        {
          "output_type": "stream",
          "name": "stdout",
          "text": [
            "<class 'pandas.core.frame.DataFrame'>\n",
            "RangeIndex: 290482 entries, 0 to 290481\n",
            "Data columns (total 4 columns):\n",
            " #   Column     Non-Null Count   Dtype \n",
            "---  ------     --------------   ----- \n",
            " 0   user_id    290482 non-null  int64 \n",
            " 1   timestamp  290482 non-null  object\n",
            " 2   group      290482 non-null  object\n",
            " 3   converted  290482 non-null  int64 \n",
            "dtypes: int64(2), object(2)\n",
            "memory usage: 8.9+ MB\n"
          ]
        }
      ]
    },
    {
      "cell_type": "code",
      "source": [
        "ab_data['timestamp'] = pd.to_datetime(ab_data['timestamp'], format='%Y-%m-%d')\n",
        "# дату переведем в формат datetime"
      ],
      "metadata": {
        "id": "nu5uVQPoyk1Z"
      },
      "execution_count": null,
      "outputs": []
    },
    {
      "cell_type": "markdown",
      "source": [
        "Для того, чтобы получить показатель конверсии в группах на каждый день, нам необходимо предварительно сгруппировать наши данные по дате и группе и вычислить количество пользователей, заходивших на сайт, и суммарное количество совершённых целевых действий.\n",
        "\n",
        "Дополнительно для удобства сбросим индекс на сгруппированной таблице c помощью метода reset_index() и переименуем столбец user_id в users_count с помощью метода rename()."
      ],
      "metadata": {
        "id": "U3yYjArlyped"
      }
    },
    {
      "cell_type": "code",
      "source": [
        "daily_data = ab_data.groupby(['timestamp','group']).agg({\n",
        "    'user_id':'count',\n",
        "    'converted':'sum'\n",
        "}).reset_index().rename(columns={'user_id': 'users_count'})\n",
        "daily_data.head()"
      ],
      "metadata": {
        "colab": {
          "base_uri": "https://localhost:8080/",
          "height": 206
        },
        "id": "FQEhI2ZryraI",
        "outputId": "2e0f0058-d13d-43bd-ce59-dbf417ab7bef"
      },
      "execution_count": null,
      "outputs": [
        {
          "output_type": "execute_result",
          "data": {
            "text/plain": [
              "   timestamp group  users_count  converted\n",
              "0 2017-01-02     A         2851        357\n",
              "1 2017-01-02     B         2848        339\n",
              "2 2017-01-03     A         6584        749\n",
              "3 2017-01-03     B         6620        754\n",
              "4 2017-01-04     A         6573        797"
            ],
            "text/html": [
              "\n",
              "  <div id=\"df-3d300b45-7869-42e1-b191-a3889773113e\">\n",
              "    <div class=\"colab-df-container\">\n",
              "      <div>\n",
              "<style scoped>\n",
              "    .dataframe tbody tr th:only-of-type {\n",
              "        vertical-align: middle;\n",
              "    }\n",
              "\n",
              "    .dataframe tbody tr th {\n",
              "        vertical-align: top;\n",
              "    }\n",
              "\n",
              "    .dataframe thead th {\n",
              "        text-align: right;\n",
              "    }\n",
              "</style>\n",
              "<table border=\"1\" class=\"dataframe\">\n",
              "  <thead>\n",
              "    <tr style=\"text-align: right;\">\n",
              "      <th></th>\n",
              "      <th>timestamp</th>\n",
              "      <th>group</th>\n",
              "      <th>users_count</th>\n",
              "      <th>converted</th>\n",
              "    </tr>\n",
              "  </thead>\n",
              "  <tbody>\n",
              "    <tr>\n",
              "      <th>0</th>\n",
              "      <td>2017-01-02</td>\n",
              "      <td>A</td>\n",
              "      <td>2851</td>\n",
              "      <td>357</td>\n",
              "    </tr>\n",
              "    <tr>\n",
              "      <th>1</th>\n",
              "      <td>2017-01-02</td>\n",
              "      <td>B</td>\n",
              "      <td>2848</td>\n",
              "      <td>339</td>\n",
              "    </tr>\n",
              "    <tr>\n",
              "      <th>2</th>\n",
              "      <td>2017-01-03</td>\n",
              "      <td>A</td>\n",
              "      <td>6584</td>\n",
              "      <td>749</td>\n",
              "    </tr>\n",
              "    <tr>\n",
              "      <th>3</th>\n",
              "      <td>2017-01-03</td>\n",
              "      <td>B</td>\n",
              "      <td>6620</td>\n",
              "      <td>754</td>\n",
              "    </tr>\n",
              "    <tr>\n",
              "      <th>4</th>\n",
              "      <td>2017-01-04</td>\n",
              "      <td>A</td>\n",
              "      <td>6573</td>\n",
              "      <td>797</td>\n",
              "    </tr>\n",
              "  </tbody>\n",
              "</table>\n",
              "</div>\n",
              "      <button class=\"colab-df-convert\" onclick=\"convertToInteractive('df-3d300b45-7869-42e1-b191-a3889773113e')\"\n",
              "              title=\"Convert this dataframe to an interactive table.\"\n",
              "              style=\"display:none;\">\n",
              "        \n",
              "  <svg xmlns=\"http://www.w3.org/2000/svg\" height=\"24px\"viewBox=\"0 0 24 24\"\n",
              "       width=\"24px\">\n",
              "    <path d=\"M0 0h24v24H0V0z\" fill=\"none\"/>\n",
              "    <path d=\"M18.56 5.44l.94 2.06.94-2.06 2.06-.94-2.06-.94-.94-2.06-.94 2.06-2.06.94zm-11 1L8.5 8.5l.94-2.06 2.06-.94-2.06-.94L8.5 2.5l-.94 2.06-2.06.94zm10 10l.94 2.06.94-2.06 2.06-.94-2.06-.94-.94-2.06-.94 2.06-2.06.94z\"/><path d=\"M17.41 7.96l-1.37-1.37c-.4-.4-.92-.59-1.43-.59-.52 0-1.04.2-1.43.59L10.3 9.45l-7.72 7.72c-.78.78-.78 2.05 0 2.83L4 21.41c.39.39.9.59 1.41.59.51 0 1.02-.2 1.41-.59l7.78-7.78 2.81-2.81c.8-.78.8-2.07 0-2.86zM5.41 20L4 18.59l7.72-7.72 1.47 1.35L5.41 20z\"/>\n",
              "  </svg>\n",
              "      </button>\n",
              "      \n",
              "  <style>\n",
              "    .colab-df-container {\n",
              "      display:flex;\n",
              "      flex-wrap:wrap;\n",
              "      gap: 12px;\n",
              "    }\n",
              "\n",
              "    .colab-df-convert {\n",
              "      background-color: #E8F0FE;\n",
              "      border: none;\n",
              "      border-radius: 50%;\n",
              "      cursor: pointer;\n",
              "      display: none;\n",
              "      fill: #1967D2;\n",
              "      height: 32px;\n",
              "      padding: 0 0 0 0;\n",
              "      width: 32px;\n",
              "    }\n",
              "\n",
              "    .colab-df-convert:hover {\n",
              "      background-color: #E2EBFA;\n",
              "      box-shadow: 0px 1px 2px rgba(60, 64, 67, 0.3), 0px 1px 3px 1px rgba(60, 64, 67, 0.15);\n",
              "      fill: #174EA6;\n",
              "    }\n",
              "\n",
              "    [theme=dark] .colab-df-convert {\n",
              "      background-color: #3B4455;\n",
              "      fill: #D2E3FC;\n",
              "    }\n",
              "\n",
              "    [theme=dark] .colab-df-convert:hover {\n",
              "      background-color: #434B5C;\n",
              "      box-shadow: 0px 1px 3px 1px rgba(0, 0, 0, 0.15);\n",
              "      filter: drop-shadow(0px 1px 2px rgba(0, 0, 0, 0.3));\n",
              "      fill: #FFFFFF;\n",
              "    }\n",
              "  </style>\n",
              "\n",
              "      <script>\n",
              "        const buttonEl =\n",
              "          document.querySelector('#df-3d300b45-7869-42e1-b191-a3889773113e button.colab-df-convert');\n",
              "        buttonEl.style.display =\n",
              "          google.colab.kernel.accessAllowed ? 'block' : 'none';\n",
              "\n",
              "        async function convertToInteractive(key) {\n",
              "          const element = document.querySelector('#df-3d300b45-7869-42e1-b191-a3889773113e');\n",
              "          const dataTable =\n",
              "            await google.colab.kernel.invokeFunction('convertToInteractive',\n",
              "                                                     [key], {});\n",
              "          if (!dataTable) return;\n",
              "\n",
              "          const docLinkHtml = 'Like what you see? Visit the ' +\n",
              "            '<a target=\"_blank\" href=https://colab.research.google.com/notebooks/data_table.ipynb>data table notebook</a>'\n",
              "            + ' to learn more about interactive tables.';\n",
              "          element.innerHTML = '';\n",
              "          dataTable['output_type'] = 'display_data';\n",
              "          await google.colab.output.renderOutput(dataTable, element);\n",
              "          const docLink = document.createElement('div');\n",
              "          docLink.innerHTML = docLinkHtml;\n",
              "          element.appendChild(docLink);\n",
              "        }\n",
              "      </script>\n",
              "    </div>\n",
              "  </div>\n",
              "  "
            ]
          },
          "metadata": {},
          "execution_count": 8
        }
      ]
    },
    {
      "cell_type": "markdown",
      "source": [
        "Для завершения этапа подготовки данных к анализу нам осталось рассчитать конверсию на каждый день проведения A/B-тестирования. Напомним: ежедневная конверсия рассчитывается как отношение числа посетителей сайта, выполнивших на нём какие-либо целевые действия в день, к ежедневному общему числу посетителей сайта, умноженная на 100 %"
      ],
      "metadata": {
        "id": "uoDRYyw2y0Gd"
      }
    },
    {
      "cell_type": "code",
      "source": [
        "daily_data['conversion'] = (daily_data['converted'] / daily_data['users_count']) * 100\n",
        "daily_data.head()"
      ],
      "metadata": {
        "colab": {
          "base_uri": "https://localhost:8080/",
          "height": 206
        },
        "id": "4Oyq1XcFy4lC",
        "outputId": "e2c614d5-739d-4502-fa73-3796bd1c68db"
      },
      "execution_count": null,
      "outputs": [
        {
          "output_type": "execute_result",
          "data": {
            "text/plain": [
              "   timestamp group  users_count  converted  conversion\n",
              "0 2017-01-02     A         2851        357   12.521922\n",
              "1 2017-01-02     B         2848        339   11.903090\n",
              "2 2017-01-03     A         6584        749   11.376063\n",
              "3 2017-01-03     B         6620        754   11.389728\n",
              "4 2017-01-04     A         6573        797   12.125361"
            ],
            "text/html": [
              "\n",
              "  <div id=\"df-3668dcf4-bf4d-4b3c-ae37-2a76632c93ee\">\n",
              "    <div class=\"colab-df-container\">\n",
              "      <div>\n",
              "<style scoped>\n",
              "    .dataframe tbody tr th:only-of-type {\n",
              "        vertical-align: middle;\n",
              "    }\n",
              "\n",
              "    .dataframe tbody tr th {\n",
              "        vertical-align: top;\n",
              "    }\n",
              "\n",
              "    .dataframe thead th {\n",
              "        text-align: right;\n",
              "    }\n",
              "</style>\n",
              "<table border=\"1\" class=\"dataframe\">\n",
              "  <thead>\n",
              "    <tr style=\"text-align: right;\">\n",
              "      <th></th>\n",
              "      <th>timestamp</th>\n",
              "      <th>group</th>\n",
              "      <th>users_count</th>\n",
              "      <th>converted</th>\n",
              "      <th>conversion</th>\n",
              "    </tr>\n",
              "  </thead>\n",
              "  <tbody>\n",
              "    <tr>\n",
              "      <th>0</th>\n",
              "      <td>2017-01-02</td>\n",
              "      <td>A</td>\n",
              "      <td>2851</td>\n",
              "      <td>357</td>\n",
              "      <td>12.521922</td>\n",
              "    </tr>\n",
              "    <tr>\n",
              "      <th>1</th>\n",
              "      <td>2017-01-02</td>\n",
              "      <td>B</td>\n",
              "      <td>2848</td>\n",
              "      <td>339</td>\n",
              "      <td>11.903090</td>\n",
              "    </tr>\n",
              "    <tr>\n",
              "      <th>2</th>\n",
              "      <td>2017-01-03</td>\n",
              "      <td>A</td>\n",
              "      <td>6584</td>\n",
              "      <td>749</td>\n",
              "      <td>11.376063</td>\n",
              "    </tr>\n",
              "    <tr>\n",
              "      <th>3</th>\n",
              "      <td>2017-01-03</td>\n",
              "      <td>B</td>\n",
              "      <td>6620</td>\n",
              "      <td>754</td>\n",
              "      <td>11.389728</td>\n",
              "    </tr>\n",
              "    <tr>\n",
              "      <th>4</th>\n",
              "      <td>2017-01-04</td>\n",
              "      <td>A</td>\n",
              "      <td>6573</td>\n",
              "      <td>797</td>\n",
              "      <td>12.125361</td>\n",
              "    </tr>\n",
              "  </tbody>\n",
              "</table>\n",
              "</div>\n",
              "      <button class=\"colab-df-convert\" onclick=\"convertToInteractive('df-3668dcf4-bf4d-4b3c-ae37-2a76632c93ee')\"\n",
              "              title=\"Convert this dataframe to an interactive table.\"\n",
              "              style=\"display:none;\">\n",
              "        \n",
              "  <svg xmlns=\"http://www.w3.org/2000/svg\" height=\"24px\"viewBox=\"0 0 24 24\"\n",
              "       width=\"24px\">\n",
              "    <path d=\"M0 0h24v24H0V0z\" fill=\"none\"/>\n",
              "    <path d=\"M18.56 5.44l.94 2.06.94-2.06 2.06-.94-2.06-.94-.94-2.06-.94 2.06-2.06.94zm-11 1L8.5 8.5l.94-2.06 2.06-.94-2.06-.94L8.5 2.5l-.94 2.06-2.06.94zm10 10l.94 2.06.94-2.06 2.06-.94-2.06-.94-.94-2.06-.94 2.06-2.06.94z\"/><path d=\"M17.41 7.96l-1.37-1.37c-.4-.4-.92-.59-1.43-.59-.52 0-1.04.2-1.43.59L10.3 9.45l-7.72 7.72c-.78.78-.78 2.05 0 2.83L4 21.41c.39.39.9.59 1.41.59.51 0 1.02-.2 1.41-.59l7.78-7.78 2.81-2.81c.8-.78.8-2.07 0-2.86zM5.41 20L4 18.59l7.72-7.72 1.47 1.35L5.41 20z\"/>\n",
              "  </svg>\n",
              "      </button>\n",
              "      \n",
              "  <style>\n",
              "    .colab-df-container {\n",
              "      display:flex;\n",
              "      flex-wrap:wrap;\n",
              "      gap: 12px;\n",
              "    }\n",
              "\n",
              "    .colab-df-convert {\n",
              "      background-color: #E8F0FE;\n",
              "      border: none;\n",
              "      border-radius: 50%;\n",
              "      cursor: pointer;\n",
              "      display: none;\n",
              "      fill: #1967D2;\n",
              "      height: 32px;\n",
              "      padding: 0 0 0 0;\n",
              "      width: 32px;\n",
              "    }\n",
              "\n",
              "    .colab-df-convert:hover {\n",
              "      background-color: #E2EBFA;\n",
              "      box-shadow: 0px 1px 2px rgba(60, 64, 67, 0.3), 0px 1px 3px 1px rgba(60, 64, 67, 0.15);\n",
              "      fill: #174EA6;\n",
              "    }\n",
              "\n",
              "    [theme=dark] .colab-df-convert {\n",
              "      background-color: #3B4455;\n",
              "      fill: #D2E3FC;\n",
              "    }\n",
              "\n",
              "    [theme=dark] .colab-df-convert:hover {\n",
              "      background-color: #434B5C;\n",
              "      box-shadow: 0px 1px 3px 1px rgba(0, 0, 0, 0.15);\n",
              "      filter: drop-shadow(0px 1px 2px rgba(0, 0, 0, 0.3));\n",
              "      fill: #FFFFFF;\n",
              "    }\n",
              "  </style>\n",
              "\n",
              "      <script>\n",
              "        const buttonEl =\n",
              "          document.querySelector('#df-3668dcf4-bf4d-4b3c-ae37-2a76632c93ee button.colab-df-convert');\n",
              "        buttonEl.style.display =\n",
              "          google.colab.kernel.accessAllowed ? 'block' : 'none';\n",
              "\n",
              "        async function convertToInteractive(key) {\n",
              "          const element = document.querySelector('#df-3668dcf4-bf4d-4b3c-ae37-2a76632c93ee');\n",
              "          const dataTable =\n",
              "            await google.colab.kernel.invokeFunction('convertToInteractive',\n",
              "                                                     [key], {});\n",
              "          if (!dataTable) return;\n",
              "\n",
              "          const docLinkHtml = 'Like what you see? Visit the ' +\n",
              "            '<a target=\"_blank\" href=https://colab.research.google.com/notebooks/data_table.ipynb>data table notebook</a>'\n",
              "            + ' to learn more about interactive tables.';\n",
              "          element.innerHTML = '';\n",
              "          dataTable['output_type'] = 'display_data';\n",
              "          await google.colab.output.renderOutput(dataTable, element);\n",
              "          const docLink = document.createElement('div');\n",
              "          docLink.innerHTML = docLinkHtml;\n",
              "          element.appendChild(docLink);\n",
              "        }\n",
              "      </script>\n",
              "    </div>\n",
              "  </div>\n",
              "  "
            ]
          },
          "metadata": {},
          "execution_count": 9
        }
      ]
    },
    {
      "cell_type": "markdown",
      "source": [
        "Задание 4.1\n",
        "\n",
        "Чему была равна конверсия (в процентах) в группе А 5 января 2017 года? Ответ округлите до второго знака после запятой"
      ],
      "metadata": {
        "id": "pZfqVnqVzA86"
      }
    },
    {
      "cell_type": "code",
      "source": [
        "mask = (daily_data['timestamp'] == '2017-01-05') & (daily_data['group'] == 'A')\n",
        "round(daily_data[mask]['conversion'], 2)"
      ],
      "metadata": {
        "colab": {
          "base_uri": "https://localhost:8080/"
        },
        "id": "ilYy_yOIzCJp",
        "outputId": "3b5174ea-1a7e-49e0-875f-59ed359c25dd"
      },
      "execution_count": null,
      "outputs": [
        {
          "output_type": "execute_result",
          "data": {
            "text/plain": [
              "6    12.32\n",
              "Name: conversion, dtype: float64"
            ]
          },
          "metadata": {},
          "execution_count": 10
        }
      ]
    },
    {
      "cell_type": "markdown",
      "source": [
        "# Визуальный анализ конверсии в группах"
      ],
      "metadata": {
        "id": "ZVewhfwtzJ9K"
      }
    },
    {
      "cell_type": "code",
      "source": [
        "fig = plt.figure(figsize=(8, 4)) # создаём фигуру размером 8x4\n",
        "ax = fig.add_axes([1, 1, 1, 1]) # добавляем систему координат \n",
        "sns.boxplot(data=daily_data, x='conversion', y='group', ax=ax) # строим boxplot для conversion по признаку group \n",
        "ax.set_title('Сравнение конверсии в группах') # задаём подпись к графику\n",
        "ax.grid() # задаём отображение сетки"
      ],
      "metadata": {
        "colab": {
          "base_uri": "https://localhost:8080/",
          "height": 366
        },
        "id": "O-_8E8UyzNCb",
        "outputId": "00ddde7c-5aa5-4a5f-9dea-4658faf81983"
      },
      "execution_count": null,
      "outputs": [
        {
          "output_type": "display_data",
          "data": {
            "text/plain": [
              "<Figure size 576x288 with 1 Axes>"
            ],
            "image/png": "[encoded data removed]"
          },
          "metadata": {
            "needs_background": "light"
          }
        }
      ]
    },
    {
      "cell_type": "markdown",
      "source": [
        "Что можно сказать исходя из этого графика? Во-первых, медианное значение ежедневной конверсии в группе А, выше, чем в группе B. Во-вторых, разброс конверсии в группе B несколько больше, чем в группе A."
      ],
      "metadata": {
        "id": "aFoKE4urzRtu"
      }
    },
    {
      "cell_type": "markdown",
      "source": [
        "Примечание. Прежде чем делать выводы по визуальному представлению данных, всегда обращайте внимание на численные значения показателей. Они могут различаться в масштабе графика, но на практике разница между ними не будет иметь значения. Также всегда стоит убедиться, что в данных нет выбросов (базовый вариант — сравнить медиану и среднее между собой). Далее мы ещё поговорим о стабилизации показателя во времени."
      ],
      "metadata": {
        "id": "WkBfvnc0zWJV"
      }
    },
    {
      "cell_type": "code",
      "source": [
        "# вычислим среднее и медианное значение для каждой группы\n",
        "conversion_piv = daily_data.groupby('group')['conversion'].agg(\n",
        "    ['mean', 'median']\n",
        ")\n",
        "display(conversion_piv)"
      ],
      "metadata": {
        "colab": {
          "base_uri": "https://localhost:8080/",
          "height": 143
        },
        "id": "k0SePRX6zcrZ",
        "outputId": "f07296e1-3f13-4c17-dc47-bdde6deefe87"
      },
      "execution_count": null,
      "outputs": [
        {
          "output_type": "display_data",
          "data": {
            "text/plain": [
              "            mean     median\n",
              "group                      \n",
              "A      12.032876  12.024261\n",
              "B      11.872697  11.829582"
            ],
            "text/html": [
              "\n",
              "  <div id=\"df-a6a4f1dd-28ad-4a87-83c0-5544a6f46348\">\n",
              "    <div class=\"colab-df-container\">\n",
              "      <div>\n",
              "<style scoped>\n",
              "    .dataframe tbody tr th:only-of-type {\n",
              "        vertical-align: middle;\n",
              "    }\n",
              "\n",
              "    .dataframe tbody tr th {\n",
              "        vertical-align: top;\n",
              "    }\n",
              "\n",
              "    .dataframe thead th {\n",
              "        text-align: right;\n",
              "    }\n",
              "</style>\n",
              "<table border=\"1\" class=\"dataframe\">\n",
              "  <thead>\n",
              "    <tr style=\"text-align: right;\">\n",
              "      <th></th>\n",
              "      <th>mean</th>\n",
              "      <th>median</th>\n",
              "    </tr>\n",
              "    <tr>\n",
              "      <th>group</th>\n",
              "      <th></th>\n",
              "      <th></th>\n",
              "    </tr>\n",
              "  </thead>\n",
              "  <tbody>\n",
              "    <tr>\n",
              "      <th>A</th>\n",
              "      <td>12.032876</td>\n",
              "      <td>12.024261</td>\n",
              "    </tr>\n",
              "    <tr>\n",
              "      <th>B</th>\n",
              "      <td>11.872697</td>\n",
              "      <td>11.829582</td>\n",
              "    </tr>\n",
              "  </tbody>\n",
              "</table>\n",
              "</div>\n",
              "      <button class=\"colab-df-convert\" onclick=\"convertToInteractive('df-a6a4f1dd-28ad-4a87-83c0-5544a6f46348')\"\n",
              "              title=\"Convert this dataframe to an interactive table.\"\n",
              "              style=\"display:none;\">\n",
              "        \n",
              "  <svg xmlns=\"http://www.w3.org/2000/svg\" height=\"24px\"viewBox=\"0 0 24 24\"\n",
              "       width=\"24px\">\n",
              "    <path d=\"M0 0h24v24H0V0z\" fill=\"none\"/>\n",
              "    <path d=\"M18.56 5.44l.94 2.06.94-2.06 2.06-.94-2.06-.94-.94-2.06-.94 2.06-2.06.94zm-11 1L8.5 8.5l.94-2.06 2.06-.94-2.06-.94L8.5 2.5l-.94 2.06-2.06.94zm10 10l.94 2.06.94-2.06 2.06-.94-2.06-.94-.94-2.06-.94 2.06-2.06.94z\"/><path d=\"M17.41 7.96l-1.37-1.37c-.4-.4-.92-.59-1.43-.59-.52 0-1.04.2-1.43.59L10.3 9.45l-7.72 7.72c-.78.78-.78 2.05 0 2.83L4 21.41c.39.39.9.59 1.41.59.51 0 1.02-.2 1.41-.59l7.78-7.78 2.81-2.81c.8-.78.8-2.07 0-2.86zM5.41 20L4 18.59l7.72-7.72 1.47 1.35L5.41 20z\"/>\n",
              "  </svg>\n",
              "      </button>\n",
              "      \n",
              "  <style>\n",
              "    .colab-df-container {\n",
              "      display:flex;\n",
              "      flex-wrap:wrap;\n",
              "      gap: 12px;\n",
              "    }\n",
              "\n",
              "    .colab-df-convert {\n",
              "      background-color: #E8F0FE;\n",
              "      border: none;\n",
              "      border-radius: 50%;\n",
              "      cursor: pointer;\n",
              "      display: none;\n",
              "      fill: #1967D2;\n",
              "      height: 32px;\n",
              "      padding: 0 0 0 0;\n",
              "      width: 32px;\n",
              "    }\n",
              "\n",
              "    .colab-df-convert:hover {\n",
              "      background-color: #E2EBFA;\n",
              "      box-shadow: 0px 1px 2px rgba(60, 64, 67, 0.3), 0px 1px 3px 1px rgba(60, 64, 67, 0.15);\n",
              "      fill: #174EA6;\n",
              "    }\n",
              "\n",
              "    [theme=dark] .colab-df-convert {\n",
              "      background-color: #3B4455;\n",
              "      fill: #D2E3FC;\n",
              "    }\n",
              "\n",
              "    [theme=dark] .colab-df-convert:hover {\n",
              "      background-color: #434B5C;\n",
              "      box-shadow: 0px 1px 3px 1px rgba(0, 0, 0, 0.15);\n",
              "      filter: drop-shadow(0px 1px 2px rgba(0, 0, 0, 0.3));\n",
              "      fill: #FFFFFF;\n",
              "    }\n",
              "  </style>\n",
              "\n",
              "      <script>\n",
              "        const buttonEl =\n",
              "          document.querySelector('#df-a6a4f1dd-28ad-4a87-83c0-5544a6f46348 button.colab-df-convert');\n",
              "        buttonEl.style.display =\n",
              "          google.colab.kernel.accessAllowed ? 'block' : 'none';\n",
              "\n",
              "        async function convertToInteractive(key) {\n",
              "          const element = document.querySelector('#df-a6a4f1dd-28ad-4a87-83c0-5544a6f46348');\n",
              "          const dataTable =\n",
              "            await google.colab.kernel.invokeFunction('convertToInteractive',\n",
              "                                                     [key], {});\n",
              "          if (!dataTable) return;\n",
              "\n",
              "          const docLinkHtml = 'Like what you see? Visit the ' +\n",
              "            '<a target=\"_blank\" href=https://colab.research.google.com/notebooks/data_table.ipynb>data table notebook</a>'\n",
              "            + ' to learn more about interactive tables.';\n",
              "          element.innerHTML = '';\n",
              "          dataTable['output_type'] = 'display_data';\n",
              "          await google.colab.output.renderOutput(dataTable, element);\n",
              "          const docLink = document.createElement('div');\n",
              "          docLink.innerHTML = docLinkHtml;\n",
              "          element.appendChild(docLink);\n",
              "        }\n",
              "      </script>\n",
              "    </div>\n",
              "  </div>\n",
              "  "
            ]
          },
          "metadata": {}
        }
      ]
    },
    {
      "cell_type": "markdown",
      "source": [
        "Из полученной таблицы видно, что медиана и среднее в каждой группе практически совпадают. При этом разница между показателями в группах менее 0.3 %"
      ],
      "metadata": {
        "id": "pnGvwBCOzhB2"
      }
    },
    {
      "cell_type": "markdown",
      "source": [
        "Посмотрим на кумулятивные метрики"
      ],
      "metadata": {
        "id": "BiCMAY4pznkX"
      }
    },
    {
      "cell_type": "code",
      "source": [
        "# вычисляем кумулятивную сумму количества посетителей\n",
        "daily_data['cum_users_count'] = daily_data.groupby(['group'])['users_count'].cumsum()\n",
        "# вычисляем кумулятивную сумму количества совершённых целевых действий\n",
        "daily_data['cum_converted'] = daily_data.groupby(['group'])['converted'].cumsum()\n",
        "# вычисляем кумулятивную конверсию\n",
        "daily_data['cum_conversion'] = daily_data['cum_converted']/daily_data['cum_users_count'] * 100\n",
        "display(daily_data.head())"
      ],
      "metadata": {
        "colab": {
          "base_uri": "https://localhost:8080/",
          "height": 270
        },
        "id": "q8-WfLp3zlu6",
        "outputId": "8d775b99-40de-4459-92e2-772ea73e4043"
      },
      "execution_count": null,
      "outputs": [
        {
          "output_type": "display_data",
          "data": {
            "text/plain": [
              "   timestamp group  users_count  converted  conversion  cum_users_count  \\\n",
              "0 2017-01-02     A         2851        357   12.521922             2851   \n",
              "1 2017-01-02     B         2848        339   11.903090             2848   \n",
              "2 2017-01-03     A         6584        749   11.376063             9435   \n",
              "3 2017-01-03     B         6620        754   11.389728             9468   \n",
              "4 2017-01-04     A         6573        797   12.125361            16008   \n",
              "\n",
              "   cum_converted  cum_conversion  \n",
              "0            357       12.521922  \n",
              "1            339       11.903090  \n",
              "2           1106       11.722311  \n",
              "3           1093       11.544149  \n",
              "4           1903       11.887806  "
            ],
            "text/html": [
              "\n",
              "  <div id=\"df-3c7edb67-80ae-45f7-8d60-8f3c051fcce9\">\n",
              "    <div class=\"colab-df-container\">\n",
              "      <div>\n",
              "<style scoped>\n",
              "    .dataframe tbody tr th:only-of-type {\n",
              "        vertical-align: middle;\n",
              "    }\n",
              "\n",
              "    .dataframe tbody tr th {\n",
              "        vertical-align: top;\n",
              "    }\n",
              "\n",
              "    .dataframe thead th {\n",
              "        text-align: right;\n",
              "    }\n",
              "</style>\n",
              "<table border=\"1\" class=\"dataframe\">\n",
              "  <thead>\n",
              "    <tr style=\"text-align: right;\">\n",
              "      <th></th>\n",
              "      <th>timestamp</th>\n",
              "      <th>group</th>\n",
              "      <th>users_count</th>\n",
              "      <th>converted</th>\n",
              "      <th>conversion</th>\n",
              "      <th>cum_users_count</th>\n",
              "      <th>cum_converted</th>\n",
              "      <th>cum_conversion</th>\n",
              "    </tr>\n",
              "  </thead>\n",
              "  <tbody>\n",
              "    <tr>\n",
              "      <th>0</th>\n",
              "      <td>2017-01-02</td>\n",
              "      <td>A</td>\n",
              "      <td>2851</td>\n",
              "      <td>357</td>\n",
              "      <td>12.521922</td>\n",
              "      <td>2851</td>\n",
              "      <td>357</td>\n",
              "      <td>12.521922</td>\n",
              "    </tr>\n",
              "    <tr>\n",
              "      <th>1</th>\n",
              "      <td>2017-01-02</td>\n",
              "      <td>B</td>\n",
              "      <td>2848</td>\n",
              "      <td>339</td>\n",
              "      <td>11.903090</td>\n",
              "      <td>2848</td>\n",
              "      <td>339</td>\n",
              "      <td>11.903090</td>\n",
              "    </tr>\n",
              "    <tr>\n",
              "      <th>2</th>\n",
              "      <td>2017-01-03</td>\n",
              "      <td>A</td>\n",
              "      <td>6584</td>\n",
              "      <td>749</td>\n",
              "      <td>11.376063</td>\n",
              "      <td>9435</td>\n",
              "      <td>1106</td>\n",
              "      <td>11.722311</td>\n",
              "    </tr>\n",
              "    <tr>\n",
              "      <th>3</th>\n",
              "      <td>2017-01-03</td>\n",
              "      <td>B</td>\n",
              "      <td>6620</td>\n",
              "      <td>754</td>\n",
              "      <td>11.389728</td>\n",
              "      <td>9468</td>\n",
              "      <td>1093</td>\n",
              "      <td>11.544149</td>\n",
              "    </tr>\n",
              "    <tr>\n",
              "      <th>4</th>\n",
              "      <td>2017-01-04</td>\n",
              "      <td>A</td>\n",
              "      <td>6573</td>\n",
              "      <td>797</td>\n",
              "      <td>12.125361</td>\n",
              "      <td>16008</td>\n",
              "      <td>1903</td>\n",
              "      <td>11.887806</td>\n",
              "    </tr>\n",
              "  </tbody>\n",
              "</table>\n",
              "</div>\n",
              "      <button class=\"colab-df-convert\" onclick=\"convertToInteractive('df-3c7edb67-80ae-45f7-8d60-8f3c051fcce9')\"\n",
              "              title=\"Convert this dataframe to an interactive table.\"\n",
              "              style=\"display:none;\">\n",
              "        \n",
              "  <svg xmlns=\"http://www.w3.org/2000/svg\" height=\"24px\"viewBox=\"0 0 24 24\"\n",
              "       width=\"24px\">\n",
              "    <path d=\"M0 0h24v24H0V0z\" fill=\"none\"/>\n",
              "    <path d=\"M18.56 5.44l.94 2.06.94-2.06 2.06-.94-2.06-.94-.94-2.06-.94 2.06-2.06.94zm-11 1L8.5 8.5l.94-2.06 2.06-.94-2.06-.94L8.5 2.5l-.94 2.06-2.06.94zm10 10l.94 2.06.94-2.06 2.06-.94-2.06-.94-.94-2.06-.94 2.06-2.06.94z\"/><path d=\"M17.41 7.96l-1.37-1.37c-.4-.4-.92-.59-1.43-.59-.52 0-1.04.2-1.43.59L10.3 9.45l-7.72 7.72c-.78.78-.78 2.05 0 2.83L4 21.41c.39.39.9.59 1.41.59.51 0 1.02-.2 1.41-.59l7.78-7.78 2.81-2.81c.8-.78.8-2.07 0-2.86zM5.41 20L4 18.59l7.72-7.72 1.47 1.35L5.41 20z\"/>\n",
              "  </svg>\n",
              "      </button>\n",
              "      \n",
              "  <style>\n",
              "    .colab-df-container {\n",
              "      display:flex;\n",
              "      flex-wrap:wrap;\n",
              "      gap: 12px;\n",
              "    }\n",
              "\n",
              "    .colab-df-convert {\n",
              "      background-color: #E8F0FE;\n",
              "      border: none;\n",
              "      border-radius: 50%;\n",
              "      cursor: pointer;\n",
              "      display: none;\n",
              "      fill: #1967D2;\n",
              "      height: 32px;\n",
              "      padding: 0 0 0 0;\n",
              "      width: 32px;\n",
              "    }\n",
              "\n",
              "    .colab-df-convert:hover {\n",
              "      background-color: #E2EBFA;\n",
              "      box-shadow: 0px 1px 2px rgba(60, 64, 67, 0.3), 0px 1px 3px 1px rgba(60, 64, 67, 0.15);\n",
              "      fill: #174EA6;\n",
              "    }\n",
              "\n",
              "    [theme=dark] .colab-df-convert {\n",
              "      background-color: #3B4455;\n",
              "      fill: #D2E3FC;\n",
              "    }\n",
              "\n",
              "    [theme=dark] .colab-df-convert:hover {\n",
              "      background-color: #434B5C;\n",
              "      box-shadow: 0px 1px 3px 1px rgba(0, 0, 0, 0.15);\n",
              "      filter: drop-shadow(0px 1px 2px rgba(0, 0, 0, 0.3));\n",
              "      fill: #FFFFFF;\n",
              "    }\n",
              "  </style>\n",
              "\n",
              "      <script>\n",
              "        const buttonEl =\n",
              "          document.querySelector('#df-3c7edb67-80ae-45f7-8d60-8f3c051fcce9 button.colab-df-convert');\n",
              "        buttonEl.style.display =\n",
              "          google.colab.kernel.accessAllowed ? 'block' : 'none';\n",
              "\n",
              "        async function convertToInteractive(key) {\n",
              "          const element = document.querySelector('#df-3c7edb67-80ae-45f7-8d60-8f3c051fcce9');\n",
              "          const dataTable =\n",
              "            await google.colab.kernel.invokeFunction('convertToInteractive',\n",
              "                                                     [key], {});\n",
              "          if (!dataTable) return;\n",
              "\n",
              "          const docLinkHtml = 'Like what you see? Visit the ' +\n",
              "            '<a target=\"_blank\" href=https://colab.research.google.com/notebooks/data_table.ipynb>data table notebook</a>'\n",
              "            + ' to learn more about interactive tables.';\n",
              "          element.innerHTML = '';\n",
              "          dataTable['output_type'] = 'display_data';\n",
              "          await google.colab.output.renderOutput(dataTable, element);\n",
              "          const docLink = document.createElement('div');\n",
              "          docLink.innerHTML = docLinkHtml;\n",
              "          element.appendChild(docLink);\n",
              "        }\n",
              "      </script>\n",
              "    </div>\n",
              "  </div>\n",
              "  "
            ]
          },
          "metadata": {}
        }
      ]
    },
    {
      "cell_type": "markdown",
      "source": [
        "А теперь построим графики кумулятивной конверсии по дням в каждой группе:"
      ],
      "metadata": {
        "id": "8iwYBlxtz-hD"
      }
    },
    {
      "cell_type": "code",
      "source": [
        "# создаём фигуру размером 8x4\n",
        "fig = plt.figure(figsize=(8, 4))\n",
        "# добавляем систему координат\n",
        "ax = fig.add_axes([1, 1, 1, 1])\n",
        "# строим lineplot для кумулятивной конверсии во времени в каждой группе\n",
        "sns.lineplot(x='timestamp', y='cum_conversion', data=daily_data, hue='group', ax=ax)\n",
        "# задаём подпись к графику\n",
        "ax.set_title('График кумулятивной конверсии по дням')\n",
        "# задаём поворот меток на оси абсцисс\n",
        "ax.xaxis.set_tick_params(rotation = 45)\n",
        "# задаём отображение сетки\n",
        "ax.grid(True)"
      ],
      "metadata": {
        "colab": {
          "base_uri": "https://localhost:8080/",
          "height": 404
        },
        "id": "w7sz2xLnz_b2",
        "outputId": "fa576bb7-0ffd-4450-cf9c-7e2946c838e5"
      },
      "execution_count": null,
      "outputs": [
        {
          "output_type": "display_data",
          "data": {
            "text/plain": [
              "<Figure size 576x288 with 1 Axes>"
            ],
            "image/png": "[encoded data removed]"
          },
          "metadata": {
            "needs_background": "light"
          }
        }
      ]
    },
    {
      "cell_type": "markdown",
      "source": [
        "До 2017-01-09 конверсия была нестабильна, но после 2017-11-01 резкие скачки прекратились (кривая графика переходит в прямую). Судя по графику, конверсия группы B стабильно хуже конверсии группы А на всём промежутке времени. На основании стабилизированного кумулятивного графика мы можем сделать вывод, что длительность эксперимента была достаточной для того, чтобы судить о статистической значимости разности между показателем конверсии в группах."
      ],
      "metadata": {
        "id": "ldQ6vM9F0HUv"
      }
    },
    {
      "cell_type": "markdown",
      "source": [
        "## Задание 4.6\n",
        "\n",
        "Проводится A/B-тестирование для двух вариантов дизайна сайта. Результаты тестирования собраны в двух файлах (данные для группы А и для группы B). Каждая таблица имеет следующие поля: date — дата наблюдения; cid — идентификатор посетителя; transactions — количество совершённых целевых действий (транзакций); revenue — сумма покупки; group — группа (тестовая — А, контрольная — B). Постройте таблицу со следующими ежедневными показателями: количество посетителей сайта; суммарное число транзакций; общая сумма покупок (выручка). Для этого сгруппируйте данные по признаку date, предварительно преобразовав его к типу datetime. Чему равны значения ежедневных показателей в группе А на 8 ноября 2020 года? Количество посетителей сайта"
      ],
      "metadata": {
        "id": "yw_0MUfr0JQL"
      }
    },
    {
      "cell_type": "code",
      "source": [
        "a = pd.read_csv('/ab_test-redesign_sample_a.csv')\n",
        "b = pd.read_csv('/ab_test-redesign_sample_b.csv')\n",
        "\n",
        "a['date'] = pd.to_datetime(a['date'])\n",
        "b['date'] = pd.to_datetime(b['date'])\n",
        "\n",
        "a = a.groupby(['date']).agg({ # группировка по дате\n",
        "    'cid':'count', # метод agg() - д/группировки с агрегациями, в него передаем словарь, \n",
        "    'transactions':'sum', # где ключ - имя столбца - название агрегатной функции\n",
        "    'revenue':'sum'\n",
        "}).reset_index() # сброс индексов\n",
        "\n",
        "b = b.groupby(['date']).agg({\n",
        "    'cid':'count',\n",
        "    'transactions':'sum',\n",
        "    'revenue':'sum'\n",
        "}).reset_index()\n",
        "\n",
        "a[a['date'] == '2020-11-08']"
      ],
      "metadata": {
        "colab": {
          "base_uri": "https://localhost:8080/",
          "height": 81
        },
        "id": "p82ayMSD0Ijq",
        "outputId": "b37eb17c-e598-4e70-e1b3-1e25a160b35b"
      },
      "execution_count": null,
      "outputs": [
        {
          "output_type": "execute_result",
          "data": {
            "text/plain": [
              "        date   cid  transactions  revenue\n",
              "2 2020-11-08  3354            25   846051"
            ],
            "text/html": [
              "\n",
              "  <div id=\"df-b07e7781-f670-4d02-a3df-12ca61408a5a\">\n",
              "    <div class=\"colab-df-container\">\n",
              "      <div>\n",
              "<style scoped>\n",
              "    .dataframe tbody tr th:only-of-type {\n",
              "        vertical-align: middle;\n",
              "    }\n",
              "\n",
              "    .dataframe tbody tr th {\n",
              "        vertical-align: top;\n",
              "    }\n",
              "\n",
              "    .dataframe thead th {\n",
              "        text-align: right;\n",
              "    }\n",
              "</style>\n",
              "<table border=\"1\" class=\"dataframe\">\n",
              "  <thead>\n",
              "    <tr style=\"text-align: right;\">\n",
              "      <th></th>\n",
              "      <th>date</th>\n",
              "      <th>cid</th>\n",
              "      <th>transactions</th>\n",
              "      <th>revenue</th>\n",
              "    </tr>\n",
              "  </thead>\n",
              "  <tbody>\n",
              "    <tr>\n",
              "      <th>2</th>\n",
              "      <td>2020-11-08</td>\n",
              "      <td>3354</td>\n",
              "      <td>25</td>\n",
              "      <td>846051</td>\n",
              "    </tr>\n",
              "  </tbody>\n",
              "</table>\n",
              "</div>\n",
              "      <button class=\"colab-df-convert\" onclick=\"convertToInteractive('df-b07e7781-f670-4d02-a3df-12ca61408a5a')\"\n",
              "              title=\"Convert this dataframe to an interactive table.\"\n",
              "              style=\"display:none;\">\n",
              "        \n",
              "  <svg xmlns=\"http://www.w3.org/2000/svg\" height=\"24px\"viewBox=\"0 0 24 24\"\n",
              "       width=\"24px\">\n",
              "    <path d=\"M0 0h24v24H0V0z\" fill=\"none\"/>\n",
              "    <path d=\"M18.56 5.44l.94 2.06.94-2.06 2.06-.94-2.06-.94-.94-2.06-.94 2.06-2.06.94zm-11 1L8.5 8.5l.94-2.06 2.06-.94-2.06-.94L8.5 2.5l-.94 2.06-2.06.94zm10 10l.94 2.06.94-2.06 2.06-.94-2.06-.94-.94-2.06-.94 2.06-2.06.94z\"/><path d=\"M17.41 7.96l-1.37-1.37c-.4-.4-.92-.59-1.43-.59-.52 0-1.04.2-1.43.59L10.3 9.45l-7.72 7.72c-.78.78-.78 2.05 0 2.83L4 21.41c.39.39.9.59 1.41.59.51 0 1.02-.2 1.41-.59l7.78-7.78 2.81-2.81c.8-.78.8-2.07 0-2.86zM5.41 20L4 18.59l7.72-7.72 1.47 1.35L5.41 20z\"/>\n",
              "  </svg>\n",
              "      </button>\n",
              "      \n",
              "  <style>\n",
              "    .colab-df-container {\n",
              "      display:flex;\n",
              "      flex-wrap:wrap;\n",
              "      gap: 12px;\n",
              "    }\n",
              "\n",
              "    .colab-df-convert {\n",
              "      background-color: #E8F0FE;\n",
              "      border: none;\n",
              "      border-radius: 50%;\n",
              "      cursor: pointer;\n",
              "      display: none;\n",
              "      fill: #1967D2;\n",
              "      height: 32px;\n",
              "      padding: 0 0 0 0;\n",
              "      width: 32px;\n",
              "    }\n",
              "\n",
              "    .colab-df-convert:hover {\n",
              "      background-color: #E2EBFA;\n",
              "      box-shadow: 0px 1px 2px rgba(60, 64, 67, 0.3), 0px 1px 3px 1px rgba(60, 64, 67, 0.15);\n",
              "      fill: #174EA6;\n",
              "    }\n",
              "\n",
              "    [theme=dark] .colab-df-convert {\n",
              "      background-color: #3B4455;\n",
              "      fill: #D2E3FC;\n",
              "    }\n",
              "\n",
              "    [theme=dark] .colab-df-convert:hover {\n",
              "      background-color: #434B5C;\n",
              "      box-shadow: 0px 1px 3px 1px rgba(0, 0, 0, 0.15);\n",
              "      filter: drop-shadow(0px 1px 2px rgba(0, 0, 0, 0.3));\n",
              "      fill: #FFFFFF;\n",
              "    }\n",
              "  </style>\n",
              "\n",
              "      <script>\n",
              "        const buttonEl =\n",
              "          document.querySelector('#df-b07e7781-f670-4d02-a3df-12ca61408a5a button.colab-df-convert');\n",
              "        buttonEl.style.display =\n",
              "          google.colab.kernel.accessAllowed ? 'block' : 'none';\n",
              "\n",
              "        async function convertToInteractive(key) {\n",
              "          const element = document.querySelector('#df-b07e7781-f670-4d02-a3df-12ca61408a5a');\n",
              "          const dataTable =\n",
              "            await google.colab.kernel.invokeFunction('convertToInteractive',\n",
              "                                                     [key], {});\n",
              "          if (!dataTable) return;\n",
              "\n",
              "          const docLinkHtml = 'Like what you see? Visit the ' +\n",
              "            '<a target=\"_blank\" href=https://colab.research.google.com/notebooks/data_table.ipynb>data table notebook</a>'\n",
              "            + ' to learn more about interactive tables.';\n",
              "          element.innerHTML = '';\n",
              "          dataTable['output_type'] = 'display_data';\n",
              "          await google.colab.output.renderOutput(dataTable, element);\n",
              "          const docLink = document.createElement('div');\n",
              "          docLink.innerHTML = docLinkHtml;\n",
              "          element.appendChild(docLink);\n",
              "        }\n",
              "      </script>\n",
              "    </div>\n",
              "  </div>\n",
              "  "
            ]
          },
          "metadata": {},
          "execution_count": 28
        }
      ]
    },
    {
      "cell_type": "markdown",
      "source": [
        "## Задание 4.7\n",
        "\n",
        "Добавьте в каждую из таблиц кумулятивные метрики: кумулятивное количество посетителей сайта; кумулятивное суммарное число транзакций; кумулятивная общая сумма покупок (кумулятивная выручка).\n",
        "\n",
        "Рассчитайте кумулятивную конверсию действия покупки (в процентах) и кумулятивный средний чек (кумулятивная выручка/кумулятивное суммарное число транзакций).\n",
        "\n",
        "Чему равна средняя кумулятивная конверсия в группах за весь период проведения A/B-теста? Ответ округлите до сотых, знаки процентов не вводите."
      ],
      "metadata": {
        "id": "6wMLTkZx085R"
      }
    },
    {
      "cell_type": "code",
      "source": [
        "# Для группы А\n",
        "# кумулятивное количество посетителей:\n",
        "a['cum_cid'] = a['cid'].cumsum() \n",
        "# кумулятивное число транзакций:\n",
        "a['cum_transactions'] = a['transactions'].cumsum()\n",
        "# кумулятивная выручка:\n",
        "a['cum_revenue'] = a['revenue'].cumsum()\n",
        "# кумулятивная конверсия действия покупки (в %):\n",
        "a['cum_buy'] = a['cum_transactions'] / a['cum_cid'] * 100\n",
        "# кумулятивный средний чек:\n",
        "a['cum_avg_check'] = a['cum_revenue'] / a['cum_transactions']\n",
        "# кумулятивная конверсия:\n",
        "a['cum_conversion'] = a['cum_transactions']/a['cum_cid']*100\n",
        "\n",
        "print('Средняя кумулятивная конверсия в группе А:', round(a['cum_conversion'].mean(), 2))\n",
        "\n",
        "# Для группы В\n",
        "# кумулятивное количество посетителей:\n",
        "b['cum_cid'] = b['cid'].cumsum()\n",
        "# кумулятивное число транзакций:\n",
        "b['cum_transactions'] = b['transactions'].cumsum()\n",
        "# кумулятивная выручка:\n",
        "b['cum_revenue'] = b['revenue'].cumsum()\n",
        "\n",
        "# кумулятивная конверсия действия покупки (в %):\n",
        "b['cum_buy'] = b['cum_transactions'] / b['cum_cid'] * 100\n",
        "# кумулятивный средний чек:\n",
        "b['cum_avg_check'] = b['cum_revenue'] / b['cum_transactions']\n",
        "# кумулятивная конверсия:\n",
        "b['cum_conversion'] = b['cum_transactions']/ b['cum_cid']*100\n",
        "\n",
        "print('Средняя кумулятивная конверсия в группе B:', round(b['cum_conversion'].mean(), 2))"
      ],
      "metadata": {
        "colab": {
          "base_uri": "https://localhost:8080/"
        },
        "id": "IwFuerV535at",
        "outputId": "4a6be5bb-b60b-4fae-ef65-4f0731eaad24"
      },
      "execution_count": null,
      "outputs": [
        {
          "output_type": "stream",
          "name": "stdout",
          "text": [
            "Средняя кумулятивная конверсия в группе А: 0.71\n",
            "Средняя кумулятивная конверсия в группе B: 0.76\n"
          ]
        }
      ]
    },
    {
      "cell_type": "markdown",
      "source": [
        "## Задание 4.8\n",
        "Постройте графики кумулятивной конверсии в каждой группе. Какие выводы по ним вы можете сделать?\n",
        "1. Конверсия в группе B стабильно выше конверсии в группе A на всём промежутке времени.\n",
        "2. С уверенностью можно сказать, что, если продолжить тест, конверсия в группе A будет выше конверсии в группе B.\n",
        "3. Начиная с 9 ноября 2020 года конверсии в группах имеют приблизительно идентичное поведение (одинаковые точки роста и спада). При этом конверсия в группе B стабильно выше конверсии в группе A на данном периоде.\n",
        "4. Никаких выводов сделать нельзя."
      ],
      "metadata": {
        "id": "TQaHyeGl972P"
      }
    },
    {
      "cell_type": "code",
      "source": [
        "fig = plt.figure(figsize=(10, 4)) # фигура\n",
        "ax = fig.add_axes([1, 1, 1, 1]) # система координат\n",
        "sns.lineplot(x='date', y='cum_conversion', data=a, color='red')\n",
        "sns.lineplot(x='date', y='cum_conversion', data=b, color='green')\n",
        "ax.grid(True)"
      ],
      "metadata": {
        "colab": {
          "base_uri": "https://localhost:8080/",
          "height": 350
        },
        "id": "6lBat7oc-F3E",
        "outputId": "2d2c9dd6-dc6c-42f3-935c-327ebddd2188"
      },
      "execution_count": null,
      "outputs": [
        {
          "output_type": "display_data",
          "data": {
            "text/plain": [
              "<Figure size 720x288 with 1 Axes>"
            ],
            "image/png": "[encoded data removed]"
          },
          "metadata": {
            "needs_background": "light"
          }
        }
      ]
    },
    {
      "cell_type": "markdown",
      "source": [
        "## Задание 4.9\n",
        "Постройте графики кумулятивного среднего чека в каждой группе. Какие выводы по ним вы можете сделать?\n",
        "1. Средний чек в группе B стабильно выше среднего чека в группе A на всём промежутке времени.\n",
        "2. В начале периода наблюдения средний чек в группе B был меньше, чем средний чек в группе A. Однако при стабилизации метрик наблюдается обратный результат.\n",
        "3. В начале периода наблюдения средний чек в группе A был меньше, чем средний чек в группе B. Однако при стабилизации метрик наблюдается обратный результат.\n",
        "4. Никаких выводов сделать нельзя."
      ],
      "metadata": {
        "id": "tlQgKfvYAhyq"
      }
    },
    {
      "cell_type": "code",
      "source": [
        "fig = plt.figure(figsize=(10, 4)) # фигура\n",
        "ax = fig.add_axes([1, 1, 1, 1]) # система координат\n",
        "sns.lineplot(x='date', y='cum_avg_check', data=a, color='red')\n",
        "sns.lineplot(x='date', y='cum_avg_check', data=b, color='green')\n",
        "ax.grid(True)"
      ],
      "metadata": {
        "colab": {
          "base_uri": "https://localhost:8080/",
          "height": 350
        },
        "id": "I3yoVzf6Ax7t",
        "outputId": "b8358b9c-2262-4737-df41-15cc4a32da57"
      },
      "execution_count": null,
      "outputs": [
        {
          "output_type": "display_data",
          "data": {
            "text/plain": [
              "<Figure size 720x288 with 1 Axes>"
            ],
            "image/png": "[encoded data removed]"
          },
          "metadata": {
            "needs_background": "light"
          }
        }
      ]
    },
    {
      "cell_type": "markdown",
      "source": [
        "-----"
      ],
      "metadata": {
        "id": "ED-xMx0rBSlH"
      }
    },
    {
      "cell_type": "markdown",
      "source": [
        "# Анализ результатов А/В-тестирования: \n",
        "# Статистические тесты "
      ],
      "metadata": {
        "id": "MtChu8MiBTyp"
      }
    },
    {
      "cell_type": "markdown",
      "source": [
        "## Для конверсии"
      ],
      "metadata": {
        "id": "qForPGFyBd4D"
      }
    },
    {
      "cell_type": "code",
      "source": [
        "from statsmodels.stats.proportion import proportions_ztest # импорт функции"
      ],
      "metadata": {
        "id": "BNDfpJQdBh5c"
      },
      "execution_count": null,
      "outputs": []
    },
    {
      "cell_type": "code",
      "source": [
        "# вычислим количество успехов и общее количество наблюдений для передачи в функцию\n",
        "converted = ab_data.groupby('group')['converted'].agg( \n",
        "    ['sum', 'count']\n",
        ")\n",
        "display(converted)"
      ],
      "metadata": {
        "colab": {
          "base_uri": "https://localhost:8080/",
          "height": 143
        },
        "id": "OhLLLEknEfV3",
        "outputId": "e18a9e16-3e0d-4f58-c692-ffc6b8e17d80"
      },
      "execution_count": null,
      "outputs": [
        {
          "output_type": "display_data",
          "data": {
            "text/plain": [
              "         sum   count\n",
              "group               \n",
              "A      17467  145241\n",
              "B      17238  145241"
            ],
            "text/html": [
              "\n",
              "  <div id=\"df-1a7ff8fc-d494-4819-9fa3-7314145dfa6d\">\n",
              "    <div class=\"colab-df-container\">\n",
              "      <div>\n",
              "<style scoped>\n",
              "    .dataframe tbody tr th:only-of-type {\n",
              "        vertical-align: middle;\n",
              "    }\n",
              "\n",
              "    .dataframe tbody tr th {\n",
              "        vertical-align: top;\n",
              "    }\n",
              "\n",
              "    .dataframe thead th {\n",
              "        text-align: right;\n",
              "    }\n",
              "</style>\n",
              "<table border=\"1\" class=\"dataframe\">\n",
              "  <thead>\n",
              "    <tr style=\"text-align: right;\">\n",
              "      <th></th>\n",
              "      <th>sum</th>\n",
              "      <th>count</th>\n",
              "    </tr>\n",
              "    <tr>\n",
              "      <th>group</th>\n",
              "      <th></th>\n",
              "      <th></th>\n",
              "    </tr>\n",
              "  </thead>\n",
              "  <tbody>\n",
              "    <tr>\n",
              "      <th>A</th>\n",
              "      <td>17467</td>\n",
              "      <td>145241</td>\n",
              "    </tr>\n",
              "    <tr>\n",
              "      <th>B</th>\n",
              "      <td>17238</td>\n",
              "      <td>145241</td>\n",
              "    </tr>\n",
              "  </tbody>\n",
              "</table>\n",
              "</div>\n",
              "      <button class=\"colab-df-convert\" onclick=\"convertToInteractive('df-1a7ff8fc-d494-4819-9fa3-7314145dfa6d')\"\n",
              "              title=\"Convert this dataframe to an interactive table.\"\n",
              "              style=\"display:none;\">\n",
              "        \n",
              "  <svg xmlns=\"http://www.w3.org/2000/svg\" height=\"24px\"viewBox=\"0 0 24 24\"\n",
              "       width=\"24px\">\n",
              "    <path d=\"M0 0h24v24H0V0z\" fill=\"none\"/>\n",
              "    <path d=\"M18.56 5.44l.94 2.06.94-2.06 2.06-.94-2.06-.94-.94-2.06-.94 2.06-2.06.94zm-11 1L8.5 8.5l.94-2.06 2.06-.94-2.06-.94L8.5 2.5l-.94 2.06-2.06.94zm10 10l.94 2.06.94-2.06 2.06-.94-2.06-.94-.94-2.06-.94 2.06-2.06.94z\"/><path d=\"M17.41 7.96l-1.37-1.37c-.4-.4-.92-.59-1.43-.59-.52 0-1.04.2-1.43.59L10.3 9.45l-7.72 7.72c-.78.78-.78 2.05 0 2.83L4 21.41c.39.39.9.59 1.41.59.51 0 1.02-.2 1.41-.59l7.78-7.78 2.81-2.81c.8-.78.8-2.07 0-2.86zM5.41 20L4 18.59l7.72-7.72 1.47 1.35L5.41 20z\"/>\n",
              "  </svg>\n",
              "      </button>\n",
              "      \n",
              "  <style>\n",
              "    .colab-df-container {\n",
              "      display:flex;\n",
              "      flex-wrap:wrap;\n",
              "      gap: 12px;\n",
              "    }\n",
              "\n",
              "    .colab-df-convert {\n",
              "      background-color: #E8F0FE;\n",
              "      border: none;\n",
              "      border-radius: 50%;\n",
              "      cursor: pointer;\n",
              "      display: none;\n",
              "      fill: #1967D2;\n",
              "      height: 32px;\n",
              "      padding: 0 0 0 0;\n",
              "      width: 32px;\n",
              "    }\n",
              "\n",
              "    .colab-df-convert:hover {\n",
              "      background-color: #E2EBFA;\n",
              "      box-shadow: 0px 1px 2px rgba(60, 64, 67, 0.3), 0px 1px 3px 1px rgba(60, 64, 67, 0.15);\n",
              "      fill: #174EA6;\n",
              "    }\n",
              "\n",
              "    [theme=dark] .colab-df-convert {\n",
              "      background-color: #3B4455;\n",
              "      fill: #D2E3FC;\n",
              "    }\n",
              "\n",
              "    [theme=dark] .colab-df-convert:hover {\n",
              "      background-color: #434B5C;\n",
              "      box-shadow: 0px 1px 3px 1px rgba(0, 0, 0, 0.15);\n",
              "      filter: drop-shadow(0px 1px 2px rgba(0, 0, 0, 0.3));\n",
              "      fill: #FFFFFF;\n",
              "    }\n",
              "  </style>\n",
              "\n",
              "      <script>\n",
              "        const buttonEl =\n",
              "          document.querySelector('#df-1a7ff8fc-d494-4819-9fa3-7314145dfa6d button.colab-df-convert');\n",
              "        buttonEl.style.display =\n",
              "          google.colab.kernel.accessAllowed ? 'block' : 'none';\n",
              "\n",
              "        async function convertToInteractive(key) {\n",
              "          const element = document.querySelector('#df-1a7ff8fc-d494-4819-9fa3-7314145dfa6d');\n",
              "          const dataTable =\n",
              "            await google.colab.kernel.invokeFunction('convertToInteractive',\n",
              "                                                     [key], {});\n",
              "          if (!dataTable) return;\n",
              "\n",
              "          const docLinkHtml = 'Like what you see? Visit the ' +\n",
              "            '<a target=\"_blank\" href=https://colab.research.google.com/notebooks/data_table.ipynb>data table notebook</a>'\n",
              "            + ' to learn more about interactive tables.';\n",
              "          element.innerHTML = '';\n",
              "          dataTable['output_type'] = 'display_data';\n",
              "          await google.colab.output.renderOutput(dataTable, element);\n",
              "          const docLink = document.createElement('div');\n",
              "          docLink.innerHTML = docLinkHtml;\n",
              "          element.appendChild(docLink);\n",
              "        }\n",
              "      </script>\n",
              "    </div>\n",
              "  </div>\n",
              "  "
            ]
          },
          "metadata": {}
        }
      ]
    },
    {
      "cell_type": "code",
      "source": [
        "# нулевая и альтернативная гипотезы\n",
        "H0 = 'Конверсии в группах А и B равны'\n",
        "H1 = 'Конверсия в группе А выше, чем конверсия в группе B'\n",
        "alpha = 0.05 # уровень значимости\n",
        "# вычисляем значение p-value для z-теста для пропорций\n",
        "_, p_value = proportions_ztest(\n",
        "    count=converted['sum'], #число \"успехов\"\n",
        "    nobs=converted['count'], #общее число наблюдений\n",
        "    alternative='larger',\n",
        ")\n",
        "# выводим результат на экран\n",
        "print('p-value: ', round(p_value, 2))\n",
        "# сравниваем полученное p-value с уровнем значимости\n",
        "if (p_value < alpha): \n",
        "    print(\"Отвергаем нулевую гипотезу. {}\".format(H0))\n",
        "    print(\"Альтернативная гипотеза. H1: {}\".format(H1))\n",
        "else:\n",
        "    print(\"Принимаем нулевую гипотезу. {}\".format(H0))"
      ],
      "metadata": {
        "colab": {
          "base_uri": "https://localhost:8080/"
        },
        "id": "T8sO8yDwGnnV",
        "outputId": "784b0bd9-9530-478c-f1f5-dfa5d586e148"
      },
      "execution_count": null,
      "outputs": [
        {
          "output_type": "stream",
          "name": "stdout",
          "text": [
            "p-value:  0.1\n",
            "Принимаем нулевую гипотезу. Конверсии в группах А и B равны\n"
          ]
        }
      ]
    },
    {
      "cell_type": "markdown",
      "source": [
        "## Статистические тесты для других метрик"
      ],
      "metadata": {
        "id": "37hqfZjCIcHJ"
      }
    },
    {
      "cell_type": "code",
      "source": [
        "data = pd.read_excel('/time_data.xlsx')\n",
        "data.head()"
      ],
      "metadata": {
        "colab": {
          "base_uri": "https://localhost:8080/",
          "height": 206
        },
        "id": "uqN9huAAIh2y",
        "outputId": "1c452fc1-e3b4-4951-ebaa-64270c97d24a"
      },
      "execution_count": null,
      "outputs": [
        {
          "output_type": "execute_result",
          "data": {
            "text/plain": [
              "   time(A)  time(B)\n",
              "0    435.0    549.2\n",
              "1    454.5    630.2\n",
              "2    447.0    437.2\n",
              "3    480.0    637.2\n",
              "4    561.0    712.4"
            ],
            "text/html": [
              "\n",
              "  <div id=\"df-6160b97c-6489-423b-bdc1-2802964b0e7f\">\n",
              "    <div class=\"colab-df-container\">\n",
              "      <div>\n",
              "<style scoped>\n",
              "    .dataframe tbody tr th:only-of-type {\n",
              "        vertical-align: middle;\n",
              "    }\n",
              "\n",
              "    .dataframe tbody tr th {\n",
              "        vertical-align: top;\n",
              "    }\n",
              "\n",
              "    .dataframe thead th {\n",
              "        text-align: right;\n",
              "    }\n",
              "</style>\n",
              "<table border=\"1\" class=\"dataframe\">\n",
              "  <thead>\n",
              "    <tr style=\"text-align: right;\">\n",
              "      <th></th>\n",
              "      <th>time(A)</th>\n",
              "      <th>time(B)</th>\n",
              "    </tr>\n",
              "  </thead>\n",
              "  <tbody>\n",
              "    <tr>\n",
              "      <th>0</th>\n",
              "      <td>435.0</td>\n",
              "      <td>549.2</td>\n",
              "    </tr>\n",
              "    <tr>\n",
              "      <th>1</th>\n",
              "      <td>454.5</td>\n",
              "      <td>630.2</td>\n",
              "    </tr>\n",
              "    <tr>\n",
              "      <th>2</th>\n",
              "      <td>447.0</td>\n",
              "      <td>437.2</td>\n",
              "    </tr>\n",
              "    <tr>\n",
              "      <th>3</th>\n",
              "      <td>480.0</td>\n",
              "      <td>637.2</td>\n",
              "    </tr>\n",
              "    <tr>\n",
              "      <th>4</th>\n",
              "      <td>561.0</td>\n",
              "      <td>712.4</td>\n",
              "    </tr>\n",
              "  </tbody>\n",
              "</table>\n",
              "</div>\n",
              "      <button class=\"colab-df-convert\" onclick=\"convertToInteractive('df-6160b97c-6489-423b-bdc1-2802964b0e7f')\"\n",
              "              title=\"Convert this dataframe to an interactive table.\"\n",
              "              style=\"display:none;\">\n",
              "        \n",
              "  <svg xmlns=\"http://www.w3.org/2000/svg\" height=\"24px\"viewBox=\"0 0 24 24\"\n",
              "       width=\"24px\">\n",
              "    <path d=\"M0 0h24v24H0V0z\" fill=\"none\"/>\n",
              "    <path d=\"M18.56 5.44l.94 2.06.94-2.06 2.06-.94-2.06-.94-.94-2.06-.94 2.06-2.06.94zm-11 1L8.5 8.5l.94-2.06 2.06-.94-2.06-.94L8.5 2.5l-.94 2.06-2.06.94zm10 10l.94 2.06.94-2.06 2.06-.94-2.06-.94-.94-2.06-.94 2.06-2.06.94z\"/><path d=\"M17.41 7.96l-1.37-1.37c-.4-.4-.92-.59-1.43-.59-.52 0-1.04.2-1.43.59L10.3 9.45l-7.72 7.72c-.78.78-.78 2.05 0 2.83L4 21.41c.39.39.9.59 1.41.59.51 0 1.02-.2 1.41-.59l7.78-7.78 2.81-2.81c.8-.78.8-2.07 0-2.86zM5.41 20L4 18.59l7.72-7.72 1.47 1.35L5.41 20z\"/>\n",
              "  </svg>\n",
              "      </button>\n",
              "      \n",
              "  <style>\n",
              "    .colab-df-container {\n",
              "      display:flex;\n",
              "      flex-wrap:wrap;\n",
              "      gap: 12px;\n",
              "    }\n",
              "\n",
              "    .colab-df-convert {\n",
              "      background-color: #E8F0FE;\n",
              "      border: none;\n",
              "      border-radius: 50%;\n",
              "      cursor: pointer;\n",
              "      display: none;\n",
              "      fill: #1967D2;\n",
              "      height: 32px;\n",
              "      padding: 0 0 0 0;\n",
              "      width: 32px;\n",
              "    }\n",
              "\n",
              "    .colab-df-convert:hover {\n",
              "      background-color: #E2EBFA;\n",
              "      box-shadow: 0px 1px 2px rgba(60, 64, 67, 0.3), 0px 1px 3px 1px rgba(60, 64, 67, 0.15);\n",
              "      fill: #174EA6;\n",
              "    }\n",
              "\n",
              "    [theme=dark] .colab-df-convert {\n",
              "      background-color: #3B4455;\n",
              "      fill: #D2E3FC;\n",
              "    }\n",
              "\n",
              "    [theme=dark] .colab-df-convert:hover {\n",
              "      background-color: #434B5C;\n",
              "      box-shadow: 0px 1px 3px 1px rgba(0, 0, 0, 0.15);\n",
              "      filter: drop-shadow(0px 1px 2px rgba(0, 0, 0, 0.3));\n",
              "      fill: #FFFFFF;\n",
              "    }\n",
              "  </style>\n",
              "\n",
              "      <script>\n",
              "        const buttonEl =\n",
              "          document.querySelector('#df-6160b97c-6489-423b-bdc1-2802964b0e7f button.colab-df-convert');\n",
              "        buttonEl.style.display =\n",
              "          google.colab.kernel.accessAllowed ? 'block' : 'none';\n",
              "\n",
              "        async function convertToInteractive(key) {\n",
              "          const element = document.querySelector('#df-6160b97c-6489-423b-bdc1-2802964b0e7f');\n",
              "          const dataTable =\n",
              "            await google.colab.kernel.invokeFunction('convertToInteractive',\n",
              "                                                     [key], {});\n",
              "          if (!dataTable) return;\n",
              "\n",
              "          const docLinkHtml = 'Like what you see? Visit the ' +\n",
              "            '<a target=\"_blank\" href=https://colab.research.google.com/notebooks/data_table.ipynb>data table notebook</a>'\n",
              "            + ' to learn more about interactive tables.';\n",
              "          element.innerHTML = '';\n",
              "          dataTable['output_type'] = 'display_data';\n",
              "          await google.colab.output.renderOutput(dataTable, element);\n",
              "          const docLink = document.createElement('div');\n",
              "          docLink.innerHTML = docLinkHtml;\n",
              "          element.appendChild(docLink);\n",
              "        }\n",
              "      </script>\n",
              "    </div>\n",
              "  </div>\n",
              "  "
            ]
          },
          "metadata": {},
          "execution_count": 12
        }
      ]
    },
    {
      "cell_type": "markdown",
      "source": [
        "Построим гистограмму времени, проведённом пользователями на сайте в каждой из групп:"
      ],
      "metadata": {
        "id": "k9nyzfrWJ6LQ"
      }
    },
    {
      "cell_type": "code",
      "source": [
        "#создаём 2 графика размером 12x4\n",
        "fig, axes = plt.subplots(1, 2, figsize=(12, 4))\n",
        "#строим гистограмму для времени на сайте в каждой группе\n",
        "sns.histplot(x='time(A)', data=data, ax=axes[0])\n",
        "sns.histplot(x='time(B)', data=data, ax=axes[1])\n",
        "#задаём названия графикам\n",
        "axes[0].set_title('Распределение времени на сайте в группе А')\n",
        "axes[1].set_title('Распределение времени на сайте в группе B')"
      ],
      "metadata": {
        "colab": {
          "base_uri": "https://localhost:8080/",
          "height": 313
        },
        "id": "UbwXPHiKJ4Zc",
        "outputId": "6037e980-347f-4abf-e8cb-6918a9fb5296"
      },
      "execution_count": null,
      "outputs": [
        {
          "output_type": "execute_result",
          "data": {
            "text/plain": [
              "Text(0.5, 1.0, 'Распределение времени на сайте в группе B')"
            ]
          },
          "metadata": {},
          "execution_count": 13
        },
        {
          "output_type": "display_data",
          "data": {
            "text/plain": [
              "<Figure size 864x288 with 2 Axes>"
            ],
            "image/png": "[encoded data removed]"
          },
          "metadata": {
            "needs_background": "light"
          }
        }
      ]
    },
    {
      "cell_type": "markdown",
      "source": [
        "Гистограммы напоминают нормальное распределение. Проверим гипотезу о нормальности обоих распределений с помощью критерия Шапиро-Уилка."
      ],
      "metadata": {
        "id": "2Wq5aof-KPLC"
      }
    },
    {
      "cell_type": "code",
      "source": [
        "from scipy.stats import shapiro\n",
        "# нулевая и альтернативная гипотезы:\n",
        "H0 = 'Распределения в обеих группах нормальные'\n",
        "H1 = 'Распределение в одной или обеих группах отлично от нормального'\n",
        "alpha = 0.05 # уровень значимости\n",
        "# вычисляем результат теста Шапиро-Уилка для выборок\n",
        "shapiro_result_a = shapiro(data['time(A)'])\n",
        "shapiro_result_b = shapiro(data['time(B)'])\n",
        "print('p-value группы А', round(shapiro_result_a.pvalue, 2))\n",
        "print('p-value группы B', round(shapiro_result_b.pvalue, 2))\n",
        "# сравниваем полученное p-value с уровнем значимости\n",
        "if shapiro_result_a.pvalue < alpha or shapiro_result_b.pvalue < alpha:\n",
        "    print(\"Отвергаем нулевую гипотезу. {}\".format(H0))\n",
        "    print(\"Альтернативная гипотеза. H1: {}\".format(H1))\n",
        "else:\n",
        "    print(\"Принимаем нулевую гипотезу. {}\".format(H0))"
      ],
      "metadata": {
        "colab": {
          "base_uri": "https://localhost:8080/"
        },
        "id": "UqJUNr6FKTB0",
        "outputId": "63c83e66-d16e-4f21-c2e9-8e945d672e68"
      },
      "execution_count": null,
      "outputs": [
        {
          "output_type": "stream",
          "name": "stdout",
          "text": [
            "p-value группы А 0.43\n",
            "p-value группы B 0.12\n",
            "Принимаем нулевую гипотезу. Распределения в обеих группах нормальные\n"
          ]
        }
      ]
    },
    {
      "cell_type": "markdown",
      "source": [
        "Распределение в обеих группах нормальное, а значит, можно воспользоваться T-тестом для того, чтобы сравнить среднее время посещения сайта в группах."
      ],
      "metadata": {
        "id": "TZvF-tyjK2Ll"
      }
    },
    {
      "cell_type": "code",
      "source": [
        "from scipy.stats import ttest_ind\n",
        "# нулевая и альтернативная гипотезы:\n",
        "H0 = 'Среднее время в группах одинаково'\n",
        "H1 = 'Среднее время в группе А меньше, чем в группе B'\n",
        "alpha = 0.05 #уровень значимости\n",
        "#вычисляем результат T-теста для выборок\n",
        "results = ttest_ind(\n",
        "    a=data['time(A)'],\n",
        "    b=data['time(B)'], \n",
        "    alternative='less'\n",
        ")\n",
        "print('p-value:', round(results.pvalue, 2))\n",
        " \n",
        "if results.pvalue < alpha:\n",
        "    print(\"Отвергаем нулевую гипотезу\")\n",
        "    print(\"Альтернативная гипотеза. H1: {}\".format(H1))\n",
        "else:\n",
        "    print(\"Принимаем нулевую гипотезу. {}\".format(H0))"
      ],
      "metadata": {
        "colab": {
          "base_uri": "https://localhost:8080/"
        },
        "id": "41GUoyVCK9l-",
        "outputId": "86843cb6-76ad-40c7-aceb-5f67bad90a8a"
      },
      "execution_count": null,
      "outputs": [
        {
          "output_type": "stream",
          "name": "stdout",
          "text": [
            "p-value: 0.0\n",
            "Отвергаем нулевую гипотезу\n",
            "Альтернативная гипотеза. H1: Среднее время в группе А меньше, чем в группе B\n"
          ]
        }
      ]
    },
    {
      "cell_type": "markdown",
      "source": [
        "## Задание 5.2\n",
        "Проверьте гипотезу о равенстве конверсий в группах А и B при альтернативной гипотезе: Конверсия в группе А меньше, чем конверсия в группе B. Используйте функцию proportions_ztest() из модуля statsmodels.stats.proportion. В качестве уровня значимости возьмите 0.1\n",
        "Каковы результаты тестирования?\n",
        "1. Конверсия в группе А больше, чем конверсия в группе B\n",
        "2. Конверсия в группе А меньше, чем конверсия в группе B\n",
        "3. Конверсии в группах равны\n",
        "4. Ничего сказать нельзя"
      ],
      "metadata": {
        "id": "JAFeadIKLs9P"
      }
    },
    {
      "cell_type": "code",
      "source": [
        "from statsmodels.stats.proportion import proportions_ztest # импорт функции\n",
        "\n",
        "a = pd.read_csv('/content/ab_test-redesign_sample_a.csv')\n",
        "b = pd.read_csv('/content/ab_test-redesign_sample_b.csv')\n",
        "\n",
        "a['date'] = pd.to_datetime(a['date'])\n",
        "b['date'] = pd.to_datetime(b['date'])\n",
        "\n",
        "# объединим датафреймы\n",
        "a_b = pd.concat([a, b])\n",
        "\n",
        "# вычислим количество успехов и общее количество наблюдений для передачи в функцию\n",
        "converted_a_b = a_b.groupby('group')['transactions', 'cid'].agg('sum')\n",
        "\n",
        "H0 = 'Конверсии в группах А и B равны' # нулевая гипотеза\n",
        "H1 = 'Конверсия в группе А меньше, чем конверсия в группе В' # альтернативная гипотеза - левосторонняя\n",
        "alpha = 0.1 # уровень значимости\n",
        "\n",
        "_, p_value = proportions_ztest(\n",
        "    count=converted_a_b['transactions'], #число \"успехов\"\n",
        "    nobs=converted_a_b['cid'], #общее число наблюдений\n",
        "    alternative='smaller',\n",
        ")\n",
        "\n",
        "print('p-value: ', round(p_value, 2)) # выводим p-value \n",
        "\n",
        "if (p_value < alpha): # сравниваем полученное p-value с уровнем значимости\n",
        "    print(\"Отвергаем нулевую гипотезу. {}\")\n",
        "    print(\"Альтернативная гипотеза. H1: {}\".format(H1))\n",
        "else:\n",
        "    print(\"Принимаем нулевую гипотезу. {}\".format(H0))"
      ],
      "metadata": {
        "colab": {
          "base_uri": "https://localhost:8080/"
        },
        "id": "XNw8X-qSMEmI",
        "outputId": "fc4e5484-269a-4051-9cc0-d8247cb13d96"
      },
      "execution_count": null,
      "outputs": [
        {
          "output_type": "stream",
          "name": "stdout",
          "text": [
            "p-value:  0.22\n",
            "Принимаем нулевую гипотезу. Конверсии в группах А и B равны\n"
          ]
        },
        {
          "output_type": "stream",
          "name": "stderr",
          "text": [
            "/usr/local/lib/python3.7/dist-packages/ipykernel_launcher.py:13: FutureWarning: Indexing with multiple keys (implicitly converted to a tuple of keys) will be deprecated, use a list instead.\n",
            "  del sys.path[0]\n"
          ]
        }
      ]
    },
    {
      "cell_type": "markdown",
      "source": [
        "## Задание 5.3\n",
        "Проверьте гипотезу о нормальности распределений ежедневного среднего чека с помощью критерия Шапиро-Уилка. В качестве уровня значимости возьмите 0.1\n",
        "Каковы результаты тестирования?\n",
        "1. Распределения в обеих группах являются нормальными\n",
        "2. Распределение в одной или обеих группах отличны от нормального"
      ],
      "metadata": {
        "id": "1DUnZ6g3OWMJ"
      }
    },
    {
      "cell_type": "code",
      "source": [
        "from scipy.stats import shapiro\n",
        "\n",
        "daily_bill_mean_a = a.groupby('date')['revenue'].agg('mean') # ежедневный средний чек\n",
        "daily_bill_mean_b = b.groupby('date')['revenue'].agg('mean')\n",
        "\n",
        "H0 = 'Распределения в обеих группах нормальные'\n",
        "H1 = 'Распределение в одной или обеих группах отлично от нормального'\n",
        "alpha = 0.1 # уровень значимости\n",
        "# вычисляем результат теста Шапиро-Уилка для выборок\n",
        "shapiro_a = shapiro(daily_bill_mean_a)\n",
        "shapiro_b = shapiro(daily_bill_mean_b)\n",
        "print('p-value группы А', round(shapiro_a.pvalue, 2))\n",
        "print('p-value группы B', round(shapiro_b.pvalue, 2))\n",
        "# сравниваем полученное p-value с уровнем значимости\n",
        "if shapiro_a.pvalue < alpha or shapiro_b.pvalue < alpha:\n",
        "    print(\"Отвергаем нулевую гипотезу.\")\n",
        "    print(\"Альтернативная гипотеза H1: {}\".format(H1))\n",
        "else:\n",
        "    print(\"Принимаем нулевую гипотезу. {}\".format(H0))\n"
      ],
      "metadata": {
        "colab": {
          "base_uri": "https://localhost:8080/"
        },
        "id": "WQed98AFOnBc",
        "outputId": "f03a260e-82d7-4cb9-e762-b57296f6e31d"
      },
      "execution_count": null,
      "outputs": [
        {
          "output_type": "stream",
          "name": "stdout",
          "text": [
            "p-value группы А 0.01\n",
            "p-value группы B 0.15\n",
            "Отвергаем нулевую гипотезу.\n",
            "Альтернативная гипотеза H1: Распределение в одной или обеих группах отлично от нормального\n"
          ]
        }
      ]
    },
    {
      "cell_type": "markdown",
      "source": [
        "## Задание 5.4\n",
        "Проверьте гипотезу о равенстве ежедневных средних чеков с помощью критерия Манна-Уитни при альтернативной гипотезе: Ежедневный средний чек в группе А меньше, чем в группе B. Используйте функцию mannwhitneyu() из модуля scipy.stats. В качестве уровня значимости возьмите 0.1\n",
        "Каковы результаты тестирования?\n",
        "1. Средние чеки в группах А и B равны\n",
        "2. Ежедневный средний чек в группе А меньше, чем в группе B\n",
        "3. Ежедневный средний чек в группе А больше, чем в группе B\n",
        "4. Никаких выводов сделать нельзя"
      ],
      "metadata": {
        "id": "282gAc_WN2Vf"
      }
    },
    {
      "cell_type": "code",
      "source": [
        "H0 = 'Ежедневные средние чеки в группах равны' # нулевая гипотеза\n",
        "H1 = 'Ежедневный средний чек в группе А меньше, чем в группе B' # альтернативная гипотеза - левосторонняя\n",
        "alpha = 0.1 # уровень значимости\n",
        "\n",
        "from scipy.stats import mannwhitneyu # импорт функции\n",
        "\n",
        "_, pvalue = mannwhitneyu(\n",
        "    daily_bill_mean_a,\n",
        "    daily_bill_mean_b,\n",
        "    alternative='less'\n",
        ")\n",
        "# выведем значение pvalue\n",
        "print('pvalue =', round(pvalue, 2))\n",
        "\n",
        "if pvalue < alpha:\n",
        "  print(f'Отвергаем нулевую гипотезу. {H1}')\n",
        "else:\n",
        "  print(f'Принимаем нулевую гипотезу. {H0}')"
      ],
      "metadata": {
        "colab": {
          "base_uri": "https://localhost:8080/"
        },
        "id": "mTHDUEkBOEY7",
        "outputId": "48386f37-7f9d-4b8a-8308-eb3a15d93086"
      },
      "execution_count": null,
      "outputs": [
        {
          "output_type": "stream",
          "name": "stdout",
          "text": [
            "pvalue = 0.07\n",
            "Отвергаем нулевую гипотезу. Ежедневный средний чек в группе А меньше, чем в группе B\n"
          ]
        }
      ]
    },
    {
      "cell_type": "markdown",
      "source": [
        "# Доверительные интервалы"
      ],
      "metadata": {
        "id": "tvpBsvUPR48t"
      }
    },
    {
      "cell_type": "markdown",
      "source": [
        "# Доверительный интервал для среднего при известном истинном стандартном отклонении"
      ],
      "metadata": {
        "id": "Sc5rQ5YqSaOi"
      }
    },
    {
      "cell_type": "markdown",
      "source": [],
      "metadata": {
        "id": "7ig1TBsFSYbN"
      }
    },
    {
      "cell_type": "markdown",
      "source": [
        "Была опрошена случайная выборка из 36 жителей региона об их затратах на продукты питания за последний месяц. Выборочное среднее оказалось равным 16 100 рублей.\n",
        "Допустим, откуда-то известно, что истинное стандартное отклонение расходов равно 12 000 рублей.\n",
        "Нам нужно построить доверительный интервал для истинных средних расходов жителя данного региона на продукты питания в месяц. Интервал должен определять истинное значение с надежностью в 95 %."
      ],
      "metadata": {
        "id": "RxA9hdPYNslZ"
      }
    },
    {
      "cell_type": "code",
      "source": [
        "n = 36 # размер выборки\n",
        "x_mean = 16100 # выборочное среднее\n",
        "sigma = 12000 # истинное стандартное отклонение\n",
        "gamma = 0.95 # уровень надёжности\n",
        "alpha = 1 - gamma # уровень значимости\n",
        "\n",
        "from scipy.stats import norm\n",
        "z_crit = -norm.ppf(alpha/2) # z критическое\n",
        "\n",
        "eps = z_crit * sigma/(n ** 0.5) #погрешность\n",
        "lower_bound = x_mean - eps # левая (нижняя) граница\n",
        "upper_bound = x_mean + eps # правая (верхняя) граница\n",
        "confidence_interval = (round(lower_bound), round(upper_bound)) # создаём кортеж из округлённых границ интервала\n",
        "print('Доверительный интервал: {}'.format(confidence_interval)) # выводим результат"
      ],
      "metadata": {
        "colab": {
          "base_uri": "https://localhost:8080/"
        },
        "id": "VrFrR1JBNuGw",
        "outputId": "3241946d-5fc4-4360-ca1b-a59c571f4d1d"
      },
      "execution_count": null,
      "outputs": [
        {
          "output_type": "stream",
          "name": "stdout",
          "text": [
            "Доверительный интервал: (12180, 20020)\n"
          ]
        }
      ]
    },
    {
      "cell_type": "markdown",
      "source": [
        "### Задание 6.5\n",
        "Аккумуляторный завод производит батарейки, срок службы которых имеет истинное стандартное отклонение в 2.4 месяца. Средний срок службы батареек в случайной выборке из 64 штук составил 12.35 месяца. Необходимо построить 90 %-ный доверительный интервал для истинного среднего срока службы производимой батарейки и ответить на вопросы заданий ниже."
      ],
      "metadata": {
        "id": "ZYYR1MVQOY_w"
      }
    },
    {
      "cell_type": "code",
      "source": [
        "n = 64\n",
        "x_mean = 12.35\n",
        "sigma = 2.4\n",
        "gamma = 0.9\n",
        "alpha = 1 - gamma\n",
        "\n",
        "z_crit = round(-norm.ppf(alpha/2), 2)\n",
        "\n",
        "eps = z_crit * sigma/(n ** 0.5) #погрешность\n",
        "lower_bound = x_mean - eps # левая (нижняя) граница\n",
        "upper_bound = x_mean + eps # правая (верхняя) граница\n",
        "confidence_interval = (round(lower_bound, 2), round(upper_bound, 2)) # создаём кортеж из округлённых границ интервала\n",
        "print('z-критическое:', z_crit)\n",
        "print('Доверительный интервал: {}'.format(confidence_interval)) # выводим результат"
      ],
      "metadata": {
        "colab": {
          "base_uri": "https://localhost:8080/"
        },
        "id": "fod2fOqFOjkE",
        "outputId": "4b466ecc-61d5-4f14-e431-24911934e677"
      },
      "execution_count": null,
      "outputs": [
        {
          "output_type": "stream",
          "name": "stdout",
          "text": [
            "z-критическое: 1.64\n",
            "Доверительный интервал: (11.86, 12.84)\n"
          ]
        }
      ]
    },
    {
      "cell_type": "markdown",
      "source": [
        "# Доверительный интервал для среднего при неизвестном стандартном отклонении"
      ],
      "metadata": {
        "id": "XWwYH8q-SoVZ"
      }
    },
    {
      "cell_type": "markdown",
      "source": [
        "Управляющий супермаркета хочет оценить, сколько денег покупатели тратят за один поход в супермаркет в среднем. На основании ранее собранных данных известно, что расходы одного покупателя распределены приблизительно нормально. Управляющий взял случайную выборку из 15 покупателей и выяснил, что их средние расходы равны 2 000 рублей, а выборочное стандартное отклонение равно 400 рублей."
      ],
      "metadata": {
        "id": "qWW8s6hJT-Zo"
      }
    },
    {
      "cell_type": "code",
      "source": [
        "n = 15 # размер выборки\n",
        "k = n - 1 # число степеней свободы\n",
        "x_mean = 2000 # выборочное среднее\n",
        "x_std = 400 # выборочное стандартное отклонение\n",
        "gamma = 0.95 # уровень надёжности\n",
        "alpha = 1 - gamma # уровень значимости\n",
        "\n",
        "from scipy.stats import t\n",
        "t_crit = -t.ppf(alpha/2, k) # t-критическое\n",
        "\n",
        "eps = t_crit * x_std/(n ** 0.5) # погрешность\n",
        "lower_bound = x_mean - eps # левая (нижняя) граница\n",
        "upper_bound = x_mean + eps # правая (верхняя) граница\n",
        "confidence_interval = (round(lower_bound), round(upper_bound)) # создаём кортеж из округлённых границ интервала\n",
        "print('Доверительный интервал: {}'.format(confidence_interval)) # выводим результат"
      ],
      "metadata": {
        "colab": {
          "base_uri": "https://localhost:8080/"
        },
        "id": "8p4jA6MWSw5C",
        "outputId": "371eb4af-5f4c-437c-ea53-5189606b6179"
      },
      "execution_count": null,
      "outputs": [
        {
          "output_type": "stream",
          "name": "stdout",
          "text": [
            "Доверительный интервал: (1778, 2222)\n"
          ]
        }
      ]
    },
    {
      "cell_type": "markdown",
      "source": [
        "## Задание 6.6\n",
        "Чиновника интересует сумма подоходного налога, выплачиваемого домохозяйствами за год. На случайной выборке из 25 домохозяйств был посчитан средний размер выплаченного налога, и он составил 3540. Также известно выборочное отклонение величины подоходного налога, равное $ 1 150.\n",
        "Необходимо найти 90 %-ый доверительный интервал для истинного среднего значения налоговых выплат за год. Используйте формулу с t-критическим.\n",
        "Укажите границы построенного доверительного интервала для истинного среднего. Ответ округлите до целого."
      ],
      "metadata": {
        "id": "e70i2cZ7VLbE"
      }
    },
    {
      "cell_type": "code",
      "source": [
        "n = 25 # размер выборки\n",
        "k = n - 1 # число степеней свободы\n",
        "x_mean = 3540 # выборочное среднее\n",
        "x_std = 1150 # выборочное стандартное отклонение\n",
        "gamma = 0.9 # уровень надёжности\n",
        "alpha = 1 - gamma # уровень значимости\n",
        "\n",
        "from scipy.stats import t\n",
        "t_crit = -t.ppf(alpha/2, k) # t-критическое\n",
        "\n",
        "eps = t_crit * x_std/(n ** 0.5) # погрешность\n",
        "lower_bound = x_mean - eps # левая (нижняя) граница\n",
        "upper_bound = x_mean + eps # правая (верхняя) граница\n",
        "confidence_interval = (round(lower_bound), round(upper_bound)) # создаём кортеж из округлённых границ интервала\n",
        "print('Доверительный интервал: {}'.format(confidence_interval)) # выводим результат"
      ],
      "metadata": {
        "colab": {
          "base_uri": "https://localhost:8080/"
        },
        "id": "W2id4KaCVY1R",
        "outputId": "2a55b428-5625-4416-d4ec-19f5b756daa5"
      },
      "execution_count": null,
      "outputs": [
        {
          "output_type": "stream",
          "name": "stdout",
          "text": [
            "Доверительный интервал: (3146, 3934)\n"
          ]
        }
      ]
    },
    {
      "cell_type": "markdown",
      "source": [
        "# Доверительный интервал для пропорции (конверсия, доля, любой бинарный признак)"
      ],
      "metadata": {
        "id": "Vxlq_kdehVqc"
      }
    },
    {
      "cell_type": "code",
      "source": [
        "# универсальная функция:\n",
        "def proportions_conf_interval(n, x_p, gamma=0.95): \n",
        "  # n - размер выборки, х_р - выборочная пропорция, gamma - уровень надежности \n",
        "    alpha = 1 - gamma # уровень значимости\n",
        "    z_crit = -norm.ppf(alpha/2) # z критическое\n",
        "    eps = z_crit * (x_p * (1 - x_p) / n) ** 0.5 #погрешность\n",
        "    lower_bound = x_p - eps # левая (нижняя) граница\n",
        "    upper_bound = x_p + eps # правая (верхняя) граница\n",
        "    # возвращаем кортеж из округлённых границ интервала\n",
        "    return round(lower_bound * 100, 2), round(upper_bound * 100, 2)"
      ],
      "metadata": {
        "id": "KFKEA8tPhmpC"
      },
      "execution_count": null,
      "outputs": []
    },
    {
      "cell_type": "code",
      "source": [
        "import pandas as pd\n",
        "ab_data = pd.read_csv('/content/ab_data.csv')\n",
        "\n",
        "#фильтруем данные группы А\n",
        "a_data = ab_data[ab_data['group'] == 'A']\n",
        "#фильтруем данные группы B\n",
        "b_data = ab_data[ab_data['group'] == 'B']\n",
        "\n",
        "conf_interval_a = proportions_conf_interval(\n",
        "n=a_data['user_id'].count(), # размер выборки\n",
        "x_p=a_data['converted'].mean() # выборочная пропорция\n",
        ")\n",
        "conf_interval_b = proportions_conf_interval(\n",
        "n=b_data['user_id'].count(), # размер выборки\n",
        "x_p=b_data['converted'].mean() # выборочная пропорция\n",
        ")\n",
        "print('Доверительный интервал для конверсии группы А: {}'.format(conf_interval_a))\n",
        "print('Доверительный интервал для конверсии группы B: {}'.format(conf_interval_b))"
      ],
      "metadata": {
        "colab": {
          "base_uri": "https://localhost:8080/"
        },
        "id": "NtFMgv55iJaF",
        "outputId": "0e71f429-9310-43f6-caba-d0f4d275cab3"
      },
      "execution_count": null,
      "outputs": [
        {
          "output_type": "stream",
          "name": "stdout",
          "text": [
            "Доверительный интервал для конверсии группы А: (11.86, 12.19)\n",
            "Доверительный интервал для конверсии группы B: (11.7, 12.03)\n"
          ]
        }
      ]
    },
    {
      "cell_type": "markdown",
      "source": [
        "# Доверительный интервал разницы пропорций"
      ],
      "metadata": {
        "id": "Dk1VWNoIjO0v"
      }
    },
    {
      "cell_type": "markdown",
      "source": [
        "Для чего нужен? Вывод по результату:\n",
        "* обе границы больше 0: вариант В эффективнее по метрике конверсии с заданной надежностью\n",
        "* обе границы меньше 0: вариант В хуже\n",
        "* интервал охватывает 0: варианты А и В равнозначны"
      ],
      "metadata": {
        "id": "7n3aO1z5jUpB"
      }
    },
    {
      "cell_type": "code",
      "source": [
        "    # универсальная функция:\n",
        "    def diff_proportions_conf_interval(n, xp, gamma=0.95):\n",
        "      # n-размер выборки, хр-список из выборочных пропорций для групп А и B соответственно\n",
        "        alpha = 1 - gamma # уровень значимости\n",
        "        diff = xp[1] - xp[0] # выборочная разница конверсий групп B и A\n",
        "        z_crit = -norm.ppf(alpha/2) # z критическое\n",
        "        eps = z_crit * (xp[0] * (1 - xp[0])/n[0] + xp[1] * (1 - xp[1])/n[1]) ** 0.5 # погрешность\n",
        "        lower_bound = diff - eps # левая (нижняя) граница\n",
        "        upper_bound = diff + eps # правая (верхняя) граница\n",
        "    # возвращаем кортеж из округлённых границ интервала\n",
        "        return round(lower_bound *100, 2), round(upper_bound * 100, 2)"
      ],
      "metadata": {
        "id": "NP6RP29ij6tK"
      },
      "execution_count": null,
      "outputs": []
    },
    {
      "cell_type": "code",
      "source": [
        "# размеры выборок групп А и B\n",
        "n = [a_data['user_id'].count(), b_data['user_id'].count()]\n",
        "# выборочная пропорция групп A и B\n",
        "xp = [a_data['converted'].mean(), b_data['converted'].mean()]\n",
        "# строим доверительный интервал для разности конверсий\n",
        "diff_inverval = diff_proportions_conf_interval(n, xp)\n",
        "print('Доверительный интервал для разности конверсий: {}'.format(diff_inverval))"
      ],
      "metadata": {
        "colab": {
          "base_uri": "https://localhost:8080/"
        },
        "id": "99eiV2Dskbki",
        "outputId": "3de4e950-5dd1-40d9-df6f-d944216c6f70"
      },
      "execution_count": null,
      "outputs": [
        {
          "output_type": "stream",
          "name": "stdout",
          "text": [
            "Доверительный интервал для разности конверсий: (-0.39, 0.08)\n"
          ]
        }
      ]
    },
    {
      "cell_type": "markdown",
      "source": [
        "Отсюда можно сделать вывод, что статистической разницы в конверсии между вариантами А и B не существует, то есть они являются равнозначными по данной метрике."
      ],
      "metadata": {
        "id": "NR7_Uzh2koB9"
      }
    },
    {
      "cell_type": "markdown",
      "source": [
        "## Задание 6.9\n",
        "Чтобы оценить удовлетворённость клиентов сети отелей, менеджер взял случайную выборку из 189 комментариев, оставленных посетителями на онлайн-платформе по бронированию, и провёл анализ их содержания. Выяснилось, что 132 комментария были положительными, остальные — негативными.\n",
        "Давайте поможем менеджеру ответить на несколько вопросов!\n",
        "Чему равна выборочная пропорция положительных комментариев? Укажите с точностью до трёх знаков после разделительной точки.\n",
        "Найдите 90 % доверительный интервал для истинной пропорции положительных комментариев. Ответ приведите в процентах и округлите до двух знаков после запятой. При расчёте используйте z-критическое."
      ],
      "metadata": {
        "id": "8e3UOtOfkw-o"
      }
    },
    {
      "cell_type": "code",
      "source": [
        "conf_internal = proportions_conf_interval(\n",
        "    n = 189,\n",
        "    x_p = 132/189,\n",
        "    gamma = 0.9\n",
        ")\n",
        "print('Выборочная пропорция положительных комментариев:', round(132/189, 3))\n",
        "print('Доверительный интервал:', conf_internal)"
      ],
      "metadata": {
        "colab": {
          "base_uri": "https://localhost:8080/"
        },
        "id": "3i8gZzesk8BG",
        "outputId": "7adb3669-904a-4363-d92f-09875a104f12"
      },
      "execution_count": null,
      "outputs": [
        {
          "output_type": "stream",
          "name": "stdout",
          "text": [
            "Выборочная пропорция положительных комментариев: 0.698\n",
            "Доверительный интервал: (64.35, 75.33)\n"
          ]
        }
      ]
    },
    {
      "cell_type": "markdown",
      "source": [
        "## Задание 6.10\n",
        "Проводится A/B-тестирование вариантов отображения страницы корзины на сайте интернет-магазина. Есть два варианта отображения страницы: с товарными рекомендациями «Хиты продаж» и персональными, подобранными под интерес конкретно этого пользователя. Метрикой является конверсия действия «добавить в корзину товар из рекомендаций». Были собраны следующие данные:\n",
        "Группа А(Персональные скидки): Число добавленных в корзину товаров - 45; Размер выборки - 1000\n",
        "Группа В(Хиты продаж): Число добавленных в корзину товаров - 50; Размер выборки - 1000.\n",
        "\n",
        "Постройте 95 %-ый доверительный интервал разности полученных конверсий. Ответ приведите в процентах и округлите границы интервала до второго знака после запятой. При расчёте используйте z-критическое.\n",
        "Какой вывод можно сделать на основе полученного доверительного интервала?\n",
        "1. вариант А является более предпочтительным варианту B по показателю конверсии\n",
        "2. вариант B является более предпочтительным варианту А по показателю конверсии\n",
        "3. варианты А и B равнозначны по показателю конверсии"
      ],
      "metadata": {
        "id": "1DbcqYrenMJF"
      }
    },
    {
      "cell_type": "code",
      "source": [
        "n = [1000, 1000] # размеры выборок\n",
        "xp = [(45/1000), (50/1000)] # выборочные пропорции\n",
        "\n",
        "diff_inverval = diff_proportions_conf_interval(n, xp)\n",
        "print('Доверительный интервал разности конверсий:', diff_inverval)\n",
        "\n",
        "if diff_inverval[0] > 0 and diff_inverval[1] > 0:\n",
        "  print('вариант B является более предпочтительным варианту А по показателю конверсии')\n",
        "elif diff_inverval[0] < 0 and diff_inverval[1] < 0:\n",
        "  print('вариант А является более предпочтительным варианту B по показателю конверсии')\n",
        "else:\n",
        "  print('варианты А и B равнозначны по показателю конверсии')"
      ],
      "metadata": {
        "colab": {
          "base_uri": "https://localhost:8080/"
        },
        "id": "gHAMf1gTn2FD",
        "outputId": "0b4e179a-c8eb-423d-cca2-c9857b33fe62"
      },
      "execution_count": null,
      "outputs": [
        {
          "output_type": "stream",
          "name": "stdout",
          "text": [
            "Доверительный интервал разности конверсий: (-1.36, 2.36)\n",
            "варианты А и B равнозначны по показателю конверсии\n"
          ]
        }
      ]
    }
  ]
}