{
 "cells": [
  {
   "cell_type": "markdown",
   "metadata": {},
   "source": [
    "# Классы"
   ]
  },
  {
   "cell_type": "code",
   "execution_count": 1,
   "metadata": {},
   "outputs": [],
   "source": [
    "class SalesReport():  \n",
    "    pass # создание собственного класса"
   ]
  },
  {
   "cell_type": "code",
   "execution_count": 2,
   "metadata": {},
   "outputs": [
    {
     "data": {
      "text/plain": [
       "False"
      ]
     },
     "execution_count": 2,
     "metadata": {},
     "output_type": "execute_result"
    }
   ],
   "source": [
    "class SalesReport():  \n",
    "    pass\n",
    "report = SalesReport() # создали объект по нашему классу\n",
    "report_2 = SalesReport() # еще один объект, теперь их множество,\n",
    "# но они разные:\n",
    "report == report_2"
   ]
  },
  {
   "cell_type": "markdown",
   "metadata": {},
   "source": [
    "# Атрибуты и методы"
   ]
  },
  {
   "cell_type": "code",
   "execution_count": 3,
   "metadata": {},
   "outputs": [
    {
     "name": "stdout",
     "output_type": "stream",
     "text": [
      "Total amount: 10\n",
      "Total amount: 20\n"
     ]
    }
   ],
   "source": [
    "class SalesReport():\n",
    "    pass  # пустой класс для отчетов по продажам\n",
    "\n",
    "report = SalesReport() # добавили первый отчет\n",
    "report.amount = 10 # добавили его атрибут и значение\n",
    "\n",
    "report_2 = SalesReport()\n",
    "report_2.amount = 20  # то же для второго отчета\n",
    "\n",
    "def print_report(report): # вспомогательная функция\n",
    "    print(\"Total amount:\", report.amount)\n",
    "    \n",
    "print_report(report) # применение функции\n",
    "print_report(report_2)"
   ]
  },
  {
   "cell_type": "code",
   "execution_count": 4,
   "metadata": {},
   "outputs": [
    {
     "name": "stdout",
     "output_type": "stream",
     "text": [
      "Total amount: 10\n",
      "Total amount: 20\n"
     ]
    }
   ],
   "source": [
    "class SalesReport():\n",
    "    def print_report(self): # поместили функцию в класс, self - общий аргумент\n",
    "        print(\"Total amount:\", self.amount)\n",
    "        \n",
    "report = SalesReport() # так же определяем объекты\n",
    "report.amount = 10 # атрибут и значение\n",
    "\n",
    "report_2 = SalesReport()\n",
    "report_2.amount = 20\n",
    "\n",
    "report.print_report() # применение нового метода\n",
    "report_2.print_report()"
   ]
  },
  {
   "cell_type": "code",
   "execution_count": 5,
   "metadata": {},
   "outputs": [
    {
     "name": "stdout",
     "output_type": "stream",
     "text": [
      "Total sales: 40000\n"
     ]
    }
   ],
   "source": [
    "class SalesReport:\n",
    "    def add_deal(self, amount): # создание нового метода для добавления сделок\n",
    "        if not hasattr(self, 'deals'):  \n",
    "            self.deals = []  # На первой сделке создадим список для хранения всех сделок\n",
    "        self.deals.append(amount) # Добавим текущую сделку\n",
    "        \n",
    "    def total_amount(self):  \n",
    "        return sum(self.deals) # для подсчета суммы всех сделок\n",
    "    \n",
    "    def print_report(self):  # общая, для вывода отчета\n",
    "        print(\"Total sales:\", self.total_amount())\n",
    "        \n",
    "# Добавим две сделки и распечатаем отчёт\n",
    "report = SalesReport() # первый отчет \n",
    "report.add_deal(10_000)  # первая сделка в первом отчете\n",
    "report.add_deal(30_000)  # вторая сделка в первом отчете\n",
    "report.print_report()"
   ]
  },
  {
   "cell_type": "markdown",
   "metadata": {},
   "source": [
    "Задание:\n",
    "Допишите определение класса DepartmentReport, который выводит отчёт по отделам компании. У него должны быть определены:\n",
    "атрибут revenues — список, где мы храним значения выручки отделов;\n",
    "метод add_revenue, который добавляет выручку одного отдела;\n",
    "метод average_revenue, который возвращает среднюю выручку по всем отделам."
   ]
  },
  {
   "cell_type": "code",
   "execution_count": 14,
   "metadata": {},
   "outputs": [
    {
     "name": "stdout",
     "output_type": "stream",
     "text": [
      "[1000000, 400000]\n",
      "700000.0\n"
     ]
    }
   ],
   "source": [
    "class DepartmentReport():\n",
    "    def add_revenue(self, amount):\n",
    "        if not hasattr(self, 'revenues'):\n",
    "            self.revenues = [] # пустой список для выручки по отделам\n",
    "        self.revenues.append(amount) # добавляем выручку отдела\n",
    "        \n",
    "    def average_revenue(self): # расчет средней выручки по отделам\n",
    "        return sum(self.revenues)/len(self.revenues)\n",
    "        \n",
    "report = DepartmentReport()\n",
    "report.add_revenue(1_000_000)\n",
    "report.add_revenue(400_000)\n",
    "print(report.revenues)\n",
    "print(report.average_revenue())"
   ]
  }
 ],
 "metadata": {
  "kernelspec": {
   "display_name": "Python 3.9.13 64-bit",
   "language": "python",
   "name": "python3"
  },
  "language_info": {
   "codemirror_mode": {
    "name": "ipython",
    "version": 3
   },
   "file_extension": ".py",
   "mimetype": "text/x-python",
   "name": "python",
   "nbconvert_exporter": "python",
   "pygments_lexer": "ipython3",
   "version": "3.9.13"
  },
  "orig_nbformat": 4,
  "vscode": {
   "interpreter": {
    "hash": "5e6de380757105bcf75186a154ef2d55e44d157b0d51cbbb951c1add3ec59751"
   }
  }
 },
 "nbformat": 4,
 "nbformat_minor": 2
}
