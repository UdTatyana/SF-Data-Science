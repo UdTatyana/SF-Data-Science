{
 "cells": [
  {
   "cell_type": "markdown",
   "metadata": {},
   "source": [
    "# Классы"
   ]
  },
  {
   "cell_type": "code",
   "execution_count": 1,
   "metadata": {},
   "outputs": [],
   "source": [
    "class SalesReport():  \n",
    "    pass # создание собственного класса"
   ]
  },
  {
   "cell_type": "code",
   "execution_count": 2,
   "metadata": {},
   "outputs": [
    {
     "data": {
      "text/plain": [
       "False"
      ]
     },
     "execution_count": 2,
     "metadata": {},
     "output_type": "execute_result"
    }
   ],
   "source": [
    "class SalesReport():  \n",
    "    pass\n",
    "report = SalesReport() # создали объект по нашему классу\n",
    "report_2 = SalesReport() # еще один объект, теперь их множество,\n",
    "# но они разные:\n",
    "report == report_2"
   ]
  },
  {
   "cell_type": "markdown",
   "metadata": {},
   "source": [
    "# Атрибуты и методы"
   ]
  },
  {
   "cell_type": "code",
   "execution_count": 3,
   "metadata": {},
   "outputs": [
    {
     "name": "stdout",
     "output_type": "stream",
     "text": [
      "Total amount: 10\n",
      "Total amount: 20\n"
     ]
    }
   ],
   "source": [
    "class SalesReport():\n",
    "    pass  # пустой класс для отчетов по продажам\n",
    "\n",
    "report = SalesReport() # добавили первый отчет\n",
    "report.amount = 10 # добавили его атрибут и значение\n",
    "\n",
    "report_2 = SalesReport()\n",
    "report_2.amount = 20  # то же для второго отчета\n",
    "\n",
    "def print_report(report): # вспомогательная функция\n",
    "    print(\"Total amount:\", report.amount)\n",
    "    \n",
    "print_report(report) # применение функции\n",
    "print_report(report_2)"
   ]
  },
  {
   "cell_type": "code",
   "execution_count": 4,
   "metadata": {},
   "outputs": [
    {
     "name": "stdout",
     "output_type": "stream",
     "text": [
      "Total amount: 10\n",
      "Total amount: 20\n"
     ]
    }
   ],
   "source": [
    "class SalesReport():\n",
    "    def print_report(self): # поместили функцию в класс, self - общий аргумент\n",
    "        print(\"Total amount:\", self.amount)\n",
    "        \n",
    "report = SalesReport() # так же определяем объекты\n",
    "report.amount = 10 # атрибут и значение\n",
    "\n",
    "report_2 = SalesReport()\n",
    "report_2.amount = 20\n",
    "\n",
    "report.print_report() # применение нового метода\n",
    "report_2.print_report()"
   ]
  },
  {
   "cell_type": "code",
   "execution_count": 5,
   "metadata": {},
   "outputs": [
    {
     "name": "stdout",
     "output_type": "stream",
     "text": [
      "Total sales: 40000\n"
     ]
    }
   ],
   "source": [
    "class SalesReport:\n",
    "    def add_deal(self, amount): # создание нового метода для добавления сделок\n",
    "        if not hasattr(self, 'deals'):  \n",
    "            self.deals = []  # На первой сделке создадим список для хранения всех сделок\n",
    "        self.deals.append(amount) # Добавим текущую сделку\n",
    "        \n",
    "    def total_amount(self):  \n",
    "        return sum(self.deals) # для подсчета суммы всех сделок\n",
    "    \n",
    "    def print_report(self):  # общая, для вывода отчета\n",
    "        print(\"Total sales:\", self.total_amount())\n",
    "        \n",
    "# Добавим две сделки и распечатаем отчёт\n",
    "report = SalesReport() # первый отчет \n",
    "report.add_deal(10_000)  # первая сделка в первом отчете\n",
    "report.add_deal(30_000)  # вторая сделка в первом отчете\n",
    "report.print_report()"
   ]
  },
  {
   "cell_type": "markdown",
   "metadata": {},
   "source": [
    "Задание:\n",
    "Допишите определение класса DepartmentReport, который выводит отчёт по отделам компании. У него должны быть определены:\n",
    "атрибут revenues — список, где мы храним значения выручки отделов;\n",
    "метод add_revenue, который добавляет выручку одного отдела;\n",
    "метод average_revenue, который возвращает среднюю выручку по всем отделам."
   ]
  },
  {
   "cell_type": "code",
   "execution_count": 14,
   "metadata": {},
   "outputs": [
    {
     "name": "stdout",
     "output_type": "stream",
     "text": [
      "[1000000, 400000]\n",
      "700000.0\n"
     ]
    }
   ],
   "source": [
    "class DepartmentReport():\n",
    "    def add_revenue(self, amount):\n",
    "        if not hasattr(self, 'revenues'):\n",
    "            self.revenues = [] # пустой список для выручки по отделам\n",
    "        self.revenues.append(amount) # добавляем выручку отдела\n",
    "        \n",
    "    def average_revenue(self): # расчет средней выручки по отделам\n",
    "        return sum(self.revenues)/len(self.revenues)\n",
    "        \n",
    "report = DepartmentReport()\n",
    "report.add_revenue(1_000_000)\n",
    "report.add_revenue(400_000)\n",
    "print(report.revenues)\n",
    "print(report.average_revenue())"
   ]
  },
  {
   "cell_type": "markdown",
   "metadata": {},
   "source": [
    "# Метод инициализации __init__()"
   ]
  },
  {
   "cell_type": "code",
   "execution_count": 3,
   "metadata": {},
   "outputs": [
    {
     "name": "stdout",
     "output_type": "stream",
     "text": [
      "[]\n"
     ]
    },
    {
     "data": {
      "text/plain": [
       "0"
      ]
     },
     "execution_count": 3,
     "metadata": {},
     "output_type": "execute_result"
    }
   ],
   "source": [
    "class SalesReport():  \n",
    "    def __init__(self): # метод принимает сам объект (1й аргумент) \n",
    "        self.deals = []  # с этим объектом можно делать что угодно\n",
    "          \n",
    "    def add_deal(self, amount):   \n",
    "        self.deals.append(amount)  \n",
    "          \n",
    "    def total_amount(self):  \n",
    "        return sum(self.deals)  \n",
    "      \n",
    "    def print_report(self):  \n",
    "        print(\"Total sales:\", self.total_amount()) \n",
    "        \n",
    "report = SalesReport()  \n",
    "print(report.deals)\n",
    "\n",
    "report.total_amount()"
   ]
  },
  {
   "cell_type": "code",
   "execution_count": 4,
   "metadata": {},
   "outputs": [
    {
     "name": "stdout",
     "output_type": "stream",
     "text": [
      "Manager: Ivan Taranov\n",
      "Total sales: 40000\n"
     ]
    }
   ],
   "source": [
    "class SalesReport():\n",
    "    def __init__(self, manager_name):  # Будем принимать в __init__ ещё и имя менеджера\n",
    "        self.deals = []  \n",
    "        self.manager_name = manager_name\n",
    "        \n",
    "    def add_deal(self, amount):   \n",
    "        self.deals.append(amount)  \n",
    "          \n",
    "    def total_amount(self):  \n",
    "        return sum(self.deals)  \n",
    "      \n",
    "    def print_report(self):  \n",
    "        # И добавлять это имя в отчёт  \n",
    "        print(\"Manager:\", self.manager_name)  \n",
    "        print(\"Total sales:\", self.total_amount())\n",
    "        \n",
    "report = SalesReport(\"Ivan Taranov\")  \n",
    "report.add_deal(10_000)  \n",
    "report.add_deal(30_000)  \n",
    "report.print_report() "
   ]
  },
  {
   "cell_type": "markdown",
   "metadata": {},
   "source": [
    "### Задание\n",
    "Улучшите класс DepartmentReport. Класс при инициализации должен принимать переменную company и инициализировать её значением атрибут company, а также инициализировать атрибут revenues пустым списком.\n",
    "Метод average_revenue должен возвращать строку \"Average department revenue for (company_name): (average_revenue)\"."
   ]
  },
  {
   "cell_type": "code",
   "execution_count": 10,
   "metadata": {},
   "outputs": [
    {
     "name": "stdout",
     "output_type": "stream",
     "text": [
      "Average department revenue for Danon: 700000\n"
     ]
    }
   ],
   "source": [
    "class DepartmentReport():\n",
    "\n",
    "    def __init__(self,company):\n",
    "        self.company = company\n",
    "        self.revenues = [] # создание  атрибутов revenues и company\n",
    "        \n",
    "    def add_revenue(self, amount):\n",
    "        self.revenues.append(amount) # добавление выручки отдела в список revenues\n",
    "        \n",
    "    def average_revenue(self):\n",
    "        average = round(sum(self.revenues)/len(self.revenues)) # средняя выручка по отделам — округляя до целого\n",
    "        return 'Average department revenue for {}: {}'.format(self.company,average)\n",
    "    \n",
    "report = DepartmentReport(\"Danon\")\n",
    "report.add_revenue(1_000_000)\n",
    "report.add_revenue(400_000)\n",
    "\n",
    "print(report.average_revenue())     "
   ]
  },
  {
   "cell_type": "markdown",
   "metadata": {},
   "source": [
    "Допустим, теперь мы хотим получать средний размер сделки и список клиентов, из которого исключены повторения (в случае, если компания заключала несколько сделок с одним и тем же клиентом)."
   ]
  },
  {
   "cell_type": "code",
   "execution_count": 11,
   "metadata": {},
   "outputs": [
    {
     "name": "stdout",
     "output_type": "stream",
     "text": [
      "Employee:  Ivan Semenov\n",
      "Total sales: 390000\n",
      "Average sales: 130000.0\n",
      "Companies: ['SkyEng', 'PepsiCo']\n"
     ]
    }
   ],
   "source": [
    "class SalesReport():  \n",
    "    def __init__(self, employee_name):  \n",
    "        self.deals = []  \n",
    "        self.employee_name = employee_name  \n",
    "      \n",
    "    def add_deal(self, company, amount):   \n",
    "        self.deals.append({'company': company, 'amount': amount})  \n",
    "          \n",
    "    def total_amount(self):  \n",
    "        return sum([deal['amount'] for deal in self.deals])  \n",
    "      \n",
    "    def average_deal(self):  \n",
    "        return self.total_amount()/len(self.deals)  \n",
    "      \n",
    "    def all_companies(self):  \n",
    "        return list(set([deal['company'] for deal in self.deals]))  \n",
    "      \n",
    "    def print_report(self):  \n",
    "        print(\"Employee: \", self.employee_name)  \n",
    "        print(\"Total sales:\", self.total_amount())  \n",
    "        print(\"Average sales:\", self.average_deal())  \n",
    "        print(\"Companies:\", self.all_companies())  \n",
    "      \n",
    "      \n",
    "report = SalesReport(\"Ivan Semenov\")  \n",
    "  \n",
    "report.add_deal(\"PepsiCo\", 120_000)  \n",
    "report.add_deal(\"SkyEng\", 250_000)  \n",
    "report.add_deal(\"PepsiCo\", 20_000)  \n",
    "  \n",
    "report.print_report()  "
   ]
  },
  {
   "cell_type": "markdown",
   "metadata": {},
   "source": [
    "# Когда нужны классы"
   ]
  },
  {
   "cell_type": "markdown",
   "metadata": {},
   "source": [
    "## 1. ОТСЛЕЖИВАНИЕ СОСТОЯНИЯ\n",
    "у каждого из множества объектов есть некоторые меняющиеся состояния."
   ]
  },
  {
   "cell_type": "markdown",
   "metadata": {},
   "source": [
    "есть база клиентов с основной информацией; в реальном времени нам приходит информация о покупках. Запустим промокампанию, чтобы поощрить старых клиентов, которые сделали у нас много заказов, и выдать им скидку:"
   ]
  },
  {
   "cell_type": "code",
   "execution_count": 12,
   "metadata": {},
   "outputs": [
    {
     "name": "stdout",
     "output_type": "stream",
     "text": [
      "Order price for max@gmail.com is 100\n",
      "Order price for lova@yandex.ru is 180.0\n",
      "Order price for german@sberbank.ru is 500\n",
      "Order price for german@sberbank.ru is 450.0\n"
     ]
    }
   ],
   "source": [
    "class Client():  \n",
    "    # Базовые данные  \n",
    "    def __init__(self, email, order_num, registration_year):  \n",
    "        self.email = email  \n",
    "        self.order_num = order_num  \n",
    "        self.registration_year = registration_year  \n",
    "        self.discount = 0  \n",
    "          \n",
    "    # Оформление заказа  \n",
    "    def make_order(self, price):  \n",
    "        self.update_discount()  \n",
    "        self.order_num += 1  \n",
    "        # Здесь было бы оформление заказа, но мы просто выведем его цену  \n",
    "        discounted_price = price * (1 - self.discount)   \n",
    "        print(f\"Order price for {self.email} is {discounted_price}\")  \n",
    "              \n",
    "    # Назначение скидки  \n",
    "    def update_discount(self):   \n",
    "        if self.registration_year < 2018 and self.order_num >= 5:  \n",
    "            self.discount = 0.1   \n",
    "              \n",
    "  \n",
    "# Применение  \n",
    "          \n",
    "# Сделаем подобие базы  \n",
    "client_db = [   \n",
    "    Client(\"max@gmail.com\", 2, 2019),  \n",
    "    Client(\"lova@yandex.ru\", 10, 2015),  \n",
    "    Client(\"german@sberbank.ru\", 4, 2017)  \n",
    "]  \n",
    "  \n",
    "  \n",
    "# Сгенерируем заказы  \n",
    "client_db[0].make_order(100)  \n",
    "client_db[1].make_order(200)\n",
    "client_db[2].make_order(500)\n",
    "client_db[2].make_order(500) "
   ]
  },
  {
   "cell_type": "markdown",
   "metadata": {},
   "source": [
    "### Задание\n",
    "Определите класс для пользователей User:\n",
    "у него должны быть атрибуты email, password и balance, которые устанавливаются при инициализации;\n",
    "у него должен быть метод login, который принимает емайл и пароль. Если они совпадают с атрибутами объекта, он возвращает True, а иначе — False;\n",
    "должен быть метод update_balance(amount), который изменяет баланс счёта на величину amount."
   ]
  },
  {
   "cell_type": "code",
   "execution_count": 22,
   "metadata": {},
   "outputs": [
    {
     "name": "stdout",
     "output_type": "stream",
     "text": [
      "19700\n"
     ]
    }
   ],
   "source": [
    "class User():\n",
    "    def __init__(self, email, password, balance):\n",
    "        self.email = email\n",
    "        self.password = password\n",
    "        self.balance = balance\n",
    "        \n",
    "    def login(self, email, password):\n",
    "        if email == self.email and password == self.password:\n",
    "            return True\n",
    "        else:\n",
    "            return False\n",
    "        \n",
    "    def update_balance(self, amount):\n",
    "        self.balance = self.balance + amount\n",
    "        \n",
    "user = User(\"gosha@roskino.org\", \"qwerty\", 20_000)\n",
    "user.login(\"gosha@roskino.org\", \"qwerty123\")\n",
    "\n",
    "user.login(\"gosha@roskino.org\", \"qwerty\")\n",
    "\n",
    "user.update_balance(200)\n",
    "user.update_balance(-500)\n",
    "print(user.balance)"
   ]
  },
  {
   "cell_type": "markdown",
   "metadata": {},
   "source": [
    "## 2. КОМБИНАЦИЯ ОПЕРАЦИЙ\n",
    "Классы могут пригодиться, если вы регулярно делаете над данными одну и ту же последовательность разноплановых функций. Вы можете упаковать их в класс и в дальнейшем сразу получать результат по загруженным данным."
   ]
  },
  {
   "cell_type": "markdown",
   "metadata": {},
   "source": [
    "У нас есть численные данные из разных источников. Если они в виде строк, то нужно привести их к числам, а пропуски — заполнить значениями. Сделаем доступ к медиане, среднему значению и стандартному отклонению:"
   ]
  },
  {
   "cell_type": "code",
   "execution_count": 23,
   "metadata": {},
   "outputs": [
    {
     "name": "stdout",
     "output_type": "stream",
     "text": [
      "[1.0, 17.0, 4.0, 0.0, 8.0]\n",
      "6.892024376045111\n",
      "4.0\n"
     ]
    }
   ],
   "source": [
    "import statistics  \n",
    "  \n",
    "class DataFrame():  \n",
    "    def __init__(self, column, fill_value=0):  \n",
    "        # Инициализируем атрибуты  \n",
    "        self.column = column  \n",
    "        self.fill_value = fill_value  \n",
    "        # Заполним пропуски  \n",
    "        self.fill_missed()  \n",
    "        # Конвертируем все элементы в числа  \n",
    "        self.to_float()  \n",
    "          \n",
    "    def fill_missed(self):  \n",
    "        for i, value in enumerate(self.column):  \n",
    "            if value is None or value == '':  \n",
    "                self.column[i] = self.fill_value  \n",
    "                  \n",
    "    def to_float(self):  \n",
    "        self.column = [float(value) for value in self.column]  \n",
    "      \n",
    "    def median(self):  \n",
    "        return statistics.median(self.column)  \n",
    "      \n",
    "    def mean(self):  \n",
    "        return statistics.mean(self.column)  \n",
    "      \n",
    "    def deviation(self):  \n",
    "        return statistics.stdev(self.column)  \n",
    "      \n",
    "  \n",
    "      \n",
    "# Воспользуемся классом  \n",
    "df = DataFrame([\"1\", 17, 4, None, 8])  \n",
    "  \n",
    "print(df.column)  \n",
    "print(df.deviation())\n",
    "print(df.median())"
   ]
  },
  {
   "cell_type": "markdown",
   "metadata": {},
   "source": [
    "Задание:\n",
    "Определите класс IntDataFrame, который принимает список неотрицательных чисел и приводит к целым значениям все числа в этом списке. После этого становится доступен метод count, который считает количество ненулевых элементов, и метод unique, который возвращает число уникальных элементов."
   ]
  },
  {
   "cell_type": "code",
   "execution_count": 3,
   "metadata": {},
   "outputs": [
    {
     "name": "stdout",
     "output_type": "stream",
     "text": [
      "5\n",
      "4\n"
     ]
    }
   ],
   "source": [
    "class IntDataFrame():\n",
    "    def __init__(self, column):\n",
    "        self.column = column \n",
    "        self.to_int()\n",
    "        \n",
    "    def to_int(self):  \n",
    "        self.column = [int(value) for value in self.column]\n",
    "        \n",
    "    def count(self):\n",
    "        count = 0\n",
    "        for sym in self.column:\n",
    "            if sym > 0:\n",
    "                count += 1\n",
    "        return count\n",
    "\n",
    "    def unique(self):\n",
    "        uniq=[]\n",
    "        for index, value in enumerate(self.column):\n",
    "            if value in uniq:\n",
    "                continue\n",
    "            else:\n",
    "                uniq.append(value)\n",
    "        return len(uniq)\n",
    "\n",
    "df = IntDataFrame([4.7, 4, 3, 0, 2.4, 0.3, 4])\n",
    "print(df.count())\n",
    "print(df.unique())"
   ]
  },
  {
   "cell_type": "markdown",
   "metadata": {},
   "source": [
    "## КЛАСС-ОБЕРТКА"
   ]
  },
  {
   "cell_type": "markdown",
   "metadata": {},
   "source": [
    "Классы можно использовать тогда, когда у вас есть процесс, который требует сложной конфигурации, повторяющейся из раза в раз. Можно написать класс-обёртку, который сведёт этот процесс к одному-двум методам."
   ]
  },
  {
   "cell_type": "code",
   "execution_count": 5,
   "metadata": {},
   "outputs": [
    {
     "name": "stdout",
     "output_type": "stream",
     "text": [
      "{'perfomance': [10, 20, 10], 'clients': {'Romashka': 10, 'Vector': 34}}\n"
     ]
    }
   ],
   "source": [
    "import pickle  \n",
    "from datetime import datetime  \n",
    "from os import path  \n",
    "  \n",
    "class Dumper():  \n",
    "    def __init__(self, archive_dir=\"archive/\"):  \n",
    "        self.archive_dir = archive_dir  \n",
    "          \n",
    "    def dump(self, data):  \n",
    "        # Библиотека pickle позволяет доставать и класть объекты в файл  \n",
    "        with open(self.get_file_name(), 'wb') as file:  \n",
    "            pickle.dump(data, file)  \n",
    "              \n",
    "    def load_for_day(self, day):  \n",
    "        file_name = path.join(self.archive_dir, day + \".pkl\")   \n",
    "        with open(file_name, 'rb') as file:  \n",
    "            sets = pickle.load(file)  \n",
    "        return sets  \n",
    "          \n",
    "    # возвращает корректное имя для файла   \n",
    "    def get_file_name(self):   \n",
    "        today = datetime.now().strftime(\"%y-%m-%d\")   \n",
    "        return path.join(self.archive_dir, today + \".pkl\")\n",
    "    \n",
    "# Пример использования  \n",
    "  \n",
    "data = {  \n",
    "    'perfomance': [10, 20, 10],  \n",
    "    'clients': {\"Romashka\": 10, \"Vector\": 34}  \n",
    "}  \n",
    "  \n",
    "  \n",
    "dumper = Dumper()  \n",
    "  \n",
    "# Сохраним данные  \n",
    "dumper.dump(data)  \n",
    "  \n",
    "# Восстановим для сегодняшней даты  \n",
    "file_name = datetime.now().strftime(\"%y-%m-%d\")\n",
    "restored_data = dumper.load_for_day(file_name)\n",
    "print(restored_data)"
   ]
  },
  {
   "cell_type": "markdown",
   "metadata": {},
   "source": [
    "Задание\n",
    "Напишите класс сборщика технических сообщений OwnLogger.\n",
    "У него должен быть метод log(message, level), который записывает сообщения. Здесь сообщение message может быть любым, а level — один из \"info\", \"warning\", \"error\".\n",
    "Также примените метод show_last(level), где level может быть \"info\", \"warning\", \"error\", \"all\". Для \"all\" он просто возвращает последнее добавленное сообщение, а для остальных — последнее поступившее сообщение соответствующего уровня.\n",
    "При этом по умолчанию значение именно \"all\". Если подходящего сообщения нет, возвращает None."
   ]
  },
  {
   "cell_type": "code",
   "execution_count": 15,
   "metadata": {},
   "outputs": [
    {
     "name": "stdout",
     "output_type": "stream",
     "text": [
      "None\n",
      "None\n",
      "None\n",
      "None\n",
      "Connection lost\n",
      "System started\n"
     ]
    }
   ],
   "source": [
    "class OwnLogger():\n",
    "    def __init__(self):\n",
    "        self.logs = {\"info\":None, \"warning\":None, \"error\":None, 'all':None}\n",
    "        \n",
    "    def log(self, message, level):\n",
    "        self.logs[level] = message\n",
    "        self.logs['all'] = message\n",
    "        \n",
    "    def show_last(self, level='all'):\n",
    "        return self.logs[level]\n",
    "    \n",
    "# применение\n",
    "logger = OwnLogger()\n",
    "print(logger.log(\"System started\", \"info\"))\n",
    "print(logger.show_last(\"error\"))\n",
    "\n",
    "print(logger.log(\"Connection instable\", \"warning\"))\n",
    "print(logger.log(\"Connection lost\", \"error\"))\n",
    "\n",
    "print(logger.show_last())\n",
    "\n",
    "print(logger.show_last(\"info\"))           "
   ]
  },
  {
   "cell_type": "markdown",
   "metadata": {},
   "source": [
    "# Импорт кода"
   ]
  },
  {
   "cell_type": "code",
   "execution_count": 1,
   "metadata": {},
   "outputs": [],
   "source": [
    "from helpers.dumper import Dumper  \n",
    "from helpers.data_frame import DataFrame  \n",
    "from helpers.client import Client  "
   ]
  },
  {
   "cell_type": "markdown",
   "metadata": {},
   "source": [
    "Задание\n",
    "Определите класс Dog, у которого есть методы bark и give_paw.\n",
    "\n",
    "bark возвращает строку \"Bark!\"\n",
    "give_paw возвращает строку \"Paw\""
   ]
  },
  {
   "cell_type": "code",
   "execution_count": 31,
   "metadata": {},
   "outputs": [
    {
     "name": "stdout",
     "output_type": "stream",
     "text": [
      "Bark!\n",
      "Paw\n"
     ]
    }
   ],
   "source": [
    "class Dog():\n",
    "    def bark(*args):\n",
    "        return \"Bark!\"\n",
    "    \n",
    "    def give_paw(*args):\n",
    "        return \"Paw\"\n",
    "    \n",
    "print(Dog.bark())\n",
    "print(Dog.give_paw())        "
   ]
  },
  {
   "cell_type": "markdown",
   "metadata": {},
   "source": []
  },
  {
   "cell_type": "markdown",
   "metadata": {},
   "source": [
    "# Путь к файлу"
   ]
  },
  {
   "cell_type": "code",
   "execution_count": 34,
   "metadata": {},
   "outputs": [
    {
     "name": "stdout",
     "output_type": "stream",
     "text": [
      "c:\\Users\\mors0\\OneDrive\\Рабочий стол\\SF-Data-Science\\Skillfactory\n"
     ]
    }
   ],
   "source": [
    "import os\n",
    "\n",
    "start_path = os.getcwd() # текущий путь\n",
    "print(start_path)"
   ]
  },
  {
   "cell_type": "code",
   "execution_count": 33,
   "metadata": {},
   "outputs": [
    {
     "data": {
      "text/plain": [
       "'c:\\\\Users\\\\mors0\\\\OneDrive\\\\Рабочий стол\\\\SF-Data-Science\\\\Skillfactory'"
      ]
     },
     "execution_count": 33,
     "metadata": {},
     "output_type": "execute_result"
    }
   ],
   "source": [
    "os.chdir(\"..\") # подняться на уровень выше\n",
    "os.getcwd()"
   ]
  },
  {
   "cell_type": "code",
   "execution_count": 36,
   "metadata": {},
   "outputs": [
    {
     "name": "stdout",
     "output_type": "stream",
     "text": [
      "['PY_10 Введение в Pandas', 'PY_11_Базовые_приемы_работы_с_данными_в_Pandas_Module', 'PY_12 Продвинутые методы Pandas', 'PY_13 Визуализация', 'PY_14 Очистка_данных', 'PY_15 ООП']\n",
      "Файл отсутствует в данной директории\n"
     ]
    }
   ],
   "source": [
    "print(os.listdir()) # список всех файлов в директории\n",
    "    \n",
    "if 'tmp.py' not in os.listdir():\n",
    "    print(\"Файл отсутствует в данной директории\")"
   ]
  },
  {
   "cell_type": "code",
   "execution_count": 37,
   "metadata": {},
   "outputs": [
    {
     "name": "stdout",
     "output_type": "stream",
     "text": [
      "c:\\Users\\mors0\\OneDrive\\Рабочий стол\\SF-Data-Science\\Skillfactory\n",
      "c:\\Users\\mors0\\OneDrive\\Рабочий стол\\SF-Data-Science\\Skillfactory\\test\n"
     ]
    }
   ],
   "source": [
    "print(start_path)\n",
    "print(os.path.join(start_path, 'test')) # склеенные пути"
   ]
  },
  {
   "cell_type": "markdown",
   "metadata": {},
   "source": [
    "Задание\n",
    "Сделайте функцию, которая принимает от пользователя путь и выводит всю информацию о содержимом этой папки. Для реализации используйте функцию встроенного модуля os.walk(). Если путь не указан, то сравнение начинается с текущей директории."
   ]
  },
  {
   "cell_type": "code",
   "execution_count": 40,
   "metadata": {},
   "outputs": [
    {
     "name": "stdout",
     "output_type": "stream",
     "text": [
      "Текущая директория c:\\Users\\mors0\\OneDrive\\Рабочий стол\\SF-Data-Science\\Skillfactory\n",
      "---\n",
      "Список папок ['PY_10 Введение в Pandas', 'PY_11_Базовые_приемы_работы_с_данными_в_Pandas_Module', 'PY_12 Продвинутые методы Pandas', 'PY_13 Визуализация', 'PY_14 Очистка_данных', 'PY_15 ООП']\n",
      "---\n",
      "Файлов нет\n",
      "---\n",
      "Папка  c:\\Users\\mors0\\OneDrive\\Рабочий стол\\SF-Data-Science\\Skillfactory\\PY_10 Введение в Pandas\n",
      "Папка  c:\\Users\\mors0\\OneDrive\\Рабочий стол\\SF-Data-Science\\Skillfactory\\PY_11_Базовые_приемы_работы_с_данными_в_Pandas_Module\n",
      "Папка  c:\\Users\\mors0\\OneDrive\\Рабочий стол\\SF-Data-Science\\Skillfactory\\PY_12 Продвинутые методы Pandas\n",
      "Папка  c:\\Users\\mors0\\OneDrive\\Рабочий стол\\SF-Data-Science\\Skillfactory\\PY_13 Визуализация\n",
      "Папка  c:\\Users\\mors0\\OneDrive\\Рабочий стол\\SF-Data-Science\\Skillfactory\\PY_14 Очистка_данных\n",
      "Папка  c:\\Users\\mors0\\OneDrive\\Рабочий стол\\SF-Data-Science\\Skillfactory\\PY_15 ООП\n",
      "===\n",
      "Текущая директория c:\\Users\\mors0\\OneDrive\\Рабочий стол\\SF-Data-Science\\Skillfactory\\PY_10 Введение в Pandas\n",
      "---\n",
      "Список папок ['data']\n",
      "---\n",
      "Список файлов ['TEST.ipynb', 'Theory_10.ipynb']\n",
      "---\n",
      "Все пути:\n",
      "Файл  c:\\Users\\mors0\\OneDrive\\Рабочий стол\\SF-Data-Science\\Skillfactory\\PY_10 Введение в Pandas\\TEST.ipynb\n",
      "Файл  c:\\Users\\mors0\\OneDrive\\Рабочий стол\\SF-Data-Science\\Skillfactory\\PY_10 Введение в Pandas\\Theory_10.ipynb\n",
      "Папка  c:\\Users\\mors0\\OneDrive\\Рабочий стол\\SF-Data-Science\\Skillfactory\\PY_10 Введение в Pandas\\data\n",
      "===\n",
      "Текущая директория c:\\Users\\mors0\\OneDrive\\Рабочий стол\\SF-Data-Science\\Skillfactory\\PY_10 Введение в Pandas\\data\n",
      "---\n",
      "Папок нет\n",
      "---\n",
      "Список файлов ['countries.csv', 'melb_data.csv']\n",
      "---\n",
      "Файл  c:\\Users\\mors0\\OneDrive\\Рабочий стол\\SF-Data-Science\\Skillfactory\\PY_10 Введение в Pandas\\data\\countries.csv\n",
      "Файл  c:\\Users\\mors0\\OneDrive\\Рабочий стол\\SF-Data-Science\\Skillfactory\\PY_10 Введение в Pandas\\data\\melb_data.csv\n",
      "===\n",
      "Текущая директория c:\\Users\\mors0\\OneDrive\\Рабочий стол\\SF-Data-Science\\Skillfactory\\PY_11_Базовые_приемы_работы_с_данными_в_Pandas_Module\n",
      "---\n",
      "Список папок ['data11']\n",
      "---\n",
      "Список файлов ['Task.ipynb', 'Theory_11.ipynb']\n",
      "---\n",
      "Все пути:\n",
      "Файл  c:\\Users\\mors0\\OneDrive\\Рабочий стол\\SF-Data-Science\\Skillfactory\\PY_11_Базовые_приемы_работы_с_данными_в_Pandas_Module\\Task.ipynb\n",
      "Файл  c:\\Users\\mors0\\OneDrive\\Рабочий стол\\SF-Data-Science\\Skillfactory\\PY_11_Базовые_приемы_работы_с_данными_в_Pandas_Module\\Theory_11.ipynb\n",
      "Папка  c:\\Users\\mors0\\OneDrive\\Рабочий стол\\SF-Data-Science\\Skillfactory\\PY_11_Базовые_приемы_работы_с_данными_в_Pandas_Module\\data11\n",
      "===\n",
      "Текущая директория c:\\Users\\mors0\\OneDrive\\Рабочий стол\\SF-Data-Science\\Skillfactory\\PY_11_Базовые_приемы_работы_с_данными_в_Pandas_Module\\data11\n",
      "---\n",
      "Папок нет\n",
      "---\n",
      "Список файлов ['Citi_bike.csv', 'melb_data.csv', 'Rows']\n",
      "---\n",
      "Файл  c:\\Users\\mors0\\OneDrive\\Рабочий стол\\SF-Data-Science\\Skillfactory\\PY_11_Базовые_приемы_работы_с_данными_в_Pandas_Module\\data11\\Citi_bike.csv\n",
      "Файл  c:\\Users\\mors0\\OneDrive\\Рабочий стол\\SF-Data-Science\\Skillfactory\\PY_11_Базовые_приемы_работы_с_данными_в_Pandas_Module\\data11\\melb_data.csv\n",
      "Файл  c:\\Users\\mors0\\OneDrive\\Рабочий стол\\SF-Data-Science\\Skillfactory\\PY_11_Базовые_приемы_работы_с_данными_в_Pandas_Module\\data11\\Rows\n",
      "===\n",
      "Текущая директория c:\\Users\\mors0\\OneDrive\\Рабочий стол\\SF-Data-Science\\Skillfactory\\PY_12 Продвинутые методы Pandas\n",
      "---\n",
      "Список папок ['data_12']\n",
      "---\n",
      "Список файлов ['Practice_12.ipynb', 'Theory_12.ipynb']\n",
      "---\n",
      "Все пути:\n",
      "Файл  c:\\Users\\mors0\\OneDrive\\Рабочий стол\\SF-Data-Science\\Skillfactory\\PY_12 Продвинутые методы Pandas\\Practice_12.ipynb\n",
      "Файл  c:\\Users\\mors0\\OneDrive\\Рабочий стол\\SF-Data-Science\\Skillfactory\\PY_12 Продвинутые методы Pandas\\Theory_12.ipynb\n",
      "Папка  c:\\Users\\mors0\\OneDrive\\Рабочий стол\\SF-Data-Science\\Skillfactory\\PY_12 Продвинутые методы Pandas\\data_12\n",
      "===\n",
      "Текущая директория c:\\Users\\mors0\\OneDrive\\Рабочий стол\\SF-Data-Science\\Skillfactory\\PY_12 Продвинутые методы Pandas\\data_12\n",
      "---\n",
      "Папок нет\n",
      "---\n",
      "Список файлов ['dates.csv', 'melb_data_fe.csv', 'movies.csv', 'orders.csv', 'products.csv', 'ratings1.csv', 'ratings2.csv', 'ratings_movies.csv']\n",
      "---\n",
      "Файл  c:\\Users\\mors0\\OneDrive\\Рабочий стол\\SF-Data-Science\\Skillfactory\\PY_12 Продвинутые методы Pandas\\data_12\\dates.csv\n",
      "Файл  c:\\Users\\mors0\\OneDrive\\Рабочий стол\\SF-Data-Science\\Skillfactory\\PY_12 Продвинутые методы Pandas\\data_12\\melb_data_fe.csv\n",
      "Файл  c:\\Users\\mors0\\OneDrive\\Рабочий стол\\SF-Data-Science\\Skillfactory\\PY_12 Продвинутые методы Pandas\\data_12\\movies.csv\n",
      "Файл  c:\\Users\\mors0\\OneDrive\\Рабочий стол\\SF-Data-Science\\Skillfactory\\PY_12 Продвинутые методы Pandas\\data_12\\orders.csv\n",
      "Файл  c:\\Users\\mors0\\OneDrive\\Рабочий стол\\SF-Data-Science\\Skillfactory\\PY_12 Продвинутые методы Pandas\\data_12\\products.csv\n",
      "Файл  c:\\Users\\mors0\\OneDrive\\Рабочий стол\\SF-Data-Science\\Skillfactory\\PY_12 Продвинутые методы Pandas\\data_12\\ratings1.csv\n",
      "Файл  c:\\Users\\mors0\\OneDrive\\Рабочий стол\\SF-Data-Science\\Skillfactory\\PY_12 Продвинутые методы Pandas\\data_12\\ratings2.csv\n",
      "Файл  c:\\Users\\mors0\\OneDrive\\Рабочий стол\\SF-Data-Science\\Skillfactory\\PY_12 Продвинутые методы Pandas\\data_12\\ratings_movies.csv\n",
      "===\n",
      "Текущая директория c:\\Users\\mors0\\OneDrive\\Рабочий стол\\SF-Data-Science\\Skillfactory\\PY_13 Визуализация\n",
      "---\n",
      "Список папок ['.ipynb_checkpoints', 'data_13', 'plotly']\n",
      "---\n",
      "Список файлов ['Practice_13.ipynb', 'Theory_13.ipynb']\n",
      "---\n",
      "Все пути:\n",
      "Файл  c:\\Users\\mors0\\OneDrive\\Рабочий стол\\SF-Data-Science\\Skillfactory\\PY_13 Визуализация\\Practice_13.ipynb\n",
      "Файл  c:\\Users\\mors0\\OneDrive\\Рабочий стол\\SF-Data-Science\\Skillfactory\\PY_13 Визуализация\\Theory_13.ipynb\n",
      "Папка  c:\\Users\\mors0\\OneDrive\\Рабочий стол\\SF-Data-Science\\Skillfactory\\PY_13 Визуализация\\.ipynb_checkpoints\n",
      "Папка  c:\\Users\\mors0\\OneDrive\\Рабочий стол\\SF-Data-Science\\Skillfactory\\PY_13 Визуализация\\data_13\n",
      "Папка  c:\\Users\\mors0\\OneDrive\\Рабочий стол\\SF-Data-Science\\Skillfactory\\PY_13 Визуализация\\plotly\n",
      "===\n",
      "Текущая директория c:\\Users\\mors0\\OneDrive\\Рабочий стол\\SF-Data-Science\\Skillfactory\\PY_13 Визуализация\\.ipynb_checkpoints\n",
      "---\n",
      "Папок нет\n",
      "---\n",
      "Файлов нет\n",
      "---\n",
      "===\n",
      "Текущая директория c:\\Users\\mors0\\OneDrive\\Рабочий стол\\SF-Data-Science\\Skillfactory\\PY_13 Визуализация\\data_13\n",
      "---\n",
      "Папок нет\n",
      "---\n",
      "Список файлов ['.DS_Store', 'churn.csv', 'country_vaccinations.csv', 'covid_data.csv']\n",
      "---\n",
      "Файл  c:\\Users\\mors0\\OneDrive\\Рабочий стол\\SF-Data-Science\\Skillfactory\\PY_13 Визуализация\\data_13\\.DS_Store\n",
      "Файл  c:\\Users\\mors0\\OneDrive\\Рабочий стол\\SF-Data-Science\\Skillfactory\\PY_13 Визуализация\\data_13\\churn.csv\n",
      "Файл  c:\\Users\\mors0\\OneDrive\\Рабочий стол\\SF-Data-Science\\Skillfactory\\PY_13 Визуализация\\data_13\\country_vaccinations.csv\n",
      "Файл  c:\\Users\\mors0\\OneDrive\\Рабочий стол\\SF-Data-Science\\Skillfactory\\PY_13 Визуализация\\data_13\\covid_data.csv\n",
      "===\n",
      "Текущая директория c:\\Users\\mors0\\OneDrive\\Рабочий стол\\SF-Data-Science\\Skillfactory\\PY_13 Визуализация\\plotly\n",
      "---\n",
      "Папок нет\n",
      "---\n",
      "Список файлов ['choropleth.html', 'scatter_3d.html']\n",
      "---\n",
      "Файл  c:\\Users\\mors0\\OneDrive\\Рабочий стол\\SF-Data-Science\\Skillfactory\\PY_13 Визуализация\\plotly\\choropleth.html\n",
      "Файл  c:\\Users\\mors0\\OneDrive\\Рабочий стол\\SF-Data-Science\\Skillfactory\\PY_13 Визуализация\\plotly\\scatter_3d.html\n",
      "===\n",
      "Текущая директория c:\\Users\\mors0\\OneDrive\\Рабочий стол\\SF-Data-Science\\Skillfactory\\PY_14 Очистка_данных\n",
      "---\n",
      "Список папок ['.ipynb_checkpoints', 'data_14']\n",
      "---\n",
      "Список файлов ['Practice_14.ipynb', 'Theory_14-jvsc-e0ac6e9f-57eb-4180-8a5f-8edad7e0b000.ipynb', 'Theory_14.ipynb']\n",
      "---\n",
      "Все пути:\n",
      "Файл  c:\\Users\\mors0\\OneDrive\\Рабочий стол\\SF-Data-Science\\Skillfactory\\PY_14 Очистка_данных\\Practice_14.ipynb\n",
      "Файл  c:\\Users\\mors0\\OneDrive\\Рабочий стол\\SF-Data-Science\\Skillfactory\\PY_14 Очистка_данных\\Theory_14-jvsc-e0ac6e9f-57eb-4180-8a5f-8edad7e0b000.ipynb\n",
      "Файл  c:\\Users\\mors0\\OneDrive\\Рабочий стол\\SF-Data-Science\\Skillfactory\\PY_14 Очистка_данных\\Theory_14.ipynb\n",
      "Папка  c:\\Users\\mors0\\OneDrive\\Рабочий стол\\SF-Data-Science\\Skillfactory\\PY_14 Очистка_данных\\.ipynb_checkpoints\n",
      "Папка  c:\\Users\\mors0\\OneDrive\\Рабочий стол\\SF-Data-Science\\Skillfactory\\PY_14 Очистка_данных\\data_14\n",
      "===\n",
      "Текущая директория c:\\Users\\mors0\\OneDrive\\Рабочий стол\\SF-Data-Science\\Skillfactory\\PY_14 Очистка_данных\\.ipynb_checkpoints\n",
      "---\n",
      "Папок нет\n",
      "---\n",
      "Список файлов ['Theory_14-jvsc-e0ac6e9f-57eb-4180-8a5f-8edad7e0b000-checkpoint.ipynb']\n",
      "---\n",
      "Файл  c:\\Users\\mors0\\OneDrive\\Рабочий стол\\SF-Data-Science\\Skillfactory\\PY_14 Очистка_данных\\.ipynb_checkpoints\\Theory_14-jvsc-e0ac6e9f-57eb-4180-8a5f-8edad7e0b000-checkpoint.ipynb\n",
      "===\n",
      "Текущая директория c:\\Users\\mors0\\OneDrive\\Рабочий стол\\SF-Data-Science\\Skillfactory\\PY_14 Очистка_данных\\data_14\n",
      "---\n",
      "Папок нет\n",
      "---\n",
      "Список файлов ['diabetes_data.csv', 'sber_data.csv']\n",
      "---\n",
      "Файл  c:\\Users\\mors0\\OneDrive\\Рабочий стол\\SF-Data-Science\\Skillfactory\\PY_14 Очистка_данных\\data_14\\diabetes_data.csv\n",
      "Файл  c:\\Users\\mors0\\OneDrive\\Рабочий стол\\SF-Data-Science\\Skillfactory\\PY_14 Очистка_данных\\data_14\\sber_data.csv\n",
      "===\n",
      "Текущая директория c:\\Users\\mors0\\OneDrive\\Рабочий стол\\SF-Data-Science\\Skillfactory\\PY_15 ООП\n",
      "---\n",
      "Список папок ['.ipynb_checkpoints', 'archive', 'helpers']\n",
      "---\n",
      "Список файлов ['Theory_15.ipynb']\n",
      "---\n",
      "Все пути:\n",
      "Файл  c:\\Users\\mors0\\OneDrive\\Рабочий стол\\SF-Data-Science\\Skillfactory\\PY_15 ООП\\Theory_15.ipynb\n",
      "Папка  c:\\Users\\mors0\\OneDrive\\Рабочий стол\\SF-Data-Science\\Skillfactory\\PY_15 ООП\\.ipynb_checkpoints\n",
      "Папка  c:\\Users\\mors0\\OneDrive\\Рабочий стол\\SF-Data-Science\\Skillfactory\\PY_15 ООП\\archive\n",
      "Папка  c:\\Users\\mors0\\OneDrive\\Рабочий стол\\SF-Data-Science\\Skillfactory\\PY_15 ООП\\helpers\n",
      "===\n",
      "Текущая директория c:\\Users\\mors0\\OneDrive\\Рабочий стол\\SF-Data-Science\\Skillfactory\\PY_15 ООП\\.ipynb_checkpoints\n",
      "---\n",
      "Папок нет\n",
      "---\n",
      "Файлов нет\n",
      "---\n",
      "===\n",
      "Текущая директория c:\\Users\\mors0\\OneDrive\\Рабочий стол\\SF-Data-Science\\Skillfactory\\PY_15 ООП\\archive\n",
      "---\n",
      "Папок нет\n",
      "---\n",
      "Список файлов ['22-06-18.pkl']\n",
      "---\n",
      "Файл  c:\\Users\\mors0\\OneDrive\\Рабочий стол\\SF-Data-Science\\Skillfactory\\PY_15 ООП\\archive\\22-06-18.pkl\n",
      "===\n",
      "Текущая директория c:\\Users\\mors0\\OneDrive\\Рабочий стол\\SF-Data-Science\\Skillfactory\\PY_15 ООП\\helpers\n",
      "---\n",
      "Список папок ['__pycache__']\n",
      "---\n",
      "Список файлов ['client.py', 'data_frame.py', 'dumper.py', '__init__.py']\n",
      "---\n",
      "Все пути:\n",
      "Файл  c:\\Users\\mors0\\OneDrive\\Рабочий стол\\SF-Data-Science\\Skillfactory\\PY_15 ООП\\helpers\\client.py\n",
      "Файл  c:\\Users\\mors0\\OneDrive\\Рабочий стол\\SF-Data-Science\\Skillfactory\\PY_15 ООП\\helpers\\data_frame.py\n",
      "Файл  c:\\Users\\mors0\\OneDrive\\Рабочий стол\\SF-Data-Science\\Skillfactory\\PY_15 ООП\\helpers\\dumper.py\n",
      "Файл  c:\\Users\\mors0\\OneDrive\\Рабочий стол\\SF-Data-Science\\Skillfactory\\PY_15 ООП\\helpers\\__init__.py\n",
      "Папка  c:\\Users\\mors0\\OneDrive\\Рабочий стол\\SF-Data-Science\\Skillfactory\\PY_15 ООП\\helpers\\__pycache__\n",
      "===\n",
      "Текущая директория c:\\Users\\mors0\\OneDrive\\Рабочий стол\\SF-Data-Science\\Skillfactory\\PY_15 ООП\\helpers\\__pycache__\n",
      "---\n",
      "Папок нет\n",
      "---\n",
      "Список файлов ['client.cpython-39.pyc', 'data_frame.cpython-39.pyc', 'dumper.cpython-39.pyc', '__init__.cpython-39.pyc']\n",
      "---\n",
      "Файл  c:\\Users\\mors0\\OneDrive\\Рабочий стол\\SF-Data-Science\\Skillfactory\\PY_15 ООП\\helpers\\__pycache__\\client.cpython-39.pyc\n",
      "Файл  c:\\Users\\mors0\\OneDrive\\Рабочий стол\\SF-Data-Science\\Skillfactory\\PY_15 ООП\\helpers\\__pycache__\\data_frame.cpython-39.pyc\n",
      "Файл  c:\\Users\\mors0\\OneDrive\\Рабочий стол\\SF-Data-Science\\Skillfactory\\PY_15 ООП\\helpers\\__pycache__\\dumper.cpython-39.pyc\n",
      "Файл  c:\\Users\\mors0\\OneDrive\\Рабочий стол\\SF-Data-Science\\Skillfactory\\PY_15 ООП\\helpers\\__pycache__\\__init__.cpython-39.pyc\n",
      "===\n"
     ]
    }
   ],
   "source": [
    "def get_info(path=None):\n",
    "    \n",
    "    start_path = path if path is not None else os.getcwd()\n",
    "\n",
    "    for root, dirs, files in os.walk(start_path):\n",
    "        print(\"Текущая директория\", root)\n",
    "        print(\"---\")\n",
    "\n",
    "        if dirs:\n",
    "            print(\"Список папок\", dirs)\n",
    "        else:\n",
    "            print(\"Папок нет\")\n",
    "        print(\"---\")\n",
    "\n",
    "        if files:\n",
    "            print(\"Список файлов\", files)\n",
    "        else:\n",
    "            print(\"Файлов нет\")\n",
    "        print(\"---\")\n",
    "\n",
    "        if files and dirs:\n",
    "            print(\"Все пути:\")\n",
    "        for f in files:\n",
    "            print(\"Файл \", os.path.join(root, f))\n",
    "        for d in dirs:\n",
    "            print(\"Папка \", os.path.join(root, d))\n",
    "        print(\"===\")\n",
    "\n",
    "get_info()"
   ]
  },
  {
   "cell_type": "markdown",
   "metadata": {},
   "source": [
    "# Работа с файлами"
   ]
  },
  {
   "cell_type": "code",
   "execution_count": 8,
   "metadata": {},
   "outputs": [
    {
     "data": {
      "text/plain": [
       "21"
      ]
     },
     "execution_count": 8,
     "metadata": {},
     "output_type": "execute_result"
    }
   ],
   "source": [
    "f = open('test.txt', 'w', encoding='utf8') # открыли файл на запись\n",
    "f.write(\"This is a test string\") # вывод количества записанных символов\n",
    "f.write(\"This is a test string\")"
   ]
  },
  {
   "cell_type": "code",
   "execution_count": 4,
   "metadata": {},
   "outputs": [],
   "source": [
    "f.close() # ОБЯЗАТЕЛЬНО закрыть файл, чтобы сохранить данные и избежать блокировки операционной системой"
   ]
  },
  {
   "cell_type": "code",
   "execution_count": 9,
   "metadata": {},
   "outputs": [
    {
     "name": "stdout",
     "output_type": "stream",
     "text": [
      "This is a \n",
      "test stringThis is a test string\n"
     ]
    }
   ],
   "source": [
    "f = open('test.txt', 'r', encoding='utf8') # открыли файл на чтение\n",
    "print(f.read(10)) # читаем и выводим первые 10 символов\n",
    "print(f.read()) # с текущего места указателя до конца файла\n",
    "f.close() # ОБЯЗАТЕЛЬНО закрываем файл"
   ]
  },
  {
   "cell_type": "markdown",
   "metadata": {},
   "source": [
    "# Чтение и запись построчно"
   ]
  },
  {
   "cell_type": "code",
   "execution_count": 23,
   "metadata": {},
   "outputs": [],
   "source": [
    "f = open('test.txt', 'a', encoding='utf8') # открываем на дозапись\n",
    "\n",
    "sequence = ['other string\\n', '123\\n', 'test test\\n'] # знак окончания строки проставляем вручную\n",
    "f.writelines(sequence) # записали строки в файл (без переносов)\n",
    "f.close()"
   ]
  },
  {
   "cell_type": "code",
   "execution_count": 18,
   "metadata": {},
   "outputs": [
    {
     "name": "stdout",
     "output_type": "stream",
     "text": [
      "This is a test stringThis is a test stringother string\n",
      "\n"
     ]
    }
   ],
   "source": [
    "f = open('test.txt', 'r', encoding='utf8') # открываем на чтение\n",
    "\n",
    "print(f.readline()) # вывод одной строки (до знака переноса)\n",
    "f.close()"
   ]
  },
  {
   "cell_type": "code",
   "execution_count": 20,
   "metadata": {},
   "outputs": [
    {
     "name": "stdout",
     "output_type": "stream",
     "text": [
      "This \n"
     ]
    }
   ],
   "source": [
    "f = open('test.txt', 'r', encoding='utf8')\n",
    "print(f.read(5)) # вывод 5 первых символов после текущей позиции\n",
    "f.close()"
   ]
  },
  {
   "cell_type": "code",
   "execution_count": 24,
   "metadata": {},
   "outputs": [
    {
     "name": "stdout",
     "output_type": "stream",
     "text": [
      "['This is a test stringThis is a test stringother string\\n', '123\\n', 'test test\\n', 'other string\\n', '123\\n', 'test test\\n', 'other string\\n', '123\\n', 'test test\\n', 'other string\\n', '123\\n', 'test test\\n']\n"
     ]
    }
   ],
   "source": [
    "f = open('test.txt', 'r', encoding='utf8')\n",
    "print(f.readlines()) # считали все строки в список\n",
    "f.close()"
   ]
  },
  {
   "cell_type": "markdown",
   "metadata": {},
   "source": [
    "# Файл - итератор"
   ]
  },
  {
   "cell_type": "code",
   "execution_count": 26,
   "metadata": {},
   "outputs": [
    {
     "name": "stdout",
     "output_type": "stream",
     "text": [
      "This is a test stringThis is a test stringother string\n",
      "123\n",
      "test test\n",
      "other string\n",
      "123\n",
      "test test\n",
      "other string\n",
      "123\n",
      "test test\n",
      "other string\n",
      "123\n",
      "test test\n"
     ]
    }
   ],
   "source": [
    "f = open('test.txt') # перечислим строки файла\n",
    "\n",
    "for line in f:\n",
    "    print(line, end='')\n",
    "    \n",
    "f.close()"
   ]
  },
  {
   "cell_type": "markdown",
   "metadata": {},
   "source": [
    "## Задания\n",
    "1. Создайте любой файл на операционной системе под название input.txt и построчно перепишите его в файл output.txt."
   ]
  },
  {
   "cell_type": "code",
   "execution_count": 27,
   "metadata": {},
   "outputs": [
    {
     "ename": "FileNotFoundError",
     "evalue": "[Errno 2] No such file or directory: 'input.txt'",
     "output_type": "error",
     "traceback": [
      "\u001b[1;31m---------------------------------------------------------------------------\u001b[0m",
      "\u001b[1;31mFileNotFoundError\u001b[0m                         Traceback (most recent call last)",
      "\u001b[1;32mc:\\Users\\mors0\\OneDrive\\Рабочий стол\\SF-Data-Science\\Skillfactory\\PY_15 ООП\\Theory_15.ipynb Cell 57'\u001b[0m in \u001b[0;36m<cell line: 1>\u001b[1;34m()\u001b[0m\n\u001b[1;32m----> <a href='vscode-notebook-cell:/c%3A/Users/mors0/OneDrive/%D0%A0%D0%B0%D0%B1%D0%BE%D1%87%D0%B8%D0%B9%20%D1%81%D1%82%D0%BE%D0%BB/SF-Data-Science/Skillfactory/PY_15%20%D0%9E%D0%9E%D0%9F/Theory_15.ipynb#ch0000057?line=0'>1</a>\u001b[0m \u001b[39mwith\u001b[39;00m \u001b[39mopen\u001b[39;49m(\u001b[39m'\u001b[39;49m\u001b[39minput.txt\u001b[39;49m\u001b[39m'\u001b[39;49m, \u001b[39m'\u001b[39;49m\u001b[39mr\u001b[39;49m\u001b[39m'\u001b[39;49m) \u001b[39mas\u001b[39;00m input_file:\n\u001b[0;32m      <a href='vscode-notebook-cell:/c%3A/Users/mors0/OneDrive/%D0%A0%D0%B0%D0%B1%D0%BE%D1%87%D0%B8%D0%B9%20%D1%81%D1%82%D0%BE%D0%BB/SF-Data-Science/Skillfactory/PY_15%20%D0%9E%D0%9E%D0%9F/Theory_15.ipynb#ch0000057?line=1'>2</a>\u001b[0m     \u001b[39mwith\u001b[39;00m \u001b[39mopen\u001b[39m(\u001b[39m'\u001b[39m\u001b[39moutput.txt.txt\u001b[39m\u001b[39m'\u001b[39m, \u001b[39m'\u001b[39m\u001b[39mw\u001b[39m\u001b[39m'\u001b[39m) \u001b[39mas\u001b[39;00m output_file:\n\u001b[0;32m      <a href='vscode-notebook-cell:/c%3A/Users/mors0/OneDrive/%D0%A0%D0%B0%D0%B1%D0%BE%D1%87%D0%B8%D0%B9%20%D1%81%D1%82%D0%BE%D0%BB/SF-Data-Science/Skillfactory/PY_15%20%D0%9E%D0%9E%D0%9F/Theory_15.ipynb#ch0000057?line=2'>3</a>\u001b[0m         \u001b[39mfor\u001b[39;00m line \u001b[39min\u001b[39;00m input_file:\n",
      "\u001b[1;31mFileNotFoundError\u001b[0m: [Errno 2] No such file or directory: 'input.txt'"
     ]
    }
   ],
   "source": [
    "with open('input.txt', 'r') as input_file: # открыли файл input на чтение\n",
    "    with open('output.txt.txt', 'w') as output_file: # открыли файл output на запись\n",
    "        for line in input_file: # в цикле перебираем строки файла input\n",
    "            output_file.write(line) # и записываем из в файл output"
   ]
  },
  {
   "cell_type": "markdown",
   "metadata": {},
   "source": [
    "2. Дан файл numbers.txt, компоненты которого являются действительными числами (файл создайте самостоятельно и заполните любыми числам, в одной строке одно число). Найдите сумму наибольшего и наименьшего из значений и запишите результат в файл output.txt."
   ]
  },
  {
   "cell_type": "code",
   "execution_count": 33,
   "metadata": {},
   "outputs": [
    {
     "name": "stdout",
     "output_type": "stream",
     "text": [
      "71.0\n"
     ]
    }
   ],
   "source": [
    "with open('numbers.txt', 'w') as f:\n",
    "    f.write('45\\n') \n",
    "    f.write('8\\n') \n",
    "    f.write('67\\n') \n",
    "    f.write('4\\n')\n",
    "    f.write('11\\n')\n",
    "\n",
    "with open('numbers.txt') as f:\n",
    "    num_min = num_max = float(f.readline()) # считываем построчно числа\n",
    "    for line in f:\n",
    "        num = float(line)\n",
    "        if num > num_max:\n",
    "            num_max = num\n",
    "        elif num < num_min:\n",
    "            num_min = num\n",
    "            \n",
    "    num_sum = num_min + num_max\n",
    "    \n",
    "with open('output.txt', 'w') as f:\n",
    "    f.write(str(num_sum))\n",
    "    \n",
    "with open('output.txt', 'r') as f:   \n",
    "    print(f.read())"
   ]
  },
  {
   "cell_type": "markdown",
   "metadata": {},
   "source": [
    "3. В текстовый файл построчно записаны фамилии и имена учащихся класса и их оценки за контрольную. Подсчитайте количество учащихся, чья оценка меньше 3 баллов. Cодержание файла:\n",
    "Иванов О. 4\n",
    "Петров И. 3\n",
    "Дмитриев Н. 2\n",
    "Смирнова О. 4\n",
    "Керченских В. 5\n",
    "Котов Д. 2\n",
    "Бирюкова Н. 1\n",
    "Данилов П. 3\n",
    "Аранских В. 5\n",
    "Лемонов Ю. 2\n",
    "Олегова К. 4"
   ]
  },
  {
   "cell_type": "code",
   "execution_count": 34,
   "metadata": {},
   "outputs": [
    {
     "ename": "AttributeError",
     "evalue": "'function' object has no attribute 'txt'",
     "output_type": "error",
     "traceback": [
      "\u001b[1;31m---------------------------------------------------------------------------\u001b[0m",
      "\u001b[1;31mAttributeError\u001b[0m                            Traceback (most recent call last)",
      "\u001b[1;32mc:\\Users\\mors0\\OneDrive\\Рабочий стол\\SF-Data-Science\\Skillfactory\\PY_15 ООП\\Theory_15.ipynb Cell 39'\u001b[0m in \u001b[0;36m<cell line: 3>\u001b[1;34m()\u001b[0m\n\u001b[0;32m      <a href='vscode-notebook-cell:/c%3A/Users/mors0/OneDrive/%D0%A0%D0%B0%D0%B1%D0%BE%D1%87%D0%B8%D0%B9%20%D1%81%D1%82%D0%BE%D0%BB/SF-Data-Science/Skillfactory/PY_15%20%D0%9E%D0%9E%D0%9F/Theory_15.ipynb#ch0000038?line=0'>1</a>\u001b[0m count \u001b[39m=\u001b[39m \u001b[39m0\u001b[39m\n\u001b[1;32m----> <a href='vscode-notebook-cell:/c%3A/Users/mors0/OneDrive/%D0%A0%D0%B0%D0%B1%D0%BE%D1%87%D0%B8%D0%B9%20%D1%81%D1%82%D0%BE%D0%BB/SF-Data-Science/Skillfactory/PY_15%20%D0%9E%D0%9E%D0%9F/Theory_15.ipynb#ch0000038?line=2'>3</a>\u001b[0m \u001b[39mfor\u001b[39;00m line \u001b[39min\u001b[39;00m \u001b[39mopen\u001b[39m(\u001b[39minput\u001b[39;49m\u001b[39m.\u001b[39;49mtxt):\n\u001b[0;32m      <a href='vscode-notebook-cell:/c%3A/Users/mors0/OneDrive/%D0%A0%D0%B0%D0%B1%D0%BE%D1%87%D0%B8%D0%B9%20%D1%81%D1%82%D0%BE%D0%BB/SF-Data-Science/Skillfactory/PY_15%20%D0%9E%D0%9E%D0%9F/Theory_15.ipynb#ch0000038?line=3'>4</a>\u001b[0m     mark \u001b[39m=\u001b[39m \u001b[39mint\u001b[39m(line\u001b[39m.\u001b[39msplit()[\u001b[39m-\u001b[39m\u001b[39m1\u001b[39m])\n\u001b[0;32m      <a href='vscode-notebook-cell:/c%3A/Users/mors0/OneDrive/%D0%A0%D0%B0%D0%B1%D0%BE%D1%87%D0%B8%D0%B9%20%D1%81%D1%82%D0%BE%D0%BB/SF-Data-Science/Skillfactory/PY_15%20%D0%9E%D0%9E%D0%9F/Theory_15.ipynb#ch0000038?line=4'>5</a>\u001b[0m     \u001b[39mif\u001b[39;00m mark \u001b[39m<\u001b[39m \u001b[39m3\u001b[39m:\n",
      "\u001b[1;31mAttributeError\u001b[0m: 'function' object has no attribute 'txt'"
     ]
    }
   ],
   "source": [
    "count = 0\n",
    "\n",
    "for line in open(input.txt):\n",
    "    mark = int(line.split()[-1])\n",
    "    if mark < 3:\n",
    "        count += 1    "
   ]
  },
  {
   "cell_type": "markdown",
   "metadata": {},
   "source": [
    "4. Выполните реверсирование строк файла (перестановку строк файла в обратном порядке)."
   ]
  },
  {
   "cell_type": "code",
   "execution_count": null,
   "metadata": {},
   "outputs": [],
   "source": [
    "with open('input.txt', 'r') as input_file:\n",
    "    with open('output.txt', 'w') as output_file:\n",
    "        input_file = reversed(input_file)\n",
    "        for line in input_file.readlines():\n",
    "            output_file.write(line)"
   ]
  },
  {
   "cell_type": "markdown",
   "metadata": {},
   "source": [
    "5. Создать скрипт, который будет в input() принимать строки, и их необходимо будет конвертировать в числа, добавить try-except на то, чтобы строки могли быть сконвертированы в числа.\n",
    "\n",
    "В случае удачного выполнения скрипта написать: «Вы ввели <введённое число>».\n",
    "\n",
    "В конце скрипта обязательно написать: «Выход из программы».\n",
    "\n",
    "ПРИМЕЧАНИЕ: Для отлова ошибок используйте try-except, а также блоки finally и else."
   ]
  },
  {
   "cell_type": "code",
   "execution_count": 8,
   "metadata": {},
   "outputs": [
    {
     "name": "stdout",
     "output_type": "stream",
     "text": [
      "Вы ввели неправильное число\n",
      "Выход из программы\n"
     ]
    }
   ],
   "source": [
    "a = 'razdvatri'\n",
    "\n",
    "try:\n",
    "    a = int(a)\n",
    "    print(f'Вы ввели {a}')\n",
    "except:\n",
    "    print('Вы ввели неправильное число')\n",
    "finally:\n",
    "    print('Выход из программы')\n",
    "    "
   ]
  }
 ],
 "metadata": {
  "kernelspec": {
   "display_name": "Python 3.9.13 64-bit",
   "language": "python",
   "name": "python3"
  },
  "language_info": {
   "codemirror_mode": {
    "name": "ipython",
    "version": 3
   },
   "file_extension": ".py",
   "mimetype": "text/x-python",
   "name": "python",
   "nbconvert_exporter": "python",
   "pygments_lexer": "ipython3",
   "version": "3.9.13"
  },
  "orig_nbformat": 4,
  "vscode": {
   "interpreter": {
    "hash": "5e6de380757105bcf75186a154ef2d55e44d157b0d51cbbb951c1add3ec59751"
   }
  }
 },
 "nbformat": 4,
 "nbformat_minor": 2
}
