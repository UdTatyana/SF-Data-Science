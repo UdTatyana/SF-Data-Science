{
 "cells": [
  {
   "cell_type": "code",
   "execution_count": 1,
   "metadata": {},
   "outputs": [],
   "source": [
    "# <center> **Практика**"
   ]
  },
  {
   "attachments": {},
   "cell_type": "markdown",
   "metadata": {},
   "source": [
    "## <center> **Прогнозирование биологического ответа**"
   ]
  },
  {
   "attachments": {},
   "cell_type": "markdown",
   "metadata": {},
   "source": [
    "Необходимо предсказать биологический ответ молекул (столбец 'Activity') по их химическому составу (столбцы D1-D1776).\n",
    "\n",
    "Первый столбец Activity содержит экспериментальные данные, описывающие фактический биологический ответ [0, 1]; \n",
    "Остальные столбцы D1-D1776 представляют собой молекулярные дескрипторы — это вычисляемые свойства, которые могут фиксировать некоторые характеристики молекулы, например размер, форму или состав элементов.\n",
    "\n",
    "Предварительная обработка не требуется, данные уже закодированы и нормализованы.\n",
    "\n",
    "В качестве метрики будем использовать F1-score.\n",
    "\n",
    "Необходимо обучить две модели: логистическую регрессию и случайный лес. Далее нужно сделать подбор гиперпараметров с помощью базовых и продвинутых методов оптимизации. Важно использовать все четыре метода (GridSeachCV, RandomizedSearchCV, Hyperopt, Optuna) хотя бы по разу, максимальное количество итераций не должно превышать 50."
   ]
  },
  {
   "cell_type": "code",
   "execution_count": 9,
   "metadata": {},
   "outputs": [],
   "source": [
    "#импорт библиотек\n",
    "import numpy as np #для матричных вычислений\n",
    "import pandas as pd #для анализа и предобработки данных\n",
    "\n",
    "from sklearn import linear_model #линейные модели\n",
    "from sklearn import tree #деревья решений\n",
    "from sklearn import ensemble #ансамбли\n",
    "from sklearn import metrics #метрики\n",
    "from sklearn import preprocessing #предобработка\n",
    "from sklearn.model_selection import train_test_split #сплитование выборки\n",
    "from sklearn.model_selection import cross_val_score"
   ]
  },
  {
   "attachments": {},
   "cell_type": "markdown",
   "metadata": {},
   "source": [
    "Загрузка данных"
   ]
  },
  {
   "cell_type": "code",
   "execution_count": 3,
   "metadata": {},
   "outputs": [
    {
     "data": {
      "text/html": [
       "<div>\n",
       "<style scoped>\n",
       "    .dataframe tbody tr th:only-of-type {\n",
       "        vertical-align: middle;\n",
       "    }\n",
       "\n",
       "    .dataframe tbody tr th {\n",
       "        vertical-align: top;\n",
       "    }\n",
       "\n",
       "    .dataframe thead th {\n",
       "        text-align: right;\n",
       "    }\n",
       "</style>\n",
       "<table border=\"1\" class=\"dataframe\">\n",
       "  <thead>\n",
       "    <tr style=\"text-align: right;\">\n",
       "      <th></th>\n",
       "      <th>Activity</th>\n",
       "      <th>D1</th>\n",
       "      <th>D2</th>\n",
       "      <th>D3</th>\n",
       "      <th>D4</th>\n",
       "      <th>D5</th>\n",
       "      <th>D6</th>\n",
       "      <th>D7</th>\n",
       "      <th>D8</th>\n",
       "      <th>D9</th>\n",
       "      <th>...</th>\n",
       "      <th>D1767</th>\n",
       "      <th>D1768</th>\n",
       "      <th>D1769</th>\n",
       "      <th>D1770</th>\n",
       "      <th>D1771</th>\n",
       "      <th>D1772</th>\n",
       "      <th>D1773</th>\n",
       "      <th>D1774</th>\n",
       "      <th>D1775</th>\n",
       "      <th>D1776</th>\n",
       "    </tr>\n",
       "  </thead>\n",
       "  <tbody>\n",
       "    <tr>\n",
       "      <th>0</th>\n",
       "      <td>1</td>\n",
       "      <td>0.000000</td>\n",
       "      <td>0.497009</td>\n",
       "      <td>0.10</td>\n",
       "      <td>0.0</td>\n",
       "      <td>0.132956</td>\n",
       "      <td>0.678031</td>\n",
       "      <td>0.273166</td>\n",
       "      <td>0.585445</td>\n",
       "      <td>0.743663</td>\n",
       "      <td>...</td>\n",
       "      <td>0</td>\n",
       "      <td>0</td>\n",
       "      <td>0</td>\n",
       "      <td>0</td>\n",
       "      <td>0</td>\n",
       "      <td>0</td>\n",
       "      <td>0</td>\n",
       "      <td>0</td>\n",
       "      <td>0</td>\n",
       "      <td>0</td>\n",
       "    </tr>\n",
       "    <tr>\n",
       "      <th>1</th>\n",
       "      <td>1</td>\n",
       "      <td>0.366667</td>\n",
       "      <td>0.606291</td>\n",
       "      <td>0.05</td>\n",
       "      <td>0.0</td>\n",
       "      <td>0.111209</td>\n",
       "      <td>0.803455</td>\n",
       "      <td>0.106105</td>\n",
       "      <td>0.411754</td>\n",
       "      <td>0.836582</td>\n",
       "      <td>...</td>\n",
       "      <td>1</td>\n",
       "      <td>1</td>\n",
       "      <td>1</td>\n",
       "      <td>1</td>\n",
       "      <td>0</td>\n",
       "      <td>1</td>\n",
       "      <td>0</td>\n",
       "      <td>0</td>\n",
       "      <td>1</td>\n",
       "      <td>0</td>\n",
       "    </tr>\n",
       "    <tr>\n",
       "      <th>2</th>\n",
       "      <td>1</td>\n",
       "      <td>0.033300</td>\n",
       "      <td>0.480124</td>\n",
       "      <td>0.00</td>\n",
       "      <td>0.0</td>\n",
       "      <td>0.209791</td>\n",
       "      <td>0.610350</td>\n",
       "      <td>0.356453</td>\n",
       "      <td>0.517720</td>\n",
       "      <td>0.679051</td>\n",
       "      <td>...</td>\n",
       "      <td>0</td>\n",
       "      <td>0</td>\n",
       "      <td>0</td>\n",
       "      <td>0</td>\n",
       "      <td>0</td>\n",
       "      <td>0</td>\n",
       "      <td>0</td>\n",
       "      <td>0</td>\n",
       "      <td>0</td>\n",
       "      <td>0</td>\n",
       "    </tr>\n",
       "    <tr>\n",
       "      <th>3</th>\n",
       "      <td>1</td>\n",
       "      <td>0.000000</td>\n",
       "      <td>0.538825</td>\n",
       "      <td>0.00</td>\n",
       "      <td>0.5</td>\n",
       "      <td>0.196344</td>\n",
       "      <td>0.724230</td>\n",
       "      <td>0.235606</td>\n",
       "      <td>0.288764</td>\n",
       "      <td>0.805110</td>\n",
       "      <td>...</td>\n",
       "      <td>0</td>\n",
       "      <td>0</td>\n",
       "      <td>0</td>\n",
       "      <td>0</td>\n",
       "      <td>0</td>\n",
       "      <td>0</td>\n",
       "      <td>0</td>\n",
       "      <td>0</td>\n",
       "      <td>0</td>\n",
       "      <td>0</td>\n",
       "    </tr>\n",
       "    <tr>\n",
       "      <th>4</th>\n",
       "      <td>0</td>\n",
       "      <td>0.100000</td>\n",
       "      <td>0.517794</td>\n",
       "      <td>0.00</td>\n",
       "      <td>0.0</td>\n",
       "      <td>0.494734</td>\n",
       "      <td>0.781422</td>\n",
       "      <td>0.154361</td>\n",
       "      <td>0.303809</td>\n",
       "      <td>0.812646</td>\n",
       "      <td>...</td>\n",
       "      <td>0</td>\n",
       "      <td>0</td>\n",
       "      <td>0</td>\n",
       "      <td>0</td>\n",
       "      <td>0</td>\n",
       "      <td>0</td>\n",
       "      <td>0</td>\n",
       "      <td>0</td>\n",
       "      <td>0</td>\n",
       "      <td>0</td>\n",
       "    </tr>\n",
       "  </tbody>\n",
       "</table>\n",
       "<p>5 rows × 1777 columns</p>\n",
       "</div>"
      ],
      "text/plain": [
       "   Activity        D1        D2    D3   D4        D5        D6        D7  \\\n",
       "0         1  0.000000  0.497009  0.10  0.0  0.132956  0.678031  0.273166   \n",
       "1         1  0.366667  0.606291  0.05  0.0  0.111209  0.803455  0.106105   \n",
       "2         1  0.033300  0.480124  0.00  0.0  0.209791  0.610350  0.356453   \n",
       "3         1  0.000000  0.538825  0.00  0.5  0.196344  0.724230  0.235606   \n",
       "4         0  0.100000  0.517794  0.00  0.0  0.494734  0.781422  0.154361   \n",
       "\n",
       "         D8        D9  ...  D1767  D1768  D1769  D1770  D1771  D1772  D1773  \\\n",
       "0  0.585445  0.743663  ...      0      0      0      0      0      0      0   \n",
       "1  0.411754  0.836582  ...      1      1      1      1      0      1      0   \n",
       "2  0.517720  0.679051  ...      0      0      0      0      0      0      0   \n",
       "3  0.288764  0.805110  ...      0      0      0      0      0      0      0   \n",
       "4  0.303809  0.812646  ...      0      0      0      0      0      0      0   \n",
       "\n",
       "   D1774  D1775  D1776  \n",
       "0      0      0      0  \n",
       "1      0      1      0  \n",
       "2      0      0      0  \n",
       "3      0      0      0  \n",
       "4      0      0      0  \n",
       "\n",
       "[5 rows x 1777 columns]"
      ]
     },
     "execution_count": 3,
     "metadata": {},
     "output_type": "execute_result"
    }
   ],
   "source": [
    "data = pd.read_csv('_train_sem09 (1).csv')\n",
    "data.head()"
   ]
  },
  {
   "cell_type": "code",
   "execution_count": 4,
   "metadata": {},
   "outputs": [],
   "source": [
    "# cоздание матрицы наблюдений X и вектора ответов y\n",
    "X = data.drop(['Activity'], axis=1)\n",
    "y = data['Activity']\n",
    "\n",
    "# Разделение выборки на тренировочную и тестовую в соотношении 80/20\n",
    "X_train, X_test, y_train, y_test = train_test_split(X, y, random_state = 42, test_size = 0.2)"
   ]
  },
  {
   "attachments": {},
   "cell_type": "markdown",
   "metadata": {},
   "source": [
    "---"
   ]
  },
  {
   "attachments": {},
   "cell_type": "markdown",
   "metadata": {},
   "source": [
    "## <center> **Логистическая регрессия**"
   ]
  },
  {
   "attachments": {},
   "cell_type": "markdown",
   "metadata": {},
   "source": [
    "## Базовая модель с параметрами по умолчанию"
   ]
  },
  {
   "cell_type": "code",
   "execution_count": 22,
   "metadata": {},
   "outputs": [
    {
     "name": "stdout",
     "output_type": "stream",
     "text": [
      "F1-score базовой логистической регрессии: 0.789\n"
     ]
    }
   ],
   "source": [
    "log_reg = linear_model.LogisticRegression(max_iter = 1000) # cоздаем объект класса логистическая регрессия\n",
    "log_reg.fit(X_train, y_train) # обучаем модель\n",
    "y_test_pred = log_reg.predict(X_test) # делаем предсказание\n",
    "print(f'F1-score базовой логистической регрессии: {metrics.f1_score(y_test, y_test_pred).round(3)}') # вывод метрики"
   ]
  },
  {
   "attachments": {},
   "cell_type": "markdown",
   "metadata": {},
   "source": [
    "## Подберем гиперпараметры с помощью GridSeachCV"
   ]
  },
  {
   "cell_type": "code",
   "execution_count": 9,
   "metadata": {},
   "outputs": [
    {
     "name": "stdout",
     "output_type": "stream",
     "text": [
      "CPU times: total: 15.5 s\n",
      "Wall time: 6min 52s\n",
      "F1-score логистической регрессии c GridSearchCV: 0.789\n",
      "Наилучшие значения гиперпараметров GridSearchCV: {'penalty': 'l2', 'solver': 'lbfgs'}\n"
     ]
    }
   ],
   "source": [
    "from sklearn.model_selection import GridSearchCV\n",
    "\n",
    "# укажем гиперпараметры и их значение в словаре\n",
    "param_grid = {'penalty': ['l2', 'none'] , # тип регурялизации\n",
    "              'solver': ['lbfgs', 'saga'] # алгоритм оптимизации\n",
    "              }\n",
    "# инициируем класс, передадим в него словарь, модель\n",
    "grid_search = GridSearchCV(\n",
    "    estimator=linear_model.LogisticRegression(\n",
    "        random_state=42, # генератор случайных чисел\n",
    "        max_iter=1000 # количество итераций на сходимость\n",
    "    ), \n",
    "    param_grid=param_grid, # гиперпараметры\n",
    "    cv=5, # фолды для кросс-валидации\n",
    "    n_jobs = -1 # используем все дотупные ядра\n",
    ")\n",
    "  \n",
    "%time grid_search.fit(X_train, y_train) # обучение модели с указанием затраченного времени\n",
    "y_test_pred = grid_search.predict(X_test) # предсказание на тестовой выборке\n",
    "\n",
    "print(f'F1-score логистической регрессии c GridSearchCV: {metrics.f1_score(y_test, y_test_pred).round(3)}') \n",
    "print(f'Наилучшие значения гиперпараметров GridSearchCV: {grid_search.best_params_}')"
   ]
  },
  {
   "attachments": {},
   "cell_type": "markdown",
   "metadata": {},
   "source": [
    "Метрика не изменилась, да и времени на работу алгоритма потребовалось \n",
    "не так уж и много - 6.5 мин.\n",
    "Попробуем расширить сетку гиперпараметров, добавив силу регуляризации."
   ]
  },
  {
   "cell_type": "code",
   "execution_count": 10,
   "metadata": {},
   "outputs": [
    {
     "name": "stdout",
     "output_type": "stream",
     "text": [
      "CPU times: total: 4.98 s\n",
      "Wall time: 17min 28s\n",
      "F1-score логистической регрессии c GridSearchCV: 0.793\n",
      "Наилучшие значения гиперпараметров GridSearchCV: {'C': 0.05, 'penalty': 'l2', 'solver': 'lbfgs'}\n"
     ]
    }
   ],
   "source": [
    "# укажем гиперпараметры и их значение в словаре\n",
    "param_grid = {'penalty': ['l2', 'none'] , # тип регурялизации\n",
    "              'solver': ['lbfgs', 'saga'], # алгоритм оптимизации\n",
    "              'C': [0.01, 0.03, 0.05, 0.08] # сила регуляризации\n",
    "              }\n",
    "# инициируем класс, передадим в него словарь, модель\n",
    "grid_search = GridSearchCV(\n",
    "    estimator=linear_model.LogisticRegression(\n",
    "        random_state=42, # генератор случайных чисел\n",
    "        max_iter=1000 # количество итераций на сходимость\n",
    "    ), \n",
    "    param_grid=param_grid, # гиперпараметры\n",
    "    cv=5, # фолды для кросс-валидации\n",
    "    n_jobs = -1 # используем все дотупные ядра\n",
    ")\n",
    "  \n",
    "%time grid_search.fit(X_train, y_train) # обучение модели с указанием затраченного времени\n",
    "y_test_pred = grid_search.predict(X_test) # предсказание на тестовой выборке\n",
    "\n",
    "print(f'F1-score логистической регрессии c GridSearchCV: {metrics.f1_score(y_test, y_test_pred).round(3)}') \n",
    "print(f'Наилучшие значения гиперпараметров GridSearchCV: {grid_search.best_params_}')"
   ]
  },
  {
   "attachments": {},
   "cell_type": "markdown",
   "metadata": {},
   "source": [
    "Метрику удалось повысить, но потребовалось в 3 раза больше времени времени."
   ]
  },
  {
   "attachments": {},
   "cell_type": "markdown",
   "metadata": {},
   "source": [
    "## Подберем гиперпараметры с помощью RandomizedSearchCV"
   ]
  },
  {
   "cell_type": "code",
   "execution_count": 11,
   "metadata": {},
   "outputs": [
    {
     "name": "stdout",
     "output_type": "stream",
     "text": [
      "CPU times: total: 5.25 s\n",
      "Wall time: 10min 43s\n",
      "F1-score логистической регрессии c RandomizedSearchCV: 0.796\n",
      "Наилучшие значения гиперпараметров RandomizedSearchCV: {'solver': 'lbfgs', 'penalty': 'l2', 'C': 0.04105263157894737}\n"
     ]
    }
   ],
   "source": [
    "from sklearn.model_selection import RandomizedSearchCV\n",
    "\n",
    "# # укажем гиперпараметры и их значение в словаре\n",
    "param_distributions = {'penalty': ['l2', 'none'], # тип регурялизации\n",
    "                       'solver': ['lbfgs', 'saga'], # алгоритм оптимизации\n",
    "                       'C': list(np.linspace(0.03, 0.1, 20, dtype=float)) # диапазон силы регуляризации\n",
    "                    }\n",
    "\n",
    "# инициируем класс, передадим в него словарь, модель            \n",
    "random_search = RandomizedSearchCV(\n",
    "    estimator=linear_model.LogisticRegression(\n",
    "        random_state=42, # воспроизводимость\n",
    "        max_iter=1000 # количество итераций на сходимость\n",
    "        ), \n",
    "    param_distributions=param_distributions, # гиперпараметры\n",
    "    cv=5, # фолды для кросс-валидации\n",
    "    n_iter = 10, # количество комбинаций на расчет\n",
    "    n_jobs = -1 # используем все дотупные ядра\n",
    ")  \n",
    "%time random_search.fit(X_train, y_train) # обучение модели с указанием затраченного времени\n",
    "y_test_pred = random_search.predict(X_test) # предсказание на тестовой выборке\n",
    "\n",
    "print(f'F1-score логистической регрессии c RandomizedSearchCV: {metrics.f1_score(y_test, y_test_pred).round(3)}') \n",
    "print(f'Наилучшие значения гиперпараметров RandomizedSearchCV: {random_search.best_params_}')"
   ]
  },
  {
   "attachments": {},
   "cell_type": "markdown",
   "metadata": {},
   "source": [
    "Метрику удалось ещё чуть-чуть улучшить, при этом времени понадобилось меньшe."
   ]
  },
  {
   "attachments": {},
   "cell_type": "markdown",
   "metadata": {},
   "source": [
    "## Подберем гиперпараметры с помощью Hyperopt"
   ]
  },
  {
   "cell_type": "code",
   "execution_count": 11,
   "metadata": {},
   "outputs": [
    {
     "name": "stderr",
     "output_type": "stream",
     "text": [
      "TPE is being used as the default algorithm.\n"
     ]
    },
    {
     "name": "stdout",
     "output_type": "stream",
     "text": [
      "CPU times: total: 0 ns\n",
      "Wall time: 0 ns\n",
      "  0%|          | 0/20 [00:00<?, ?trial/s, best loss=?]"
     ]
    },
    {
     "name": "stderr",
     "output_type": "stream",
     "text": [
      "c:\\Users\\mors0\\AppData\\Local\\Programs\\Python\\Python39\\lib\\site-packages\\sklearn\\linear_model\\_logistic.py:1113: UserWarning: Setting penalty='none' will ignore the C and l1_ratio parameters\n",
      "  warnings.warn(\n",
      "\n",
      "c:\\Users\\mors0\\AppData\\Local\\Programs\\Python\\Python39\\lib\\site-packages\\sklearn\\linear_model\\_logistic.py:444: ConvergenceWarning: lbfgs failed to converge (status=1):\n",
      "STOP: TOTAL NO. of ITERATIONS REACHED LIMIT.\n",
      "\n",
      "Increase the number of iterations (max_iter) or scale the data as shown in:\n",
      "    https://scikit-learn.org/stable/modules/preprocessing.html\n",
      "Please also refer to the documentation for alternative solver options:\n",
      "    https://scikit-learn.org/stable/modules/linear_model.html#logistic-regression\n",
      "  n_iter_i = _check_optimize_result(\n",
      "\n"
     ]
    },
    {
     "name": "stdout",
     "output_type": "stream",
     "text": [
      "  5%|▌         | 1/20 [00:13<04:07, 13.03s/trial, best loss: -0.7556086428138172]"
     ]
    },
    {
     "name": "stderr",
     "output_type": "stream",
     "text": [
      "c:\\Users\\mors0\\AppData\\Local\\Programs\\Python\\Python39\\lib\\site-packages\\sklearn\\linear_model\\_sag.py:350: ConvergenceWarning: The max_iter was reached which means the coef_ did not converge\n",
      "  warnings.warn(\n",
      "\n"
     ]
    },
    {
     "name": "stdout",
     "output_type": "stream",
     "text": [
      " 10%|█         | 2/20 [00:49<08:03, 26.84s/trial, best loss: -0.7854878906760254]"
     ]
    },
    {
     "name": "stderr",
     "output_type": "stream",
     "text": [
      "c:\\Users\\mors0\\AppData\\Local\\Programs\\Python\\Python39\\lib\\site-packages\\sklearn\\linear_model\\_logistic.py:444: ConvergenceWarning: lbfgs failed to converge (status=1):\n",
      "STOP: TOTAL NO. of ITERATIONS REACHED LIMIT.\n",
      "\n",
      "Increase the number of iterations (max_iter) or scale the data as shown in:\n",
      "    https://scikit-learn.org/stable/modules/preprocessing.html\n",
      "Please also refer to the documentation for alternative solver options:\n",
      "    https://scikit-learn.org/stable/modules/linear_model.html#logistic-regression\n",
      "  n_iter_i = _check_optimize_result(\n",
      "\n"
     ]
    },
    {
     "name": "stdout",
     "output_type": "stream",
     "text": [
      " 15%|█▌        | 3/20 [00:57<05:06, 18.03s/trial, best loss: -0.7854878906760254]"
     ]
    },
    {
     "name": "stderr",
     "output_type": "stream",
     "text": [
      "c:\\Users\\mors0\\AppData\\Local\\Programs\\Python\\Python39\\lib\\site-packages\\sklearn\\linear_model\\_sag.py:350: ConvergenceWarning: The max_iter was reached which means the coef_ did not converge\n",
      "  warnings.warn(\n",
      "\n"
     ]
    },
    {
     "name": "stdout",
     "output_type": "stream",
     "text": [
      " 20%|██        | 4/20 [01:32<06:35, 24.73s/trial, best loss: -0.7854878906760254]"
     ]
    },
    {
     "name": "stderr",
     "output_type": "stream",
     "text": [
      "c:\\Users\\mors0\\AppData\\Local\\Programs\\Python\\Python39\\lib\\site-packages\\sklearn\\linear_model\\_logistic.py:1113: UserWarning: Setting penalty='none' will ignore the C and l1_ratio parameters\n",
      "  warnings.warn(\n",
      "\n",
      "c:\\Users\\mors0\\AppData\\Local\\Programs\\Python\\Python39\\lib\\site-packages\\sklearn\\linear_model\\_logistic.py:444: ConvergenceWarning: lbfgs failed to converge (status=1):\n",
      "STOP: TOTAL NO. of ITERATIONS REACHED LIMIT.\n",
      "\n",
      "Increase the number of iterations (max_iter) or scale the data as shown in:\n",
      "    https://scikit-learn.org/stable/modules/preprocessing.html\n",
      "Please also refer to the documentation for alternative solver options:\n",
      "    https://scikit-learn.org/stable/modules/linear_model.html#logistic-regression\n",
      "  n_iter_i = _check_optimize_result(\n",
      "\n"
     ]
    },
    {
     "name": "stdout",
     "output_type": "stream",
     "text": [
      " 25%|██▌       | 5/20 [01:39<04:37, 18.53s/trial, best loss: -0.7854878906760254]"
     ]
    },
    {
     "name": "stderr",
     "output_type": "stream",
     "text": [
      "c:\\Users\\mors0\\AppData\\Local\\Programs\\Python\\Python39\\lib\\site-packages\\sklearn\\linear_model\\_logistic.py:1113: UserWarning: Setting penalty='none' will ignore the C and l1_ratio parameters\n",
      "  warnings.warn(\n",
      "\n",
      "c:\\Users\\mors0\\AppData\\Local\\Programs\\Python\\Python39\\lib\\site-packages\\sklearn\\linear_model\\_sag.py:350: ConvergenceWarning: The max_iter was reached which means the coef_ did not converge\n",
      "  warnings.warn(\n",
      "\n"
     ]
    },
    {
     "name": "stdout",
     "output_type": "stream",
     "text": [
      " 30%|███       | 6/20 [02:12<05:28, 23.45s/trial, best loss: -0.7854878906760254]"
     ]
    },
    {
     "name": "stderr",
     "output_type": "stream",
     "text": [
      "c:\\Users\\mors0\\AppData\\Local\\Programs\\Python\\Python39\\lib\\site-packages\\sklearn\\linear_model\\_logistic.py:1113: UserWarning: Setting penalty='none' will ignore the C and l1_ratio parameters\n",
      "  warnings.warn(\n",
      "\n",
      "c:\\Users\\mors0\\AppData\\Local\\Programs\\Python\\Python39\\lib\\site-packages\\sklearn\\linear_model\\_sag.py:350: ConvergenceWarning: The max_iter was reached which means the coef_ did not converge\n",
      "  warnings.warn(\n",
      "\n"
     ]
    },
    {
     "name": "stdout",
     "output_type": "stream",
     "text": [
      " 35%|███▌      | 7/20 [02:45<05:45, 26.58s/trial, best loss: -0.7854878906760254]"
     ]
    },
    {
     "name": "stderr",
     "output_type": "stream",
     "text": [
      "c:\\Users\\mors0\\AppData\\Local\\Programs\\Python\\Python39\\lib\\site-packages\\sklearn\\linear_model\\_logistic.py:444: ConvergenceWarning: lbfgs failed to converge (status=1):\n",
      "STOP: TOTAL NO. of ITERATIONS REACHED LIMIT.\n",
      "\n",
      "Increase the number of iterations (max_iter) or scale the data as shown in:\n",
      "    https://scikit-learn.org/stable/modules/preprocessing.html\n",
      "Please also refer to the documentation for alternative solver options:\n",
      "    https://scikit-learn.org/stable/modules/linear_model.html#logistic-regression\n",
      "  n_iter_i = _check_optimize_result(\n",
      "\n"
     ]
    },
    {
     "name": "stdout",
     "output_type": "stream",
     "text": [
      " 40%|████      | 8/20 [02:53<04:08, 20.71s/trial, best loss: -0.7854878906760254]"
     ]
    },
    {
     "name": "stderr",
     "output_type": "stream",
     "text": [
      "c:\\Users\\mors0\\AppData\\Local\\Programs\\Python\\Python39\\lib\\site-packages\\sklearn\\linear_model\\_logistic.py:1113: UserWarning: Setting penalty='none' will ignore the C and l1_ratio parameters\n",
      "  warnings.warn(\n",
      "\n",
      "c:\\Users\\mors0\\AppData\\Local\\Programs\\Python\\Python39\\lib\\site-packages\\sklearn\\linear_model\\_logistic.py:444: ConvergenceWarning: lbfgs failed to converge (status=1):\n",
      "STOP: TOTAL NO. of ITERATIONS REACHED LIMIT.\n",
      "\n",
      "Increase the number of iterations (max_iter) or scale the data as shown in:\n",
      "    https://scikit-learn.org/stable/modules/preprocessing.html\n",
      "Please also refer to the documentation for alternative solver options:\n",
      "    https://scikit-learn.org/stable/modules/linear_model.html#logistic-regression\n",
      "  n_iter_i = _check_optimize_result(\n",
      "\n"
     ]
    },
    {
     "name": "stdout",
     "output_type": "stream",
     "text": [
      " 45%|████▌     | 9/20 [03:01<03:02, 16.63s/trial, best loss: -0.7854878906760254]"
     ]
    },
    {
     "name": "stderr",
     "output_type": "stream",
     "text": [
      "c:\\Users\\mors0\\AppData\\Local\\Programs\\Python\\Python39\\lib\\site-packages\\sklearn\\linear_model\\_sag.py:350: ConvergenceWarning: The max_iter was reached which means the coef_ did not converge\n",
      "  warnings.warn(\n",
      "\n"
     ]
    },
    {
     "name": "stdout",
     "output_type": "stream",
     "text": [
      " 50%|█████     | 10/20 [03:36<03:44, 22.42s/trial, best loss: -0.7854878906760254]"
     ]
    },
    {
     "name": "stderr",
     "output_type": "stream",
     "text": [
      "c:\\Users\\mors0\\AppData\\Local\\Programs\\Python\\Python39\\lib\\site-packages\\sklearn\\linear_model\\_logistic.py:444: ConvergenceWarning: lbfgs failed to converge (status=1):\n",
      "STOP: TOTAL NO. of ITERATIONS REACHED LIMIT.\n",
      "\n",
      "Increase the number of iterations (max_iter) or scale the data as shown in:\n",
      "    https://scikit-learn.org/stable/modules/preprocessing.html\n",
      "Please also refer to the documentation for alternative solver options:\n",
      "    https://scikit-learn.org/stable/modules/linear_model.html#logistic-regression\n",
      "  n_iter_i = _check_optimize_result(\n",
      "\n"
     ]
    },
    {
     "name": "stdout",
     "output_type": "stream",
     "text": [
      " 55%|█████▌    | 11/20 [03:44<02:40, 17.80s/trial, best loss: -0.7854878906760254]"
     ]
    },
    {
     "name": "stderr",
     "output_type": "stream",
     "text": [
      "c:\\Users\\mors0\\AppData\\Local\\Programs\\Python\\Python39\\lib\\site-packages\\sklearn\\linear_model\\_logistic.py:1113: UserWarning: Setting penalty='none' will ignore the C and l1_ratio parameters\n",
      "  warnings.warn(\n",
      "\n",
      "c:\\Users\\mors0\\AppData\\Local\\Programs\\Python\\Python39\\lib\\site-packages\\sklearn\\linear_model\\_sag.py:350: ConvergenceWarning: The max_iter was reached which means the coef_ did not converge\n",
      "  warnings.warn(\n",
      "\n"
     ]
    },
    {
     "name": "stdout",
     "output_type": "stream",
     "text": [
      " 60%|██████    | 12/20 [04:17<03:01, 22.63s/trial, best loss: -0.7854878906760254]"
     ]
    },
    {
     "name": "stderr",
     "output_type": "stream",
     "text": [
      "c:\\Users\\mors0\\AppData\\Local\\Programs\\Python\\Python39\\lib\\site-packages\\sklearn\\linear_model\\_logistic.py:444: ConvergenceWarning: lbfgs failed to converge (status=1):\n",
      "STOP: TOTAL NO. of ITERATIONS REACHED LIMIT.\n",
      "\n",
      "Increase the number of iterations (max_iter) or scale the data as shown in:\n",
      "    https://scikit-learn.org/stable/modules/preprocessing.html\n",
      "Please also refer to the documentation for alternative solver options:\n",
      "    https://scikit-learn.org/stable/modules/linear_model.html#logistic-regression\n",
      "  n_iter_i = _check_optimize_result(\n",
      "\n"
     ]
    },
    {
     "name": "stdout",
     "output_type": "stream",
     "text": [
      " 65%|██████▌   | 13/20 [04:25<02:06, 18.06s/trial, best loss: -0.7862068484370935]"
     ]
    },
    {
     "name": "stderr",
     "output_type": "stream",
     "text": [
      "c:\\Users\\mors0\\AppData\\Local\\Programs\\Python\\Python39\\lib\\site-packages\\sklearn\\linear_model\\_sag.py:350: ConvergenceWarning: The max_iter was reached which means the coef_ did not converge\n",
      "  warnings.warn(\n",
      "\n"
     ]
    },
    {
     "name": "stdout",
     "output_type": "stream",
     "text": [
      " 70%|███████   | 14/20 [05:00<02:19, 23.31s/trial, best loss: -0.7862068484370935]"
     ]
    },
    {
     "name": "stderr",
     "output_type": "stream",
     "text": [
      "c:\\Users\\mors0\\AppData\\Local\\Programs\\Python\\Python39\\lib\\site-packages\\sklearn\\linear_model\\_sag.py:350: ConvergenceWarning: The max_iter was reached which means the coef_ did not converge\n",
      "  warnings.warn(\n",
      "\n"
     ]
    },
    {
     "name": "stdout",
     "output_type": "stream",
     "text": [
      " 75%|███████▌  | 15/20 [05:37<02:16, 27.27s/trial, best loss: -0.7862068484370935]"
     ]
    },
    {
     "name": "stderr",
     "output_type": "stream",
     "text": [
      "c:\\Users\\mors0\\AppData\\Local\\Programs\\Python\\Python39\\lib\\site-packages\\sklearn\\linear_model\\_logistic.py:1113: UserWarning: Setting penalty='none' will ignore the C and l1_ratio parameters\n",
      "  warnings.warn(\n",
      "\n",
      "c:\\Users\\mors0\\AppData\\Local\\Programs\\Python\\Python39\\lib\\site-packages\\sklearn\\linear_model\\_logistic.py:444: ConvergenceWarning: lbfgs failed to converge (status=1):\n",
      "STOP: TOTAL NO. of ITERATIONS REACHED LIMIT.\n",
      "\n",
      "Increase the number of iterations (max_iter) or scale the data as shown in:\n",
      "    https://scikit-learn.org/stable/modules/preprocessing.html\n",
      "Please also refer to the documentation for alternative solver options:\n",
      "    https://scikit-learn.org/stable/modules/linear_model.html#logistic-regression\n",
      "  n_iter_i = _check_optimize_result(\n",
      "\n"
     ]
    },
    {
     "name": "stdout",
     "output_type": "stream",
     "text": [
      " 80%|████████  | 16/20 [05:45<01:25, 21.43s/trial, best loss: -0.7862068484370935]"
     ]
    },
    {
     "name": "stderr",
     "output_type": "stream",
     "text": [
      "c:\\Users\\mors0\\AppData\\Local\\Programs\\Python\\Python39\\lib\\site-packages\\sklearn\\linear_model\\_logistic.py:1113: UserWarning: Setting penalty='none' will ignore the C and l1_ratio parameters\n",
      "  warnings.warn(\n",
      "\n",
      "c:\\Users\\mors0\\AppData\\Local\\Programs\\Python\\Python39\\lib\\site-packages\\sklearn\\linear_model\\_sag.py:350: ConvergenceWarning: The max_iter was reached which means the coef_ did not converge\n",
      "  warnings.warn(\n",
      "\n"
     ]
    },
    {
     "name": "stdout",
     "output_type": "stream",
     "text": [
      " 85%|████████▌ | 17/20 [06:18<01:15, 25.17s/trial, best loss: -0.7862068484370935]"
     ]
    },
    {
     "name": "stderr",
     "output_type": "stream",
     "text": [
      "c:\\Users\\mors0\\AppData\\Local\\Programs\\Python\\Python39\\lib\\site-packages\\sklearn\\linear_model\\_sag.py:350: ConvergenceWarning: The max_iter was reached which means the coef_ did not converge\n",
      "  warnings.warn(\n",
      "\n"
     ]
    },
    {
     "name": "stdout",
     "output_type": "stream",
     "text": [
      " 90%|█████████ | 18/20 [06:54<00:56, 28.23s/trial, best loss: -0.7862068484370935]"
     ]
    },
    {
     "name": "stderr",
     "output_type": "stream",
     "text": [
      "c:\\Users\\mors0\\AppData\\Local\\Programs\\Python\\Python39\\lib\\site-packages\\sklearn\\linear_model\\_sag.py:350: ConvergenceWarning: The max_iter was reached which means the coef_ did not converge\n",
      "  warnings.warn(\n",
      "\n"
     ]
    },
    {
     "name": "stdout",
     "output_type": "stream",
     "text": [
      " 95%|█████████▌| 19/20 [07:30<00:30, 30.53s/trial, best loss: -0.7862068484370935]"
     ]
    },
    {
     "name": "stderr",
     "output_type": "stream",
     "text": [
      "c:\\Users\\mors0\\AppData\\Local\\Programs\\Python\\Python39\\lib\\site-packages\\sklearn\\linear_model\\_logistic.py:444: ConvergenceWarning: lbfgs failed to converge (status=1):\n",
      "STOP: TOTAL NO. of ITERATIONS REACHED LIMIT.\n",
      "\n",
      "Increase the number of iterations (max_iter) or scale the data as shown in:\n",
      "    https://scikit-learn.org/stable/modules/preprocessing.html\n",
      "Please also refer to the documentation for alternative solver options:\n",
      "    https://scikit-learn.org/stable/modules/linear_model.html#logistic-regression\n",
      "  n_iter_i = _check_optimize_result(\n",
      "\n"
     ]
    },
    {
     "name": "stdout",
     "output_type": "stream",
     "text": [
      "100%|██████████| 20/20 [07:37<00:00, 22.88s/trial, best loss: -0.7862068484370935]\n",
      "F1-score логистической регрессии c Hyperopt: 0.792\n",
      "Наилучшие значения гиперпараметров Hyperopt: {'C': 0.0665019800181027, 'penalty': 0, 'solver': 0}\n"
     ]
    },
    {
     "name": "stderr",
     "output_type": "stream",
     "text": [
      "c:\\Users\\mors0\\AppData\\Local\\Programs\\Python\\Python39\\lib\\site-packages\\sklearn\\linear_model\\_logistic.py:444: ConvergenceWarning: lbfgs failed to converge (status=1):\n",
      "STOP: TOTAL NO. of ITERATIONS REACHED LIMIT.\n",
      "\n",
      "Increase the number of iterations (max_iter) or scale the data as shown in:\n",
      "    https://scikit-learn.org/stable/modules/preprocessing.html\n",
      "Please also refer to the documentation for alternative solver options:\n",
      "    https://scikit-learn.org/stable/modules/linear_model.html#logistic-regression\n",
      "  n_iter_i = _check_optimize_result(\n"
     ]
    }
   ],
   "source": [
    "from sklearn.model_selection import cross_val_score\n",
    "import hyperopt\n",
    "from hyperopt import hp, fmin, tpe, Trials\n",
    "\n",
    "# зададим пространство поиска гиперпараметров\n",
    "pen = ['l2', 'none']\n",
    "sol = ['lbfgs', 'saga']\n",
    "space={'penalty': hp.choice('penalty', ['l2', 'none']), # тип регурялизации\n",
    "       'solver' : hp.choice('solver', ['lbfgs', 'saga']), # алгоритм оптимизации\n",
    "       'C': hp.uniform('C', low=0.03, high=0.08) # диапазон силы регуляризации\n",
    "}\n",
    "random_state = 42 # зафксируем random_state\n",
    "# создадим функцию, которая будет считать метрику\n",
    "def hyperopt_rf(params, cv=5, X=X_train, y=y_train, random_state=random_state):\n",
    "    # функция получает комбинацию гиперпараметров в \"params\"\n",
    "    params = {'penalty': params['penalty'], \n",
    "              'solver': params['solver'], \n",
    "             'C': float(params['C'])\n",
    "              }\n",
    "  \n",
    "    # используем эту комбинацию для построения модели\n",
    "    model = linear_model.LogisticRegression(**params, random_state=random_state)\n",
    "\n",
    "    model.fit(X, y) # обучаем модель\n",
    "    # считаем метрику на модели, обученной с помощью кросс-валидации\n",
    "    score = cross_val_score(model, X, y, cv=cv, scoring=\"f1\", n_jobs=-1).mean()\n",
    "    # алгоритм работает только на минимизацию, поэтому ставим знак минус\n",
    "    return-score\n",
    "\n",
    "%time # выведем время работы алгоритма\n",
    "trials = Trials() # логируем результаты\n",
    "\n",
    "# подбор гиперпараметров\n",
    "best=fmin(hyperopt_rf, # наша функция \n",
    "          space=space, # пространство гиперпараметров\n",
    "          max_evals=20, # максимальное количество итераций\n",
    "          trials=trials, # логирование результатов\n",
    "          rstate=np.random.default_rng(random_state) # воспроиводимость\n",
    "         )\n",
    "\n",
    "# создадим модель с подобранными гиперпараметрами\n",
    "model = linear_model.LogisticRegression(\n",
    "    random_state=random_state,\n",
    "    penalty=pen[best['penalty']],\n",
    "    solver=sol[best['solver']],\n",
    "    C=float(best['C'])\n",
    "    )\n",
    "model.fit(X_train, y_train) # обучение модели\n",
    "y_test_pred = model.predict(X_test) # предсказание на тестовой выборке\n",
    "\n",
    "print(f'F1-score логистической регрессии c Hyperopt: {metrics.f1_score(y_test, y_test_pred).round(3)}') \n",
    "print(f'Наилучшие значения гиперпараметров Hyperopt: {best}')"
   ]
  },
  {
   "attachments": {},
   "cell_type": "markdown",
   "metadata": {},
   "source": [
    "Значение метрики осталось тем же. "
   ]
  },
  {
   "attachments": {},
   "cell_type": "markdown",
   "metadata": {},
   "source": [
    "## Подберем гиперпараметры с помощью Optuna"
   ]
  },
  {
   "cell_type": "code",
   "execution_count": 10,
   "metadata": {},
   "outputs": [
    {
     "name": "stderr",
     "output_type": "stream",
     "text": [
      "[I 2023-06-15 08:18:33,257] A new study created in memory with name: LogisticRegression\n"
     ]
    },
    {
     "name": "stdout",
     "output_type": "stream",
     "text": [
      "CPU times: total: 0 ns\n",
      "Wall time: 0 ns\n"
     ]
    },
    {
     "name": "stderr",
     "output_type": "stream",
     "text": [
      "c:\\Users\\mors0\\AppData\\Local\\Programs\\Python\\Python39\\lib\\site-packages\\sklearn\\linear_model\\_sag.py:350: ConvergenceWarning: The max_iter was reached which means the coef_ did not converge\n",
      "  warnings.warn(\n",
      "[I 2023-06-15 08:19:37,931] Trial 0 finished with value: 0.7864761995512766 and parameters: {'penalty': 'l2', 'solver': 'saga', 'C': 0.06715954052147481}. Best is trial 0 with value: 0.7864761995512766.\n",
      "c:\\Users\\mors0\\AppData\\Local\\Programs\\Python\\Python39\\lib\\site-packages\\sklearn\\linear_model\\_logistic.py:444: ConvergenceWarning: lbfgs failed to converge (status=1):\n",
      "STOP: TOTAL NO. of ITERATIONS REACHED LIMIT.\n",
      "\n",
      "Increase the number of iterations (max_iter) or scale the data as shown in:\n",
      "    https://scikit-learn.org/stable/modules/preprocessing.html\n",
      "Please also refer to the documentation for alternative solver options:\n",
      "    https://scikit-learn.org/stable/modules/linear_model.html#logistic-regression\n",
      "  n_iter_i = _check_optimize_result(\n",
      "[I 2023-06-15 08:19:47,395] Trial 1 finished with value: 0.7869611744361522 and parameters: {'penalty': 'l2', 'solver': 'lbfgs', 'C': 0.06407403192944253}. Best is trial 1 with value: 0.7869611744361522.\n",
      "c:\\Users\\mors0\\AppData\\Local\\Programs\\Python\\Python39\\lib\\site-packages\\sklearn\\linear_model\\_logistic.py:1113: UserWarning: Setting penalty='none' will ignore the C and l1_ratio parameters\n",
      "  warnings.warn(\n",
      "c:\\Users\\mors0\\AppData\\Local\\Programs\\Python\\Python39\\lib\\site-packages\\sklearn\\linear_model\\_sag.py:350: ConvergenceWarning: The max_iter was reached which means the coef_ did not converge\n",
      "  warnings.warn(\n",
      "[I 2023-06-15 08:20:28,389] Trial 2 finished with value: 0.7759958730887874 and parameters: {'penalty': 'none', 'solver': 'saga', 'C': 0.04129851419446026}. Best is trial 1 with value: 0.7869611744361522.\n",
      "c:\\Users\\mors0\\AppData\\Local\\Programs\\Python\\Python39\\lib\\site-packages\\sklearn\\linear_model\\_logistic.py:1113: UserWarning: Setting penalty='none' will ignore the C and l1_ratio parameters\n",
      "  warnings.warn(\n",
      "c:\\Users\\mors0\\AppData\\Local\\Programs\\Python\\Python39\\lib\\site-packages\\sklearn\\linear_model\\_sag.py:350: ConvergenceWarning: The max_iter was reached which means the coef_ did not converge\n",
      "  warnings.warn(\n",
      "[I 2023-06-15 08:21:07,640] Trial 3 finished with value: 0.7759958730887874 and parameters: {'penalty': 'none', 'solver': 'saga', 'C': 0.06503229459580806}. Best is trial 1 with value: 0.7869611744361522.\n",
      "c:\\Users\\mors0\\AppData\\Local\\Programs\\Python\\Python39\\lib\\site-packages\\sklearn\\linear_model\\_logistic.py:1113: UserWarning: Setting penalty='none' will ignore the C and l1_ratio parameters\n",
      "  warnings.warn(\n",
      "c:\\Users\\mors0\\AppData\\Local\\Programs\\Python\\Python39\\lib\\site-packages\\sklearn\\linear_model\\_sag.py:350: ConvergenceWarning: The max_iter was reached which means the coef_ did not converge\n",
      "  warnings.warn(\n",
      "[I 2023-06-15 08:21:47,340] Trial 4 finished with value: 0.7759958730887874 and parameters: {'penalty': 'none', 'solver': 'saga', 'C': 0.05334880637837072}. Best is trial 1 with value: 0.7869611744361522.\n",
      "c:\\Users\\mors0\\AppData\\Local\\Programs\\Python\\Python39\\lib\\site-packages\\sklearn\\linear_model\\_logistic.py:1113: UserWarning: Setting penalty='none' will ignore the C and l1_ratio parameters\n",
      "  warnings.warn(\n",
      "c:\\Users\\mors0\\AppData\\Local\\Programs\\Python\\Python39\\lib\\site-packages\\sklearn\\linear_model\\_logistic.py:444: ConvergenceWarning: lbfgs failed to converge (status=1):\n",
      "STOP: TOTAL NO. of ITERATIONS REACHED LIMIT.\n",
      "\n",
      "Increase the number of iterations (max_iter) or scale the data as shown in:\n",
      "    https://scikit-learn.org/stable/modules/preprocessing.html\n",
      "Please also refer to the documentation for alternative solver options:\n",
      "    https://scikit-learn.org/stable/modules/linear_model.html#logistic-regression\n",
      "  n_iter_i = _check_optimize_result(\n",
      "[I 2023-06-15 08:21:56,425] Trial 5 finished with value: 0.7583522396374635 and parameters: {'penalty': 'none', 'solver': 'lbfgs', 'C': 0.07605001909068435}. Best is trial 1 with value: 0.7869611744361522.\n",
      "c:\\Users\\mors0\\AppData\\Local\\Programs\\Python\\Python39\\lib\\site-packages\\sklearn\\linear_model\\_logistic.py:1113: UserWarning: Setting penalty='none' will ignore the C and l1_ratio parameters\n",
      "  warnings.warn(\n",
      "c:\\Users\\mors0\\AppData\\Local\\Programs\\Python\\Python39\\lib\\site-packages\\sklearn\\linear_model\\_logistic.py:444: ConvergenceWarning: lbfgs failed to converge (status=1):\n",
      "STOP: TOTAL NO. of ITERATIONS REACHED LIMIT.\n",
      "\n",
      "Increase the number of iterations (max_iter) or scale the data as shown in:\n",
      "    https://scikit-learn.org/stable/modules/preprocessing.html\n",
      "Please also refer to the documentation for alternative solver options:\n",
      "    https://scikit-learn.org/stable/modules/linear_model.html#logistic-regression\n",
      "  n_iter_i = _check_optimize_result(\n",
      "[I 2023-06-15 08:22:06,510] Trial 6 finished with value: 0.7583522396374635 and parameters: {'penalty': 'none', 'solver': 'lbfgs', 'C': 0.0456051167764942}. Best is trial 1 with value: 0.7869611744361522.\n",
      "c:\\Users\\mors0\\AppData\\Local\\Programs\\Python\\Python39\\lib\\site-packages\\sklearn\\linear_model\\_logistic.py:444: ConvergenceWarning: lbfgs failed to converge (status=1):\n",
      "STOP: TOTAL NO. of ITERATIONS REACHED LIMIT.\n",
      "\n",
      "Increase the number of iterations (max_iter) or scale the data as shown in:\n",
      "    https://scikit-learn.org/stable/modules/preprocessing.html\n",
      "Please also refer to the documentation for alternative solver options:\n",
      "    https://scikit-learn.org/stable/modules/linear_model.html#logistic-regression\n",
      "  n_iter_i = _check_optimize_result(\n",
      "[I 2023-06-15 08:22:15,843] Trial 7 finished with value: 0.7875277022472567 and parameters: {'penalty': 'l2', 'solver': 'lbfgs', 'C': 0.05012748572086084}. Best is trial 7 with value: 0.7875277022472567.\n",
      "c:\\Users\\mors0\\AppData\\Local\\Programs\\Python\\Python39\\lib\\site-packages\\sklearn\\linear_model\\_logistic.py:444: ConvergenceWarning: lbfgs failed to converge (status=1):\n",
      "STOP: TOTAL NO. of ITERATIONS REACHED LIMIT.\n",
      "\n",
      "Increase the number of iterations (max_iter) or scale the data as shown in:\n",
      "    https://scikit-learn.org/stable/modules/preprocessing.html\n",
      "Please also refer to the documentation for alternative solver options:\n",
      "    https://scikit-learn.org/stable/modules/linear_model.html#logistic-regression\n",
      "  n_iter_i = _check_optimize_result(\n",
      "[I 2023-06-15 08:22:24,715] Trial 8 finished with value: 0.7868739203584004 and parameters: {'penalty': 'l2', 'solver': 'lbfgs', 'C': 0.06458438791786128}. Best is trial 7 with value: 0.7875277022472567.\n",
      "c:\\Users\\mors0\\AppData\\Local\\Programs\\Python\\Python39\\lib\\site-packages\\sklearn\\linear_model\\_logistic.py:444: ConvergenceWarning: lbfgs failed to converge (status=1):\n",
      "STOP: TOTAL NO. of ITERATIONS REACHED LIMIT.\n",
      "\n",
      "Increase the number of iterations (max_iter) or scale the data as shown in:\n",
      "    https://scikit-learn.org/stable/modules/preprocessing.html\n",
      "Please also refer to the documentation for alternative solver options:\n",
      "    https://scikit-learn.org/stable/modules/linear_model.html#logistic-regression\n",
      "  n_iter_i = _check_optimize_result(\n",
      "[I 2023-06-15 08:22:33,532] Trial 9 finished with value: 0.7875277022472567 and parameters: {'penalty': 'l2', 'solver': 'lbfgs', 'C': 0.04941459692687647}. Best is trial 7 with value: 0.7875277022472567.\n",
      "c:\\Users\\mors0\\AppData\\Local\\Programs\\Python\\Python39\\lib\\site-packages\\sklearn\\linear_model\\_logistic.py:444: ConvergenceWarning: lbfgs failed to converge (status=1):\n",
      "STOP: TOTAL NO. of ITERATIONS REACHED LIMIT.\n",
      "\n",
      "Increase the number of iterations (max_iter) or scale the data as shown in:\n",
      "    https://scikit-learn.org/stable/modules/preprocessing.html\n",
      "Please also refer to the documentation for alternative solver options:\n",
      "    https://scikit-learn.org/stable/modules/linear_model.html#logistic-regression\n",
      "  n_iter_i = _check_optimize_result(\n",
      "[I 2023-06-15 08:22:44,217] Trial 10 finished with value: 0.7896798908382588 and parameters: {'penalty': 'l2', 'solver': 'lbfgs', 'C': 0.03916154313470031}. Best is trial 10 with value: 0.7896798908382588.\n",
      "c:\\Users\\mors0\\AppData\\Local\\Programs\\Python\\Python39\\lib\\site-packages\\sklearn\\linear_model\\_logistic.py:444: ConvergenceWarning: lbfgs failed to converge (status=1):\n",
      "STOP: TOTAL NO. of ITERATIONS REACHED LIMIT.\n",
      "\n",
      "Increase the number of iterations (max_iter) or scale the data as shown in:\n",
      "    https://scikit-learn.org/stable/modules/preprocessing.html\n",
      "Please also refer to the documentation for alternative solver options:\n",
      "    https://scikit-learn.org/stable/modules/linear_model.html#logistic-regression\n",
      "  n_iter_i = _check_optimize_result(\n",
      "[I 2023-06-15 08:22:54,412] Trial 11 finished with value: 0.7914220838323267 and parameters: {'penalty': 'l2', 'solver': 'lbfgs', 'C': 0.03129785136202552}. Best is trial 11 with value: 0.7914220838323267.\n",
      "[I 2023-06-15 08:23:04,842] Trial 12 finished with value: 0.7917186416434476 and parameters: {'penalty': 'l2', 'solver': 'lbfgs', 'C': 0.03096637335937131}. Best is trial 12 with value: 0.7917186416434476.\n",
      "c:\\Users\\mors0\\AppData\\Local\\Programs\\Python\\Python39\\lib\\site-packages\\sklearn\\linear_model\\_logistic.py:444: ConvergenceWarning: lbfgs failed to converge (status=1):\n",
      "STOP: TOTAL NO. of ITERATIONS REACHED LIMIT.\n",
      "\n",
      "Increase the number of iterations (max_iter) or scale the data as shown in:\n",
      "    https://scikit-learn.org/stable/modules/preprocessing.html\n",
      "Please also refer to the documentation for alternative solver options:\n",
      "    https://scikit-learn.org/stable/modules/linear_model.html#logistic-regression\n",
      "  n_iter_i = _check_optimize_result(\n",
      "[I 2023-06-15 08:23:15,451] Trial 13 finished with value: 0.7917372916096983 and parameters: {'penalty': 'l2', 'solver': 'lbfgs', 'C': 0.03057159953421766}. Best is trial 13 with value: 0.7917372916096983.\n",
      "c:\\Users\\mors0\\AppData\\Local\\Programs\\Python\\Python39\\lib\\site-packages\\sklearn\\linear_model\\_logistic.py:444: ConvergenceWarning: lbfgs failed to converge (status=1):\n",
      "STOP: TOTAL NO. of ITERATIONS REACHED LIMIT.\n",
      "\n",
      "Increase the number of iterations (max_iter) or scale the data as shown in:\n",
      "    https://scikit-learn.org/stable/modules/preprocessing.html\n",
      "Please also refer to the documentation for alternative solver options:\n",
      "    https://scikit-learn.org/stable/modules/linear_model.html#logistic-regression\n",
      "  n_iter_i = _check_optimize_result(\n",
      "[I 2023-06-15 08:23:24,823] Trial 14 finished with value: 0.7912637283034278 and parameters: {'penalty': 'l2', 'solver': 'lbfgs', 'C': 0.030083141407812774}. Best is trial 13 with value: 0.7917372916096983.\n",
      "c:\\Users\\mors0\\AppData\\Local\\Programs\\Python\\Python39\\lib\\site-packages\\sklearn\\linear_model\\_logistic.py:444: ConvergenceWarning: lbfgs failed to converge (status=1):\n",
      "STOP: TOTAL NO. of ITERATIONS REACHED LIMIT.\n",
      "\n",
      "Increase the number of iterations (max_iter) or scale the data as shown in:\n",
      "    https://scikit-learn.org/stable/modules/preprocessing.html\n",
      "Please also refer to the documentation for alternative solver options:\n",
      "    https://scikit-learn.org/stable/modules/linear_model.html#logistic-regression\n",
      "  n_iter_i = _check_optimize_result(\n",
      "[I 2023-06-15 08:23:33,989] Trial 15 finished with value: 0.7908232505582157 and parameters: {'penalty': 'l2', 'solver': 'lbfgs', 'C': 0.034131562282155616}. Best is trial 13 with value: 0.7917372916096983.\n",
      "c:\\Users\\mors0\\AppData\\Local\\Programs\\Python\\Python39\\lib\\site-packages\\sklearn\\linear_model\\_logistic.py:444: ConvergenceWarning: lbfgs failed to converge (status=1):\n",
      "STOP: TOTAL NO. of ITERATIONS REACHED LIMIT.\n",
      "\n",
      "Increase the number of iterations (max_iter) or scale the data as shown in:\n",
      "    https://scikit-learn.org/stable/modules/preprocessing.html\n",
      "Please also refer to the documentation for alternative solver options:\n",
      "    https://scikit-learn.org/stable/modules/linear_model.html#logistic-regression\n",
      "  n_iter_i = _check_optimize_result(\n",
      "[I 2023-06-15 08:23:42,876] Trial 16 finished with value: 0.7909265190154781 and parameters: {'penalty': 'l2', 'solver': 'lbfgs', 'C': 0.03704897900946695}. Best is trial 13 with value: 0.7917372916096983.\n",
      "c:\\Users\\mors0\\AppData\\Local\\Programs\\Python\\Python39\\lib\\site-packages\\sklearn\\linear_model\\_logistic.py:444: ConvergenceWarning: lbfgs failed to converge (status=1):\n",
      "STOP: TOTAL NO. of ITERATIONS REACHED LIMIT.\n",
      "\n",
      "Increase the number of iterations (max_iter) or scale the data as shown in:\n",
      "    https://scikit-learn.org/stable/modules/preprocessing.html\n",
      "Please also refer to the documentation for alternative solver options:\n",
      "    https://scikit-learn.org/stable/modules/linear_model.html#logistic-regression\n",
      "  n_iter_i = _check_optimize_result(\n",
      "[I 2023-06-15 08:23:52,350] Trial 17 finished with value: 0.7893942911500289 and parameters: {'penalty': 'l2', 'solver': 'lbfgs', 'C': 0.04036564472868141}. Best is trial 13 with value: 0.7917372916096983.\n",
      "c:\\Users\\mors0\\AppData\\Local\\Programs\\Python\\Python39\\lib\\site-packages\\sklearn\\linear_model\\_sag.py:350: ConvergenceWarning: The max_iter was reached which means the coef_ did not converge\n",
      "  warnings.warn(\n",
      "[I 2023-06-15 08:24:33,799] Trial 18 finished with value: 0.7914270269766123 and parameters: {'penalty': 'l2', 'solver': 'saga', 'C': 0.03486874637737293}. Best is trial 13 with value: 0.7917372916096983.\n",
      "c:\\Users\\mors0\\AppData\\Local\\Programs\\Python\\Python39\\lib\\site-packages\\sklearn\\linear_model\\_logistic.py:444: ConvergenceWarning: lbfgs failed to converge (status=1):\n",
      "STOP: TOTAL NO. of ITERATIONS REACHED LIMIT.\n",
      "\n",
      "Increase the number of iterations (max_iter) or scale the data as shown in:\n",
      "    https://scikit-learn.org/stable/modules/preprocessing.html\n",
      "Please also refer to the documentation for alternative solver options:\n",
      "    https://scikit-learn.org/stable/modules/linear_model.html#logistic-regression\n",
      "  n_iter_i = _check_optimize_result(\n",
      "[I 2023-06-15 08:24:42,357] Trial 19 finished with value: 0.7879979272260684 and parameters: {'penalty': 'l2', 'solver': 'lbfgs', 'C': 0.04392743912613509}. Best is trial 13 with value: 0.7917372916096983.\n"
     ]
    },
    {
     "name": "stdout",
     "output_type": "stream",
     "text": [
      "F1-score логистической регрессии c Optuna: 0.799\n",
      "Наилучшие значения гиперпараметров Optuna: {'penalty': 'l2', 'solver': 'lbfgs', 'C': 0.03057159953421766}\n"
     ]
    },
    {
     "name": "stderr",
     "output_type": "stream",
     "text": [
      "c:\\Users\\mors0\\AppData\\Local\\Programs\\Python\\Python39\\lib\\site-packages\\sklearn\\linear_model\\_logistic.py:444: ConvergenceWarning: lbfgs failed to converge (status=1):\n",
      "STOP: TOTAL NO. of ITERATIONS REACHED LIMIT.\n",
      "\n",
      "Increase the number of iterations (max_iter) or scale the data as shown in:\n",
      "    https://scikit-learn.org/stable/modules/preprocessing.html\n",
      "Please also refer to the documentation for alternative solver options:\n",
      "    https://scikit-learn.org/stable/modules/linear_model.html#logistic-regression\n",
      "  n_iter_i = _check_optimize_result(\n"
     ]
    }
   ],
   "source": [
    "import optuna\n",
    "\n",
    "random_state = 42\n",
    "# подбор гиперпараметров\n",
    "def optuna_rf(trial):\n",
    "    # задаем пространства поиска гиперпараметров\n",
    "    penalty = trial.suggest_categorical('penalty', ['l2', 'none']) # тип регурялизации\n",
    "    solver = trial.suggest_categorical('solver', ['lbfgs', 'saga']) # алгоритм оптимизации\n",
    "    C = trial.suggest_float('C', 0.03, 0.08) # диапазон силы регуляризации\n",
    "  \n",
    "    # создаем модель\n",
    "    model = linear_model.LogisticRegression(\n",
    "        penalty=penalty,\n",
    "        solver=solver,\n",
    "        C=C,\n",
    "        random_state=random_state)\n",
    "    # обучаем модель\n",
    "    model.fit(X_train, y_train)\n",
    "    score = cross_val_score(model, X, y, cv=5, scoring=\"f1\", n_jobs=-1).mean()\n",
    "\n",
    "    return score\n",
    "\n",
    "%time # отобразим время работы алгоритма\n",
    "# cоздаем объект исследования\n",
    "study = optuna.create_study(study_name=\"LogisticRegression\", direction=\"maximize\")\n",
    "# ищем лучшую комбинацию гиперпараметров n_trials раз\n",
    "study.optimize(optuna_rf, n_trials=20)\n",
    "\n",
    "# модель с выбранными гиперпараметрами\n",
    "model = linear_model.LogisticRegression(**study.best_params,random_state=random_state)\n",
    "model.fit(X_train, y_train) # обучение модели\n",
    "y_test_pred = model.predict(X_test) # предсказание на тестовой выборке\n",
    "\n",
    "print(f'F1-score логистической регрессии c Optuna: {metrics.f1_score(y_test, y_test_pred).round(3)}') \n",
    "print(f'Наилучшие значения гиперпараметров Optuna: {study.best_params}')"
   ]
  },
  {
   "attachments": {},
   "cell_type": "markdown",
   "metadata": {},
   "source": [
    "Метрика повысилась за относительно небольшое время."
   ]
  },
  {
   "attachments": {},
   "cell_type": "markdown",
   "metadata": {},
   "source": [
    "## <center> **Случайный лес**"
   ]
  },
  {
   "attachments": {},
   "cell_type": "markdown",
   "metadata": {},
   "source": [
    "## Базовая модель с параметрами по умолчанию"
   ]
  },
  {
   "cell_type": "code",
   "execution_count": 13,
   "metadata": {},
   "outputs": [
    {
     "name": "stdout",
     "output_type": "stream",
     "text": [
      "F1-score базовой модели случайного леса: 0.828\n"
     ]
    }
   ],
   "source": [
    "rf = ensemble.RandomForestClassifier(random_state=42) # инициализация класса\n",
    "rf.fit(X_train, y_train) # обучение модели\n",
    "y_test_pred = rf.predict(X_test) # делаем предсказание\n",
    "print(f'F1-score базовой модели случайного леса: {metrics.f1_score(y_test, y_test_pred).round(3)}') # вывод метрики"
   ]
  },
  {
   "attachments": {},
   "cell_type": "markdown",
   "metadata": {},
   "source": [
    "## Подберем гиперпараметры с помощью GridSeachCV"
   ]
  },
  {
   "cell_type": "code",
   "execution_count": 16,
   "metadata": {},
   "outputs": [
    {
     "name": "stdout",
     "output_type": "stream",
     "text": [
      "CPU times: total: 3.75 s\n",
      "Wall time: 3min 21s\n",
      "F1-score случайного леса c GridSearchCV: 0.843\n",
      "Наилучшие значения гиперпараметров GridSearchCV: {'max_depth': 22, 'min_samples_leaf': 5, 'n_estimators': 140}\n"
     ]
    }
   ],
   "source": [
    "# укажем гиперпараметры и их значения в словаре\n",
    "param_grid = {'n_estimators': list(range(80, 200, 30)), # количество деревьев влесу\n",
    "              'min_samples_leaf': [5], # минимальное количество объектов в листе\n",
    "              'max_depth': list(np.linspace(20, 40, 10, dtype=int)) # глубина деревьев\n",
    "              }\n",
    "\n",
    "# подбор гиперпараметров для модели\n",
    "grid_search_forest = GridSearchCV( # инициализация рандомайзера\n",
    "    estimator=ensemble.RandomForestClassifier(random_state=42), # модель\n",
    "    param_grid=param_grid, # словарь параметров \n",
    "    cv=5, # количество фолдов для кросс-валидации\n",
    "    n_jobs = -1 # задействуем все ядра\n",
    ") \n",
    "# обучение модели с выбранными гиперпараметрами, указав время\n",
    "%time grid_search_forest.fit(X_train, y_train)\n",
    "# сделаем предсказание на тестовой выборке\n",
    "y_test_pred = grid_search_forest.predict(X_test)\n",
    "\n",
    "print(f'F1-score случайного леса c GridSearchCV: {metrics.f1_score(y_test, y_test_pred).round(3)}') \n",
    "print(f'Наилучшие значения гиперпараметров GridSearchCV: {grid_search_forest.best_params_}')"
   ]
  },
  {
   "attachments": {},
   "cell_type": "markdown",
   "metadata": {},
   "source": [
    "Метрику удалось повысить, времени понадобилось немного."
   ]
  },
  {
   "attachments": {},
   "cell_type": "markdown",
   "metadata": {},
   "source": [
    "## Подберем гиперпараметры с помощью RandomizedSearchCV"
   ]
  },
  {
   "cell_type": "code",
   "execution_count": 18,
   "metadata": {},
   "outputs": [
    {
     "name": "stdout",
     "output_type": "stream",
     "text": [
      "CPU times: total: 2.89 s\n",
      "Wall time: 57.5 s\n",
      "F1-score случайного леса c RandomizedSearchCV: 0.833\n",
      "Наилучшие значения гиперпараметров GridSearchCV: {'max_depth': 22, 'min_samples_leaf': 5, 'n_estimators': 140}\n"
     ]
    }
   ],
   "source": [
    "from sklearn.model_selection import RandomizedSearchCV\n",
    "\n",
    "# укажем гиперпараметры и их значения в словаре\n",
    "param_distributions = {'n_estimators': list(range(80, 200, 30)), # количество деревьев влесу\n",
    "              'min_samples_leaf': [5], # минимальное количество объектов в листе\n",
    "              'max_depth': list(np.linspace(20, 40, 10, dtype=int)) # глубина деревьев\n",
    "              }\n",
    "\n",
    "# подбор гиперпараметров для модели\n",
    "random_search_forest = RandomizedSearchCV( # инициализация рандомайзера\n",
    "    estimator=ensemble.RandomForestClassifier(random_state=42), # модель\n",
    "    param_distributions=param_distributions, # словарь параметров \n",
    "    cv=5, # количество фолдов для кросс-валидации\n",
    "    n_iter = 10, # количество комбинаций на расчет\n",
    "    n_jobs = -1 # задействуем все ядра\n",
    ") \n",
    "# обучаем модель с подобранными гиперпараметрами\n",
    "%time random_search_forest.fit(X_train, y_train)\n",
    "# предсказание на тестовой выборке\n",
    "y_test_pred = random_search_forest.predict(X_test)\n",
    "\n",
    "print(f'F1-score случайного леса c RandomizedSearchCV: {metrics.f1_score(y_test, y_test_pred).round(3)}') \n",
    "print(f'Наилучшие значения гиперпараметров GridSearchCV: {grid_search_forest.best_params_}')"
   ]
  },
  {
   "attachments": {},
   "cell_type": "markdown",
   "metadata": {},
   "source": [
    "Времени понадобилось совсем немного, но метрика упала."
   ]
  },
  {
   "attachments": {},
   "cell_type": "markdown",
   "metadata": {},
   "source": [
    "## Подберем гиперпараметры с помощью Hyperopt"
   ]
  },
  {
   "cell_type": "code",
   "execution_count": 19,
   "metadata": {},
   "outputs": [
    {
     "name": "stdout",
     "output_type": "stream",
     "text": [
      "CPU times: total: 0 ns\n",
      "Wall time: 0 ns\n",
      "100%|██████████| 20/20 [03:03<00:00,  9.19s/trial, best loss: -0.8075339330991621]\n",
      "F1-score случайного леса c Hyperopt: 0.835\n",
      "Наилучшие значения гиперпараметров Hyperopt: {'max_depth': 22, 'min_samples_leaf': 5, 'n_estimators': 140}\n"
     ]
    }
   ],
   "source": [
    "from sklearn.model_selection import cross_val_score\n",
    "import hyperopt\n",
    "from hyperopt import hp, fmin, tpe, Trials\n",
    "\n",
    "# зададим пространство поиска гиперпараметров\n",
    "space={'n_estimators': hp.quniform('n_estimators', 100, 200, 1), # количество деревьев в лесу\n",
    "       'max_depth' : hp.quniform('max_depth', 15, 26, 1), # максимальная глубина дерева\n",
    "       'min_samples_leaf': hp.quniform('min_samples_leaf', 2, 10, 1) # мин. кол-во объктов в влисте\n",
    "      }\n",
    "random_state = 42\n",
    "\n",
    "# подсчет значения метрики при различных комбинациях гиперпараметров\n",
    "def hyperopt_rf(params, cv=5, X=X_train, y=y_train, random_state=random_state):\n",
    "    # функция получает комбинацию гиперпараметров в \"params\"\n",
    "    params = {'n_estimators': int(params['n_estimators']), \n",
    "              'max_depth': int(params['max_depth']), \n",
    "             'min_samples_leaf': int(params['min_samples_leaf'])\n",
    "              }\n",
    "  \n",
    "    # постороим модель с подобранными гиперпараметрами\n",
    "    model = ensemble.RandomForestClassifier(**params, random_state=random_state)\n",
    "\n",
    "    # обучаем модель\n",
    "    model.fit(X, y)\n",
    "    # оценим модель с помощью кросс-валидации\n",
    "    score = cross_val_score(model, X, y, cv=cv, scoring=\"f1\", n_jobs=-1).mean()\n",
    "    \n",
    "    # метрику необходимо минимизировать, поэтому ставим знак минус\n",
    "    return -score\n",
    "\n",
    "%time # выведем время работы алгоритма\n",
    "trials = Trials() # логируем результаты\n",
    "\n",
    "# подбор лучших значений гиперпараметров\n",
    "best=fmin(hyperopt_rf, # наша функция \n",
    "          space=space, # пространство гиперпараметров\n",
    "          algo=tpe.suggest, # алгоритм оптимизации\n",
    "          max_evals=20, # максимальное количество итераций\n",
    "          trials=trials, # логирование результатов\n",
    "          rstate=np.random.default_rng(random_state)# фиксируем для повторяемости результата\n",
    "         )\n",
    "\n",
    "# модель с выбранными гиперпараметрами\n",
    "model = ensemble.RandomForestClassifier(\n",
    "    random_state=random_state, \n",
    "    n_estimators=int(best['n_estimators']),\n",
    "    max_depth=int(best['max_depth']),\n",
    "    min_samples_leaf=int(best['min_samples_leaf'])\n",
    ")\n",
    "model.fit(X_train, y_train) # обучение модели\n",
    "y_test_pred = model.predict(X_test) # предсказание на тестовой выборке\n",
    "\n",
    "print(f'F1-score случайного леса c Hyperopt: {metrics.f1_score(y_test, y_test_pred).round(3)}') \n",
    "print(f'Наилучшие значения гиперпараметров Hyperopt: {grid_search_forest.best_params_}')"
   ]
  },
  {
   "attachments": {},
   "cell_type": "markdown",
   "metadata": {},
   "source": [
    "Метрику повысить  не удалось, но работал алгоритм недолго."
   ]
  },
  {
   "attachments": {},
   "cell_type": "markdown",
   "metadata": {},
   "source": [
    "## Подберем гиперпараметры с помощью Optuna"
   ]
  },
  {
   "cell_type": "code",
   "execution_count": 21,
   "metadata": {},
   "outputs": [
    {
     "name": "stderr",
     "output_type": "stream",
     "text": [
      "[I 2023-06-15 09:59:45,811] A new study created in memory with name: RandomForestClassifier\n"
     ]
    },
    {
     "name": "stdout",
     "output_type": "stream",
     "text": [
      "CPU times: total: 0 ns\n",
      "Wall time: 0 ns\n"
     ]
    },
    {
     "name": "stderr",
     "output_type": "stream",
     "text": [
      "[I 2023-06-15 10:00:06,504] Trial 0 finished with value: 0.8134317768787083 and parameters: {'n_estimators': 194, 'max_depth': 22, 'min_samples_leaf': 3}. Best is trial 0 with value: 0.8134317768787083.\n",
      "[I 2023-06-15 10:00:22,261] Trial 1 finished with value: 0.8086460264334576 and parameters: {'n_estimators': 197, 'max_depth': 19, 'min_samples_leaf': 4}. Best is trial 0 with value: 0.8134317768787083.\n",
      "[I 2023-06-15 10:00:29,827] Trial 2 finished with value: 0.794773451980911 and parameters: {'n_estimators': 109, 'max_depth': 20, 'min_samples_leaf': 10}. Best is trial 0 with value: 0.8134317768787083.\n",
      "[I 2023-06-15 10:00:39,091] Trial 3 finished with value: 0.7950437918182063 and parameters: {'n_estimators': 138, 'max_depth': 25, 'min_samples_leaf': 10}. Best is trial 0 with value: 0.8134317768787083.\n",
      "[I 2023-06-15 10:00:49,262] Trial 4 finished with value: 0.7964196017927637 and parameters: {'n_estimators': 149, 'max_depth': 26, 'min_samples_leaf': 9}. Best is trial 0 with value: 0.8134317768787083.\n",
      "[I 2023-06-15 10:00:57,964] Trial 5 finished with value: 0.8108788192232008 and parameters: {'n_estimators': 100, 'max_depth': 18, 'min_samples_leaf': 3}. Best is trial 0 with value: 0.8134317768787083.\n",
      "[I 2023-06-15 10:01:07,258] Trial 6 finished with value: 0.8053733008830773 and parameters: {'n_estimators': 110, 'max_depth': 26, 'min_samples_leaf': 5}. Best is trial 0 with value: 0.8134317768787083.\n",
      "[I 2023-06-15 10:01:20,796] Trial 7 finished with value: 0.8072707646675488 and parameters: {'n_estimators': 189, 'max_depth': 17, 'min_samples_leaf': 6}. Best is trial 0 with value: 0.8134317768787083.\n",
      "[I 2023-06-15 10:01:33,422] Trial 8 finished with value: 0.7991865445212286 and parameters: {'n_estimators': 185, 'max_depth': 20, 'min_samples_leaf': 8}. Best is trial 0 with value: 0.8134317768787083.\n",
      "[I 2023-06-15 10:01:49,228] Trial 9 finished with value: 0.8133031507640421 and parameters: {'n_estimators': 195, 'max_depth': 20, 'min_samples_leaf': 3}. Best is trial 0 with value: 0.8134317768787083.\n",
      "[I 2023-06-15 10:02:04,844] Trial 10 finished with value: 0.816715260746386 and parameters: {'n_estimators': 169, 'max_depth': 23, 'min_samples_leaf': 2}. Best is trial 10 with value: 0.816715260746386.\n",
      "[I 2023-06-15 10:02:20,329] Trial 11 finished with value: 0.8171957558341475 and parameters: {'n_estimators': 171, 'max_depth': 23, 'min_samples_leaf': 2}. Best is trial 11 with value: 0.8171957558341475.\n",
      "[I 2023-06-15 10:02:35,113] Trial 12 finished with value: 0.816715260746386 and parameters: {'n_estimators': 169, 'max_depth': 23, 'min_samples_leaf': 2}. Best is trial 11 with value: 0.8171957558341475.\n",
      "[I 2023-06-15 10:02:49,948] Trial 13 finished with value: 0.8164040520462335 and parameters: {'n_estimators': 168, 'max_depth': 23, 'min_samples_leaf': 2}. Best is trial 11 with value: 0.8171957558341475.\n",
      "[I 2023-06-15 10:03:02,143] Trial 14 finished with value: 0.8026134639455865 and parameters: {'n_estimators': 169, 'max_depth': 15, 'min_samples_leaf': 7}. Best is trial 11 with value: 0.8171957558341475.\n",
      "[I 2023-06-15 10:03:14,455] Trial 15 finished with value: 0.8061371815500401 and parameters: {'n_estimators': 155, 'max_depth': 24, 'min_samples_leaf': 5}. Best is trial 11 with value: 0.8171957558341475.\n",
      "[I 2023-06-15 10:03:27,226] Trial 16 finished with value: 0.8149244655880237 and parameters: {'n_estimators': 132, 'max_depth': 22, 'min_samples_leaf': 2}. Best is trial 11 with value: 0.8171957558341475.\n",
      "[I 2023-06-15 10:03:41,732] Trial 17 finished with value: 0.8060154752419681 and parameters: {'n_estimators': 178, 'max_depth': 22, 'min_samples_leaf': 4}. Best is trial 11 with value: 0.8171957558341475.\n",
      "[I 2023-06-15 10:03:53,911] Trial 18 finished with value: 0.8084679029742338 and parameters: {'n_estimators': 154, 'max_depth': 24, 'min_samples_leaf': 4}. Best is trial 11 with value: 0.8171957558341475.\n",
      "[I 2023-06-15 10:04:06,929] Trial 19 finished with value: 0.804541997999355 and parameters: {'n_estimators': 179, 'max_depth': 21, 'min_samples_leaf': 6}. Best is trial 11 with value: 0.8171957558341475.\n"
     ]
    },
    {
     "name": "stdout",
     "output_type": "stream",
     "text": [
      "F1-score случайного леса c Optuna: 0.83\n",
      "Наилучшие значения гиперпараметров Optuna: {'max_depth': 22, 'min_samples_leaf': 5, 'n_estimators': 140}\n"
     ]
    }
   ],
   "source": [
    "# создание функции для расчета значения метрики при различных комбинациях гиперпараметров\n",
    "def optuna_rf(trial):\n",
    "  # задаем пространства поиска гиперпараметров\n",
    "  n_estimators = trial.suggest_int('n_estimators', 100, 200, 1) # количество деревьев в лесу\n",
    "  max_depth = trial.suggest_int('max_depth', 15, 26, 1) # макс. глубина деревьев\n",
    "  min_samples_leaf = trial.suggest_int('min_samples_leaf', 2, 10, 1) # мин. кол-во объектов в листе\n",
    "\n",
    "  # создаем модель\n",
    "  model = ensemble.RandomForestClassifier(n_estimators=n_estimators,\n",
    "                                          max_depth=max_depth,\n",
    "                                          min_samples_leaf=min_samples_leaf,\n",
    "                                          random_state=random_state)\n",
    "  # обучаем модель\n",
    "  model.fit(X_train, y_train)\n",
    "  # оценим модель с помощью кросс-валидации\n",
    "  score = cross_val_score(model, X, y, cv=5, scoring=\"f1\", n_jobs=-1).mean()\n",
    "\n",
    "  return score\n",
    "\n",
    "%time # фиксируем время\n",
    "# cоздаем объект исследования, указав, что метрику надо максимизировать\n",
    "study = optuna.create_study(study_name=\"RandomForestClassifier\", direction=\"maximize\")\n",
    "# ищем лучшую комбинацию гиперпараметров n_trials раз\n",
    "study.optimize(optuna_rf, n_trials=20)\n",
    "\n",
    "# создадим модель с подобранными гиперпараметрами\n",
    "model = ensemble.RandomForestClassifier(**study.best_params,random_state=random_state)\n",
    "model.fit(X_train, y_train) # обучение модели\n",
    "y_test_pred = model.predict(X_test) # предсказание на тестовой выборке\n",
    "\n",
    "print(f'F1-score случайного леса c Optuna: {metrics.f1_score(y_test, y_test_pred).round(3)}') \n",
    "print(f'Наилучшие значения гиперпараметров Optuna: {grid_search_forest.best_params_}')"
   ]
  },
  {
   "attachments": {},
   "cell_type": "markdown",
   "metadata": {},
   "source": [
    "Значение метрики осталось тем же, а времени понадобилось больше. "
   ]
  },
  {
   "cell_type": "code",
   "execution_count": null,
   "metadata": {},
   "outputs": [],
   "source": [
    "# ДЛЯ НАГЛЯДНОСТИ СОБЕРЕМ РЕЗУЛЬТАТЫ В DataFfame"
   ]
  },
  {
   "cell_type": "code",
   "execution_count": 28,
   "metadata": {},
   "outputs": [
    {
     "data": {
      "text/html": [
       "<div>\n",
       "<style scoped>\n",
       "    .dataframe tbody tr th:only-of-type {\n",
       "        vertical-align: middle;\n",
       "    }\n",
       "\n",
       "    .dataframe tbody tr th {\n",
       "        vertical-align: top;\n",
       "    }\n",
       "\n",
       "    .dataframe thead th {\n",
       "        text-align: right;\n",
       "    }\n",
       "</style>\n",
       "<table border=\"1\" class=\"dataframe\">\n",
       "  <thead>\n",
       "    <tr style=\"text-align: right;\">\n",
       "      <th></th>\n",
       "      <th>F1-score</th>\n",
       "      <th>time</th>\n",
       "      <th>penalty(LR) or n_estimators(RF)</th>\n",
       "      <th>solver(LR) or max_depth(RF)</th>\n",
       "      <th>C(LR) or min_samples_leaf(RF)</th>\n",
       "    </tr>\n",
       "  </thead>\n",
       "  <tbody>\n",
       "    <tr>\n",
       "      <th>LogisticRegression</th>\n",
       "      <td>0.789</td>\n",
       "      <td>6s</td>\n",
       "      <td>default</td>\n",
       "      <td>default</td>\n",
       "      <td>default</td>\n",
       "    </tr>\n",
       "    <tr>\n",
       "      <th>LR_GridSeachCV</th>\n",
       "      <td>0.793</td>\n",
       "      <td>17min 28s</td>\n",
       "      <td>l2</td>\n",
       "      <td>lbfgs</td>\n",
       "      <td>0.05</td>\n",
       "    </tr>\n",
       "    <tr>\n",
       "      <th>LR_RandomizedSearchCV</th>\n",
       "      <td>0.796</td>\n",
       "      <td>10min 43s</td>\n",
       "      <td>l2</td>\n",
       "      <td>lbfgs</td>\n",
       "      <td>0.04</td>\n",
       "    </tr>\n",
       "    <tr>\n",
       "      <th>LR_Hyperopt</th>\n",
       "      <td>0.792</td>\n",
       "      <td>11min 06s</td>\n",
       "      <td>l2</td>\n",
       "      <td>lbfgs</td>\n",
       "      <td>0.06</td>\n",
       "    </tr>\n",
       "    <tr>\n",
       "      <th>LR_Optuna</th>\n",
       "      <td>0.799</td>\n",
       "      <td>6min 11s</td>\n",
       "      <td>l2</td>\n",
       "      <td>lbfgs</td>\n",
       "      <td>0.03</td>\n",
       "    </tr>\n",
       "    <tr>\n",
       "      <th>RandomForest</th>\n",
       "      <td>0.828</td>\n",
       "      <td>2.5s</td>\n",
       "      <td>default</td>\n",
       "      <td>default</td>\n",
       "      <td>default</td>\n",
       "    </tr>\n",
       "    <tr>\n",
       "      <th>RF_GridSeachCV</th>\n",
       "      <td>0.843</td>\n",
       "      <td>3min 22s</td>\n",
       "      <td>140</td>\n",
       "      <td>22</td>\n",
       "      <td>5</td>\n",
       "    </tr>\n",
       "    <tr>\n",
       "      <th>RF_RandomizedSearchCV</th>\n",
       "      <td>0.833</td>\n",
       "      <td>57s</td>\n",
       "      <td>140</td>\n",
       "      <td>22</td>\n",
       "      <td>5</td>\n",
       "    </tr>\n",
       "    <tr>\n",
       "      <th>RF_Hyperopt</th>\n",
       "      <td>0.835</td>\n",
       "      <td>3min 07s</td>\n",
       "      <td>140</td>\n",
       "      <td>22</td>\n",
       "      <td>5</td>\n",
       "    </tr>\n",
       "    <tr>\n",
       "      <th>RF_Optuna</th>\n",
       "      <td>0.830</td>\n",
       "      <td>4min 24s</td>\n",
       "      <td>140</td>\n",
       "      <td>22</td>\n",
       "      <td>5</td>\n",
       "    </tr>\n",
       "  </tbody>\n",
       "</table>\n",
       "</div>"
      ],
      "text/plain": [
       "                       F1-score       time penalty(LR) or n_estimators(RF)  \\\n",
       "LogisticRegression        0.789         6s                         default   \n",
       "LR_GridSeachCV            0.793  17min 28s                              l2   \n",
       "LR_RandomizedSearchCV     0.796  10min 43s                              l2   \n",
       "LR_Hyperopt               0.792  11min 06s                              l2   \n",
       "LR_Optuna                 0.799   6min 11s                              l2   \n",
       "RandomForest              0.828       2.5s                         default   \n",
       "RF_GridSeachCV            0.843   3min 22s                             140   \n",
       "RF_RandomizedSearchCV     0.833        57s                             140   \n",
       "RF_Hyperopt               0.835   3min 07s                             140   \n",
       "RF_Optuna                 0.830   4min 24s                             140   \n",
       "\n",
       "                      solver(LR) or max_depth(RF)  \\\n",
       "LogisticRegression                        default   \n",
       "LR_GridSeachCV                              lbfgs   \n",
       "LR_RandomizedSearchCV                       lbfgs   \n",
       "LR_Hyperopt                                 lbfgs   \n",
       "LR_Optuna                                   lbfgs   \n",
       "RandomForest                              default   \n",
       "RF_GridSeachCV                                 22   \n",
       "RF_RandomizedSearchCV                          22   \n",
       "RF_Hyperopt                                    22   \n",
       "RF_Optuna                                      22   \n",
       "\n",
       "                      C(LR) or min_samples_leaf(RF)  \n",
       "LogisticRegression                          default  \n",
       "LR_GridSeachCV                                 0.05  \n",
       "LR_RandomizedSearchCV                          0.04  \n",
       "LR_Hyperopt                                    0.06  \n",
       "LR_Optuna                                      0.03  \n",
       "RandomForest                                default  \n",
       "RF_GridSeachCV                                    5  \n",
       "RF_RandomizedSearchCV                             5  \n",
       "RF_Hyperopt                                       5  \n",
       "RF_Optuna                                         5  "
      ]
     },
     "metadata": {},
     "output_type": "display_data"
    }
   ],
   "source": [
    "df = pd.DataFrame({\n",
    "   'F1-score': [0.789, 0.793, 0.796, 0.792, 0.799, 0.828, 0.843, 0.833, 0.835, 0.830],\n",
    "'time': ['6s', '17min 28s', '10min 43s', '11min 06s', '6min 11s', '2.5s', '3min 22s', '57s', '3min 07s', '4min 24s'],\n",
    "'penalty(LR) or n_estimators(RF)': ['default', 'l2', 'l2', 'l2', 'l2', 'default', 140, 140, 140, 140],\n",
    "'solver(LR) or max_depth(RF)': ['default', 'lbfgs', 'lbfgs', 'lbfgs', 'lbfgs', 'default', 22, 22, 22, 22],\n",
    "'C(LR) or min_samples_leaf(RF)': ['default', 0.05, 0.04, 0.06, 0.03,'default', 5, 5, 5, 5]\n",
    "})\n",
    "df.index = ['LogisticRegression', 'LR_GridSeachCV', 'LR_RandomizedSearchCV', 'LR_Hyperopt', 'LR_Optuna',\n",
    "'RandomForest', 'RF_GridSeachCV', 'RF_RandomizedSearchCV', 'RF_Hyperopt', 'RF_Optuna']\n",
    "\n",
    "\n",
    "display(df)"
   ]
  },
  {
   "attachments": {},
   "cell_type": "markdown",
   "metadata": {},
   "source": [
    "Мы видим, что в целом случайный лес справился с задачей лучше, чем логическая регрессия. \n",
    "Хотя все 4 метода подобрали одинаковые гиперпараметры, наилучшие результаты показала модель RandomForest в паре с методом RF_GridSeachCV."
   ]
  }
 ],
 "metadata": {
  "kernelspec": {
   "display_name": "Python 3",
   "language": "python",
   "name": "python3"
  },
  "language_info": {
   "codemirror_mode": {
    "name": "ipython",
    "version": 3
   },
   "file_extension": ".py",
   "mimetype": "text/x-python",
   "name": "python",
   "nbconvert_exporter": "python",
   "pygments_lexer": "ipython3",
   "version": "3.9.13"
  },
  "orig_nbformat": 4
 },
 "nbformat": 4,
 "nbformat_minor": 2
}
