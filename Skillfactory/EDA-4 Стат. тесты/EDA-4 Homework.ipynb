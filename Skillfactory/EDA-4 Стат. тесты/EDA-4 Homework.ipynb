{
 "cells": [
  {
   "cell_type": "code",
   "execution_count": 113,
   "metadata": {},
   "outputs": [],
   "source": [
    "# Домашнее задание"
   ]
  },
  {
   "cell_type": "markdown",
   "metadata": {},
   "source": [
    "## Задание:\n",
    "Используя информацию по мидиям Петербурга и Магадана, которые представлены в виде двух массивов petersburg и magadan в разделе ANOVA тест, проверьте данные на нормальность и на наличие корреляции. Для этого объедините 2 массива в DataFrame. Обоснуйте выбор теста на корреляцию. Сделайте вывод по гипотезе.\n",
    "Также ответьте на вопрос:\n",
    "Какова разница в среднем размере мидии в зависимости от города-производителя. Обоснуйте выбор теста. Сделайте вывод по гипотезе.\n"
   ]
  },
  {
   "cell_type": "code",
   "execution_count": 114,
   "metadata": {},
   "outputs": [],
   "source": [
    "# данные:\n",
    "petersburg = [0.0974, 0.1352, 0.0817, 0.1016, 0.0968, 0.1064, 0.105]\n",
    "magadan = [0.1033, 0.0915, 0.0781, 0.0685, 0.0677, 0.0697, 0.0764, 0.0689]"
   ]
  },
  {
   "cell_type": "markdown",
   "metadata": {},
   "source": [
    "Cписок petersburg имеет 7 значений, в то время как magadan - 8. \n",
    "Для объединения в DataFrame списки должны быть одной длины, поэтому добавим в список petersburg\n",
    "0 в качестве восьмого значения"
   ]
  },
  {
   "cell_type": "code",
   "execution_count": 123,
   "metadata": {},
   "outputs": [
    {
     "name": "stdout",
     "output_type": "stream",
     "text": [
      "petersburg [0.0974, 0.1352, 0.0817, 0.1016, 0.0968, 0.1064, 0.105, 0, 0]\n",
      "длина списка: 9 элементов\n"
     ]
    }
   ],
   "source": [
    "petersburg.append(0)\n",
    "print('petersburg', petersburg)\n",
    "print('длина списка:', len(petersburg), 'элементов')"
   ]
  },
  {
   "cell_type": "code",
   "execution_count": 116,
   "metadata": {},
   "outputs": [
    {
     "data": {
      "text/html": [
       "<div>\n",
       "<style scoped>\n",
       "    .dataframe tbody tr th:only-of-type {\n",
       "        vertical-align: middle;\n",
       "    }\n",
       "\n",
       "    .dataframe tbody tr th {\n",
       "        vertical-align: top;\n",
       "    }\n",
       "\n",
       "    .dataframe thead th {\n",
       "        text-align: right;\n",
       "    }\n",
       "</style>\n",
       "<table border=\"1\" class=\"dataframe\">\n",
       "  <thead>\n",
       "    <tr style=\"text-align: right;\">\n",
       "      <th></th>\n",
       "      <th>petersburg</th>\n",
       "      <th>magadan</th>\n",
       "    </tr>\n",
       "  </thead>\n",
       "  <tbody>\n",
       "    <tr>\n",
       "      <th>0</th>\n",
       "      <td>0.0974</td>\n",
       "      <td>0.1033</td>\n",
       "    </tr>\n",
       "    <tr>\n",
       "      <th>1</th>\n",
       "      <td>0.1352</td>\n",
       "      <td>0.0915</td>\n",
       "    </tr>\n",
       "    <tr>\n",
       "      <th>2</th>\n",
       "      <td>0.0817</td>\n",
       "      <td>0.0781</td>\n",
       "    </tr>\n",
       "    <tr>\n",
       "      <th>3</th>\n",
       "      <td>0.1016</td>\n",
       "      <td>0.0685</td>\n",
       "    </tr>\n",
       "    <tr>\n",
       "      <th>4</th>\n",
       "      <td>0.0968</td>\n",
       "      <td>0.0677</td>\n",
       "    </tr>\n",
       "    <tr>\n",
       "      <th>5</th>\n",
       "      <td>0.1064</td>\n",
       "      <td>0.0697</td>\n",
       "    </tr>\n",
       "    <tr>\n",
       "      <th>6</th>\n",
       "      <td>0.1050</td>\n",
       "      <td>0.0764</td>\n",
       "    </tr>\n",
       "    <tr>\n",
       "      <th>7</th>\n",
       "      <td>0.0000</td>\n",
       "      <td>0.0689</td>\n",
       "    </tr>\n",
       "  </tbody>\n",
       "</table>\n",
       "</div>"
      ],
      "text/plain": [
       "   petersburg  magadan\n",
       "0      0.0974   0.1033\n",
       "1      0.1352   0.0915\n",
       "2      0.0817   0.0781\n",
       "3      0.1016   0.0685\n",
       "4      0.0968   0.0677\n",
       "5      0.1064   0.0697\n",
       "6      0.1050   0.0764\n",
       "7      0.0000   0.0689"
      ]
     },
     "execution_count": 116,
     "metadata": {},
     "output_type": "execute_result"
    }
   ],
   "source": [
    "import pandas as pd # импорт библиотеки для работы с таблицами\n",
    "# объединим списки в словарь\n",
    "d = {'petersburg':[0.0974, 0.1352, 0.0817, 0.1016, 0.0968, 0.1064, 0.105, 0], \n",
    "     'magadan':[0.1033, 0.0915, 0.0781, 0.0685, 0.0677, 0.0697, 0.0764, 0.0689]}\n",
    "data = pd.DataFrame(data=d)\n",
    "data"
   ]
  },
  {
   "cell_type": "markdown",
   "metadata": {},
   "source": [
    "Заменим 0 в признаке petersburg медианным значением"
   ]
  },
  {
   "cell_type": "code",
   "execution_count": 117,
   "metadata": {},
   "outputs": [
    {
     "data": {
      "text/html": [
       "<div>\n",
       "<style scoped>\n",
       "    .dataframe tbody tr th:only-of-type {\n",
       "        vertical-align: middle;\n",
       "    }\n",
       "\n",
       "    .dataframe tbody tr th {\n",
       "        vertical-align: top;\n",
       "    }\n",
       "\n",
       "    .dataframe thead th {\n",
       "        text-align: right;\n",
       "    }\n",
       "</style>\n",
       "<table border=\"1\" class=\"dataframe\">\n",
       "  <thead>\n",
       "    <tr style=\"text-align: right;\">\n",
       "      <th></th>\n",
       "      <th>petersburg</th>\n",
       "      <th>magadan</th>\n",
       "    </tr>\n",
       "  </thead>\n",
       "  <tbody>\n",
       "    <tr>\n",
       "      <th>0</th>\n",
       "      <td>0.0974</td>\n",
       "      <td>0.1033</td>\n",
       "    </tr>\n",
       "    <tr>\n",
       "      <th>1</th>\n",
       "      <td>0.1352</td>\n",
       "      <td>0.0915</td>\n",
       "    </tr>\n",
       "    <tr>\n",
       "      <th>2</th>\n",
       "      <td>0.0817</td>\n",
       "      <td>0.0781</td>\n",
       "    </tr>\n",
       "    <tr>\n",
       "      <th>3</th>\n",
       "      <td>0.1016</td>\n",
       "      <td>0.0685</td>\n",
       "    </tr>\n",
       "    <tr>\n",
       "      <th>4</th>\n",
       "      <td>0.0968</td>\n",
       "      <td>0.0677</td>\n",
       "    </tr>\n",
       "    <tr>\n",
       "      <th>5</th>\n",
       "      <td>0.1064</td>\n",
       "      <td>0.0697</td>\n",
       "    </tr>\n",
       "    <tr>\n",
       "      <th>6</th>\n",
       "      <td>0.1050</td>\n",
       "      <td>0.0764</td>\n",
       "    </tr>\n",
       "    <tr>\n",
       "      <th>7</th>\n",
       "      <td>0.0995</td>\n",
       "      <td>0.0689</td>\n",
       "    </tr>\n",
       "  </tbody>\n",
       "</table>\n",
       "</div>"
      ],
      "text/plain": [
       "   petersburg  magadan\n",
       "0      0.0974   0.1033\n",
       "1      0.1352   0.0915\n",
       "2      0.0817   0.0781\n",
       "3      0.1016   0.0685\n",
       "4      0.0968   0.0677\n",
       "5      0.1064   0.0697\n",
       "6      0.1050   0.0764\n",
       "7      0.0995   0.0689"
      ]
     },
     "execution_count": 117,
     "metadata": {},
     "output_type": "execute_result"
    }
   ],
   "source": [
    "data['petersburg'] = data['petersburg'].apply(lambda x: data['petersburg'].median() if x == 0 else x)\n",
    "data"
   ]
  },
  {
   "cell_type": "markdown",
   "metadata": {},
   "source": [
    "## Тест на нормальность распределения"
   ]
  },
  {
   "cell_type": "markdown",
   "metadata": {},
   "source": [
    "Применим критерий Шапиро-Уилка, так как он считается более подходящим для небольших выборок."
   ]
  },
  {
   "cell_type": "code",
   "execution_count": 118,
   "metadata": {},
   "outputs": [
    {
     "name": "stdout",
     "output_type": "stream",
     "text": [
      "p=0.105\n",
      "Данные распределены нормально\n"
     ]
    }
   ],
   "source": [
    "# cформулируем гипотезу:\n",
    "H0 = 'Данные распределены нормально'\n",
    "Ha = 'Данные не распределены нормально (отвергаем H0)'\n",
    "\n",
    "# Установим уровень значимости:\n",
    "alpha = 0.05\n",
    "\n",
    "from scipy.stats import shapiro # импорт нужного модуля\n",
    "\n",
    "_, p = shapiro(data['petersburg']) # проверка признака petersburg\n",
    "print('p=%.3f' % p) # вывод значения р\n",
    "\n",
    "if p > alpha: # сравним р и alpha\n",
    "\tprint(H0)\n",
    "else:\n",
    "\tprint(Ha)"
   ]
  },
  {
   "cell_type": "code",
   "execution_count": 119,
   "metadata": {},
   "outputs": [
    {
     "name": "stdout",
     "output_type": "stream",
     "text": [
      "p=0.036\n",
      "Данные не распределены нормально (отвергаем H0)\n"
     ]
    }
   ],
   "source": [
    "_, p = shapiro(data['magadan']) # проверка признака magadan\n",
    "print('p=%.3f' % p) # вывод значения р\n",
    "\n",
    "if p > alpha: # сравним р и alpha\n",
    "\tprint(H0)\n",
    "else:\n",
    "\tprint(Ha)"
   ]
  },
  {
   "cell_type": "markdown",
   "metadata": {},
   "source": [
    "### Вывод: в признаке magadan данные имеют ненормальное распределение, поэтому будем использовать непараметрические тесты."
   ]
  },
  {
   "cell_type": "markdown",
   "metadata": {},
   "source": [
    "## Корреляционный тест Спирмена"
   ]
  },
  {
   "cell_type": "markdown",
   "metadata": {},
   "source": [
    "Так как зависимая переменная (средний размер мидий) у нас количественная, используем корреляцию Спирмена."
   ]
  },
  {
   "cell_type": "code",
   "execution_count": 120,
   "metadata": {},
   "outputs": [
    {
     "name": "stdout",
     "output_type": "stream",
     "text": [
      "Коэффициент корреляции: 0.14 ; значение Pvalues: 0.74)\n",
      "Мы не можем отвергнуть нулевую гипотезу об отсутсвии зависимости между переменными\n"
     ]
    }
   ],
   "source": [
    "from scipy.stats import spearmanr # импортируем функцию spearmanr из модуля scipy.stats\n",
    "\n",
    "corr, p = spearmanr(data['petersburg'], data['magadan'])\n",
    "# в аргумент функции передадим наши ризнаки\n",
    "print(f'Коэффициент корреляции: {round(corr, 2)} ; значение Pvalues: {round(p, 2)})')\n",
    "# выведем значение коэффициента корреляции и Pvalues\n",
    "\n",
    "if p > 0.05: # сравним Pvalue и alpha\n",
    "    print('Мы не можем отвергнуть нулевую гипотезу об отсутсвии зависимости между переменными')\n",
    "else:\n",
    "    print('Мы отвергаем нулевую гипотезу об отсутсвии зависимости между переменными.')"
   ]
  },
  {
   "cell_type": "markdown",
   "metadata": {},
   "source": [
    "### Вывод: тест на корреляцию Спирмена показал, что зависимости в среднем размере мидий, выращенных в разных городах, не существует. Нулевую гипотезу о том, что такой связи не существует, мы не можем отвергнуть."
   ]
  },
  {
   "cell_type": "markdown",
   "metadata": {},
   "source": [
    "## Тест на сравнение выборок"
   ]
  },
  {
   "cell_type": "markdown",
   "metadata": {},
   "source": [
    "Мы сравниваем один и тот же критерий (размер мидий) из двух разных совокупностей (Санкт-Петербург и Магадан), при этом у нас всего 8 значений. Но один из признаков имеет ненормальное распределение, поэтому для сравнения выборок используем Сумму рангов Уилкоксона."
   ]
  },
  {
   "cell_type": "code",
   "execution_count": 121,
   "metadata": {},
   "outputs": [
    {
     "name": "stdout",
     "output_type": "stream",
     "text": [
      "статистики: 2.0, значение Pvalue: 0.02\n",
      "0.02 <= 0.05. Есть значимая разница в среднем размере мидии в зависимости от города-производителя.\n"
     ]
    }
   ],
   "source": [
    "# сформулируем гипотезу\n",
    "H0 = 'Нет значимой разницы в среднем размере мидии в зависимости от города-производителя.'\n",
    "Ha = 'Есть значимая разница в среднем размере мидии в зависимости от города-производителя.'\n",
    "\n",
    "alpha = 0.05 # установим уровень значимости\n",
    "\n",
    "from scipy.stats import wilcoxon\n",
    "\n",
    "res = wilcoxon(data['petersburg'], data['magadan'])\n",
    "# применим функцию wilcoxon(), передав в аргументы признаки для сравнения\n",
    "print(f'статистики: {res.statistic}, значение Pvalue: {round(res.pvalue, 2)}')\n",
    "# выведем статистики и значение Pvalue\n",
    "\n",
    "if res.pvalue > alpha: # сравним Pvalue и alpha\n",
    "    print(f\"{round(res.pvalue, 2)} > {alpha}. {H0}\")\n",
    "else:\n",
    "    print(f\"{round(res.pvalue, 2)} <= {alpha}. {Ha}\")"
   ]
  },
  {
   "cell_type": "markdown",
   "metadata": {},
   "source": [
    "### Вывод: Критерий Уилкоксона показал, что зависимость в среднем размере мидии, выращенных в разных городах, существует. Нулевую гипотезу о том, что такой связи не существует, мы можем отвергнуть."
   ]
  },
  {
   "cell_type": "markdown",
   "metadata": {},
   "source": [
    "# Общий вывод:\n",
    "Для формирования общего вывода о наличии связи среднего размера мидии от города, где они были выращены, следует опираться на данные Суммы рангов Уилкоксона, т.к. этот метод анализирует именно медианные значения выборок. Данные же корреляции Спирмена вполне могут оказаться некорректными, т.к. выборка очень мала.\n",
    "Соответственно, \n",
    "# Разница в среднем размере мидии в зависимости от города-производителя существенна."
   ]
  }
 ],
 "metadata": {
  "kernelspec": {
   "display_name": "Python 3.9.13 64-bit",
   "language": "python",
   "name": "python3"
  },
  "language_info": {
   "codemirror_mode": {
    "name": "ipython",
    "version": 3
   },
   "file_extension": ".py",
   "mimetype": "text/x-python",
   "name": "python",
   "nbconvert_exporter": "python",
   "pygments_lexer": "ipython3",
   "version": "3.9.13"
  },
  "orig_nbformat": 4,
  "vscode": {
   "interpreter": {
    "hash": "5e6de380757105bcf75186a154ef2d55e44d157b0d51cbbb951c1add3ec59751"
   }
  }
 },
 "nbformat": 4,
 "nbformat_minor": 2
}
