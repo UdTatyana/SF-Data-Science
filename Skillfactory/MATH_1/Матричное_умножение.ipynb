{
 "cells": [
  {
   "cell_type": "markdown",
   "metadata": {},
   "source": [
    "# Умножение матриц"
   ]
  },
  {
   "cell_type": "code",
   "execution_count": 1,
   "metadata": {},
   "outputs": [],
   "source": [
    "import numpy as np"
   ]
  },
  {
   "cell_type": "code",
   "execution_count": 7,
   "metadata": {},
   "outputs": [
    {
     "name": "stdout",
     "output_type": "stream",
     "text": [
      "A:\n",
      " [[11  5  6]\n",
      " [ 5  8  8]\n",
      " [ 9 11  9]]\n",
      "B:\n",
      " [[ 1 -2  3]\n",
      " [ 1  2  3]\n",
      " [ 1  0 -2]]\n"
     ]
    }
   ],
   "source": [
    "# создадим рандомные матрицы размером 3х3 \n",
    "A=np.random.randint(5, 12, (3,3))\n",
    "B=np.random.randint(-2, 4, (3,3))\n",
    "\n",
    "print('A:\\n', A)\n",
    "print('B:\\n', B)"
   ]
  },
  {
   "cell_type": "markdown",
   "metadata": {},
   "source": [
    "При таком способе создания получаем матрицы типа ndarray (удобен для работы с многомерными массивами)"
   ]
  },
  {
   "cell_type": "code",
   "execution_count": 9,
   "metadata": {},
   "outputs": [
    {
     "name": "stdout",
     "output_type": "stream",
     "text": [
      "<class 'numpy.ndarray'>\n"
     ]
    }
   ],
   "source": [
    "print(type(A))"
   ]
  },
  {
   "cell_type": "markdown",
   "metadata": {},
   "source": [
    "При использовании оператора звёздочка (*) получаем матрицу поэлементного умножения "
   ]
  },
  {
   "cell_type": "code",
   "execution_count": 8,
   "metadata": {},
   "outputs": [
    {
     "data": {
      "text/plain": [
       "array([[ 11, -10,  18],\n",
       "       [  5,  16,  24],\n",
       "       [  9,   0, -18]])"
      ]
     },
     "execution_count": 8,
     "metadata": {},
     "output_type": "execute_result"
    }
   ],
   "source": [
    "A*B"
   ]
  },
  {
   "cell_type": "markdown",
   "metadata": {},
   "source": [
    "Поменяем тип матриц на np.matrix (частный случай ndarray для работы с двумерными массивами), такие матрицы звёздочкой перемножаются по правилам матричного умножения"
   ]
  },
  {
   "cell_type": "code",
   "execution_count": 10,
   "metadata": {},
   "outputs": [
    {
     "name": "stdout",
     "output_type": "stream",
     "text": [
      "[[ 22 -12  36]\n",
      " [ 21   6  23]\n",
      " [ 29   4  42]]\n"
     ]
    }
   ],
   "source": [
    "# тип np.matrix\n",
    "A_m=np.matrix(A)\n",
    "B_m=np.matrix(B)\n",
    "\n",
    "print(A_m*B_m)"
   ]
  },
  {
   "cell_type": "markdown",
   "metadata": {},
   "source": [
    "Матрицы типа ndarray перемножить можно командой dot или оператором @ "
   ]
  },
  {
   "cell_type": "code",
   "execution_count": 11,
   "metadata": {},
   "outputs": [
    {
     "data": {
      "text/plain": [
       "array([[ 22, -12,  36],\n",
       "       [ 21,   6,  23],\n",
       "       [ 29,   4,  42]])"
      ]
     },
     "execution_count": 11,
     "metadata": {},
     "output_type": "execute_result"
    }
   ],
   "source": [
    "# Матричное умножение\n",
    "np.dot(A,B)"
   ]
  },
  {
   "cell_type": "code",
   "execution_count": 12,
   "metadata": {},
   "outputs": [
    {
     "data": {
      "text/plain": [
       "array([[ 22, -12,  36],\n",
       "       [ 21,   6,  23],\n",
       "       [ 29,   4,  42]])"
      ]
     },
     "execution_count": 12,
     "metadata": {},
     "output_type": "execute_result"
    }
   ],
   "source": [
    "# Матричное умножение\n",
    "A@B"
   ]
  },
  {
   "cell_type": "markdown",
   "metadata": {},
   "source": [
    "### Порядок умножения "
   ]
  },
  {
   "cell_type": "code",
   "execution_count": 13,
   "metadata": {},
   "outputs": [
    {
     "data": {
      "text/plain": [
       "array([[ 28,  22,  17],\n",
       "       [ 48,  54,  49],\n",
       "       [ -7, -17, -12]])"
      ]
     },
     "execution_count": 13,
     "metadata": {},
     "output_type": "execute_result"
    }
   ],
   "source": [
    "# Порядок умножения AB != BA\n",
    "B@A"
   ]
  },
  {
   "cell_type": "markdown",
   "metadata": {},
   "source": [
    "Важно учитывать размерность матриц"
   ]
  },
  {
   "cell_type": "code",
   "execution_count": 14,
   "metadata": {},
   "outputs": [
    {
     "name": "stdout",
     "output_type": "stream",
     "text": [
      "A:\n",
      " [[ 7  8  7  7  5]\n",
      " [ 8  7  9  7  5]\n",
      " [ 9  9  7  8 10]]\n",
      "B:\n",
      " [[-1  1]\n",
      " [ 1 -1]\n",
      " [ 2  2]\n",
      " [ 0  3]\n",
      " [ 3  0]]\n"
     ]
    }
   ],
   "source": [
    "# создадим новые матрицы разных размеров\n",
    "A=np.random.randint(5, 12, (3,5))\n",
    "B=np.random.randint(-2, 4, (5,2))\n",
    "\n",
    "print('A:\\n',A)\n",
    "print('B:\\n',B)"
   ]
  },
  {
   "cell_type": "code",
   "execution_count": 15,
   "metadata": {},
   "outputs": [
    {
     "data": {
      "text/plain": [
       "array([[30, 34],\n",
       "       [32, 40],\n",
       "       [44, 38]])"
      ]
     },
     "execution_count": 15,
     "metadata": {},
     "output_type": "execute_result"
    }
   ],
   "source": [
    "# в таком порядке умножение возможно, \n",
    "# т.к. кол-во стобцов А совпадает с кол-вом строк В\n",
    "A@B"
   ]
  },
  {
   "cell_type": "code",
   "execution_count": 16,
   "metadata": {},
   "outputs": [
    {
     "ename": "ValueError",
     "evalue": "matmul: Input operand 1 has a mismatch in its core dimension 0, with gufunc signature (n?,k),(k,m?)->(n?,m?) (size 3 is different from 2)",
     "output_type": "error",
     "traceback": [
      "\u001b[1;31m---------------------------------------------------------------------------\u001b[0m",
      "\u001b[1;31mValueError\u001b[0m                                Traceback (most recent call last)",
      "Input \u001b[1;32mIn [16]\u001b[0m, in \u001b[0;36m<cell line: 2>\u001b[1;34m()\u001b[0m\n\u001b[0;32m      1\u001b[0m \u001b[38;5;66;03m# в этом порядке умножение невозможно\u001b[39;00m\n\u001b[1;32m----> 2\u001b[0m \u001b[43mB\u001b[49m\u001b[38;5;129;43m@A\u001b[39;49m\n",
      "\u001b[1;31mValueError\u001b[0m: matmul: Input operand 1 has a mismatch in its core dimension 0, with gufunc signature (n?,k),(k,m?)->(n?,m?) (size 3 is different from 2)"
     ]
    }
   ],
   "source": [
    "# в этом порядке умножение невозможно\n",
    "B@A"
   ]
  },
  {
   "cell_type": "markdown",
   "metadata": {},
   "source": [
    "Размер итоговой матрицы - столбцов столько же, сколько в левой матрице, строк - в правой: "
   ]
  },
  {
   "cell_type": "code",
   "execution_count": 17,
   "metadata": {},
   "outputs": [
    {
     "name": "stdout",
     "output_type": "stream",
     "text": [
      "shape of A: (3, 5)\n",
      "shape of B: (5, 2)\n",
      "shape of AB: (3, 2)\n"
     ]
    }
   ],
   "source": [
    "# размер произведения матриц\n",
    "print('shape of A:', np.shape(A))\n",
    "print('shape of B:', np.shape(B))\n",
    "print('shape of AB:', np.shape(A@B))"
   ]
  },
  {
   "cell_type": "markdown",
   "metadata": {},
   "source": [
    "Если матрицы одинакового размера, при изменении порядка умножения итоговые матрицы будут разные"
   ]
  },
  {
   "cell_type": "markdown",
   "metadata": {},
   "source": [
    "### Умножение на специальные матрицы"
   ]
  },
  {
   "cell_type": "code",
   "execution_count": 18,
   "metadata": {},
   "outputs": [
    {
     "name": "stdout",
     "output_type": "stream",
     "text": [
      "A:\n",
      " [[-1  2 -4 -2]\n",
      " [-3 -4  2 -3]\n",
      " [ 2 -2 -2 -3]\n",
      " [ 2 -2  3  3]]\n",
      "D:\n",
      " [[ 1  0  0  0]\n",
      " [ 0  2  0  0]\n",
      " [ 0  0  0  0]\n",
      " [ 0  0  0 -1]]\n",
      "AD:\n",
      " [[-1  4  0  2]\n",
      " [-3 -8  0  3]\n",
      " [ 2 -4  0  3]\n",
      " [ 2 -4  0 -3]]\n",
      "DA:\n",
      " [[-1  2 -4 -2]\n",
      " [-6 -8  4 -6]\n",
      " [ 0  0  0  0]\n",
      " [-2  2 -3 -3]]\n"
     ]
    }
   ],
   "source": [
    "# умножение на специальные матрицы\n",
    "A=np.random.randint(-4, 4, (4,4))\n",
    "D=np.diag([1,2,0,-1])\n",
    "\n",
    "print('A:\\n',A)\n",
    "print('D:\\n',D)\n",
    "print('AD:\\n',A@D)\n",
    "print('DA:\\n',D@A)"
   ]
  },
  {
   "cell_type": "markdown",
   "metadata": {},
   "source": [
    "На диагональную матрицу умножение возможно в любом порядке, но итоговые матрицы разные."
   ]
  },
  {
   "cell_type": "markdown",
   "metadata": {},
   "source": [
    "### Умножение на одномерный массив numpy"
   ]
  },
  {
   "cell_type": "code",
   "execution_count": 19,
   "metadata": {},
   "outputs": [
    {
     "data": {
      "text/plain": [
       "array([2, 6])"
      ]
     },
     "execution_count": 19,
     "metadata": {},
     "output_type": "execute_result"
    }
   ],
   "source": [
    "# умножение матрицы на вектор\n",
    "A=np.array([[1,0,1],[1,1,1]])\n",
    "b=np.array([-3,4,5])\n",
    "A@b # важен прядок умножения\n",
    "# переводить в столбец не нужно, Python делает это сам "
   ]
  },
  {
   "cell_type": "code",
   "execution_count": 20,
   "metadata": {},
   "outputs": [
    {
     "ename": "ValueError",
     "evalue": "matmul: Input operand 1 has a mismatch in its core dimension 0, with gufunc signature (n?,k),(k,m?)->(n?,m?) (size 2 is different from 3)",
     "output_type": "error",
     "traceback": [
      "\u001b[1;31m---------------------------------------------------------------------------\u001b[0m",
      "\u001b[1;31mValueError\u001b[0m                                Traceback (most recent call last)",
      "Input \u001b[1;32mIn [20]\u001b[0m, in \u001b[0;36m<cell line: 1>\u001b[1;34m()\u001b[0m\n\u001b[1;32m----> 1\u001b[0m \u001b[43mb\u001b[49m\u001b[38;5;129;43m@A\u001b[39;49m\n",
      "\u001b[1;31mValueError\u001b[0m: matmul: Input operand 1 has a mismatch in its core dimension 0, with gufunc signature (n?,k),(k,m?)->(n?,m?) (size 2 is different from 3)"
     ]
    }
   ],
   "source": [
    "b@A # в этом порядке умножение невозможно"
   ]
  },
  {
   "cell_type": "markdown",
   "metadata": {},
   "source": [
    "## Матрицы Грама"
   ]
  },
  {
   "cell_type": "code",
   "execution_count": 21,
   "metadata": {},
   "outputs": [
    {
     "name": "stdout",
     "output_type": "stream",
     "text": [
      "[[ 1  1  1]\n",
      " [ 1  0 -1]\n",
      " [-1  2 -1]] <class 'numpy.ndarray'>\n"
     ]
    }
   ],
   "source": [
    "# матрица Грама ортогональной системы векторов\n",
    "x=np.array([1,1,1]) # создадим 3 вектора\n",
    "y=np.array([1,0,-1])\n",
    "z=np.array([-1,2,-1])\n",
    "A=np.array([x,y,z]) # запишем их в матрицу по строкам\n",
    "print (A, type(A))"
   ]
  },
  {
   "cell_type": "markdown",
   "metadata": {},
   "source": [
    "Чтобы записать векторы в матрицу по столбцам - транспонируем (A=np.array([x,y,z]).T)"
   ]
  },
  {
   "cell_type": "code",
   "execution_count": 22,
   "metadata": {},
   "outputs": [
    {
     "data": {
      "text/plain": [
       "array([[3, 0, 0],\n",
       "       [0, 2, 0],\n",
       "       [0, 0, 6]])"
      ]
     },
     "execution_count": 22,
     "metadata": {},
     "output_type": "execute_result"
    }
   ],
   "source": [
    "# вычисляем матрицу Грама\n",
    "A@A.T"
   ]
  },
  {
   "cell_type": "markdown",
   "metadata": {},
   "source": [
    "Получившая матрица - диагональная, значит, векторы ортогональны (образуют ортогональную систему векторов)"
   ]
  },
  {
   "cell_type": "code",
   "execution_count": 23,
   "metadata": {},
   "outputs": [
    {
     "name": "stdout",
     "output_type": "stream",
     "text": [
      "[[ 0.57735027  0.57735027  0.57735027]\n",
      " [ 0.70710678  0.         -0.70710678]\n",
      " [-0.40824829  0.81649658 -0.40824829]] <class 'numpy.ndarray'>\n"
     ]
    }
   ],
   "source": [
    "# нормируем векторы\n",
    "x_norm=x/np.linalg.norm(x)\n",
    "y_norm=y/np.linalg.norm(y)\n",
    "z_norm=z/np.linalg.norm(z)\n",
    "# составим из нормированных векторов матрицу \n",
    "A_norm=np.array([x_norm,y_norm,z_norm])\n",
    "print (A_norm, type(A_norm))"
   ]
  },
  {
   "cell_type": "code",
   "execution_count": 24,
   "metadata": {},
   "outputs": [
    {
     "data": {
      "text/plain": [
       "array([[1., 0., 0.],\n",
       "       [0., 1., 0.],\n",
       "       [0., 0., 1.]])"
      ]
     },
     "execution_count": 24,
     "metadata": {},
     "output_type": "execute_result"
    }
   ],
   "source": [
    "# для нормированной матрицы вычислим матрицу Грама\n",
    "A_norm@A_norm.T"
   ]
  },
  {
   "cell_type": "markdown",
   "metadata": {},
   "source": [
    "Системы векторов, у которых получаются единичные матрицы Грама, называются ОРТОНОРМИРОВАННЫМИ "
   ]
  },
  {
   "cell_type": "markdown",
   "metadata": {},
   "source": [
    "Иногда при нормировании вместо нулей получаются числа близкие к 0 (4.58633852е-19), это происходит из=за точности машинного вычисления. В таких случаях нужно округлить числа (np.round(A_norm@A_norm.T,1))"
   ]
  },
  {
   "cell_type": "markdown",
   "metadata": {},
   "source": [
    "### ортонормированные системы рулят! :)"
   ]
  }
 ],
 "metadata": {
  "kernelspec": {
   "display_name": "Python 3",
   "language": "python",
   "name": "python3"
  },
  "language_info": {
   "codemirror_mode": {
    "name": "ipython",
    "version": 3
   },
   "file_extension": ".py",
   "mimetype": "text/x-python",
   "name": "python",
   "nbconvert_exporter": "python",
   "pygments_lexer": "ipython3",
   "version": "3.9.13"
  }
 },
 "nbformat": 4,
 "nbformat_minor": 2
}
