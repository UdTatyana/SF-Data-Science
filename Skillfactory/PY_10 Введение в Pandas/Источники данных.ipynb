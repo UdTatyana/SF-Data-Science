{
 "cells": [
  {
   "cell_type": "markdown",
   "metadata": {},
   "source": [
    "# Запись в csv-файл:  (функция DataFrame to_csv())"
   ]
  },
  {
   "cell_type": "code",
   "execution_count": 2,
   "metadata": {},
   "outputs": [],
   "source": [
    "import pandas as pd\n",
    "countries_df = pd.DataFrame({\n",
    "    'country': ['Англия', 'Канада', 'США', 'Россия', 'Украина', 'Беларусь', 'Казахстан'],\n",
    "    'population': [56.29, 38.05, 322.28, 146.24, 45.5, 9.5, 17.04],\n",
    "    'square': [133396, 9984670, 9826630, 17125191, 603628, 207600, 2724902]\n",
    "})\n",
    "\n",
    "countries_df.to_csv('data/countries.csv', index=False, sep=';')"
   ]
  },
  {
   "cell_type": "markdown",
   "metadata": {},
   "source": [
    "# Чтение csv-файла:   (функция read_csv)"
   ]
  },
  {
   "cell_type": "code",
   "execution_count": 3,
   "metadata": {},
   "outputs": [
    {
     "name": "stdout",
     "output_type": "stream",
     "text": [
      "     country  population    square\n",
      "0     Англия       56.29    133396\n",
      "1     Канада       38.05   9984670\n",
      "2        США      322.28   9826630\n",
      "3     Россия      146.24  17125191\n",
      "4    Украина       45.50    603628\n",
      "5   Беларусь        9.50    207600\n",
      "6  Казахстан       17.04   2724902\n"
     ]
    }
   ],
   "source": [
    "countries_data = pd.read_csv('data/countries.csv', sep=';')\n",
    "print(countries_data)"
   ]
  },
  {
   "cell_type": "markdown",
   "metadata": {},
   "source": [
    "# Чтение csv-файла по ссылке: (вместо пути - ссылка)"
   ]
  },
  {
   "cell_type": "code",
   "execution_count": 4,
   "metadata": {},
   "outputs": [
    {
     "name": "stdout",
     "output_type": "stream",
     "text": [
      "       Unnamed: 0        Suburb           Address  Rooms Type      Price  \\\n",
      "0               1    Abbotsford      85 Turner St      2    h  1480000.0   \n",
      "1               2    Abbotsford   25 Bloomburg St      2    h  1035000.0   \n",
      "2               4    Abbotsford      5 Charles St      3    h  1465000.0   \n",
      "3               5    Abbotsford  40 Federation La      3    h   850000.0   \n",
      "4               6    Abbotsford       55a Park St      4    h  1600000.0   \n",
      "...           ...           ...               ...    ...  ...        ...   \n",
      "18391       23540  Williamstown   8/2 Thompson St      2    t   622500.0   \n",
      "18392       23541  Williamstown      96 Verdon St      4    h  2500000.0   \n",
      "18393       23544     Yallambie      17 Amaroo Wy      4    h  1100000.0   \n",
      "18394       23545    Yarraville        6 Agnes St      4    h  1285000.0   \n",
      "18395       23546    Yarraville     33 Freeman St      4    h  1050000.0   \n",
      "\n",
      "      Method     SellerG        Date  Distance  ...  Bathroom  Car  Landsize  \\\n",
      "0          S      Biggin   3/12/2016       2.5  ...       1.0  1.0     202.0   \n",
      "1          S      Biggin   4/02/2016       2.5  ...       1.0  0.0     156.0   \n",
      "2         SP      Biggin   4/03/2017       2.5  ...       2.0  0.0     134.0   \n",
      "3         PI      Biggin   4/03/2017       2.5  ...       2.0  1.0      94.0   \n",
      "4         VB      Nelson   4/06/2016       2.5  ...       1.0  2.0     120.0   \n",
      "...      ...         ...         ...       ...  ...       ...  ...       ...   \n",
      "18391     SP        Greg  26/08/2017       6.8  ...       2.0  1.0       NaN   \n",
      "18392     PI     Sweeney  26/08/2017       6.8  ...       1.0  5.0     866.0   \n",
      "18393      S  Buckingham  26/08/2017      12.7  ...       3.0  2.0       NaN   \n",
      "18394     SP     Village  26/08/2017       6.3  ...       1.0  1.0     362.0   \n",
      "18395     VB     Village  26/08/2017       6.3  ...       2.0  2.0       NaN   \n",
      "\n",
      "       BuildingArea  YearBuilt  CouncilArea  Lattitude Longtitude  \\\n",
      "0               NaN        NaN        Yarra  -37.79960  144.99840   \n",
      "1              79.0     1900.0        Yarra  -37.80790  144.99340   \n",
      "2             150.0     1900.0        Yarra  -37.80930  144.99440   \n",
      "3               NaN        NaN        Yarra  -37.79690  144.99690   \n",
      "4             142.0     2014.0        Yarra  -37.80720  144.99410   \n",
      "...             ...        ...          ...        ...        ...   \n",
      "18391          89.0     2010.0          NaN  -37.86393  144.90484   \n",
      "18392         157.0     1920.0          NaN  -37.85908  144.89299   \n",
      "18393           NaN        NaN          NaN  -37.72006  145.10547   \n",
      "18394         112.0     1920.0          NaN  -37.81188  144.88449   \n",
      "18395         139.0     1950.0          NaN  -37.81829  144.87404   \n",
      "\n",
      "                  Regionname  Propertycount  \n",
      "0      Northern Metropolitan         4019.0  \n",
      "1      Northern Metropolitan         4019.0  \n",
      "2      Northern Metropolitan         4019.0  \n",
      "3      Northern Metropolitan         4019.0  \n",
      "4      Northern Metropolitan         4019.0  \n",
      "...                      ...            ...  \n",
      "18391   Western Metropolitan         6380.0  \n",
      "18392   Western Metropolitan         6380.0  \n",
      "18393  Northern Metropolitan         1369.0  \n",
      "18394   Western Metropolitan         6543.0  \n",
      "18395   Western Metropolitan         6543.0  \n",
      "\n",
      "[18396 rows x 22 columns]\n"
     ]
    }
   ],
   "source": [
    "data = pd.read_csv('https://raw.githubusercontent.com/esabunor/MLWorkspace/master/melb_data.csv')\n",
    "print(data)"
   ]
  }
 ],
 "metadata": {
  "interpreter": {
   "hash": "aee8b7b246df8f9039afb4144a1f6fd8d2ca17a180786b69acc140d282b71a49"
  },
  "kernelspec": {
   "display_name": "Python 3.9.10 64-bit",
   "language": "python",
   "name": "python3"
  },
  "language_info": {
   "codemirror_mode": {
    "name": "ipython",
    "version": 3
   },
   "file_extension": ".py",
   "mimetype": "text/x-python",
   "name": "python",
   "nbconvert_exporter": "python",
   "pygments_lexer": "ipython3",
   "version": "3.9.10"
  },
  "orig_nbformat": 4
 },
 "nbformat": 4,
 "nbformat_minor": 2
}
