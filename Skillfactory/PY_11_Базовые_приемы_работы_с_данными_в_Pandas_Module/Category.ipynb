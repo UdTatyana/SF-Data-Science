{
 "cells": [
  {
   "cell_type": "code",
   "execution_count": 7,
   "metadata": {},
   "outputs": [
    {
     "ename": "ModuleNotFoundError",
     "evalue": "No module named 'Столбцы_и_функции'",
     "output_type": "error",
     "traceback": [
      "\u001b[0;31m---------------------------------------------------------------------------\u001b[0m",
      "\u001b[0;31mModuleNotFoundError\u001b[0m                       Traceback (most recent call last)",
      "\u001b[1;32m/Users/tatyana.ud/Documents/GitHub/SF-Data-Science/Skillfactory/PY_11_Базовые_приемы_работы_с_данными_в_Pandas_Module/Category.ipynb Cell 1'\u001b[0m in \u001b[0;36m<cell line: 4>\u001b[0;34m()\u001b[0m\n\u001b[1;32m      <a href='vscode-notebook-cell:/Users/tatyana.ud/Documents/GitHub/SF-Data-Science/Skillfactory/PY_11_%D0%91%D0%B0%D0%B7%D0%BE%D0%B2%D1%8B%D0%B5_%D0%BF%D1%80%D0%B8%D0%B5%D0%BC%D1%8B_%D1%80%D0%B0%D0%B1%D0%BE%D1%82%D1%8B_%D1%81_%D0%B4%D0%B0%D0%BD%D0%BD%D1%8B%D0%BC%D0%B8_%D0%B2_Pandas_Module/Category.ipynb#ch0000000?line=0'>1</a>\u001b[0m \u001b[39mimport\u001b[39;00m \u001b[39mpandas\u001b[39;00m \u001b[39mas\u001b[39;00m \u001b[39mpd\u001b[39;00m\n\u001b[1;32m      <a href='vscode-notebook-cell:/Users/tatyana.ud/Documents/GitHub/SF-Data-Science/Skillfactory/PY_11_%D0%91%D0%B0%D0%B7%D0%BE%D0%B2%D1%8B%D0%B5_%D0%BF%D1%80%D0%B8%D0%B5%D0%BC%D1%8B_%D1%80%D0%B0%D0%B1%D0%BE%D1%82%D1%8B_%D1%81_%D0%B4%D0%B0%D0%BD%D0%BD%D1%8B%D0%BC%D0%B8_%D0%B2_Pandas_Module/Category.ipynb#ch0000000?line=1'>2</a>\u001b[0m \u001b[39mfrom\u001b[39;00m \u001b[39mIPython\u001b[39;00m\u001b[39m.\u001b[39;00m\u001b[39mdisplay\u001b[39;00m \u001b[39mimport\u001b[39;00m display\n\u001b[0;32m----> <a href='vscode-notebook-cell:/Users/tatyana.ud/Documents/GitHub/SF-Data-Science/Skillfactory/PY_11_%D0%91%D0%B0%D0%B7%D0%BE%D0%B2%D1%8B%D0%B5_%D0%BF%D1%80%D0%B8%D0%B5%D0%BC%D1%8B_%D1%80%D0%B0%D0%B1%D0%BE%D1%82%D1%8B_%D1%81_%D0%B4%D0%B0%D0%BD%D0%BD%D1%8B%D0%BC%D0%B8_%D0%B2_Pandas_Module/Category.ipynb#ch0000000?line=3'>4</a>\u001b[0m \u001b[39mfrom\u001b[39;00m \u001b[39mСтолбцы_и_функции\u001b[39;00m\u001b[39m.\u001b[39;00m\u001b[39mipynb\u001b[39;00m \u001b[39mimport\u001b[39;00m melb_df\n\u001b[1;32m      <a href='vscode-notebook-cell:/Users/tatyana.ud/Documents/GitHub/SF-Data-Science/Skillfactory/PY_11_%D0%91%D0%B0%D0%B7%D0%BE%D0%B2%D1%8B%D0%B5_%D0%BF%D1%80%D0%B8%D0%B5%D0%BC%D1%8B_%D1%80%D0%B0%D0%B1%D0%BE%D1%82%D1%8B_%D1%81_%D0%B4%D0%B0%D0%BD%D0%BD%D1%8B%D0%BC%D0%B8_%D0%B2_Pandas_Module/Category.ipynb#ch0000000?line=5'>6</a>\u001b[0m unique_list \u001b[39m=\u001b[39m [] \u001b[39m# создаем пустой список\u001b[39;00m\n\u001b[1;32m      <a href='vscode-notebook-cell:/Users/tatyana.ud/Documents/GitHub/SF-Data-Science/Skillfactory/PY_11_%D0%91%D0%B0%D0%B7%D0%BE%D0%B2%D1%8B%D0%B5_%D0%BF%D1%80%D0%B8%D0%B5%D0%BC%D1%8B_%D1%80%D0%B0%D0%B1%D0%BE%D1%82%D1%8B_%D1%81_%D0%B4%D0%B0%D0%BD%D0%BD%D1%8B%D0%BC%D0%B8_%D0%B2_Pandas_Module/Category.ipynb#ch0000000?line=6'>7</a>\u001b[0m \u001b[39mfor\u001b[39;00m col \u001b[39min\u001b[39;00m melb_df\u001b[39m.\u001b[39mcolumns:\n",
      "\u001b[0;31mModuleNotFoundError\u001b[0m: No module named 'Столбцы_и_функции'"
     ]
    }
   ],
   "source": [
    "import pandas as pd\n",
    "from IPython.display import display\n",
    "\n",
    "from Столбцы_и_функции.ipynb import melb_df\n",
    "\n",
    "unique_list = [] # создаем пустой список\n",
    "for col in melb_df.columns:\n",
    "    item = (col, melb_df[col].nunique(),melb_df[col].dtype) \n",
    "    # кортеж (имя столбца, число уникальных значений, тип столбца)   \n",
    "    unique_list.append(item) # добавляем кортех в список\n",
    "unique_counts = pd.DataFrame(  # вспомогательная таблица с сортировкой\n",
    "    unique_list,\n",
    "    columns=['Column_Name', 'Num_Unique', 'Type']\n",
    ").sort_values(by='Num_Unique',  ignore_index=True)\n",
    "\n",
    "display(unique_counts)\n",
    "    "
   ]
  }
 ],
 "metadata": {
  "interpreter": {
   "hash": "aee8b7b246df8f9039afb4144a1f6fd8d2ca17a180786b69acc140d282b71a49"
  },
  "kernelspec": {
   "display_name": "Python 3.9.10 64-bit",
   "language": "python",
   "name": "python3"
  },
  "language_info": {
   "codemirror_mode": {
    "name": "ipython",
    "version": 3
   },
   "file_extension": ".py",
   "mimetype": "text/x-python",
   "name": "python",
   "nbconvert_exporter": "python",
   "pygments_lexer": "ipython3",
   "version": "3.9.10"
  },
  "orig_nbformat": 4
 },
 "nbformat": 4,
 "nbformat_minor": 2
}
