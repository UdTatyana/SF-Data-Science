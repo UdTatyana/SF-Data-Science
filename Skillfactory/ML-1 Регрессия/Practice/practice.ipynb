{
 "cells": [
  {
   "cell_type": "code",
   "execution_count": 2,
   "metadata": {},
   "outputs": [],
   "source": [
    "import numpy as np #для матричных вычислений\n",
    "import pandas as pd #для анализа и предобработки данных\n",
    "import matplotlib.pyplot as plt #для визуализации\n",
    "import seaborn as sns #для визуализации\n",
    "\n",
    "from sklearn import linear_model #линейные модели\n",
    "from sklearn import metrics #метрики\n",
    "from sklearn import preprocessing #предобработка\n",
    "from sklearn.model_selection import train_test_split #разделение выборки"
   ]
  },
  {
   "cell_type": "code",
   "execution_count": 3,
   "metadata": {},
   "outputs": [
    {
     "data": {
      "text/html": [
       "<div>\n",
       "<style scoped>\n",
       "    .dataframe tbody tr th:only-of-type {\n",
       "        vertical-align: middle;\n",
       "    }\n",
       "\n",
       "    .dataframe tbody tr th {\n",
       "        vertical-align: top;\n",
       "    }\n",
       "\n",
       "    .dataframe thead th {\n",
       "        text-align: right;\n",
       "    }\n",
       "</style>\n",
       "<table border=\"1\" class=\"dataframe\">\n",
       "  <thead>\n",
       "    <tr style=\"text-align: right;\">\n",
       "      <th></th>\n",
       "      <th>age</th>\n",
       "      <th>sex</th>\n",
       "      <th>bmi</th>\n",
       "      <th>children</th>\n",
       "      <th>smoker</th>\n",
       "      <th>region</th>\n",
       "      <th>charges</th>\n",
       "    </tr>\n",
       "  </thead>\n",
       "  <tbody>\n",
       "    <tr>\n",
       "      <th>0</th>\n",
       "      <td>19</td>\n",
       "      <td>female</td>\n",
       "      <td>27.900</td>\n",
       "      <td>0</td>\n",
       "      <td>yes</td>\n",
       "      <td>southwest</td>\n",
       "      <td>16884.92400</td>\n",
       "    </tr>\n",
       "    <tr>\n",
       "      <th>1</th>\n",
       "      <td>18</td>\n",
       "      <td>male</td>\n",
       "      <td>33.770</td>\n",
       "      <td>1</td>\n",
       "      <td>no</td>\n",
       "      <td>southeast</td>\n",
       "      <td>1725.55230</td>\n",
       "    </tr>\n",
       "    <tr>\n",
       "      <th>2</th>\n",
       "      <td>28</td>\n",
       "      <td>male</td>\n",
       "      <td>33.000</td>\n",
       "      <td>3</td>\n",
       "      <td>no</td>\n",
       "      <td>southeast</td>\n",
       "      <td>4449.46200</td>\n",
       "    </tr>\n",
       "    <tr>\n",
       "      <th>3</th>\n",
       "      <td>33</td>\n",
       "      <td>male</td>\n",
       "      <td>22.705</td>\n",
       "      <td>0</td>\n",
       "      <td>no</td>\n",
       "      <td>northwest</td>\n",
       "      <td>21984.47061</td>\n",
       "    </tr>\n",
       "    <tr>\n",
       "      <th>4</th>\n",
       "      <td>32</td>\n",
       "      <td>male</td>\n",
       "      <td>28.880</td>\n",
       "      <td>0</td>\n",
       "      <td>no</td>\n",
       "      <td>northwest</td>\n",
       "      <td>3866.85520</td>\n",
       "    </tr>\n",
       "  </tbody>\n",
       "</table>\n",
       "</div>"
      ],
      "text/plain": [
       "   age     sex     bmi  children smoker     region      charges\n",
       "0   19  female  27.900         0    yes  southwest  16884.92400\n",
       "1   18    male  33.770         1     no  southeast   1725.55230\n",
       "2   28    male  33.000         3     no  southeast   4449.46200\n",
       "3   33    male  22.705         0     no  northwest  21984.47061\n",
       "4   32    male  28.880         0     no  northwest   3866.85520"
      ]
     },
     "execution_count": 3,
     "metadata": {},
     "output_type": "execute_result"
    }
   ],
   "source": [
    "data = pd.read_csv('data/insurance.csv')\n",
    "data.head()"
   ]
  },
  {
   "cell_type": "code",
   "execution_count": 4,
   "metadata": {},
   "outputs": [
    {
     "name": "stdout",
     "output_type": "stream",
     "text": [
      "(1338, 7)\n"
     ]
    }
   ],
   "source": [
    "print(data.shape)"
   ]
  },
  {
   "cell_type": "code",
   "execution_count": 5,
   "metadata": {},
   "outputs": [
    {
     "data": {
      "text/plain": [
       "age         0\n",
       "sex         0\n",
       "bmi         0\n",
       "children    0\n",
       "smoker      0\n",
       "region      0\n",
       "charges     0\n",
       "dtype: int64"
      ]
     },
     "metadata": {},
     "output_type": "display_data"
    }
   ],
   "source": [
    "# пропуски\n",
    "display(data.isnull().sum())"
   ]
  },
  {
   "cell_type": "code",
   "execution_count": 6,
   "metadata": {},
   "outputs": [
    {
     "data": {
      "text/plain": [
       "age           int64\n",
       "sex          object\n",
       "bmi         float64\n",
       "children      int64\n",
       "smoker       object\n",
       "region       object\n",
       "charges     float64\n",
       "dtype: object"
      ]
     },
     "metadata": {},
     "output_type": "display_data"
    }
   ],
   "source": [
    "# типы данных\n",
    "display(data.dtypes)"
   ]
  },
  {
   "cell_type": "code",
   "execution_count": 7,
   "metadata": {},
   "outputs": [
    {
     "data": {
      "text/html": [
       "<div>\n",
       "<style scoped>\n",
       "    .dataframe tbody tr th:only-of-type {\n",
       "        vertical-align: middle;\n",
       "    }\n",
       "\n",
       "    .dataframe tbody tr th {\n",
       "        vertical-align: top;\n",
       "    }\n",
       "\n",
       "    .dataframe thead th {\n",
       "        text-align: right;\n",
       "    }\n",
       "</style>\n",
       "<table border=\"1\" class=\"dataframe\">\n",
       "  <thead>\n",
       "    <tr style=\"text-align: right;\">\n",
       "      <th></th>\n",
       "      <th>age</th>\n",
       "      <th>sex</th>\n",
       "      <th>bmi</th>\n",
       "      <th>children</th>\n",
       "      <th>smoker</th>\n",
       "      <th>charges</th>\n",
       "      <th>region_northeast</th>\n",
       "      <th>region_northwest</th>\n",
       "      <th>region_southeast</th>\n",
       "      <th>region_southwest</th>\n",
       "    </tr>\n",
       "  </thead>\n",
       "  <tbody>\n",
       "    <tr>\n",
       "      <th>0</th>\n",
       "      <td>19</td>\n",
       "      <td>0</td>\n",
       "      <td>27.900</td>\n",
       "      <td>0</td>\n",
       "      <td>1</td>\n",
       "      <td>16884.92400</td>\n",
       "      <td>0</td>\n",
       "      <td>0</td>\n",
       "      <td>0</td>\n",
       "      <td>1</td>\n",
       "    </tr>\n",
       "    <tr>\n",
       "      <th>1</th>\n",
       "      <td>18</td>\n",
       "      <td>1</td>\n",
       "      <td>33.770</td>\n",
       "      <td>1</td>\n",
       "      <td>0</td>\n",
       "      <td>1725.55230</td>\n",
       "      <td>0</td>\n",
       "      <td>0</td>\n",
       "      <td>1</td>\n",
       "      <td>0</td>\n",
       "    </tr>\n",
       "    <tr>\n",
       "      <th>2</th>\n",
       "      <td>28</td>\n",
       "      <td>1</td>\n",
       "      <td>33.000</td>\n",
       "      <td>3</td>\n",
       "      <td>0</td>\n",
       "      <td>4449.46200</td>\n",
       "      <td>0</td>\n",
       "      <td>0</td>\n",
       "      <td>1</td>\n",
       "      <td>0</td>\n",
       "    </tr>\n",
       "    <tr>\n",
       "      <th>3</th>\n",
       "      <td>33</td>\n",
       "      <td>1</td>\n",
       "      <td>22.705</td>\n",
       "      <td>0</td>\n",
       "      <td>0</td>\n",
       "      <td>21984.47061</td>\n",
       "      <td>0</td>\n",
       "      <td>1</td>\n",
       "      <td>0</td>\n",
       "      <td>0</td>\n",
       "    </tr>\n",
       "    <tr>\n",
       "      <th>4</th>\n",
       "      <td>32</td>\n",
       "      <td>1</td>\n",
       "      <td>28.880</td>\n",
       "      <td>0</td>\n",
       "      <td>0</td>\n",
       "      <td>3866.85520</td>\n",
       "      <td>0</td>\n",
       "      <td>1</td>\n",
       "      <td>0</td>\n",
       "      <td>0</td>\n",
       "    </tr>\n",
       "  </tbody>\n",
       "</table>\n",
       "</div>"
      ],
      "text/plain": [
       "   age  sex     bmi  children  smoker      charges  region_northeast  \\\n",
       "0   19    0  27.900         0       1  16884.92400                 0   \n",
       "1   18    1  33.770         1       0   1725.55230                 0   \n",
       "2   28    1  33.000         3       0   4449.46200                 0   \n",
       "3   33    1  22.705         0       0  21984.47061                 0   \n",
       "4   32    1  28.880         0       0   3866.85520                 0   \n",
       "\n",
       "   region_northwest  region_southeast  region_southwest  \n",
       "0                 0                 0                 1  \n",
       "1                 0                 1                 0  \n",
       "2                 0                 1                 0  \n",
       "3                 1                 0                 0  \n",
       "4                 1                 0                 0  "
      ]
     },
     "execution_count": 7,
     "metadata": {},
     "output_type": "execute_result"
    }
   ],
   "source": [
    "# категории необходимо перекодировать\n",
    "# кодируем бинарные категориальные признаки\n",
    "data['smoker'] = data['smoker'].apply(lambda x: 0 if x == 'no' else 1)\n",
    "data['sex'] = data['sex'].apply(lambda x: 0 if x == 'female' else 1)\n",
    "# оставшиеся категориальные признаки кодируем с помощью OneHot\n",
    "data = pd.get_dummies(data)\n",
    "data.head()"
   ]
  },
  {
   "cell_type": "code",
   "execution_count": 9,
   "metadata": {},
   "outputs": [],
   "source": [
    "# Выделим факторы и целевой признак в отдельные таблицы:\n",
    "features = data.drop('charges', axis=1).columns\n",
    "X, y = data[features], data['charges']"
   ]
  },
  {
   "attachments": {},
   "cell_type": "markdown",
   "metadata": {},
   "source": [
    "---"
   ]
  },
  {
   "attachments": {},
   "cell_type": "markdown",
   "metadata": {},
   "source": [
    "Задание 6.1\n",
    "Разделите набор данных на тренировочную и тестовую выборки в соотношении 80/20. Воспользуйтесь функцией train_test_split.\n",
    "\n",
    "В качестве значения параметра random_state укажите число 42.\n",
    "\n",
    "Чему равно количество наблюдений в тестовом наборе данных?"
   ]
  },
  {
   "cell_type": "code",
   "execution_count": 10,
   "metadata": {},
   "outputs": [
    {
     "name": "stdout",
     "output_type": "stream",
     "text": [
      "268\n"
     ]
    }
   ],
   "source": [
    "X_train, X_test, y_train, y_test = train_test_split(X, y, test_size=0.2, random_state=42)\n",
    "\n",
    "print(X_test.shape[0])"
   ]
  },
  {
   "attachments": {},
   "cell_type": "markdown",
   "metadata": {},
   "source": [
    "Задание 6.2\n",
    "Обучите модель линейной регрессии аналитическим методом (LinearRegression) на тренировочном наборе данных. Все параметры оставьте по умолчанию.\n",
    "\n",
    "Чему равен свободный член (intercept) обученной модели? Ответ округлите до сотых."
   ]
  },
  {
   "cell_type": "code",
   "execution_count": 14,
   "metadata": {},
   "outputs": [
    {
     "name": "stdout",
     "output_type": "stream",
     "text": [
      "intercept = -12390.8\n"
     ]
    }
   ],
   "source": [
    "lr = linear_model.LinearRegression()\n",
    "lr.fit(X_train, y_train)\n",
    "print(f'intercept = {lr.intercept_.round(2)}')"
   ]
  },
  {
   "attachments": {},
   "cell_type": "markdown",
   "metadata": {},
   "source": [
    "Задание 6.3\n",
    "С помощью модели, полученной в предыдущем задании, сделайте предсказание на тренировочной и тестовой выборке. Рассчитайте следующие три метрики: R2, MAE, MAPE. Не забудьте привести значение MAPE к процентам.\n",
    "\n",
    "Значение R2 округлите до трёх знаков после точки-разделителя, а значения MAE и MAPE — до целого числа."
   ]
  },
  {
   "cell_type": "code",
   "execution_count": 21,
   "metadata": {},
   "outputs": [
    {
     "name": "stdout",
     "output_type": "stream",
     "text": [
      "Train R2 = 0.742\n",
      "Train MAE = 4208.0\n",
      "Train MAPE = 42\n",
      "\n",
      "\n",
      "Test R2 = 0.784\n",
      "Test MAE = 4181.0\n",
      "Test MAPE = 47\n"
     ]
    }
   ],
   "source": [
    "# делаем предсказания\n",
    "y_train_predict = lr.predict(X_train)\n",
    "y_test_predict = lr.predict(X_test)\n",
    "\n",
    "def print_metrics(y_train, y_train_predict, y_test, y_test_predict):\n",
    "    print(f'Train R2 = {metrics.r2_score(y_train, y_train_predict).round(3)}')\n",
    "    print(f'Train MAE = {metrics.mean_absolute_error(y_train, y_train_predict).round()}')\n",
    "    print(f'Train MAPE = {round(metrics.mean_absolute_percentage_error(y_train, y_train_predict)*100)}')\n",
    "    print('\\n')\n",
    "    print(f'Test R2 = {metrics.r2_score(y_test, y_test_predict).round(3)}')\n",
    "    print(f'Test MAE = {metrics.mean_absolute_error(y_test, y_test_predict).round()}')\n",
    "    print(f'Test MAPE = {round(metrics.mean_absolute_percentage_error(y_test, y_test_predict)*100)}')\n",
    "    \n",
    "print_metrics(y_train, y_train_predict, y_test, y_test_predict)"
   ]
  },
  {
   "attachments": {},
   "cell_type": "markdown",
   "metadata": {},
   "source": [
    "Задание 6.4\n",
    "Постройте диаграмму boxplot для визуализации ошибок модели линейной регрессии на тренировочной и тестовой выборках. В качестве ошибки возьмите разницу между истинным ответом и предсказанием (без модуля)."
   ]
  },
  {
   "cell_type": "code",
   "execution_count": 22,
   "metadata": {},
   "outputs": [
    {
     "data": {
      "text/plain": [
       "Text(0, 0.5, 'Model')"
      ]
     },
     "execution_count": 22,
     "metadata": {},
     "output_type": "execute_result"
    },
    {
     "data": {
      "image/png": "[encoded data removed]",
      "text/plain": [
       "<Figure size 864x432 with 1 Axes>"
      ]
     },
     "metadata": {
      "needs_background": "light"
     },
     "output_type": "display_data"
    }
   ],
   "source": [
    "# ошибки модели на тренировочной выборке:\n",
    "y_train_errors = y_train - y_train_predict\n",
    "# ошибки на тустовой выборке:\n",
    "y_test_errors = y_test - y_test_predict\n",
    "\n",
    "# для визуализации трансформируем ошибки в датафрейм\n",
    "errors_df = pd.DataFrame(\n",
    "    {'Train Errors': y_train_errors,\n",
    "     'Test Errors': y_test_errors\n",
    "     }\n",
    ")\n",
    "fig, ax = plt.subplots(figsize=(12, 6))\n",
    "sns.boxplot(data=errors_df, ax=ax)\n",
    "ax.set_xlabel('Errors')\n",
    "ax.set_ylabel('Model')"
   ]
  },
  {
   "attachments": {},
   "cell_type": "markdown",
   "metadata": {},
   "source": [
    "Задание 6.5\n",
    "Нормализуйте тренировочную и тестовую выборки с помощью min-max-нормализации (MinMaxScaler). Расчёт параметров нормализации (fit) произведите на тренировочной выборке.\n",
    "На нормализованных данных сгенерируйте полиномиальные признаки степени 2. Воспользуйтесь классом PolynomialFeatures из библиотеки sklearn. Значение параметра include_bias выставите на False.\n",
    "\n",
    "Чему равно результирующее количество столбцов?"
   ]
  },
  {
   "cell_type": "code",
   "execution_count": 24,
   "metadata": {},
   "outputs": [
    {
     "name": "stdout",
     "output_type": "stream",
     "text": [
      "54\n"
     ]
    }
   ],
   "source": [
    "scaler = preprocessing.MinMaxScaler()\n",
    "scaler.fit(X_train)\n",
    "X_train_scaled = scaler.transform(X_train)\n",
    "X_test_scaled = scaler.transform(X_test)\n",
    "\n",
    "poly = preprocessing.PolynomialFeatures(degree=2, include_bias=False)\n",
    "poly.fit(X_train_scaled)\n",
    "\n",
    "X_train_scaled_poly = poly.transform(X_train_scaled)\n",
    "X_test_scaled_poly = poly.transform(X_test_scaled)\n",
    "\n",
    "print(X_train_scaled_poly.shape[1])"
   ]
  },
  {
   "attachments": {},
   "cell_type": "markdown",
   "metadata": {},
   "source": [
    "Задание 6.6\n",
    "Обучите модель линейной регрессии на полиномиальных признаках.\n",
    "\n",
    "Чему равно значение метрики R2 на тестовой выборке?\n",
    "\n",
    "Значение R2 округлите до трёх знаков после запятой."
   ]
  },
  {
   "cell_type": "code",
   "execution_count": 25,
   "metadata": {},
   "outputs": [
    {
     "name": "stdout",
     "output_type": "stream",
     "text": [
      "Test R2 = 0.866\n"
     ]
    }
   ],
   "source": [
    "lr.fit(X_train_scaled_poly, y_train)\n",
    "\n",
    "y_train_predict_poly = lr.predict(X_train_scaled_poly)\n",
    "y_test_predict_poly = lr.predict(X_test_scaled_poly)\n",
    "\n",
    "print(f'Test R2 = {metrics.r2_score(y_test, y_test_predict_poly).round(3)}')"
   ]
  },
  {
   "attachments": {},
   "cell_type": "markdown",
   "metadata": {},
   "source": [
    "Задание 6.7\n",
    "Выведите значения коэффициентов полученной модели. Посмотрите на степени коэффициентов.\n",
    "\n",
    "Какой вывод можно сделать?\n",
    "\n",
    "Значения коэффициентов очень высокие, модель неустойчива, необходима регуляризация.\n",
    "Значения коэффициентов приемлемые, модель устойчива, регуляризация не нужна."
   ]
  },
  {
   "cell_type": "code",
   "execution_count": 28,
   "metadata": {},
   "outputs": [
    {
     "data": {
      "text/plain": [
       "array([ 3.28425930e+16,  5.24092415e+15, -3.54274027e+15,  5.56107133e+15,\n",
       "       -4.36104954e+15, -4.32544728e+15, -1.27568697e+17, -1.54961145e+16,\n",
       "       -5.06580635e+16,  8.44000000e+03,  8.78000000e+02,  8.20000000e+02,\n",
       "       -1.73200000e+03,  1.84000000e+02, -3.28425930e+16, -3.28425930e+16,\n",
       "       -3.28425930e+16, -3.28425930e+16, -5.62830332e+16,  7.20250000e+02,\n",
       "       -1.29050000e+03,  2.70000000e+02,  5.10421091e+16,  5.10421091e+16,\n",
       "        5.10421091e+16,  5.10421091e+16, -9.74062500e+03,  1.60400000e+03,\n",
       "        5.48413125e+04,  3.54274027e+15,  3.54274027e+15,  3.54274027e+15,\n",
       "        3.54274027e+15, -2.08000000e+03, -2.18400000e+03, -5.56107133e+15,\n",
       "       -5.56107133e+15, -5.56107133e+15, -5.56107133e+15, -2.08317967e+15,\n",
       "        6.44422921e+15,  6.44422921e+15,  6.44422921e+15,  6.44422921e+15,\n",
       "       -1.82552363e+16,  0.00000000e+00,  0.00000000e+00,  0.00000000e+00,\n",
       "        1.04988013e+17,  0.00000000e+00,  0.00000000e+00, -7.08456908e+15,\n",
       "        0.00000000e+00,  2.80773799e+16])"
      ]
     },
     "execution_count": 28,
     "metadata": {},
     "output_type": "execute_result"
    }
   ],
   "source": [
    "lr.coef_\n",
    "# Значения коэффициентов очень высокие, модель неустойчива, необходима регуляризация"
   ]
  },
  {
   "attachments": {},
   "cell_type": "markdown",
   "metadata": {},
   "source": [
    "Задание 6.8\n",
    "Постройте линейную регрессию с L1-регуляризацией (Lasso) на полиномиальных признаках. В качестве параметра alpha используйте значение по умолчанию, параметр max_iter установите в значение 2000.\n",
    "\n",
    "Чему равны метрики R2, MAE и MAPE на тестовой выборке?\n",
    "\n",
    "Посмотрите на степени параметров модели после регуляризации. Сделайте вывод для себя."
   ]
  },
  {
   "cell_type": "code",
   "execution_count": 29,
   "metadata": {},
   "outputs": [
    {
     "name": "stdout",
     "output_type": "stream",
     "text": [
      "Test R2 = 0.867\n",
      "Test MAE = 2719.0\n",
      "Test MAPE = 30\n",
      "[ 3.24221653e+03 -4.92313816e+02  5.07612317e+03  4.58362056e+03\n",
      "  1.97928569e+03  1.88025707e+02 -4.70775218e+02  5.83657101e+02\n",
      " -2.43543456e+02  8.29826751e+03  7.74581954e+02  8.44448593e+02\n",
      " -1.20775688e+03  1.34809915e+02 -1.04309726e+03 -0.00000000e+00\n",
      "  1.16964229e+03  1.61765564e+03 -0.00000000e+00  5.05847740e+02\n",
      " -1.13425152e+03  2.65796922e+02 -1.22240479e+03  0.00000000e+00\n",
      "  2.36213242e+02 -5.80031340e+02 -8.17963257e+03  1.29487768e+03\n",
      "  5.47148553e+04  3.58531873e+03  2.40690210e+03 -9.63549427e+02\n",
      "  0.00000000e+00 -1.67464337e+03 -2.05436459e+03  1.94204864e+03\n",
      "  1.95394442e+03 -0.00000000e+00 -1.06364416e+03  8.00606774e+00\n",
      "  5.93688978e+02 -0.00000000e+00 -2.30643423e+02  1.97933477e+03\n",
      "  6.31615519e+02  0.00000000e+00  0.00000000e+00  0.00000000e+00\n",
      " -0.00000000e+00  0.00000000e+00  0.00000000e+00  0.00000000e+00\n",
      "  0.00000000e+00 -6.05849873e-01]\n"
     ]
    }
   ],
   "source": [
    "lasso_lr_poly = linear_model.Lasso(max_iter=2000)\n",
    "lasso_lr_poly.fit(X_train_scaled_poly, y_train)\n",
    "\n",
    "y_train_predict_lasso = lasso_lr_poly.predict(X_train_scaled_poly)\n",
    "y_test_predict_lasso = lasso_lr_poly.predict(X_test_scaled_poly)\n",
    "\n",
    "print(f'Test R2 = {metrics.r2_score(y_test, y_test_predict_lasso).round(3)}')\n",
    "print(f'Test MAE = {metrics.mean_absolute_error(y_test, y_test_predict_lasso).round()}')\n",
    "print(f'Test MAPE = {round(metrics.mean_absolute_percentage_error(y_test, y_test_predict_lasso)*100)}')\n",
    "print(lasso_lr_poly.coef_)"
   ]
  },
  {
   "attachments": {},
   "cell_type": "markdown",
   "metadata": {},
   "source": [
    "Задание 6.9\n",
    "Постройте линейную регрессию с L2-регуляризацией на полиномиальных признаках. В качестве параметра alpha используйте значение по умолчанию.\n",
    "\n",
    "Чему равны метрики R2, MAE и MAPE на тестовой выборке?\n",
    "\n",
    "Значение R2 округлите до трёх знаков после запятой, а значения MAE и MAPE до целого числа."
   ]
  },
  {
   "cell_type": "code",
   "execution_count": 31,
   "metadata": {},
   "outputs": [
    {
     "name": "stdout",
     "output_type": "stream",
     "text": [
      "Test R2 = 0.863\n",
      "Test MAE = 2861.0\n",
      "Test MAPE = 31\n"
     ]
    }
   ],
   "source": [
    "ridge_lr_poly = linear_model.Ridge()\n",
    "ridge_lr_poly.fit(X_train_scaled_poly, y_train)\n",
    "\n",
    "y_train_predict_ridge = ridge_lr_poly.predict(X_train_scaled_poly)\n",
    "y_test_predict_ridge = ridge_lr_poly.predict(X_test_scaled_poly)\n",
    "\n",
    "print(f'Test R2 = {metrics.r2_score(y_test, y_test_predict_ridge).round(3)}')\n",
    "print(f'Test MAE = {metrics.mean_absolute_error(y_test, y_test_predict_ridge).round()}')\n",
    "print(f'Test MAPE = {round(metrics.mean_absolute_percentage_error(y_test, y_test_predict_ridge)*100)}')"
   ]
  }
 ],
 "metadata": {
  "kernelspec": {
   "display_name": "Python 3",
   "language": "python",
   "name": "python3"
  },
  "language_info": {
   "codemirror_mode": {
    "name": "ipython",
    "version": 3
   },
   "file_extension": ".py",
   "mimetype": "text/x-python",
   "name": "python",
   "nbconvert_exporter": "python",
   "pygments_lexer": "ipython3",
   "version": "3.9.13"
  },
  "orig_nbformat": 4,
  "vscode": {
   "interpreter": {
    "hash": "5e6de380757105bcf75186a154ef2d55e44d157b0d51cbbb951c1add3ec59751"
   }
  }
 },
 "nbformat": 4,
 "nbformat_minor": 2
}
