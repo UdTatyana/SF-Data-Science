{
  "nbformat": 4,
  "nbformat_minor": 0,
  "metadata": {
    "colab": {
      "provenance": [],
      "authorship_tag": "ABX9TyPXtDvdDj+Br0iWxXlwjjdy",
      "include_colab_link": true
    },
    "kernelspec": {
      "name": "python3",
      "display_name": "Python 3"
    },
    "language_info": {
      "name": "python"
    }
  },
  "cells": [
    {
      "cell_type": "markdown",
      "metadata": {
        "id": "view-in-github",
        "colab_type": "text"
      },
      "source": [
        "<a href=\"https://colab.research.google.com/github/UdTatyana/SF-Data-Science/blob/main/EDA-5_HomeWork.ipynb\" target=\"_parent\"><img src=\"https://colab.research.google.com/assets/colab-badge.svg\" alt=\"Open In Colab\"/></a>"
      ]
    },
    {
      "cell_type": "markdown",
      "source": [
        "https://colab.research.google.com/drive/1RVFa4Lp5TJOOznaboDionr890YRyVgge#scrollTo=iP80-lHplw9i\n",
        "# Практическое задание"
      ],
      "metadata": {
        "id": "6SJvOGgy25m4"
      }
    },
    {
      "cell_type": "markdown",
      "source": [],
      "metadata": {
        "id": "7-Cv15DE2-2z"
      }
    },
    {
      "cell_type": "markdown",
      "source": [
        "Вам предстоит решить настоящую бизнес-задачу: проанализировать эффективность обоих вариантов посадочной страницы сразу по двум критериям: конверсии покупки и среднему чеку. На основе проведённого анализа необходимо сделать выводы и принять решение: какой из вариантов дизайна более предпочтительный.\n",
        "\n",
        "Итак, наша фирма предлагает следующие варианты туров и их соответствующие стоимости:\n",
        "\n",
        "Таиланд — 100 000 рублей;\n",
        "Турция — 60 000 рублей;\n",
        "Мальдивы — 200 000 рублей;\n",
        "Санкт-Петербург — 10 000 рублей;\n",
        "Камчатка — 150 000 рублей."
      ],
      "metadata": {
        "id": "jW8lUx0u3BGA"
      }
    },
    {
      "cell_type": "code",
      "source": [
        "# Прочитаем и изучим данные\n",
        "\n",
        "import pandas as pd # импорт библиотеки pandas\n",
        "\n",
        "data = pd.read_csv('/content/ab_data_tourist.csv') # чтение файла\n",
        "data.head() # вывод первых 5 строк из таблицы"
      ],
      "metadata": {
        "colab": {
          "base_uri": "https://localhost:8080/",
          "height": 206
        },
        "id": "_2vYLWYs3JRr",
        "outputId": "8f0250d4-d8d1-4574-ddd9-8038d30231db"
      },
      "execution_count": null,
      "outputs": [
        {
          "output_type": "execute_result",
          "data": {
            "text/plain": [
              "   user_id        date group  purchase   price\n",
              "0   851104  2021-01-21     A         0       0\n",
              "1   804228  2021-01-12     A         0       0\n",
              "2   661590  2021-01-11     B         0       0\n",
              "3   853541  2021-01-08     B         0       0\n",
              "4   864975  2021-01-21     A         1  150000"
            ],
            "text/html": [
              "\n",
              "  <div id=\"df-e72a0c2e-a969-4ef6-ba53-3d8e82684c75\">\n",
              "    <div class=\"colab-df-container\">\n",
              "      <div>\n",
              "<style scoped>\n",
              "    .dataframe tbody tr th:only-of-type {\n",
              "        vertical-align: middle;\n",
              "    }\n",
              "\n",
              "    .dataframe tbody tr th {\n",
              "        vertical-align: top;\n",
              "    }\n",
              "\n",
              "    .dataframe thead th {\n",
              "        text-align: right;\n",
              "    }\n",
              "</style>\n",
              "<table border=\"1\" class=\"dataframe\">\n",
              "  <thead>\n",
              "    <tr style=\"text-align: right;\">\n",
              "      <th></th>\n",
              "      <th>user_id</th>\n",
              "      <th>date</th>\n",
              "      <th>group</th>\n",
              "      <th>purchase</th>\n",
              "      <th>price</th>\n",
              "    </tr>\n",
              "  </thead>\n",
              "  <tbody>\n",
              "    <tr>\n",
              "      <th>0</th>\n",
              "      <td>851104</td>\n",
              "      <td>2021-01-21</td>\n",
              "      <td>A</td>\n",
              "      <td>0</td>\n",
              "      <td>0</td>\n",
              "    </tr>\n",
              "    <tr>\n",
              "      <th>1</th>\n",
              "      <td>804228</td>\n",
              "      <td>2021-01-12</td>\n",
              "      <td>A</td>\n",
              "      <td>0</td>\n",
              "      <td>0</td>\n",
              "    </tr>\n",
              "    <tr>\n",
              "      <th>2</th>\n",
              "      <td>661590</td>\n",
              "      <td>2021-01-11</td>\n",
              "      <td>B</td>\n",
              "      <td>0</td>\n",
              "      <td>0</td>\n",
              "    </tr>\n",
              "    <tr>\n",
              "      <th>3</th>\n",
              "      <td>853541</td>\n",
              "      <td>2021-01-08</td>\n",
              "      <td>B</td>\n",
              "      <td>0</td>\n",
              "      <td>0</td>\n",
              "    </tr>\n",
              "    <tr>\n",
              "      <th>4</th>\n",
              "      <td>864975</td>\n",
              "      <td>2021-01-21</td>\n",
              "      <td>A</td>\n",
              "      <td>1</td>\n",
              "      <td>150000</td>\n",
              "    </tr>\n",
              "  </tbody>\n",
              "</table>\n",
              "</div>\n",
              "      <button class=\"colab-df-convert\" onclick=\"convertToInteractive('df-e72a0c2e-a969-4ef6-ba53-3d8e82684c75')\"\n",
              "              title=\"Convert this dataframe to an interactive table.\"\n",
              "              style=\"display:none;\">\n",
              "        \n",
              "  <svg xmlns=\"http://www.w3.org/2000/svg\" height=\"24px\"viewBox=\"0 0 24 24\"\n",
              "       width=\"24px\">\n",
              "    <path d=\"M0 0h24v24H0V0z\" fill=\"none\"/>\n",
              "    <path d=\"M18.56 5.44l.94 2.06.94-2.06 2.06-.94-2.06-.94-.94-2.06-.94 2.06-2.06.94zm-11 1L8.5 8.5l.94-2.06 2.06-.94-2.06-.94L8.5 2.5l-.94 2.06-2.06.94zm10 10l.94 2.06.94-2.06 2.06-.94-2.06-.94-.94-2.06-.94 2.06-2.06.94z\"/><path d=\"M17.41 7.96l-1.37-1.37c-.4-.4-.92-.59-1.43-.59-.52 0-1.04.2-1.43.59L10.3 9.45l-7.72 7.72c-.78.78-.78 2.05 0 2.83L4 21.41c.39.39.9.59 1.41.59.51 0 1.02-.2 1.41-.59l7.78-7.78 2.81-2.81c.8-.78.8-2.07 0-2.86zM5.41 20L4 18.59l7.72-7.72 1.47 1.35L5.41 20z\"/>\n",
              "  </svg>\n",
              "      </button>\n",
              "      \n",
              "  <style>\n",
              "    .colab-df-container {\n",
              "      display:flex;\n",
              "      flex-wrap:wrap;\n",
              "      gap: 12px;\n",
              "    }\n",
              "\n",
              "    .colab-df-convert {\n",
              "      background-color: #E8F0FE;\n",
              "      border: none;\n",
              "      border-radius: 50%;\n",
              "      cursor: pointer;\n",
              "      display: none;\n",
              "      fill: #1967D2;\n",
              "      height: 32px;\n",
              "      padding: 0 0 0 0;\n",
              "      width: 32px;\n",
              "    }\n",
              "\n",
              "    .colab-df-convert:hover {\n",
              "      background-color: #E2EBFA;\n",
              "      box-shadow: 0px 1px 2px rgba(60, 64, 67, 0.3), 0px 1px 3px 1px rgba(60, 64, 67, 0.15);\n",
              "      fill: #174EA6;\n",
              "    }\n",
              "\n",
              "    [theme=dark] .colab-df-convert {\n",
              "      background-color: #3B4455;\n",
              "      fill: #D2E3FC;\n",
              "    }\n",
              "\n",
              "    [theme=dark] .colab-df-convert:hover {\n",
              "      background-color: #434B5C;\n",
              "      box-shadow: 0px 1px 3px 1px rgba(0, 0, 0, 0.15);\n",
              "      filter: drop-shadow(0px 1px 2px rgba(0, 0, 0, 0.3));\n",
              "      fill: #FFFFFF;\n",
              "    }\n",
              "  </style>\n",
              "\n",
              "      <script>\n",
              "        const buttonEl =\n",
              "          document.querySelector('#df-e72a0c2e-a969-4ef6-ba53-3d8e82684c75 button.colab-df-convert');\n",
              "        buttonEl.style.display =\n",
              "          google.colab.kernel.accessAllowed ? 'block' : 'none';\n",
              "\n",
              "        async function convertToInteractive(key) {\n",
              "          const element = document.querySelector('#df-e72a0c2e-a969-4ef6-ba53-3d8e82684c75');\n",
              "          const dataTable =\n",
              "            await google.colab.kernel.invokeFunction('convertToInteractive',\n",
              "                                                     [key], {});\n",
              "          if (!dataTable) return;\n",
              "\n",
              "          const docLinkHtml = 'Like what you see? Visit the ' +\n",
              "            '<a target=\"_blank\" href=https://colab.research.google.com/notebooks/data_table.ipynb>data table notebook</a>'\n",
              "            + ' to learn more about interactive tables.';\n",
              "          element.innerHTML = '';\n",
              "          dataTable['output_type'] = 'display_data';\n",
              "          await google.colab.output.renderOutput(dataTable, element);\n",
              "          const docLink = document.createElement('div');\n",
              "          docLink.innerHTML = docLinkHtml;\n",
              "          element.appendChild(docLink);\n",
              "        }\n",
              "      </script>\n",
              "    </div>\n",
              "  </div>\n",
              "  "
            ]
          },
          "metadata": {},
          "execution_count": 51
        }
      ]
    },
    {
      "cell_type": "markdown",
      "source": [
        "Описание полей:\n",
        "\n",
        "user_id -\tидентификатор пользователя, зашедшего на сайт\n",
        "\n",
        "date -дата захода\n",
        "\n",
        "group - группа теста (контрольная — А или тестовая — B)\n",
        "\n",
        "purchase - признак покупки: совершил ли пользователь покупку тура (1 — да, 0 — нет)\n",
        "\n",
        "price - цена купленного тура (если покупка не состоялась, цена равна 0)"
      ],
      "metadata": {
        "id": "rf6woaLf3xSi"
      }
    },
    {
      "cell_type": "markdown",
      "source": [
        "## Задание 7.1\n",
        "Начнём с исследования структуры наших данных. С помощью метода info() выведите информацию о типах данных и количестве непустых значений. Какой тип данных имеет столбец date?"
      ],
      "metadata": {
        "id": "qvvRJlqo4K-p"
      }
    },
    {
      "cell_type": "code",
      "source": [
        "data.info() "
      ],
      "metadata": {
        "colab": {
          "base_uri": "https://localhost:8080/"
        },
        "id": "QoOe0Gvz4SBv",
        "outputId": "4323064f-fa0b-4d68-fc33-a682cb2fafb0"
      },
      "execution_count": null,
      "outputs": [
        {
          "output_type": "stream",
          "name": "stdout",
          "text": [
            "<class 'pandas.core.frame.DataFrame'>\n",
            "RangeIndex: 294478 entries, 0 to 294477\n",
            "Data columns (total 5 columns):\n",
            " #   Column    Non-Null Count   Dtype \n",
            "---  ------    --------------   ----- \n",
            " 0   user_id   294478 non-null  int64 \n",
            " 1   date      294478 non-null  object\n",
            " 2   group     294478 non-null  object\n",
            " 3   purchase  294478 non-null  int64 \n",
            " 4   price     294478 non-null  int64 \n",
            "dtypes: int64(3), object(2)\n",
            "memory usage: 11.2+ MB\n"
          ]
        }
      ]
    },
    {
      "cell_type": "markdown",
      "source": [
        "Вывод: Признаки user_id, purchase и price - числовые (тип данных int64), признаки date и group - тип object. Пропущенных значений нет.\n",
        "Столбец date представлен типом данных object"
      ],
      "metadata": {
        "id": "7aCrDdqU4nSp"
      }
    },
    {
      "cell_type": "markdown",
      "source": [
        "## Задание 7.2\n",
        "Приведите столбец date к типу данных datetime. Убедитесь в равной длительности проведения тестирования для каждой из групп. Для этого сгруппируйте данные по признаку группы и определите первую и последнюю дату наблюдения для каждой из групп.\n",
        "\n",
        "В какой промежуток времени проводился A/B-тест?\n",
        "1. с 2 по 24 января 2021 года\n",
        "2. с 1 по 24 января 2021 года\n",
        "3. с 15 декабря 2020 года по 24 января 2021 года\n",
        "4. с 23 февраля по 8 марта 2017 года\n"
      ],
      "metadata": {
        "id": "zDUZu1eo5Xj1"
      }
    },
    {
      "cell_type": "code",
      "source": [
        "data['date'] = pd.to_datetime(data['date']) # перевод в формат datetime\n",
        "\n",
        "grouped = data.groupby('group') # группировка по признаку группы\n",
        "print('Первая дата наблюдений:', grouped['date'].min()) # вывод первой даты для каждой группы\n",
        "print('Последняя дата наблюдений:', grouped['date'].max()) # вывод последней даты для каждой группы\n",
        "\n"
      ],
      "metadata": {
        "colab": {
          "base_uri": "https://localhost:8080/"
        },
        "id": "NGAlgHiI6MS5",
        "outputId": "c2dc52b7-bfa2-4017-e133-64b5cf7c1575"
      },
      "execution_count": null,
      "outputs": [
        {
          "output_type": "stream",
          "name": "stdout",
          "text": [
            "Первая дата наблюдений: group\n",
            "A   2021-01-02\n",
            "B   2021-01-02\n",
            "Name: date, dtype: datetime64[ns]\n",
            "Последняя дата наблюдений: group\n",
            "A   2021-01-24\n",
            "B   2021-01-24\n",
            "Name: date, dtype: datetime64[ns]\n"
          ]
        }
      ]
    },
    {
      "cell_type": "markdown",
      "source": [
        "Вывод: Первая и последняя даты наблюдений для каждой группы совпадают, значит, длительность проведения для каждой из групп одинакова. Наблюдения проводились с 2 по 24 января 2021 года."
      ],
      "metadata": {
        "id": "gMK8HbtbCrur"
      }
    },
    {
      "cell_type": "markdown",
      "source": [
        "## Задание 7.3\n",
        "Чему равно количество посещений сайта в группах А и B?\n",
        "\n",
        "Чему равно суммарное количество покупок в группах А и B?\n",
        "\n",
        "Чему равна сумма всех покупок в группах А и B? Ответ приведите в миллионах рублей. Например, 185.52 млн. руб."
      ],
      "metadata": {
        "id": "Jgd7tuhhE3bR"
      }
    },
    {
      "cell_type": "code",
      "source": [
        "a = data[data['group'] == 'A'] # фильтрация данных по группе А\n",
        "b = data[data['group'] == 'B'] # фильтрация данных по группе В\n",
        "\n",
        "print('Количество посещений сайта в группе А:', a['user_id'].count())\n",
        "print('Количество посещений сайта в группе B:', b['user_id'].count())\n",
        "print()\n",
        "print('Суммарное количество покупок в группе А:', a['purchase'].sum())\n",
        "print('Суммарное количество покупок в группе B:', b['purchase'].sum())\n",
        "print()\n",
        "print('Сумма всех покупок в группе А:', a['price'].sum() / 1000000)\n",
        "print('Сумма всех покупок в группе B:', b['price'].sum() / 1000000)"
      ],
      "metadata": {
        "colab": {
          "base_uri": "https://localhost:8080/"
        },
        "id": "Q96-r0rVFIWE",
        "outputId": "f1d21613-c9a6-436f-889c-488fce5a0228"
      },
      "execution_count": null,
      "outputs": [
        {
          "output_type": "stream",
          "name": "stdout",
          "text": [
            "Количество посещений сайта в группе А: 147202\n",
            "Количество посещений сайта в группе B: 147276\n",
            "\n",
            "Суммарное количество покупок в группе А: 17723\n",
            "Суммарное количество покупок в группе B: 17514\n",
            "\n",
            "Сумма всех покупок в группе А: 1436.26\n",
            "Сумма всех покупок в группе B: 1554.1\n"
          ]
        }
      ]
    },
    {
      "cell_type": "markdown",
      "source": [
        "## Задание 7.4\n",
        "Проверьте, есть ли пользователи, которые в процессе A/B-теста попали в обе тестовые группы? \n",
        "\n",
        "Если да, то сколько таких уникальных пользователей, если нет, введите в поле для ответа 0."
      ],
      "metadata": {
        "id": "zhOtZe6nIMyl"
      }
    },
    {
      "cell_type": "code",
      "source": [
        "a_b_inner = a.merge( # объединение таблиц по типу 'inner'\n",
        "    b,\n",
        "    on='user_id',\n",
        "    how='inner'\n",
        ")\n",
        "# подсчитаем и выведем количество пользователей в объединенной таблице\n",
        "print(a_b_inner['user_id'].count(), 'пользователей попали в обе группы')"
      ],
      "metadata": {
        "colab": {
          "base_uri": "https://localhost:8080/"
        },
        "id": "ecelTDcxIY2A",
        "outputId": "83e0f857-fd58-4b7b-85b0-1573bfa7ba8b"
      },
      "execution_count": null,
      "outputs": [
        {
          "output_type": "stream",
          "name": "stdout",
          "text": [
            "1895 пользователей попали в обе группы\n"
          ]
        }
      ]
    },
    {
      "cell_type": "markdown",
      "source": [
        "Так как мы не можем определить, какая из версий сайта повлияла на принятие решения, исключим этих пользователей. Далее мы будем работать только с очищенными от пересечений данными."
      ],
      "metadata": {
        "id": "oyy1OPsgLTQ2"
      }
    },
    {
      "cell_type": "code",
      "source": [
        "user_intersection = list() # создаем пустой список\n",
        "\n",
        "for item in a_b_inner['user_id']: # помещаем в него всех пользователей,\n",
        "  user_intersection.append(item) # попавших в обе группы\n",
        "# создаем новую таблицу без этих пользователей\n",
        "updated_data = data[data['user_id'].apply(lambda x: x not in user_intersection)]"
      ],
      "metadata": {
        "id": "6Zki0WQyLWzK"
      },
      "execution_count": null,
      "outputs": []
    },
    {
      "cell_type": "markdown",
      "source": [
        "## Задание 7.5\n",
        "Для первичного анализа результатов A/B-тестирования нам понадобится таблица следующего вида:\n",
        "\n",
        "Для того чтобы получить такую таблицу, сгруппируйте данные по признаку группы. В каждой группе рассчитайте следующие показатели:\n",
        "\n",
        "количество посещений (количество пользователей);\n",
        "количество совершённых покупок;\n",
        "сумма всех покупок в группе.\n",
        "В полученной сгруппированной таблице переименуйте столбцы на count_visits, count_purchases и sum_price.\n",
        "\n",
        "Чему на этот раз равно количество посещений сайта в группах А и B?"
      ],
      "metadata": {
        "id": "67IyFNcDL2Ue"
      }
    },
    {
      "cell_type": "code",
      "source": [
        "grouped = updated_data.groupby('group').agg({\n",
        "    'user_id': 'count',\n",
        "    'purchase': 'sum',\n",
        "    'price': 'sum'}).rename(columns={\n",
        "    'user_id': 'count_visits',\n",
        "    'purchase': 'count_purchases',\n",
        "    'price': 'sum_price'\n",
        "})\n",
        "\n",
        "grouped"
      ],
      "metadata": {
        "colab": {
          "base_uri": "https://localhost:8080/",
          "height": 143
        },
        "id": "-qyGmEhyL89T",
        "outputId": "1c2fe099-915d-40d3-c12f-e51adf24b3ca"
      },
      "execution_count": null,
      "outputs": [
        {
          "output_type": "execute_result",
          "data": {
            "text/plain": [
              "       count_visits  count_purchases   sum_price\n",
              "group                                           \n",
              "A            145307            17487  1417780000\n",
              "B            145381            17290  1533010000"
            ],
            "text/html": [
              "\n",
              "  <div id=\"df-df99b5d2-0e8e-4254-93c2-178787ea22ff\">\n",
              "    <div class=\"colab-df-container\">\n",
              "      <div>\n",
              "<style scoped>\n",
              "    .dataframe tbody tr th:only-of-type {\n",
              "        vertical-align: middle;\n",
              "    }\n",
              "\n",
              "    .dataframe tbody tr th {\n",
              "        vertical-align: top;\n",
              "    }\n",
              "\n",
              "    .dataframe thead th {\n",
              "        text-align: right;\n",
              "    }\n",
              "</style>\n",
              "<table border=\"1\" class=\"dataframe\">\n",
              "  <thead>\n",
              "    <tr style=\"text-align: right;\">\n",
              "      <th></th>\n",
              "      <th>count_visits</th>\n",
              "      <th>count_purchases</th>\n",
              "      <th>sum_price</th>\n",
              "    </tr>\n",
              "    <tr>\n",
              "      <th>group</th>\n",
              "      <th></th>\n",
              "      <th></th>\n",
              "      <th></th>\n",
              "    </tr>\n",
              "  </thead>\n",
              "  <tbody>\n",
              "    <tr>\n",
              "      <th>A</th>\n",
              "      <td>145307</td>\n",
              "      <td>17487</td>\n",
              "      <td>1417780000</td>\n",
              "    </tr>\n",
              "    <tr>\n",
              "      <th>B</th>\n",
              "      <td>145381</td>\n",
              "      <td>17290</td>\n",
              "      <td>1533010000</td>\n",
              "    </tr>\n",
              "  </tbody>\n",
              "</table>\n",
              "</div>\n",
              "      <button class=\"colab-df-convert\" onclick=\"convertToInteractive('df-df99b5d2-0e8e-4254-93c2-178787ea22ff')\"\n",
              "              title=\"Convert this dataframe to an interactive table.\"\n",
              "              style=\"display:none;\">\n",
              "        \n",
              "  <svg xmlns=\"http://www.w3.org/2000/svg\" height=\"24px\"viewBox=\"0 0 24 24\"\n",
              "       width=\"24px\">\n",
              "    <path d=\"M0 0h24v24H0V0z\" fill=\"none\"/>\n",
              "    <path d=\"M18.56 5.44l.94 2.06.94-2.06 2.06-.94-2.06-.94-.94-2.06-.94 2.06-2.06.94zm-11 1L8.5 8.5l.94-2.06 2.06-.94-2.06-.94L8.5 2.5l-.94 2.06-2.06.94zm10 10l.94 2.06.94-2.06 2.06-.94-2.06-.94-.94-2.06-.94 2.06-2.06.94z\"/><path d=\"M17.41 7.96l-1.37-1.37c-.4-.4-.92-.59-1.43-.59-.52 0-1.04.2-1.43.59L10.3 9.45l-7.72 7.72c-.78.78-.78 2.05 0 2.83L4 21.41c.39.39.9.59 1.41.59.51 0 1.02-.2 1.41-.59l7.78-7.78 2.81-2.81c.8-.78.8-2.07 0-2.86zM5.41 20L4 18.59l7.72-7.72 1.47 1.35L5.41 20z\"/>\n",
              "  </svg>\n",
              "      </button>\n",
              "      \n",
              "  <style>\n",
              "    .colab-df-container {\n",
              "      display:flex;\n",
              "      flex-wrap:wrap;\n",
              "      gap: 12px;\n",
              "    }\n",
              "\n",
              "    .colab-df-convert {\n",
              "      background-color: #E8F0FE;\n",
              "      border: none;\n",
              "      border-radius: 50%;\n",
              "      cursor: pointer;\n",
              "      display: none;\n",
              "      fill: #1967D2;\n",
              "      height: 32px;\n",
              "      padding: 0 0 0 0;\n",
              "      width: 32px;\n",
              "    }\n",
              "\n",
              "    .colab-df-convert:hover {\n",
              "      background-color: #E2EBFA;\n",
              "      box-shadow: 0px 1px 2px rgba(60, 64, 67, 0.3), 0px 1px 3px 1px rgba(60, 64, 67, 0.15);\n",
              "      fill: #174EA6;\n",
              "    }\n",
              "\n",
              "    [theme=dark] .colab-df-convert {\n",
              "      background-color: #3B4455;\n",
              "      fill: #D2E3FC;\n",
              "    }\n",
              "\n",
              "    [theme=dark] .colab-df-convert:hover {\n",
              "      background-color: #434B5C;\n",
              "      box-shadow: 0px 1px 3px 1px rgba(0, 0, 0, 0.15);\n",
              "      filter: drop-shadow(0px 1px 2px rgba(0, 0, 0, 0.3));\n",
              "      fill: #FFFFFF;\n",
              "    }\n",
              "  </style>\n",
              "\n",
              "      <script>\n",
              "        const buttonEl =\n",
              "          document.querySelector('#df-df99b5d2-0e8e-4254-93c2-178787ea22ff button.colab-df-convert');\n",
              "        buttonEl.style.display =\n",
              "          google.colab.kernel.accessAllowed ? 'block' : 'none';\n",
              "\n",
              "        async function convertToInteractive(key) {\n",
              "          const element = document.querySelector('#df-df99b5d2-0e8e-4254-93c2-178787ea22ff');\n",
              "          const dataTable =\n",
              "            await google.colab.kernel.invokeFunction('convertToInteractive',\n",
              "                                                     [key], {});\n",
              "          if (!dataTable) return;\n",
              "\n",
              "          const docLinkHtml = 'Like what you see? Visit the ' +\n",
              "            '<a target=\"_blank\" href=https://colab.research.google.com/notebooks/data_table.ipynb>data table notebook</a>'\n",
              "            + ' to learn more about interactive tables.';\n",
              "          element.innerHTML = '';\n",
              "          dataTable['output_type'] = 'display_data';\n",
              "          await google.colab.output.renderOutput(dataTable, element);\n",
              "          const docLink = document.createElement('div');\n",
              "          docLink.innerHTML = docLinkHtml;\n",
              "          element.appendChild(docLink);\n",
              "        }\n",
              "      </script>\n",
              "    </div>\n",
              "  </div>\n",
              "  "
            ]
          },
          "metadata": {},
          "execution_count": 57
        }
      ]
    },
    {
      "cell_type": "markdown",
      "source": [
        "Вывод: После очистки данных от посетителей, попавших в обе группы, значения изменились. Количество посещений для группы А - 145307, для группы В - 145381.\n"
      ],
      "metadata": {
        "id": "CivKrsoroDUk"
      }
    },
    {
      "cell_type": "markdown",
      "source": [
        "Промежуточные выводы по таблице:\n",
        "Количество посещений после очистки уменьшилось на 1895 в каждой группе, ведь именно столько пользователей мы и удалили из выборки. Поэтому равнозначность разделения сохранилась, можно утверждать о сбалансированности выборок."
      ],
      "metadata": {
        "id": "mh4QXIg7ocq2"
      }
    },
    {
      "cell_type": "markdown",
      "source": [
        "## Задание 7.6\n",
        "Добавьте в сгруппированную таблицу столбцы conversion — конверсия покупки (отношение количества покупок к количеству посещений сайта в каждой группе, выраженное в процентах) и mean_check — средний чек (отношение суммы покупок к количеству покупок в каждой группе).\n",
        "\n",
        "Чему равна конверсия в группах? Ответ приведите в процентах и округлите до сотых. Например, 75.12.\n",
        "\n",
        "Чему равен средний чек в группах? Ответ приведите в рублях и округлите до целых. Например, 120519 рублей."
      ],
      "metadata": {
        "id": "ghsG6nJfqUE3"
      }
    },
    {
      "cell_type": "code",
      "source": [
        "grouped['conversion'] = grouped['count_purchases'] / grouped['count_visits'] * 100\n",
        "grouped['mean_check'] = grouped['sum_price'] / grouped['count_purchases']\n",
        "\n",
        "print('Конверсия в группе А:', round(grouped.loc['A', 'conversion'], 2))\n",
        "print('Конверсия в группе B:', round(grouped.loc['B', 'conversion'], 2))\n",
        "print()\n",
        "print('Средний чек в группе А:', round(grouped.loc['A', 'mean_check']))\n",
        "print('Средний чек в группе B:', round(grouped.loc['B', 'mean_check']))"
      ],
      "metadata": {
        "colab": {
          "base_uri": "https://localhost:8080/"
        },
        "id": "1tO_NBfhqrrc",
        "outputId": "b30c0b3a-0676-4149-a91e-db2ebf578981"
      },
      "execution_count": null,
      "outputs": [
        {
          "output_type": "stream",
          "name": "stdout",
          "text": [
            "Конверсия в группе А: 12.03\n",
            "Конверсия в группе B: 11.89\n",
            "\n",
            "Средний чек в группе А: 81076\n",
            "Средний чек в группе B: 88665\n"
          ]
        }
      ]
    },
    {
      "cell_type": "markdown",
      "source": [
        "Промежуточные выводы по таблице:\n",
        "Конверсия в группе А выше на 0.14%, однако средний чек в группе А ниже, чем в группе В на 7589 рублей."
      ],
      "metadata": {
        "id": "YwUOz31zuP3V"
      }
    },
    {
      "cell_type": "markdown",
      "source": [
        "## Задание 7.7\n",
        "Теперь давайте сравним варианты по покупательской способности туров. Для этого постройте сводную таблицу, которая покажет зависимость количества продаж от группы и цены тура.\n",
        "\n",
        "Визуализируйте полученную сводную таблицу с помощью тепловой карты с аннотацией.\n",
        "\n",
        "Чему равно количество проданных туров за 60 000 рублей в группах?"
      ],
      "metadata": {
        "id": "_1CS-VK7zc2E"
      }
    },
    {
      "cell_type": "code",
      "source": [
        "# создадим сводную таблицу\n",
        "pivot = updated_data[updated_data['price'] > 0].pivot_table(\n",
        "    # берем цену больше 0\n",
        "    values='purchase', # считаем количество продаж\n",
        "    index='group', # в разбивке по группам\n",
        "    columns='price', # + в разбивке по цене\n",
        "    aggfunc='sum' # продажи суммируем\n",
        ")\n",
        "\n",
        "import seaborn as sns # импорт библиотеки\n",
        "\n",
        "heatmap = sns.heatmap(pivot, annot=True, fmt='.0f') # построение графика\n"
      ],
      "metadata": {
        "colab": {
          "base_uri": "https://localhost:8080/",
          "height": 279
        },
        "id": "8RsQ8RJHzxvY",
        "outputId": "13036ad5-74d2-4a8f-e525-72c4c8c64008"
      },
      "execution_count": null,
      "outputs": [
        {
          "output_type": "display_data",
          "data": {
            "text/plain": [
              "<Figure size 432x288 with 2 Axes>"
            ],
            "image/png": "[encoded data removed]"
          },
          "metadata": {
            "needs_background": "light"
          }
        }
      ]
    },
    {
      "cell_type": "markdown",
      "source": [
        "Вывод: Туры за 60000 рублей приобрели в группе А 5271 покупатель, в группе В - 1730 покупателей.\n",
        "Бросается в глаза разница покупательской способности для туров за 60тыс. и 100тыс. руб. В группе А гораздо чаще покупали туры за 60тыс.руб., а в группе В - за 100тыс.руб."
      ],
      "metadata": {
        "id": "E8VKMhDq8jcT"
      }
    },
    {
      "cell_type": "markdown",
      "source": [],
      "metadata": {
        "id": "6j3ucB5oHg7t"
      }
    },
    {
      "cell_type": "markdown",
      "source": [
        "## Задание 7.8\n",
        "Настало время поговорить о стабилизации кумулятивных метрик во времени. Но прежде чем перейти к кумулятивным метрикам, необходимо построить таблицу с ежедневными данными результатов проведения A/B-тестирования.\n",
        "\n",
        "Сгруппируйте данные по дате и группе тестирования. В каждой группе вычислите количество посещений страницы, количество покупок и сумму покупок.\n",
        "\n",
        "Добавьте в таблицу информацию о ежедневной конверсии (ежедневное количество покупок / ежедневное количество посещений) в группе и ежедневном среднем чеке (ежедневная сумма покупок / ежедневное количество покупок).\n",
        "\n",
        "Чему равна конверсия 3 января 2021 года? Ответ приведите в процентах и округлите до сотых.\n",
        "\n",
        "Чему равен средний чек 3 января 2021 года? Ответ приведите в рублях и округлите до целого."
      ],
      "metadata": {
        "id": "52Irm-LY9_9s"
      }
    },
    {
      "cell_type": "code",
      "source": [
        "# сгруппируем данные по дате и группе, применим агрегирующие функции для формирования новых столбцов\n",
        "daily_data = updated_data.groupby(['date', 'group']).agg({\n",
        "    'user_id':'count',\n",
        "    'purchase':'sum',\n",
        "    'price': 'sum'\n",
        "}).reset_index().rename(columns={ # переименуем новые столбцы\n",
        "    'user_id': 'count_visits',\n",
        "    'purchase': 'count_purchases',\n",
        "    'price': 'sum_price'\n",
        "})\n",
        "# конверсия - отношение совершенных покупок к посещениям в %\n",
        "daily_data['conversion'] = daily_data['count_purchases']/daily_data['count_visits'] * 100\n",
        "# средний чек - отношение суммы покупок к количеству покупок\n",
        "daily_data['mean_check'] = daily_data['sum_price']/daily_data['count_purchases']\n",
        "\n",
        "print('Конверсия 3 января 2021 года:') # выведем конверсию на 03.01.2021\n",
        "display(daily_data[daily_data['date'] == pd.to_datetime('2021-01-03')][['group', 'conversion']].round(2))\n",
        " \n",
        "print('Средний чек 3 января 2021 года:') # выведем средний чек на 03.01.2021\n",
        "display(daily_data[daily_data['date'] == pd.to_datetime('2021-01-03')][['group', 'mean_check']].round())\n"
      ],
      "metadata": {
        "colab": {
          "base_uri": "https://localhost:8080/",
          "height": 243
        },
        "id": "pKHekGnM-JpA",
        "outputId": "ae195c2f-1bde-4836-8c57-114f11f28539"
      },
      "execution_count": null,
      "outputs": [
        {
          "output_type": "stream",
          "name": "stdout",
          "text": [
            "Конверсия 3 января 2021 года:\n"
          ]
        },
        {
          "output_type": "display_data",
          "data": {
            "text/plain": [
              "  group  conversion\n",
              "2     A       11.34\n",
              "3     B       11.39"
            ],
            "text/html": [
              "\n",
              "  <div id=\"df-1db78a21-def6-43df-991f-ca9b10e9f0e4\">\n",
              "    <div class=\"colab-df-container\">\n",
              "      <div>\n",
              "<style scoped>\n",
              "    .dataframe tbody tr th:only-of-type {\n",
              "        vertical-align: middle;\n",
              "    }\n",
              "\n",
              "    .dataframe tbody tr th {\n",
              "        vertical-align: top;\n",
              "    }\n",
              "\n",
              "    .dataframe thead th {\n",
              "        text-align: right;\n",
              "    }\n",
              "</style>\n",
              "<table border=\"1\" class=\"dataframe\">\n",
              "  <thead>\n",
              "    <tr style=\"text-align: right;\">\n",
              "      <th></th>\n",
              "      <th>group</th>\n",
              "      <th>conversion</th>\n",
              "    </tr>\n",
              "  </thead>\n",
              "  <tbody>\n",
              "    <tr>\n",
              "      <th>2</th>\n",
              "      <td>A</td>\n",
              "      <td>11.34</td>\n",
              "    </tr>\n",
              "    <tr>\n",
              "      <th>3</th>\n",
              "      <td>B</td>\n",
              "      <td>11.39</td>\n",
              "    </tr>\n",
              "  </tbody>\n",
              "</table>\n",
              "</div>\n",
              "      <button class=\"colab-df-convert\" onclick=\"convertToInteractive('df-1db78a21-def6-43df-991f-ca9b10e9f0e4')\"\n",
              "              title=\"Convert this dataframe to an interactive table.\"\n",
              "              style=\"display:none;\">\n",
              "        \n",
              "  <svg xmlns=\"http://www.w3.org/2000/svg\" height=\"24px\"viewBox=\"0 0 24 24\"\n",
              "       width=\"24px\">\n",
              "    <path d=\"M0 0h24v24H0V0z\" fill=\"none\"/>\n",
              "    <path d=\"M18.56 5.44l.94 2.06.94-2.06 2.06-.94-2.06-.94-.94-2.06-.94 2.06-2.06.94zm-11 1L8.5 8.5l.94-2.06 2.06-.94-2.06-.94L8.5 2.5l-.94 2.06-2.06.94zm10 10l.94 2.06.94-2.06 2.06-.94-2.06-.94-.94-2.06-.94 2.06-2.06.94z\"/><path d=\"M17.41 7.96l-1.37-1.37c-.4-.4-.92-.59-1.43-.59-.52 0-1.04.2-1.43.59L10.3 9.45l-7.72 7.72c-.78.78-.78 2.05 0 2.83L4 21.41c.39.39.9.59 1.41.59.51 0 1.02-.2 1.41-.59l7.78-7.78 2.81-2.81c.8-.78.8-2.07 0-2.86zM5.41 20L4 18.59l7.72-7.72 1.47 1.35L5.41 20z\"/>\n",
              "  </svg>\n",
              "      </button>\n",
              "      \n",
              "  <style>\n",
              "    .colab-df-container {\n",
              "      display:flex;\n",
              "      flex-wrap:wrap;\n",
              "      gap: 12px;\n",
              "    }\n",
              "\n",
              "    .colab-df-convert {\n",
              "      background-color: #E8F0FE;\n",
              "      border: none;\n",
              "      border-radius: 50%;\n",
              "      cursor: pointer;\n",
              "      display: none;\n",
              "      fill: #1967D2;\n",
              "      height: 32px;\n",
              "      padding: 0 0 0 0;\n",
              "      width: 32px;\n",
              "    }\n",
              "\n",
              "    .colab-df-convert:hover {\n",
              "      background-color: #E2EBFA;\n",
              "      box-shadow: 0px 1px 2px rgba(60, 64, 67, 0.3), 0px 1px 3px 1px rgba(60, 64, 67, 0.15);\n",
              "      fill: #174EA6;\n",
              "    }\n",
              "\n",
              "    [theme=dark] .colab-df-convert {\n",
              "      background-color: #3B4455;\n",
              "      fill: #D2E3FC;\n",
              "    }\n",
              "\n",
              "    [theme=dark] .colab-df-convert:hover {\n",
              "      background-color: #434B5C;\n",
              "      box-shadow: 0px 1px 3px 1px rgba(0, 0, 0, 0.15);\n",
              "      filter: drop-shadow(0px 1px 2px rgba(0, 0, 0, 0.3));\n",
              "      fill: #FFFFFF;\n",
              "    }\n",
              "  </style>\n",
              "\n",
              "      <script>\n",
              "        const buttonEl =\n",
              "          document.querySelector('#df-1db78a21-def6-43df-991f-ca9b10e9f0e4 button.colab-df-convert');\n",
              "        buttonEl.style.display =\n",
              "          google.colab.kernel.accessAllowed ? 'block' : 'none';\n",
              "\n",
              "        async function convertToInteractive(key) {\n",
              "          const element = document.querySelector('#df-1db78a21-def6-43df-991f-ca9b10e9f0e4');\n",
              "          const dataTable =\n",
              "            await google.colab.kernel.invokeFunction('convertToInteractive',\n",
              "                                                     [key], {});\n",
              "          if (!dataTable) return;\n",
              "\n",
              "          const docLinkHtml = 'Like what you see? Visit the ' +\n",
              "            '<a target=\"_blank\" href=https://colab.research.google.com/notebooks/data_table.ipynb>data table notebook</a>'\n",
              "            + ' to learn more about interactive tables.';\n",
              "          element.innerHTML = '';\n",
              "          dataTable['output_type'] = 'display_data';\n",
              "          await google.colab.output.renderOutput(dataTable, element);\n",
              "          const docLink = document.createElement('div');\n",
              "          docLink.innerHTML = docLinkHtml;\n",
              "          element.appendChild(docLink);\n",
              "        }\n",
              "      </script>\n",
              "    </div>\n",
              "  </div>\n",
              "  "
            ]
          },
          "metadata": {}
        },
        {
          "output_type": "stream",
          "name": "stdout",
          "text": [
            "Средний чек 3 января 2021 года:\n"
          ]
        },
        {
          "output_type": "display_data",
          "data": {
            "text/plain": [
              "  group  mean_check\n",
              "2     A     82888.0\n",
              "3     B     87480.0"
            ],
            "text/html": [
              "\n",
              "  <div id=\"df-030e15b3-b3db-441c-8d17-67cfd9fc54f5\">\n",
              "    <div class=\"colab-df-container\">\n",
              "      <div>\n",
              "<style scoped>\n",
              "    .dataframe tbody tr th:only-of-type {\n",
              "        vertical-align: middle;\n",
              "    }\n",
              "\n",
              "    .dataframe tbody tr th {\n",
              "        vertical-align: top;\n",
              "    }\n",
              "\n",
              "    .dataframe thead th {\n",
              "        text-align: right;\n",
              "    }\n",
              "</style>\n",
              "<table border=\"1\" class=\"dataframe\">\n",
              "  <thead>\n",
              "    <tr style=\"text-align: right;\">\n",
              "      <th></th>\n",
              "      <th>group</th>\n",
              "      <th>mean_check</th>\n",
              "    </tr>\n",
              "  </thead>\n",
              "  <tbody>\n",
              "    <tr>\n",
              "      <th>2</th>\n",
              "      <td>A</td>\n",
              "      <td>82888.0</td>\n",
              "    </tr>\n",
              "    <tr>\n",
              "      <th>3</th>\n",
              "      <td>B</td>\n",
              "      <td>87480.0</td>\n",
              "    </tr>\n",
              "  </tbody>\n",
              "</table>\n",
              "</div>\n",
              "      <button class=\"colab-df-convert\" onclick=\"convertToInteractive('df-030e15b3-b3db-441c-8d17-67cfd9fc54f5')\"\n",
              "              title=\"Convert this dataframe to an interactive table.\"\n",
              "              style=\"display:none;\">\n",
              "        \n",
              "  <svg xmlns=\"http://www.w3.org/2000/svg\" height=\"24px\"viewBox=\"0 0 24 24\"\n",
              "       width=\"24px\">\n",
              "    <path d=\"M0 0h24v24H0V0z\" fill=\"none\"/>\n",
              "    <path d=\"M18.56 5.44l.94 2.06.94-2.06 2.06-.94-2.06-.94-.94-2.06-.94 2.06-2.06.94zm-11 1L8.5 8.5l.94-2.06 2.06-.94-2.06-.94L8.5 2.5l-.94 2.06-2.06.94zm10 10l.94 2.06.94-2.06 2.06-.94-2.06-.94-.94-2.06-.94 2.06-2.06.94z\"/><path d=\"M17.41 7.96l-1.37-1.37c-.4-.4-.92-.59-1.43-.59-.52 0-1.04.2-1.43.59L10.3 9.45l-7.72 7.72c-.78.78-.78 2.05 0 2.83L4 21.41c.39.39.9.59 1.41.59.51 0 1.02-.2 1.41-.59l7.78-7.78 2.81-2.81c.8-.78.8-2.07 0-2.86zM5.41 20L4 18.59l7.72-7.72 1.47 1.35L5.41 20z\"/>\n",
              "  </svg>\n",
              "      </button>\n",
              "      \n",
              "  <style>\n",
              "    .colab-df-container {\n",
              "      display:flex;\n",
              "      flex-wrap:wrap;\n",
              "      gap: 12px;\n",
              "    }\n",
              "\n",
              "    .colab-df-convert {\n",
              "      background-color: #E8F0FE;\n",
              "      border: none;\n",
              "      border-radius: 50%;\n",
              "      cursor: pointer;\n",
              "      display: none;\n",
              "      fill: #1967D2;\n",
              "      height: 32px;\n",
              "      padding: 0 0 0 0;\n",
              "      width: 32px;\n",
              "    }\n",
              "\n",
              "    .colab-df-convert:hover {\n",
              "      background-color: #E2EBFA;\n",
              "      box-shadow: 0px 1px 2px rgba(60, 64, 67, 0.3), 0px 1px 3px 1px rgba(60, 64, 67, 0.15);\n",
              "      fill: #174EA6;\n",
              "    }\n",
              "\n",
              "    [theme=dark] .colab-df-convert {\n",
              "      background-color: #3B4455;\n",
              "      fill: #D2E3FC;\n",
              "    }\n",
              "\n",
              "    [theme=dark] .colab-df-convert:hover {\n",
              "      background-color: #434B5C;\n",
              "      box-shadow: 0px 1px 3px 1px rgba(0, 0, 0, 0.15);\n",
              "      filter: drop-shadow(0px 1px 2px rgba(0, 0, 0, 0.3));\n",
              "      fill: #FFFFFF;\n",
              "    }\n",
              "  </style>\n",
              "\n",
              "      <script>\n",
              "        const buttonEl =\n",
              "          document.querySelector('#df-030e15b3-b3db-441c-8d17-67cfd9fc54f5 button.colab-df-convert');\n",
              "        buttonEl.style.display =\n",
              "          google.colab.kernel.accessAllowed ? 'block' : 'none';\n",
              "\n",
              "        async function convertToInteractive(key) {\n",
              "          const element = document.querySelector('#df-030e15b3-b3db-441c-8d17-67cfd9fc54f5');\n",
              "          const dataTable =\n",
              "            await google.colab.kernel.invokeFunction('convertToInteractive',\n",
              "                                                     [key], {});\n",
              "          if (!dataTable) return;\n",
              "\n",
              "          const docLinkHtml = 'Like what you see? Visit the ' +\n",
              "            '<a target=\"_blank\" href=https://colab.research.google.com/notebooks/data_table.ipynb>data table notebook</a>'\n",
              "            + ' to learn more about interactive tables.';\n",
              "          element.innerHTML = '';\n",
              "          dataTable['output_type'] = 'display_data';\n",
              "          await google.colab.output.renderOutput(dataTable, element);\n",
              "          const docLink = document.createElement('div');\n",
              "          docLink.innerHTML = docLinkHtml;\n",
              "          element.appendChild(docLink);\n",
              "        }\n",
              "      </script>\n",
              "    </div>\n",
              "  </div>\n",
              "  "
            ]
          },
          "metadata": {}
        }
      ]
    },
    {
      "cell_type": "markdown",
      "source": [
        "Вывод: 3 января 2021 года конверсия в группе А составила 11.34 %, в группе В - 11.39 %. Средний чек в этот день в группе А составил 82888 руб., в группе В - 87480 руб."
      ],
      "metadata": {
        "id": "HwK4qMGEbh6y"
      }
    },
    {
      "cell_type": "markdown",
      "source": [
        "## Задание 7.9\n",
        "Добавьте в таблицу с ежедневными показателями кумулятивные признаки:\n",
        "\n",
        "кумулятивное количество посещений страницы;\n",
        "кумулятивное количество покупок;\n",
        "кумулятивную сумму покупок.\n",
        "Не забудьте при расчёте кумулятивной суммы сгруппировать данные по группам.\n",
        "\n",
        "Вычислите кумулятивную конверсию и кумулятивный средний чек на основе полученных кумулятивных показателей.\n",
        "\n",
        "Какая кумулятивная конверсия была в группе B на 20 января 2021 года? Ответ приведите в процентах, округлив до сотых.\n",
        "\n",
        "Какой кумулятивный средний чек был в группе А на 12 января 2021 года? Ответ приведите в рублях, округлив до целых.\n",
        "\n",
        "Постройте кумулятивные графики конверсии и среднего чека в каждой группе по дням. Сделайте выводы. Можно ли назвать A/B-тест завершённым — стабилизировались ли значения метрик во времени? Как соотносятся кумулятивные показатели в каждой группе?"
      ],
      "metadata": {
        "id": "I_2YFBcub9bu"
      }
    },
    {
      "cell_type": "code",
      "source": [
        "# применим функцию cumsum() для формирования кумулятивного количества посещений\n",
        "daily_data['cum_count_visits'] = daily_data.groupby('group')['count_visits'].cumsum()\n",
        "# кумулятивного количества покупок\n",
        "daily_data['cum_count_purchases'] = daily_data.groupby('group')['count_purchases'].cumsum()\n",
        "# и кумулятивной суммы покупок\n",
        "daily_data['cum_sum_price'] = daily_data.groupby('group')['sum_price'].cumsum()\n",
        "\n",
        "# кумулятивная конверсия - отношение кумулятивного количества покупок к кумулятивному количеству посещений\n",
        "daily_data['cum_conversion'] = daily_data['cum_count_purchases'] / daily_data['cum_count_visits'] * 100\n",
        "# кумулятивный средний чек - отношение кумулятивной суммы покупок к кумулятивному количеству покупок\n",
        "daily_data['cum_mean_check'] = daily_data['cum_sum_price'] / daily_data['cum_count_purchases']\n",
        "\n",
        "# выведем значение кумулятивной конверсии на 20.01.2021\n",
        "print('Кумулятивная конверсия 20 января 2021 года:')\n",
        "display(daily_data[daily_data['date'] == pd.to_datetime('2021-01-20')][['group', 'cum_conversion']].round(2))\n",
        " \n",
        "# выведем значение кумулятивного среднего чека на 12.01.2021\n",
        "print('Кумулятивный средний чек 12 января 2021 года:')\n",
        "display(daily_data[daily_data['date'] == pd.to_datetime('2021-01-12')][['group', 'cum_mean_check']].round())\n",
        "\n",
        "import matplotlib.pyplot as plt # импорт библиотеки для построения графиков\n",
        "\n",
        "# создадим фигуру для 2х систем координат\n",
        "fig, axes = plt.subplots(1, 2, figsize=(16, 8))\n",
        "# строим график для кумулятивной конверсии\n",
        "sns.lineplot(x='date', y='cum_conversion', data=daily_data, hue='group', ax=axes[0])\n",
        "# строим график для кумулятиного среднего чека\n",
        "sns.lineplot(x='date', y='cum_mean_check', data=daily_data, hue='group', ax=axes[1])\n",
        "# добавим названия графиков\n",
        "axes[0].set_title = 'Кумулятивная конверсия в группах по дням'\n",
        "axes[1].set_title = 'Кумулятивный средний чек в группах по дням'\n",
        "# повернем метки на оси абсцисс\n",
        "axes[0].xaxis.set_tick_params(rotation = 45)\n",
        "axes[1].xaxis.set_tick_params(rotation = 45)\n",
        "# добавим сетку\n",
        "axes[0].grid(True)\n",
        "axes[1].grid(True)\n"
      ],
      "metadata": {
        "colab": {
          "base_uri": "https://localhost:8080/",
          "height": 761
        },
        "id": "2_dqINm4cG4-",
        "outputId": "c78ac27f-51f3-43cd-ec8f-916cfa7862ce"
      },
      "execution_count": null,
      "outputs": [
        {
          "output_type": "stream",
          "name": "stdout",
          "text": [
            "Кумулятивная конверсия 20 января 2021 года:\n"
          ]
        },
        {
          "output_type": "display_data",
          "data": {
            "text/plain": [
              "   group  cum_conversion\n",
              "36     A           11.98\n",
              "37     B           11.90"
            ],
            "text/html": [
              "\n",
              "  <div id=\"df-38f5d792-dda7-4ac4-9644-ea2d31190c1c\">\n",
              "    <div class=\"colab-df-container\">\n",
              "      <div>\n",
              "<style scoped>\n",
              "    .dataframe tbody tr th:only-of-type {\n",
              "        vertical-align: middle;\n",
              "    }\n",
              "\n",
              "    .dataframe tbody tr th {\n",
              "        vertical-align: top;\n",
              "    }\n",
              "\n",
              "    .dataframe thead th {\n",
              "        text-align: right;\n",
              "    }\n",
              "</style>\n",
              "<table border=\"1\" class=\"dataframe\">\n",
              "  <thead>\n",
              "    <tr style=\"text-align: right;\">\n",
              "      <th></th>\n",
              "      <th>group</th>\n",
              "      <th>cum_conversion</th>\n",
              "    </tr>\n",
              "  </thead>\n",
              "  <tbody>\n",
              "    <tr>\n",
              "      <th>36</th>\n",
              "      <td>A</td>\n",
              "      <td>11.98</td>\n",
              "    </tr>\n",
              "    <tr>\n",
              "      <th>37</th>\n",
              "      <td>B</td>\n",
              "      <td>11.90</td>\n",
              "    </tr>\n",
              "  </tbody>\n",
              "</table>\n",
              "</div>\n",
              "      <button class=\"colab-df-convert\" onclick=\"convertToInteractive('df-38f5d792-dda7-4ac4-9644-ea2d31190c1c')\"\n",
              "              title=\"Convert this dataframe to an interactive table.\"\n",
              "              style=\"display:none;\">\n",
              "        \n",
              "  <svg xmlns=\"http://www.w3.org/2000/svg\" height=\"24px\"viewBox=\"0 0 24 24\"\n",
              "       width=\"24px\">\n",
              "    <path d=\"M0 0h24v24H0V0z\" fill=\"none\"/>\n",
              "    <path d=\"M18.56 5.44l.94 2.06.94-2.06 2.06-.94-2.06-.94-.94-2.06-.94 2.06-2.06.94zm-11 1L8.5 8.5l.94-2.06 2.06-.94-2.06-.94L8.5 2.5l-.94 2.06-2.06.94zm10 10l.94 2.06.94-2.06 2.06-.94-2.06-.94-.94-2.06-.94 2.06-2.06.94z\"/><path d=\"M17.41 7.96l-1.37-1.37c-.4-.4-.92-.59-1.43-.59-.52 0-1.04.2-1.43.59L10.3 9.45l-7.72 7.72c-.78.78-.78 2.05 0 2.83L4 21.41c.39.39.9.59 1.41.59.51 0 1.02-.2 1.41-.59l7.78-7.78 2.81-2.81c.8-.78.8-2.07 0-2.86zM5.41 20L4 18.59l7.72-7.72 1.47 1.35L5.41 20z\"/>\n",
              "  </svg>\n",
              "      </button>\n",
              "      \n",
              "  <style>\n",
              "    .colab-df-container {\n",
              "      display:flex;\n",
              "      flex-wrap:wrap;\n",
              "      gap: 12px;\n",
              "    }\n",
              "\n",
              "    .colab-df-convert {\n",
              "      background-color: #E8F0FE;\n",
              "      border: none;\n",
              "      border-radius: 50%;\n",
              "      cursor: pointer;\n",
              "      display: none;\n",
              "      fill: #1967D2;\n",
              "      height: 32px;\n",
              "      padding: 0 0 0 0;\n",
              "      width: 32px;\n",
              "    }\n",
              "\n",
              "    .colab-df-convert:hover {\n",
              "      background-color: #E2EBFA;\n",
              "      box-shadow: 0px 1px 2px rgba(60, 64, 67, 0.3), 0px 1px 3px 1px rgba(60, 64, 67, 0.15);\n",
              "      fill: #174EA6;\n",
              "    }\n",
              "\n",
              "    [theme=dark] .colab-df-convert {\n",
              "      background-color: #3B4455;\n",
              "      fill: #D2E3FC;\n",
              "    }\n",
              "\n",
              "    [theme=dark] .colab-df-convert:hover {\n",
              "      background-color: #434B5C;\n",
              "      box-shadow: 0px 1px 3px 1px rgba(0, 0, 0, 0.15);\n",
              "      filter: drop-shadow(0px 1px 2px rgba(0, 0, 0, 0.3));\n",
              "      fill: #FFFFFF;\n",
              "    }\n",
              "  </style>\n",
              "\n",
              "      <script>\n",
              "        const buttonEl =\n",
              "          document.querySelector('#df-38f5d792-dda7-4ac4-9644-ea2d31190c1c button.colab-df-convert');\n",
              "        buttonEl.style.display =\n",
              "          google.colab.kernel.accessAllowed ? 'block' : 'none';\n",
              "\n",
              "        async function convertToInteractive(key) {\n",
              "          const element = document.querySelector('#df-38f5d792-dda7-4ac4-9644-ea2d31190c1c');\n",
              "          const dataTable =\n",
              "            await google.colab.kernel.invokeFunction('convertToInteractive',\n",
              "                                                     [key], {});\n",
              "          if (!dataTable) return;\n",
              "\n",
              "          const docLinkHtml = 'Like what you see? Visit the ' +\n",
              "            '<a target=\"_blank\" href=https://colab.research.google.com/notebooks/data_table.ipynb>data table notebook</a>'\n",
              "            + ' to learn more about interactive tables.';\n",
              "          element.innerHTML = '';\n",
              "          dataTable['output_type'] = 'display_data';\n",
              "          await google.colab.output.renderOutput(dataTable, element);\n",
              "          const docLink = document.createElement('div');\n",
              "          docLink.innerHTML = docLinkHtml;\n",
              "          element.appendChild(docLink);\n",
              "        }\n",
              "      </script>\n",
              "    </div>\n",
              "  </div>\n",
              "  "
            ]
          },
          "metadata": {}
        },
        {
          "output_type": "stream",
          "name": "stdout",
          "text": [
            "Кумулятивный средний чек 12 января 2021 года:\n"
          ]
        },
        {
          "output_type": "display_data",
          "data": {
            "text/plain": [
              "   group  cum_mean_check\n",
              "20     A         81492.0\n",
              "21     B         88352.0"
            ],
            "text/html": [
              "\n",
              "  <div id=\"df-21c1427d-d099-4fe5-a880-13d03ba5dffd\">\n",
              "    <div class=\"colab-df-container\">\n",
              "      <div>\n",
              "<style scoped>\n",
              "    .dataframe tbody tr th:only-of-type {\n",
              "        vertical-align: middle;\n",
              "    }\n",
              "\n",
              "    .dataframe tbody tr th {\n",
              "        vertical-align: top;\n",
              "    }\n",
              "\n",
              "    .dataframe thead th {\n",
              "        text-align: right;\n",
              "    }\n",
              "</style>\n",
              "<table border=\"1\" class=\"dataframe\">\n",
              "  <thead>\n",
              "    <tr style=\"text-align: right;\">\n",
              "      <th></th>\n",
              "      <th>group</th>\n",
              "      <th>cum_mean_check</th>\n",
              "    </tr>\n",
              "  </thead>\n",
              "  <tbody>\n",
              "    <tr>\n",
              "      <th>20</th>\n",
              "      <td>A</td>\n",
              "      <td>81492.0</td>\n",
              "    </tr>\n",
              "    <tr>\n",
              "      <th>21</th>\n",
              "      <td>B</td>\n",
              "      <td>88352.0</td>\n",
              "    </tr>\n",
              "  </tbody>\n",
              "</table>\n",
              "</div>\n",
              "      <button class=\"colab-df-convert\" onclick=\"convertToInteractive('df-21c1427d-d099-4fe5-a880-13d03ba5dffd')\"\n",
              "              title=\"Convert this dataframe to an interactive table.\"\n",
              "              style=\"display:none;\">\n",
              "        \n",
              "  <svg xmlns=\"http://www.w3.org/2000/svg\" height=\"24px\"viewBox=\"0 0 24 24\"\n",
              "       width=\"24px\">\n",
              "    <path d=\"M0 0h24v24H0V0z\" fill=\"none\"/>\n",
              "    <path d=\"M18.56 5.44l.94 2.06.94-2.06 2.06-.94-2.06-.94-.94-2.06-.94 2.06-2.06.94zm-11 1L8.5 8.5l.94-2.06 2.06-.94-2.06-.94L8.5 2.5l-.94 2.06-2.06.94zm10 10l.94 2.06.94-2.06 2.06-.94-2.06-.94-.94-2.06-.94 2.06-2.06.94z\"/><path d=\"M17.41 7.96l-1.37-1.37c-.4-.4-.92-.59-1.43-.59-.52 0-1.04.2-1.43.59L10.3 9.45l-7.72 7.72c-.78.78-.78 2.05 0 2.83L4 21.41c.39.39.9.59 1.41.59.51 0 1.02-.2 1.41-.59l7.78-7.78 2.81-2.81c.8-.78.8-2.07 0-2.86zM5.41 20L4 18.59l7.72-7.72 1.47 1.35L5.41 20z\"/>\n",
              "  </svg>\n",
              "      </button>\n",
              "      \n",
              "  <style>\n",
              "    .colab-df-container {\n",
              "      display:flex;\n",
              "      flex-wrap:wrap;\n",
              "      gap: 12px;\n",
              "    }\n",
              "\n",
              "    .colab-df-convert {\n",
              "      background-color: #E8F0FE;\n",
              "      border: none;\n",
              "      border-radius: 50%;\n",
              "      cursor: pointer;\n",
              "      display: none;\n",
              "      fill: #1967D2;\n",
              "      height: 32px;\n",
              "      padding: 0 0 0 0;\n",
              "      width: 32px;\n",
              "    }\n",
              "\n",
              "    .colab-df-convert:hover {\n",
              "      background-color: #E2EBFA;\n",
              "      box-shadow: 0px 1px 2px rgba(60, 64, 67, 0.3), 0px 1px 3px 1px rgba(60, 64, 67, 0.15);\n",
              "      fill: #174EA6;\n",
              "    }\n",
              "\n",
              "    [theme=dark] .colab-df-convert {\n",
              "      background-color: #3B4455;\n",
              "      fill: #D2E3FC;\n",
              "    }\n",
              "\n",
              "    [theme=dark] .colab-df-convert:hover {\n",
              "      background-color: #434B5C;\n",
              "      box-shadow: 0px 1px 3px 1px rgba(0, 0, 0, 0.15);\n",
              "      filter: drop-shadow(0px 1px 2px rgba(0, 0, 0, 0.3));\n",
              "      fill: #FFFFFF;\n",
              "    }\n",
              "  </style>\n",
              "\n",
              "      <script>\n",
              "        const buttonEl =\n",
              "          document.querySelector('#df-21c1427d-d099-4fe5-a880-13d03ba5dffd button.colab-df-convert');\n",
              "        buttonEl.style.display =\n",
              "          google.colab.kernel.accessAllowed ? 'block' : 'none';\n",
              "\n",
              "        async function convertToInteractive(key) {\n",
              "          const element = document.querySelector('#df-21c1427d-d099-4fe5-a880-13d03ba5dffd');\n",
              "          const dataTable =\n",
              "            await google.colab.kernel.invokeFunction('convertToInteractive',\n",
              "                                                     [key], {});\n",
              "          if (!dataTable) return;\n",
              "\n",
              "          const docLinkHtml = 'Like what you see? Visit the ' +\n",
              "            '<a target=\"_blank\" href=https://colab.research.google.com/notebooks/data_table.ipynb>data table notebook</a>'\n",
              "            + ' to learn more about interactive tables.';\n",
              "          element.innerHTML = '';\n",
              "          dataTable['output_type'] = 'display_data';\n",
              "          await google.colab.output.renderOutput(dataTable, element);\n",
              "          const docLink = document.createElement('div');\n",
              "          docLink.innerHTML = docLinkHtml;\n",
              "          element.appendChild(docLink);\n",
              "        }\n",
              "      </script>\n",
              "    </div>\n",
              "  </div>\n",
              "  "
            ]
          },
          "metadata": {}
        },
        {
          "output_type": "display_data",
          "data": {
            "text/plain": [
              "<Figure size 1152x576 with 2 Axes>"
            ],
            "image/png": "[encoded data removed]"
          },
          "metadata": {
            "needs_background": "light"
          }
        }
      ]
    },
    {
      "cell_type": "markdown",
      "source": [
        "Вывод: Кумулятивная конверсия 20 января 2021 года в группе В составила 11.9 %. Кумулятивный средний чек 12 января 2021 года в группе А составил 81492 руб.\n",
        "\n",
        "График кумулятивной конверсии стабилизировался после 6 января, а кумулятивного среднего чека - после 12 января. На основании этого можно утверждать, что временной интервал для проведения А/В-теста был достаточным, данные готовы к анализу.\n",
        "Кумулятивная конверсия в группе А стабильно немного выше, чем в группе В, причем в первый день проведения теста наблюдается резкий сильный спад в обеих группах.\n",
        "Кумулятивный средний чек в группе В на протяжении всего теста намного выше, чем в группе А, причем со временем наблюдаемся хоть и небольшая, но тенденция роста, а вот в группе А на протяжении всего эксперимента наблюдалась тенденция к уменьшению кумулятивной метрики этого параметра."
      ],
      "metadata": {
        "id": "Lb2TBbaCU0a5"
      }
    },
    {
      "cell_type": "markdown",
      "source": [
        "## Задание 7.10\n",
        "Настало время переходить к проверке статистической значимости разницы между метриками в группах. Начнём с конверсии.\n",
        "\n",
        "Какой тест вы примените для проверки гипотезы о равенстве конверсий в группах?\n",
        "1. T-тест\n",
        "2. Z-тест\n",
        "3. Тест Манна-Уитни\n",
        "4. Тест Шапиро-Уилка\n",
        "\n",
        "Проведите тестирование при следующих нулевой и альтернативной гипотезе:\n",
        "\n",
        "H0: Конверсии в группах А и B равны;\n",
        "H1: Конверсия в группе А больше, чем конверсия в группе B.\n",
        "\n",
        "Вычислите p-value вашего теста для конверсий в группах А и B. Сравните полученное значение p-value с уровнем значимости alhpa=0.05.\n",
        "\n",
        " Приведите свои выводы по результатам проведённого статистического теста. Есть ли статистическая разница между конверсиями в группах А и B?"
      ],
      "metadata": {
        "id": "Xt38I1LgXxZr"
      }
    },
    {
      "cell_type": "code",
      "source": [
        "# рассчитаем количество успехов и общее количество наблюдений для каждой группы\n",
        "converted = updated_data.groupby('group')['purchase'].agg([\n",
        "    'sum', 'count'\n",
        "])\n",
        "display(converted) # вывод полученного датасета\n",
        "# формулируем нулевую и альтернативную гипотезы\n",
        "H0 = 'Конверсия в группе А равна конверсии в группе В'\n",
        "H1 = 'Конверсия в группе А больше, чем в группе В' # правосторонняя\n",
        "alpha = 0.05 # уровень значимости\n",
        "\n",
        "# используем z-тест для пропорций для вычисления p-value\n",
        "from statsmodels.stats.proportion import proportions_ztest\n",
        "\n",
        "_, p_value = proportions_ztest(\n",
        "    count=converted['sum'], # количество успехов\n",
        "    nobs=converted['count'], # общее количество наблюдений\n",
        "    alternative='larger' # альтернативная гипотеза - правосторонняя\n",
        ")\n",
        "print('p-value:', round(p_value, 2)) # вывод p-value\n",
        "\n",
        "if (p_value < alpha): # сравним p-value с alpha\n",
        "  print(f'Отвергаем нулевую гипотезу. {H1}.')\n",
        "else:\n",
        "  print(f'Принимаем нулевую гипотезу. {H0}')"
      ],
      "metadata": {
        "colab": {
          "base_uri": "https://localhost:8080/",
          "height": 179
        },
        "id": "5Hks-dZuYp2h",
        "outputId": "5409a5be-c4f9-4180-bafd-384fc5b0d14c"
      },
      "execution_count": null,
      "outputs": [
        {
          "output_type": "display_data",
          "data": {
            "text/plain": [
              "         sum   count\n",
              "group               \n",
              "A      17487  145307\n",
              "B      17290  145381"
            ],
            "text/html": [
              "\n",
              "  <div id=\"df-c636995d-ed0f-4bc3-8e31-f17ca48280cb\">\n",
              "    <div class=\"colab-df-container\">\n",
              "      <div>\n",
              "<style scoped>\n",
              "    .dataframe tbody tr th:only-of-type {\n",
              "        vertical-align: middle;\n",
              "    }\n",
              "\n",
              "    .dataframe tbody tr th {\n",
              "        vertical-align: top;\n",
              "    }\n",
              "\n",
              "    .dataframe thead th {\n",
              "        text-align: right;\n",
              "    }\n",
              "</style>\n",
              "<table border=\"1\" class=\"dataframe\">\n",
              "  <thead>\n",
              "    <tr style=\"text-align: right;\">\n",
              "      <th></th>\n",
              "      <th>sum</th>\n",
              "      <th>count</th>\n",
              "    </tr>\n",
              "    <tr>\n",
              "      <th>group</th>\n",
              "      <th></th>\n",
              "      <th></th>\n",
              "    </tr>\n",
              "  </thead>\n",
              "  <tbody>\n",
              "    <tr>\n",
              "      <th>A</th>\n",
              "      <td>17487</td>\n",
              "      <td>145307</td>\n",
              "    </tr>\n",
              "    <tr>\n",
              "      <th>B</th>\n",
              "      <td>17290</td>\n",
              "      <td>145381</td>\n",
              "    </tr>\n",
              "  </tbody>\n",
              "</table>\n",
              "</div>\n",
              "      <button class=\"colab-df-convert\" onclick=\"convertToInteractive('df-c636995d-ed0f-4bc3-8e31-f17ca48280cb')\"\n",
              "              title=\"Convert this dataframe to an interactive table.\"\n",
              "              style=\"display:none;\">\n",
              "        \n",
              "  <svg xmlns=\"http://www.w3.org/2000/svg\" height=\"24px\"viewBox=\"0 0 24 24\"\n",
              "       width=\"24px\">\n",
              "    <path d=\"M0 0h24v24H0V0z\" fill=\"none\"/>\n",
              "    <path d=\"M18.56 5.44l.94 2.06.94-2.06 2.06-.94-2.06-.94-.94-2.06-.94 2.06-2.06.94zm-11 1L8.5 8.5l.94-2.06 2.06-.94-2.06-.94L8.5 2.5l-.94 2.06-2.06.94zm10 10l.94 2.06.94-2.06 2.06-.94-2.06-.94-.94-2.06-.94 2.06-2.06.94z\"/><path d=\"M17.41 7.96l-1.37-1.37c-.4-.4-.92-.59-1.43-.59-.52 0-1.04.2-1.43.59L10.3 9.45l-7.72 7.72c-.78.78-.78 2.05 0 2.83L4 21.41c.39.39.9.59 1.41.59.51 0 1.02-.2 1.41-.59l7.78-7.78 2.81-2.81c.8-.78.8-2.07 0-2.86zM5.41 20L4 18.59l7.72-7.72 1.47 1.35L5.41 20z\"/>\n",
              "  </svg>\n",
              "      </button>\n",
              "      \n",
              "  <style>\n",
              "    .colab-df-container {\n",
              "      display:flex;\n",
              "      flex-wrap:wrap;\n",
              "      gap: 12px;\n",
              "    }\n",
              "\n",
              "    .colab-df-convert {\n",
              "      background-color: #E8F0FE;\n",
              "      border: none;\n",
              "      border-radius: 50%;\n",
              "      cursor: pointer;\n",
              "      display: none;\n",
              "      fill: #1967D2;\n",
              "      height: 32px;\n",
              "      padding: 0 0 0 0;\n",
              "      width: 32px;\n",
              "    }\n",
              "\n",
              "    .colab-df-convert:hover {\n",
              "      background-color: #E2EBFA;\n",
              "      box-shadow: 0px 1px 2px rgba(60, 64, 67, 0.3), 0px 1px 3px 1px rgba(60, 64, 67, 0.15);\n",
              "      fill: #174EA6;\n",
              "    }\n",
              "\n",
              "    [theme=dark] .colab-df-convert {\n",
              "      background-color: #3B4455;\n",
              "      fill: #D2E3FC;\n",
              "    }\n",
              "\n",
              "    [theme=dark] .colab-df-convert:hover {\n",
              "      background-color: #434B5C;\n",
              "      box-shadow: 0px 1px 3px 1px rgba(0, 0, 0, 0.15);\n",
              "      filter: drop-shadow(0px 1px 2px rgba(0, 0, 0, 0.3));\n",
              "      fill: #FFFFFF;\n",
              "    }\n",
              "  </style>\n",
              "\n",
              "      <script>\n",
              "        const buttonEl =\n",
              "          document.querySelector('#df-c636995d-ed0f-4bc3-8e31-f17ca48280cb button.colab-df-convert');\n",
              "        buttonEl.style.display =\n",
              "          google.colab.kernel.accessAllowed ? 'block' : 'none';\n",
              "\n",
              "        async function convertToInteractive(key) {\n",
              "          const element = document.querySelector('#df-c636995d-ed0f-4bc3-8e31-f17ca48280cb');\n",
              "          const dataTable =\n",
              "            await google.colab.kernel.invokeFunction('convertToInteractive',\n",
              "                                                     [key], {});\n",
              "          if (!dataTable) return;\n",
              "\n",
              "          const docLinkHtml = 'Like what you see? Visit the ' +\n",
              "            '<a target=\"_blank\" href=https://colab.research.google.com/notebooks/data_table.ipynb>data table notebook</a>'\n",
              "            + ' to learn more about interactive tables.';\n",
              "          element.innerHTML = '';\n",
              "          dataTable['output_type'] = 'display_data';\n",
              "          await google.colab.output.renderOutput(dataTable, element);\n",
              "          const docLink = document.createElement('div');\n",
              "          docLink.innerHTML = docLinkHtml;\n",
              "          element.appendChild(docLink);\n",
              "        }\n",
              "      </script>\n",
              "    </div>\n",
              "  </div>\n",
              "  "
            ]
          },
          "metadata": {}
        },
        {
          "output_type": "stream",
          "name": "stdout",
          "text": [
            "p-value: 0.12\n",
            "Принимаем нулевую гипотезу. Конверсия в группе А равна конверсии в группе В\n"
          ]
        }
      ]
    },
    {
      "cell_type": "markdown",
      "source": [
        "Выводы:\n",
        "\n",
        "Сам по себе признак конверсии - это отношение, пропорция, имеющая только 2 возможных исхода (распределение Бернулли), поэтому для проверки статистической значимости изменения этого признака используем z-критерий для пропорций.\n",
        "\n",
        "При уровне значимости alpha=0.05 p-value=0.12. Как видим, p-value > alpha, что означает верность нулевой гипотезы о том, что конверсии в группах А и В статистически равны. \n",
        "\n",
        "Разницы между вариантами А и В по метрике конверсии нет."
      ],
      "metadata": {
        "id": "xeKIWrD_nT5n"
      }
    },
    {
      "cell_type": "markdown",
      "source": [
        "## Задание 7.11\n",
        "Убедитесь в своих рассуждениях, построив 95%-ый доверительный интервал для конверсий и разницы между ними. Используйте z_crit в своих расчётах.\n",
        "\n",
        "Укажите нижнюю и верхнюю границы доверительных интервалов. Все границы приведите в процентах и округлите до второго знака после запятой. Например, нижняя граница — 89.24, верхняя граница — 91.25.\n",
        "\n",
        "Проинтерпретируйте построенные доверительные интервалы для конверсий в группах. Есть ли перекрытие между доверительными интервалами для групп? Есть ли статистическая разница между конверсиями в группах А и B?"
      ],
      "metadata": {
        "id": "0M6GsKj9pLKK"
      }
    },
    {
      "cell_type": "code",
      "source": [
        "from scipy.stats import norm # импорт функций\n",
        "\n",
        "# функция для расчета доверительного интервала конверсии\n",
        "def conversion_conf_interval(n, x_p, gamma=0.95):\n",
        "  alpha = 1 - gamma # уровень значимости\n",
        "  z_crit = -norm.ppf(alpha/2) # z-критическое\n",
        "  eps = z_crit * (x_p * (1 - x_p) / n) ** 0.5 # погрешность\n",
        "  lower_bound = x_p - eps # левая (нижняя) граница\n",
        "  upper_bound = x_p + eps # правая (верхняя) граница\n",
        "  # возврат - кортеж границ в %, округленный до 2х знаков\n",
        "  return (round(lower_bound * 100, 2)), round(upper_bound * 100, 2)\n",
        "  \n",
        "# разделим данные по группам\n",
        "a_data = updated_data[updated_data['group'] == 'A']\n",
        "b_data = updated_data[updated_data['group'] == 'B']\n",
        "\n",
        "# применим функцию к данным группы А\n",
        "conf_interval_a = conversion_conf_interval(\n",
        "a_data['user_id'].count(), # размер выборки\n",
        "a_data['purchase'].mean() # выборочная пропорция\n",
        ")\n",
        "# выведем результат для группы А\n",
        "print(f'Доверительный интервал конверсии в группе А: {conf_interval_a}')\n",
        "\n",
        "# применим функцию к данным группы В\n",
        "conf_interval_b = conversion_conf_interval(\n",
        "b_data['user_id'].count(), # размер выборки\n",
        "b_data['purchase'].mean() # выборочная пропорция\n",
        ")\n",
        "# выведем результат для группы В\n",
        "print(f'Доверительный интервал конверсии в группе В: {conf_interval_b}')\n",
        "\n",
        "# функция для доверительного интервала разности конверсий\n",
        "def diff_conversion_conf_interval(n, xp, gamma=0.95):\n",
        "    alpha = 1 - gamma # уровень значимости\n",
        "    diff = xp[1] - xp[0] # выборочная разница конверсий\n",
        "    z_crit = -norm.ppf(alpha/2) # z критическое\n",
        "    eps = z_crit * (xp[0] * (1 - xp[0])/n[0] + xp[1] * (1 - xp[1])/n[1]) ** 0.5 # погрешность\n",
        "    lower_bound = diff - eps # левая (нижняя) граница\n",
        "    upper_bound = diff + eps # правая (верхняя) граница\n",
        "    # возврат - кортеж границ в %, округленный до 2х знаков\n",
        "    return round(lower_bound *100, 2), round(upper_bound * 100, 2)\n",
        "\n",
        "# рассчитаем данные, необходимые для ввода в функцию\n",
        "# размеры выборок групп\n",
        "n = [a_data['user_id'].count(), b_data['user_id'].count()]\n",
        "# выборочная пропорция групп\n",
        "xp = [a_data['purchase'].mean(), b_data['purchase'].mean()]\n",
        "\n",
        "# применим функцию\n",
        "diff_inverval = diff_conversion_conf_interval(n, xp)\n",
        "\n",
        "# выведем результат\n",
        "print(f'Доверительный интервал разности конверсий: {diff_inverval}')"
      ],
      "metadata": {
        "colab": {
          "base_uri": "https://localhost:8080/"
        },
        "id": "XhnzESg6qvgq",
        "outputId": "f8af3c42-143a-4418-f6e2-b8bcf7bbcace"
      },
      "execution_count": null,
      "outputs": [
        {
          "output_type": "stream",
          "name": "stdout",
          "text": [
            "Доверительный интервал конверсии в группе А: (11.87, 12.2)\n",
            "Доверительный интервал конверсии в группе В: (11.73, 12.06)\n",
            "Доверительный интервал разности конверсий: (-0.38, 0.09)\n"
          ]
        }
      ]
    },
    {
      "cell_type": "markdown",
      "source": [
        "Выводы:\n",
        "Доверительный интервал для конверсии в группе А лежит полностью в доверительном интервале группы В, поэтому можно с уверенностью сказать, что доверительный интервал конверсии не изменился, а лишь немного расширился.\n",
        "\n",
        "Доверительный интервал разности конверсий для групп А и В охватывает точку 0 (левая граница меньше 0, правая граница больше 0). Такое распределение говорит о том, что разницы в конверсиях нет и варианты А и В равнозначны по метрике конверсии."
      ],
      "metadata": {
        "id": "t5tePMF_yXhZ"
      }
    },
    {
      "cell_type": "markdown",
      "source": [
        "## Задание 7.12\n",
        "Ранее мы построили таблицу с ежедневными показателями. Теперь она нам снова понадобится, так как нас интересует ежедневный средний чек.\n",
        "\n",
        "Проверьте гипотезу о нормальности распределения ежедневного среднего чека в каждой из групп тестирования.\n",
        "\n",
        "Какой тест вы примените для проверки гипотезы о нормальности распределения ежедневного среднего чека?\n",
        "1. T-тест\n",
        "2. Z-тест\n",
        "3. Тест Манна-Уитни\n",
        "4. Тест Шапиро-Уилка\n",
        "5. нет ответа\n",
        "\n",
        "Как будут звучать нулевая и альтернативная гипотезы для каждого из тестов?\n",
        "1. H0: Распределение нормальное; H1: Распределение отлично от нормального\n",
        "2. H0: Распределение отлично от нормального; H1: Распределение нормальное\n",
        "3. нет ответа\n",
        "\n",
        "Каковы результаты статистического теста при уровне значимости alpha=0.05?\n",
        "1. Распределение ежедневного среднего чека в группе А нормальное, а в группе B — нет\n",
        "2. Распределение ежедневного среднего чека в группе B нормальное, а в группе А — нет\n",
        "3. Распределение ежедневного среднего чека нормальное в обеих группах\n",
        "4. Распределение ежедневного среднего чека отлично от нормального в обеих группах"
      ],
      "metadata": {
        "id": "gZegDrix0M4N"
      }
    },
    {
      "cell_type": "code",
      "source": [
        "# сформулируем нулевую и альтернативную гипотезы\n",
        "H0 = 'Распределение нормальное.'\n",
        "H1 = 'Распределение отлично от нормального.'\n",
        "alpha = 0.05 # уровень значимости\n",
        "\n",
        "# разделим данные по группам\n",
        "aa_data = daily_data[daily_data['group'] == 'A']\n",
        "bb_data = daily_data[daily_data['group'] == 'B']\n",
        "\n",
        "from scipy.stats import shapiro # импорт функции\n",
        "\n",
        "# применение функции для группы A\n",
        "_, p = shapiro(aa_data['mean_check'])\n",
        "print('Для группы А', 'p=%.3f'%p) # выведем результирующее значение p-value\n",
        "\n",
        "if p > alpha: # сравним p-value с alpha\n",
        "  print(f'Для группы А принимаем нулевую гипотезу. {H0}')\n",
        "else:\n",
        "  print(f'Для группы А отвергаем нулевую гипотезу. {H1}')\n",
        "print()\n",
        "\n",
        "# применение функции для группы B\n",
        "_, p = shapiro(bb_data['mean_check'])\n",
        "print('Для группы B', 'p=%.3f'%p) # выведем результирующее значение p-value\n",
        "\n",
        "if p > alpha: # сравним p-value с alpha\n",
        "  print(f'Для группы B принимаем нулевую гипотезу. {H0}')\n",
        "else:\n",
        "  print(f'Для группы B отвергаем нулевую гипотезу. {H1}')"
      ],
      "metadata": {
        "colab": {
          "base_uri": "https://localhost:8080/"
        },
        "id": "cbgCVFAoOqA_",
        "outputId": "7d537baf-78e6-4a01-ebb8-cf89d42a67d5"
      },
      "execution_count": null,
      "outputs": [
        {
          "output_type": "stream",
          "name": "stdout",
          "text": [
            "Для группы А p=0.253\n",
            "Для группы А принимаем нулевую гипотезу. Распределение нормальное.\n",
            "\n",
            "Для группы B p=0.094\n",
            "Для группы B принимаем нулевую гипотезу. Распределение нормальное.\n"
          ]
        }
      ]
    },
    {
      "cell_type": "markdown",
      "source": [
        "Выводы:\n",
        "Распределение такого признака, как средний чек, обычно напоминает нормальное (распределение Гаусса), поэтому проверим это утверждение с помощью теста Шапиро-Уилка.\n",
        "\n",
        "В тестах на нормальность распределения нулевая гипотеза всегда утверждает, что распределение нормально, а альтернативная гипотеза - что распределение отлично от нормального.\n",
        "\n",
        "При уровне значимости alpha = 0.05 тест показал, что p-value=0.253 для группы А и 0.094 для группы Б. В обоих случаях p-value больше уровня значимости, а это означает, что мы не можем отклонить нулевую гипотезу, распределение в обеих группах нормальное."
      ],
      "metadata": {
        "id": "PUXm4fRfTgxk"
      }
    },
    {
      "cell_type": "markdown",
      "source": [
        "## Задание 7.13\n",
        "Настало время сравнить варианты дизайна страницы по метрике среднего чека.\n",
        "\n",
        "Какой тест вы примените для проверки гипотезы о равенстве средних чеков по дням в группах?\n",
        "1. T-тест\n",
        "2. Z-тест\n",
        "3. Тест Манна-Уитни\n",
        "4. Тест Шапиро-Уилка\n",
        "5. нет ответа\n",
        "\n",
        "Проведите тестирование при следующих нулевой и альтернативной гипотезе:\n",
        "\n",
        "H0: Ежедневные средние чеки в группах А и B равны;\n",
        "H1: Ежедневный средний чек в группе А меньше, чем в группе B.\n",
        "\n",
        "Вычислите  вашего теста для ежедневного среднего чека в группах А и B. Сравните полученное значение  с уровнем значимости alpha=0.05.\n",
        "1. полученное p-value < alpha\n",
        "2. полученное p-value > alpha\n",
        "3. нет ответа\n",
        "\n",
        "✍️ Приведите свои выводы по результатам проведённого статистического теста. Есть ли статистическая разница между ежедневными средними чеками в группах А и B?"
      ],
      "metadata": {
        "id": "-jgAzZtUVNFN"
      }
    },
    {
      "cell_type": "code",
      "source": [
        "from scipy.stats import ttest_ind # импорт функции\n",
        "\n",
        "# сформулируем нулевую и альтернативную гипотезы\n",
        "H0 = 'Ежедневные средние чеки в группах А и B равны.'\n",
        "H1 = 'Ежедневный средний чек в группе А меньше, чем в группе B.' # левосторонняя\n",
        "alpha = 0.05 # уровень значимости\n",
        "\n",
        "# применение функции\n",
        "test_result = ttest_ind(\n",
        "    aa_data['mean_check'], \n",
        "    bb_data['mean_check'], \n",
        "    alternative='less'\n",
        ")\n",
        "# выведем результат\n",
        "print('p-value =', test_result[1].round(3))\n",
        "\n",
        "# сравним p-value с alpha\n",
        "if test_result[1] > alpha:\n",
        "  print(f'Нулевая гипотеза верна. {H0}')\n",
        "else:\n",
        "  print(f'Отвергаем нулевую гипотезу. {H1}')"
      ],
      "metadata": {
        "colab": {
          "base_uri": "https://localhost:8080/"
        },
        "id": "8XunDAdxWJmV",
        "outputId": "16f4fc73-45ed-4a25-ba66-0303fa755eb8"
      },
      "execution_count": null,
      "outputs": [
        {
          "output_type": "stream",
          "name": "stdout",
          "text": [
            "p-value = 0.0\n",
            "Отвергаем нулевую гипотезу. Ежедневный средний чек в группе А меньше, чем в группе B.\n"
          ]
        }
      ]
    },
    {
      "cell_type": "markdown",
      "source": [
        "Выводы:\n",
        "Мы выяснили, что данные в признаке среднего чека имеют нормальное распределение, зависимая переменная (средний чек) - количественная (представлена числом), мы сравниваем 2 группы (А и Б) и у нас выборка большого размера, соответственно, для проверки гипотезы о равенстве средних чеков по дням в группах следует применить Т-тест.\n",
        "\n",
        "Полученное значение p-value меньше значения alpha, а это значит, что статистическая разница между ежедневными средними чеками в группах А и B есть, и альтернативная гипотеза о том, что ежедневный средний чек в группе А меньше, чем в группе B, верна."
      ],
      "metadata": {
        "id": "00E6f0q7ZjtT"
      }
    },
    {
      "cell_type": "markdown",
      "source": [
        "## Задание 7.14\n",
        "Постройте 95 %-ый доверительный интервал для среднего чека в каждой группе. Так как выборка ежедневных средних чеков небольшая, используйте t_crit в своих расчётах.\n",
        "\n",
        "Укажите нижнюю и верхнюю границы доверительного интервала для истинного среднего чека каждой из групп. Ответ округлите до целого. Например, нижняя граница — 90324, верхняя граница — 241124.\n",
        "\n",
        "✍️ Проинтерпретируйте построенные доверительные интервалы для ежедневных средних чеков в группах. Есть ли между ними пересечения? О чём это говорит?"
      ],
      "metadata": {
        "id": "HToQ8AMUbPDI"
      }
    },
    {
      "cell_type": "code",
      "source": [
        "from scipy.stats import t # импорт функции\n",
        "\n",
        "# разделим данные по группам\n",
        "a_daily_data = daily_data[daily_data['group'] == 'A']\n",
        "b_daily_data = daily_data[daily_data['group'] == 'B']\n",
        "\n",
        "# данные для применения функции в группе А\n",
        "n = a_daily_data['count_visits'].count() # размер выборки\n",
        "k = n - 1 # число степеней свободы\n",
        "x_mean = a_daily_data['mean_check'].mean() # выборочное среднее\n",
        "x_std = a_daily_data['mean_check'].std() # выборочное стандартное отклонение\n",
        "gamma = 0.95 # уровень надежности\n",
        "alpha = 1 - gamma # уровень значимости\n",
        "\n",
        "t_crit = -t.ppf(alpha/2, k) # t-критическое\n",
        "\n",
        "eps = t_crit * x_std / (n ** 0.5) # погрешность\n",
        "lower_bound = x_mean - eps # левая (нижняя) граница\n",
        "upper_bound = x_mean + eps # правая (верхняя) граница\n",
        "a_interval = (round(lower_bound), round(upper_bound))\n",
        "\n",
        "print('Доверительный интервал для среднего чека в группе А:', a_interval)\n",
        "\n",
        "# данные для применения функции в группе B\n",
        "n1 = b_daily_data['count_visits'].count() # размер выборки\n",
        "k1 = n1 - 1 # число степеней свободы\n",
        "x_mean1 = b_daily_data['mean_check'].mean() # выборочное среднее\n",
        "x_std1 = b_daily_data['mean_check'].std() # выборочное стандартное отклонение\n",
        "\n",
        "t_crit1 = -t.ppf(alpha/2, k1) # t-критическое\n",
        "\n",
        "eps1 = t_crit1 * x_std1 / (n1 ** 0.5) # погрешность\n",
        "lower_bound1 = x_mean1 - eps1 # левая (нижняя) граница\n",
        "upper_bound1 = x_mean1 + eps1 # правая (верхняя) граница\n",
        "b_interval = (round(lower_bound1), round(upper_bound1))\n",
        "\n",
        "print('Доверительный интервал для среднего чека в группе B:', b_interval)\n"
      ],
      "metadata": {
        "colab": {
          "base_uri": "https://localhost:8080/"
        },
        "id": "l8c622FQbOVq",
        "outputId": "d4c2635d-a0ce-4517-9ee0-589e81e3785b"
      },
      "execution_count": null,
      "outputs": [
        {
          "output_type": "stream",
          "name": "stdout",
          "text": [
            "Доверительный интервал для среднего чека в группе А: (79630, 82308)\n",
            "Доверительный интервал для среднего чека в группе B: (87626, 89526)\n"
          ]
        }
      ]
    },
    {
      "cell_type": "markdown",
      "source": [
        "Выводы:\n",
        "Доверительные интервалы для ежедневных средних чеков в группах не пересекаются, что говорит о статистической значимости разницы между ежедневными средними чеками в группах. При этом доверительный интервал для группы Б лежит значительно правее на числовой прямой, а это говорит о том, что истинное среднее ежедневного чека в генеральной совокупности будет больше при использовании варианта Б, чем при использовании варианта А."
      ],
      "metadata": {
        "id": "vqvC3za8iJT3"
      }
    },
    {
      "cell_type": "markdown",
      "source": [
        "-----"
      ],
      "metadata": {
        "id": "SE7FQXgbjdyi"
      }
    },
    {
      "cell_type": "markdown",
      "source": [
        "# Общий вывод по результатам A/B-теста.\n",
        "\n",
        "По метрике конверсии вариант А незначительно эффективнее.\n",
        "\n",
        "По метрике среднего чека вариант В значительно эффективнее варианта В. \n",
        "\n",
        "Получается, при использовании нового дизайна посадочной страницы конверсия незначительно упала, но при этом значительно вырос средний чек. \n",
        "\n",
        "По результатам комплексного анализа по метрикам конверсии и среднего чека становится очевидным, что вариант посадочной страницы В (с обновленным дизайном) более эффективен."
      ],
      "metadata": {
        "id": "1uem8Gxpjezt"
      }
    },
    {
      "cell_type": "markdown",
      "source": [
        "Ссылка на ноутбук:\n",
        "https://colab.research.google.com/drive/1RVFa4Lp5TJOOznaboDionr890YRyVgge#scrollTo=1uem8Gxpjezt"
      ],
      "metadata": {
        "id": "iP80-lHplw9i"
      }
    }
  ]
}